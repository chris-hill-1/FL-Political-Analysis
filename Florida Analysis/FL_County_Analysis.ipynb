{
 "cells": [
  {
   "cell_type": "markdown",
   "metadata": {},
   "source": [
    "# Florida Electoral Analysis\n",
    "\n",
    "## Scope:\n",
    "This project aims to explore the changes in the political geography of Florida over roughly the past decade (2012-2022). It will use vote totals for the major parties' top-of-ticket candidates (President or Governor, depending on the year) in each election broken down by county to answer the following questions:\n",
    "\n",
    "1. Which counties had the `largest change in vote share` between in presidential election years? What about midterm years?\n",
    "2. Which counties were the `most stable for each major party`? Which were the `least stable`?\n",
    "3. Which county or counties were `most consistent in predicting the outcome of the top-of-ticket race` in a given year?\n",
    "\n",
    "## Data Source:\n",
    "For this analysis, I will be drawing data from the Florida Division of Elections precinct level election results (https://dos.myflorida.com/elections/data-statistics/elections-data/precinct-level-election-results/). The raw precinct-level data will be cleaned, aggregated to the county level, and reformatted for easier analysis.\n",
    "\n",
    "## Notes:\n",
    "1. The raw data for this analysis required a significant amount of cleaning, with each election year's data having its own unique challenges and inconsistencies (especially prior to 2016, when there was clearly an intentional effort to standardize most aspects of the data provided by county SOEs). This notebook and the code herein represent an idealized (or at least abridged) version of this analysis based on outcomes and learnings from a much longer data exploration and cleaning process. \n",
    "2. Notebooks containing the initial, longer exploration and cleaning processes for each individual election year's data can be found in the `misc` folder of this repository.\n",
    "3. The initial scope of this project was much broader, including looking at U.S. House, U.S. Senate, State House, and State Senate races at the more granular precinct level. The year-specific cleaning and exploration notebooks reflect this initial scope."
   ]
  },
  {
   "cell_type": "markdown",
   "metadata": {},
   "source": [
    "# Step 1: Ingest Data"
   ]
  },
  {
   "cell_type": "markdown",
   "metadata": {},
   "source": [
    "Input for this step is the raw data, in the form of ~400 tab-deliniated tables (one for each of 67 counties in Florida, for each of 6 election years).\n",
    "\n",
    "The output of this step is a dataframe containing the merged raw data from original ~400 CSVs. The resulting dataframe contains ~3.6m rows across 19 columns."
   ]
  },
  {
   "cell_type": "code",
   "execution_count": 1,
   "metadata": {},
   "outputs": [],
   "source": [
    "import numpy as np\n",
    "import pandas as pd\n",
    "import matplotlib.pyplot as plt\n",
    "import plotly.express as px\n",
    "import csv\n",
    "import os\n",
    "import glob"
   ]
  },
  {
   "cell_type": "code",
   "execution_count": 2,
   "metadata": {},
   "outputs": [],
   "source": [
    "# Combine raw csv files into a master dataframe\n",
    "\n",
    "# Define merge function\n",
    "def merge_files(directory):\n",
    "    target_files = glob.glob(directory)\n",
    "    combined_df = pd.DataFrame()\n",
    "    for file in target_files:\n",
    "        df = pd.read_table(file, names=['county_code',\\\n",
    "                                        'county_name',\\\n",
    "                                        'elec_num',\\\n",
    "                                        'elec_date',\\\n",
    "                                        'elec_name',\\\n",
    "                                        'precinct_id',\\\n",
    "                                        'poll_loc',\\\n",
    "                                        'total_reg',\\\n",
    "                                        'total_reg_r',\\\n",
    "                                        'total_reg_d',\\\n",
    "                                        'total_reg_other',\\\n",
    "                                        'contest_name',\\\n",
    "                                        'district',\\\n",
    "                                        'contest_code',\\\n",
    "                                        'cand_or_issue',\\\n",
    "                                        'cand_party',\\\n",
    "                                        'cand_id',\\\n",
    "                                        'doe_num',\\\n",
    "                                        'vote_total'], encoding_errors='replace')\n",
    "        combined_df = pd.concat([combined_df, df])\n",
    "    return combined_df\n",
    "\n",
    "# Define directory path\n",
    "location = \"Raw Data\\\\FL 20** by Precinct\\\\*\"\n",
    "\n",
    "# Run the function\n",
    "df = merge_files(location)"
   ]
  },
  {
   "cell_type": "code",
   "execution_count": 3,
   "metadata": {},
   "outputs": [
    {
     "name": "stdout",
     "output_type": "stream",
     "text": [
      "<class 'pandas.core.frame.DataFrame'>\n",
      "Index: 3606146 entries, 0 to 1031\n",
      "Data columns (total 19 columns):\n",
      " #   Column           Dtype  \n",
      "---  ------           -----  \n",
      " 0   county_code      object \n",
      " 1   county_name      object \n",
      " 2   elec_num         int64  \n",
      " 3   elec_date        object \n",
      " 4   elec_name        object \n",
      " 5   precinct_id      object \n",
      " 6   poll_loc         object \n",
      " 7   total_reg        int64  \n",
      " 8   total_reg_r      int64  \n",
      " 9   total_reg_d      int64  \n",
      " 10  total_reg_other  int64  \n",
      " 11  contest_name     object \n",
      " 12  district         object \n",
      " 13  contest_code     float64\n",
      " 14  cand_or_issue    object \n",
      " 15  cand_party       object \n",
      " 16  cand_id          float64\n",
      " 17  doe_num          float64\n",
      " 18  vote_total       int64  \n",
      "dtypes: float64(3), int64(6), object(10)\n",
      "memory usage: 550.3+ MB\n"
     ]
    }
   ],
   "source": [
    "# Check output\n",
    "df.info()"
   ]
  },
  {
   "cell_type": "markdown",
   "metadata": {},
   "source": [
    "# Step 2: Clean Data\n",
    "\n",
    "For additional information and detail, notebooks in the `misc` directory of this repository go through each election year to identify issues needed to be rectified in the preprocessing step below."
   ]
  },
  {
   "cell_type": "code",
   "execution_count": 4,
   "metadata": {},
   "outputs": [],
   "source": [
    "# Define data cleaning functions\n",
    "# Drop duplicates\n",
    "def drop_duplicates(df):\n",
    "    df.drop_duplicates(keep='first', inplace=True)\n",
    "    return df\n",
    "\n",
    "\n",
    "# Drop unneeded columns\n",
    "def drop_columns(df):\n",
    "    df = df.drop(columns=['total_reg_r',\\\n",
    "                           'total_reg_d',\\\n",
    "                           'total_reg_other',\\\n",
    "                           'elec_num',\\\n",
    "                           'poll_loc',\\\n",
    "                           'doe_num'])\n",
    "    return df\n",
    "\n",
    "\n",
    "# Standardize race names\n",
    "def standardize_race_names(df):\n",
    "    df['contest_name'] = df['contest_name']\\\n",
    "    .replace(dict.fromkeys(['PRESIDENT OF THE UNITED STATES'], 'President of the United States'))\\\n",
    "    .replace(dict.fromkeys(['GOVERNOR AND  LT.GOVERNOR', 'Governor'], 'Governor and Lieutenant Governor'))\n",
    "    return df\n",
    "\n",
    "\n",
    "# Narrow to top-of-ticket races\n",
    "def select_races(df):\n",
    "    df = df[df.contest_name.isin(['President of the United States',\\\n",
    "                                   'Governor and Lieutenant Governor'])]\n",
    "    return df\n",
    "\n",
    "\n",
    "# Combine above functions into master cleaning function\n",
    "def data_cleaning_pipeline(df):\n",
    "        df = drop_duplicates(df)\n",
    "        df = drop_columns(df)\n",
    "        df = standardize_race_names(df)\n",
    "        df = select_races(df)\n",
    "        return df"
   ]
  },
  {
   "cell_type": "code",
   "execution_count": 5,
   "metadata": {},
   "outputs": [
    {
     "name": "stdout",
     "output_type": "stream",
     "text": [
      "<class 'pandas.core.frame.DataFrame'>\n",
      "Index: 320832 entries, 0 to 215\n",
      "Data columns (total 13 columns):\n",
      " #   Column         Non-Null Count   Dtype  \n",
      "---  ------         --------------   -----  \n",
      " 0   county_code    320832 non-null  object \n",
      " 1   county_name    320832 non-null  object \n",
      " 2   elec_date      320832 non-null  object \n",
      " 3   elec_name      320832 non-null  object \n",
      " 4   precinct_id    320778 non-null  object \n",
      " 5   total_reg      320832 non-null  int64  \n",
      " 6   contest_name   320832 non-null  object \n",
      " 7   district       312588 non-null  object \n",
      " 8   contest_code   320832 non-null  float64\n",
      " 9   cand_or_issue  320832 non-null  object \n",
      " 10  cand_party     317949 non-null  object \n",
      " 11  cand_id        319875 non-null  float64\n",
      " 12  vote_total     320832 non-null  int64  \n",
      "dtypes: float64(2), int64(2), object(9)\n",
      "memory usage: 34.3+ MB\n"
     ]
    }
   ],
   "source": [
    "# Run data cleaning functions\n",
    "df_cleaned = data_cleaning_pipeline(df)\n",
    "\n",
    "# Check output\n",
    "df_cleaned.info()"
   ]
  },
  {
   "cell_type": "markdown",
   "metadata": {},
   "source": [
    "Now for a final pass over each column looking for errors and non-standard data (inconsistent date formats, candidate name misspellings, etc.)."
   ]
  },
  {
   "cell_type": "code",
   "execution_count": 6,
   "metadata": {},
   "outputs": [
    {
     "name": "stdout",
     "output_type": "stream",
     "text": [
      "['ALA' 'BAK' 'BAY' 'BRA' 'BRE' 'BRO' 'CAL' 'CHA' 'CIT' 'CLA' 'CLL' 'CLM'\n",
      " 'DAD' 'DES' 'DIX' 'DUV' 'ESC' 'FLA' 'FRA' 'GAD' 'GIL' 'GLA' 'GUL' 'HAM'\n",
      " 'HAR' 'HEN' 'HER' 'HIG' 'HIL' 'HOL' 'IND' 'JAC' 'JEF' 'LAF' 'LAK' 'LEE'\n",
      " 'LEO' 'LEV' 'LIB' 'MAD' 'MAN' 'MON' 'MRN' 'MRT' 'NAS' 'OKA' 'OKE' 'ORA'\n",
      " 'OSC' 'PAL' 'PAS' 'PIN' 'POL' 'PUT' 'SAN' 'SAR' 'SEM' 'STJ' 'STL' 'SUM'\n",
      " 'SUW' 'TAY' 'UNI' 'VOL' 'WAK' 'WAL' 'WAS']\n",
      "67\n"
     ]
    }
   ],
   "source": [
    "# Check county_code\n",
    "county_codes = df_cleaned['county_code'].unique()\n",
    "print(county_codes)\n",
    "print(len(county_codes))"
   ]
  },
  {
   "cell_type": "code",
   "execution_count": 7,
   "metadata": {},
   "outputs": [
    {
     "name": "stdout",
     "output_type": "stream",
     "text": [
      "['Alachua' 'Baker' 'Bay' 'Bradford' 'Brevard' 'Broward' 'Calhoun'\n",
      " 'Charlotte' 'Citrus' 'Clay' 'Collier' 'Columbia' 'Miami-Dade' 'Desoto'\n",
      " 'Dixie' 'Duval' 'Escambia' 'Flagler' 'Franklin' 'Gadsden' 'Gilchrist'\n",
      " 'Glades' 'Gulf' 'Hamilton' 'Hardee' 'Hendry' 'Hernando' 'Highlands'\n",
      " 'Hillsborough' 'Holmes' 'Indian River' 'Jackson' 'Jefferson' 'Lafayette'\n",
      " 'Lake' 'Lee' 'Leon' 'Levy' 'Liberty' 'Madison' 'Manatee' 'Monroe'\n",
      " 'Marion' 'Martin' 'Nassau' 'Okaloosa' 'Okeechobee' 'Orange' 'Osceola'\n",
      " 'Palm Beach' 'Pasco' 'Pinellas' 'Polk' 'Putnam' 'Santa Rosa' 'Sarasota'\n",
      " 'Seminole' 'St. Johns' 'St. Lucie' 'Sumter' 'Suwannee' 'Taylor' 'Union'\n",
      " 'Volusia' 'Wakulla' 'Walton' 'Washington' 'SEMINOLE']\n",
      "68\n"
     ]
    }
   ],
   "source": [
    "# Check county_name\n",
    "county_names = df_cleaned['county_name'].unique()\n",
    "print(county_names)\n",
    "print(len(county_names))"
   ]
  },
  {
   "cell_type": "code",
   "execution_count": 8,
   "metadata": {},
   "outputs": [],
   "source": [
    "# Clean county_name\n",
    "df_cleaned['county_name'] = df_cleaned['county_name'].replace(\n",
    "    to_replace='SEMINOLE',\\\n",
    "    value='Seminole')"
   ]
  },
  {
   "cell_type": "code",
   "execution_count": 9,
   "metadata": {},
   "outputs": [
    {
     "data": {
      "text/plain": [
       "array(['11/06/2012', '11/04/2014', '11/4/2014', '11/08/2016', '11/8/2016',\n",
       "       ' 11/08/2016', '11/06/2018', '11/03/2020', '11/08/2022'],\n",
       "      dtype=object)"
      ]
     },
     "execution_count": 9,
     "metadata": {},
     "output_type": "execute_result"
    }
   ],
   "source": [
    "# Check elec_date\n",
    "df_cleaned['elec_date'].unique()"
   ]
  },
  {
   "cell_type": "code",
   "execution_count": 10,
   "metadata": {},
   "outputs": [],
   "source": [
    "# Clean elec_date\n",
    "df_cleaned['elec_date'] = df_cleaned['elec_date'].replace(\n",
    "    to_replace=['11/4/2014','11/8/2016',' 11/08/2016'],\\\n",
    "    value=['11/04/2014','11/08/2016','11/08/2016']\n",
    ")\n",
    "\n",
    "df_cleaned['elec_date'] = pd.to_datetime(df_cleaned['elec_date']).dt.year"
   ]
  },
  {
   "cell_type": "code",
   "execution_count": 12,
   "metadata": {},
   "outputs": [
    {
     "data": {
      "text/plain": [
       "array(['2012 General Election', '2014 General Election',\n",
       "       '2016 General Election', '2016 GENERAL ELECTION',\n",
       "       '2018 General Election', '2020 General Election',\n",
       "       '2022 General Election'], dtype=object)"
      ]
     },
     "execution_count": 12,
     "metadata": {},
     "output_type": "execute_result"
    }
   ],
   "source": [
    "# Check elec_name\n",
    "df_cleaned['elec_name'].unique()"
   ]
  },
  {
   "cell_type": "code",
   "execution_count": 13,
   "metadata": {},
   "outputs": [],
   "source": [
    "# Clean elec_name\n",
    "df_cleaned['elec_name'] = df_cleaned['elec_name'].replace(\n",
    "    to_replace='2016 GENERAL ELECTION',\\\n",
    "    value='2016 General Election'\n",
    ")\n"
   ]
  },
  {
   "cell_type": "code",
   "execution_count": 14,
   "metadata": {},
   "outputs": [
    {
     "data": {
      "text/plain": [
       "array(['President of the United States',\n",
       "       'Governor and Lieutenant Governor'], dtype=object)"
      ]
     },
     "execution_count": 14,
     "metadata": {},
     "output_type": "execute_result"
    }
   ],
   "source": [
    "# Check contest_name\n",
    "df_cleaned['contest_name'].unique()"
   ]
  },
  {
   "cell_type": "code",
   "execution_count": 15,
   "metadata": {},
   "outputs": [
    {
     "data": {
      "text/plain": [
       "array([' ', nan], dtype=object)"
      ]
     },
     "execution_count": 15,
     "metadata": {},
     "output_type": "execute_result"
    }
   ],
   "source": [
    "# Check district\n",
    "df_cleaned['district'].unique()"
   ]
  },
  {
   "cell_type": "code",
   "execution_count": 16,
   "metadata": {},
   "outputs": [],
   "source": [
    "# Clean district\n",
    "df_cleaned['district'] = df_cleaned['district'].replace(\n",
    "    to_replace=' ',\\\n",
    "    value='Statewide')\\\n",
    "    .fillna('Statewide')"
   ]
  },
  {
   "cell_type": "code",
   "execution_count": 17,
   "metadata": {},
   "outputs": [
    {
     "data": {
      "text/plain": [
       "array(['Romney / Ryan', 'Obama / Biden', 'Stevens / Link',\n",
       "       'Johnson / Gray', 'Goode, / Clymer', 'Stein / Honkala',\n",
       "       'WriteinVotes', 'UnderVotes', 'Barr / Sheehan', 'OverVotes',\n",
       "       'Alexander / Mendoza', 'Anderson / Rodriguez', 'Hoefling / Ellis',\n",
       "       'Barnett / Cross', 'Lindsay / Osorio', 'Times Over Voted',\n",
       "       'Number of Under Votes', 'Scott / Lopez-Cantera', 'Crist / Taddeo',\n",
       "       'Wyllie / Roe', 'Khavari / Jones', 'Burkett / Matos',\n",
       "       'Adrian Wyllie', 'Charlie Crist', 'Farid Khavari', 'Glenn Burkett',\n",
       "       'Rick Scott', 'Write-in', 'Trump / Pence', 'Clinton / Kaine',\n",
       "       'Johnson / Weld', 'Castle / Bradley', 'Stein / Baraka',\n",
       "       'De La Fuente / Steinberg', 'WriteInVotes', 'Darrell L. Castle',\n",
       "       'Donald J. Trump', 'Gary Johnson', 'Hillary R. Clinton',\n",
       "       'Jill Stein', 'Roque De La Fuente', 'Times Blank Voted',\n",
       "       'DeSantis / Nuñez', 'Gillum / King', 'Richardson / Argenziano',\n",
       "       'Gibson / Wilds', 'Foley / Tutton', 'Stanley / McJury',\n",
       "       'Biden / Harris', 'Jorgensen / Cohen', 'De La Fuente / Richardson',\n",
       "       'La Riva / Freeman', 'Hawkins / Walker', 'Blankenship / Mohr',\n",
       "       'Crist / Hernandez', 'Roos / Rorabaugh', 'Gimenez / Gibson'],\n",
       "      dtype=object)"
      ]
     },
     "execution_count": 17,
     "metadata": {},
     "output_type": "execute_result"
    }
   ],
   "source": [
    "# Check cand_or_issue\n",
    "df_cleaned['cand_or_issue'].unique()"
   ]
  },
  {
   "cell_type": "code",
   "execution_count": 18,
   "metadata": {},
   "outputs": [],
   "source": [
    "# Clean cand_or_issue\n",
    "# Standardize candidate names\n",
    "df_cleaned['cand_or_issue'] = df_cleaned['cand_or_issue'].replace(\n",
    "    to_replace=['Adrian Wyllie',\\\n",
    "                'Charlie Crist',\\\n",
    "                'Farid Khavari',\\\n",
    "                'Glenn Burkett',\\\n",
    "                'Rick Scott',\\\n",
    "                'Darrell L. Castle',\\\n",
    "                'Donald J. Trump',\\\n",
    "                'Gary Johnson',\\\n",
    "                'Hillary R. Clinton',\\\n",
    "                'Jill Stein',\\\n",
    "                'Roque De La Fuente',\\\n",
    "                'WriteinVotes',\\\n",
    "                'WriteInVotes'],\\\n",
    "    value=['Wyllie / Roe',\\\n",
    "            'Crist / Taddeo',\\\n",
    "            'Khavari / Jones',\\\n",
    "            'Burkett / Matos',\\\n",
    "            'Scott / Lopez-Cantera',\\\n",
    "            'Castle / Bradley',\\\n",
    "            'Trump / Pence',\\\n",
    "            'Johnson / Weld',\\\n",
    "            'Clinton / Kaine',\\\n",
    "            'Stein / Baraka',\\\n",
    "            'De La Fuente / Steinberg',\\\n",
    "            'Write-in',\\\n",
    "            'Write-in'])\n",
    "\n",
    "# Standardize over/undervote counts\n",
    "df_cleaned['cand_or_issue'] = df_cleaned['cand_or_issue'].replace(\n",
    "    to_replace= ['Times Over Voted',\\\n",
    "                'Number of Under Votes',\\\n",
    "                'Times Blank Voted'],\n",
    "    value=['OverVotes',\\\n",
    "           'UnderVotes',\\\n",
    "           'Blank Votes']\n",
    ")"
   ]
  },
  {
   "cell_type": "code",
   "execution_count": 19,
   "metadata": {},
   "outputs": [],
   "source": [
    "# Drop over/undervote counts, blank vote counts\n",
    "df_cleaned = df_cleaned[~df_cleaned['cand_or_issue'].isin(['UnderVotes','OverVotes','Blank Votes'])]\n"
   ]
  },
  {
   "cell_type": "code",
   "execution_count": 20,
   "metadata": {},
   "outputs": [
    {
     "data": {
      "text/plain": [
       "array(['REP', 'DEM', 'OBJ', 'LBT', 'CPF', 'GRE', ' ', 'PFP', 'SOC', 'JPF',\n",
       "       'AIP', 'REF', 'PSL', 'LPF', 'NPA', 'NP', nan], dtype=object)"
      ]
     },
     "execution_count": 20,
     "metadata": {},
     "output_type": "execute_result"
    }
   ],
   "source": [
    "# Check cand_party\n",
    "df_cleaned['cand_party'].unique()\n"
   ]
  },
  {
   "cell_type": "code",
   "execution_count": 21,
   "metadata": {},
   "outputs": [],
   "source": [
    "# Clean cand_party\n",
    "df_cleaned['cand_party'] = df_cleaned['cand_party'].replace(\n",
    "    to_replace=' ',\\\n",
    "    value='N/A')\\\n",
    "    .fillna('N/A')"
   ]
  },
  {
   "cell_type": "code",
   "execution_count": 22,
   "metadata": {},
   "outputs": [],
   "source": [
    "# Reset Index\n",
    "df_cleaned.reset_index(inplace=True)"
   ]
  },
  {
   "cell_type": "code",
   "execution_count": 23,
   "metadata": {},
   "outputs": [
    {
     "data": {
      "text/html": [
       "<div>\n",
       "<style scoped>\n",
       "    .dataframe tbody tr th:only-of-type {\n",
       "        vertical-align: middle;\n",
       "    }\n",
       "\n",
       "    .dataframe tbody tr th {\n",
       "        vertical-align: top;\n",
       "    }\n",
       "\n",
       "    .dataframe thead th {\n",
       "        text-align: right;\n",
       "    }\n",
       "</style>\n",
       "<table border=\"1\" class=\"dataframe\">\n",
       "  <thead>\n",
       "    <tr style=\"text-align: right;\">\n",
       "      <th></th>\n",
       "      <th>index</th>\n",
       "      <th>county_code</th>\n",
       "      <th>county_name</th>\n",
       "      <th>elec_date</th>\n",
       "      <th>elec_name</th>\n",
       "      <th>precinct_id</th>\n",
       "      <th>total_reg</th>\n",
       "      <th>contest_name</th>\n",
       "      <th>district</th>\n",
       "      <th>contest_code</th>\n",
       "      <th>cand_or_issue</th>\n",
       "      <th>cand_party</th>\n",
       "      <th>cand_id</th>\n",
       "      <th>vote_total</th>\n",
       "    </tr>\n",
       "  </thead>\n",
       "  <tbody>\n",
       "    <tr>\n",
       "      <th>0</th>\n",
       "      <td>0</td>\n",
       "      <td>ALA</td>\n",
       "      <td>Alachua</td>\n",
       "      <td>2012</td>\n",
       "      <td>2012 General Election</td>\n",
       "      <td>1</td>\n",
       "      <td>1411</td>\n",
       "      <td>President of the United States</td>\n",
       "      <td>Statewide</td>\n",
       "      <td>100000.0</td>\n",
       "      <td>Romney / Ryan</td>\n",
       "      <td>REP</td>\n",
       "      <td>0.0</td>\n",
       "      <td>608</td>\n",
       "    </tr>\n",
       "    <tr>\n",
       "      <th>1</th>\n",
       "      <td>1</td>\n",
       "      <td>ALA</td>\n",
       "      <td>Alachua</td>\n",
       "      <td>2012</td>\n",
       "      <td>2012 General Election</td>\n",
       "      <td>1</td>\n",
       "      <td>1411</td>\n",
       "      <td>President of the United States</td>\n",
       "      <td>Statewide</td>\n",
       "      <td>100000.0</td>\n",
       "      <td>Obama / Biden</td>\n",
       "      <td>DEM</td>\n",
       "      <td>0.0</td>\n",
       "      <td>381</td>\n",
       "    </tr>\n",
       "    <tr>\n",
       "      <th>2</th>\n",
       "      <td>2</td>\n",
       "      <td>ALA</td>\n",
       "      <td>Alachua</td>\n",
       "      <td>2012</td>\n",
       "      <td>2012 General Election</td>\n",
       "      <td>1</td>\n",
       "      <td>1411</td>\n",
       "      <td>President of the United States</td>\n",
       "      <td>Statewide</td>\n",
       "      <td>100000.0</td>\n",
       "      <td>Stevens / Link</td>\n",
       "      <td>OBJ</td>\n",
       "      <td>0.0</td>\n",
       "      <td>1</td>\n",
       "    </tr>\n",
       "    <tr>\n",
       "      <th>3</th>\n",
       "      <td>3</td>\n",
       "      <td>ALA</td>\n",
       "      <td>Alachua</td>\n",
       "      <td>2012</td>\n",
       "      <td>2012 General Election</td>\n",
       "      <td>1</td>\n",
       "      <td>1411</td>\n",
       "      <td>President of the United States</td>\n",
       "      <td>Statewide</td>\n",
       "      <td>100000.0</td>\n",
       "      <td>Johnson / Gray</td>\n",
       "      <td>LBT</td>\n",
       "      <td>0.0</td>\n",
       "      <td>6</td>\n",
       "    </tr>\n",
       "    <tr>\n",
       "      <th>4</th>\n",
       "      <td>4</td>\n",
       "      <td>ALA</td>\n",
       "      <td>Alachua</td>\n",
       "      <td>2012</td>\n",
       "      <td>2012 General Election</td>\n",
       "      <td>1</td>\n",
       "      <td>1411</td>\n",
       "      <td>President of the United States</td>\n",
       "      <td>Statewide</td>\n",
       "      <td>100000.0</td>\n",
       "      <td>Goode, / Clymer</td>\n",
       "      <td>CPF</td>\n",
       "      <td>0.0</td>\n",
       "      <td>1</td>\n",
       "    </tr>\n",
       "    <tr>\n",
       "      <th>5</th>\n",
       "      <td>5</td>\n",
       "      <td>ALA</td>\n",
       "      <td>Alachua</td>\n",
       "      <td>2012</td>\n",
       "      <td>2012 General Election</td>\n",
       "      <td>1</td>\n",
       "      <td>1411</td>\n",
       "      <td>President of the United States</td>\n",
       "      <td>Statewide</td>\n",
       "      <td>100000.0</td>\n",
       "      <td>Stein / Honkala</td>\n",
       "      <td>GRE</td>\n",
       "      <td>0.0</td>\n",
       "      <td>3</td>\n",
       "    </tr>\n",
       "    <tr>\n",
       "      <th>6</th>\n",
       "      <td>6</td>\n",
       "      <td>ALA</td>\n",
       "      <td>Alachua</td>\n",
       "      <td>2012</td>\n",
       "      <td>2012 General Election</td>\n",
       "      <td>1</td>\n",
       "      <td>1411</td>\n",
       "      <td>President of the United States</td>\n",
       "      <td>Statewide</td>\n",
       "      <td>100000.0</td>\n",
       "      <td>Write-in</td>\n",
       "      <td>N/A</td>\n",
       "      <td>0.0</td>\n",
       "      <td>6</td>\n",
       "    </tr>\n",
       "    <tr>\n",
       "      <th>7</th>\n",
       "      <td>108</td>\n",
       "      <td>ALA</td>\n",
       "      <td>Alachua</td>\n",
       "      <td>2012</td>\n",
       "      <td>2012 General Election</td>\n",
       "      <td>2</td>\n",
       "      <td>1988</td>\n",
       "      <td>President of the United States</td>\n",
       "      <td>Statewide</td>\n",
       "      <td>100000.0</td>\n",
       "      <td>Romney / Ryan</td>\n",
       "      <td>REP</td>\n",
       "      <td>0.0</td>\n",
       "      <td>777</td>\n",
       "    </tr>\n",
       "    <tr>\n",
       "      <th>8</th>\n",
       "      <td>109</td>\n",
       "      <td>ALA</td>\n",
       "      <td>Alachua</td>\n",
       "      <td>2012</td>\n",
       "      <td>2012 General Election</td>\n",
       "      <td>2</td>\n",
       "      <td>1988</td>\n",
       "      <td>President of the United States</td>\n",
       "      <td>Statewide</td>\n",
       "      <td>100000.0</td>\n",
       "      <td>Obama / Biden</td>\n",
       "      <td>DEM</td>\n",
       "      <td>0.0</td>\n",
       "      <td>725</td>\n",
       "    </tr>\n",
       "    <tr>\n",
       "      <th>9</th>\n",
       "      <td>110</td>\n",
       "      <td>ALA</td>\n",
       "      <td>Alachua</td>\n",
       "      <td>2012</td>\n",
       "      <td>2012 General Election</td>\n",
       "      <td>2</td>\n",
       "      <td>1988</td>\n",
       "      <td>President of the United States</td>\n",
       "      <td>Statewide</td>\n",
       "      <td>100000.0</td>\n",
       "      <td>Johnson / Gray</td>\n",
       "      <td>LBT</td>\n",
       "      <td>0.0</td>\n",
       "      <td>9</td>\n",
       "    </tr>\n",
       "  </tbody>\n",
       "</table>\n",
       "</div>"
      ],
      "text/plain": [
       "   index county_code county_name  elec_date              elec_name  \\\n",
       "0      0         ALA     Alachua       2012  2012 General Election   \n",
       "1      1         ALA     Alachua       2012  2012 General Election   \n",
       "2      2         ALA     Alachua       2012  2012 General Election   \n",
       "3      3         ALA     Alachua       2012  2012 General Election   \n",
       "4      4         ALA     Alachua       2012  2012 General Election   \n",
       "5      5         ALA     Alachua       2012  2012 General Election   \n",
       "6      6         ALA     Alachua       2012  2012 General Election   \n",
       "7    108         ALA     Alachua       2012  2012 General Election   \n",
       "8    109         ALA     Alachua       2012  2012 General Election   \n",
       "9    110         ALA     Alachua       2012  2012 General Election   \n",
       "\n",
       "  precinct_id  total_reg                    contest_name   district  \\\n",
       "0           1       1411  President of the United States  Statewide   \n",
       "1           1       1411  President of the United States  Statewide   \n",
       "2           1       1411  President of the United States  Statewide   \n",
       "3           1       1411  President of the United States  Statewide   \n",
       "4           1       1411  President of the United States  Statewide   \n",
       "5           1       1411  President of the United States  Statewide   \n",
       "6           1       1411  President of the United States  Statewide   \n",
       "7           2       1988  President of the United States  Statewide   \n",
       "8           2       1988  President of the United States  Statewide   \n",
       "9           2       1988  President of the United States  Statewide   \n",
       "\n",
       "   contest_code    cand_or_issue cand_party  cand_id  vote_total  \n",
       "0      100000.0    Romney / Ryan        REP      0.0         608  \n",
       "1      100000.0    Obama / Biden        DEM      0.0         381  \n",
       "2      100000.0   Stevens / Link        OBJ      0.0           1  \n",
       "3      100000.0   Johnson / Gray        LBT      0.0           6  \n",
       "4      100000.0  Goode, / Clymer        CPF      0.0           1  \n",
       "5      100000.0  Stein / Honkala        GRE      0.0           3  \n",
       "6      100000.0         Write-in        N/A      0.0           6  \n",
       "7      100000.0    Romney / Ryan        REP      0.0         777  \n",
       "8      100000.0    Obama / Biden        DEM      0.0         725  \n",
       "9      100000.0   Johnson / Gray        LBT      0.0           9  "
      ]
     },
     "execution_count": 23,
     "metadata": {},
     "output_type": "execute_result"
    }
   ],
   "source": [
    "df_cleaned.head(10)"
   ]
  },
  {
   "cell_type": "markdown",
   "metadata": {},
   "source": [
    "# Step 3: Reformat Data"
   ]
  },
  {
   "cell_type": "markdown",
   "metadata": {},
   "source": [
    "Data is fully cleaned, but not yet in a format suitable for easy analysis at the county level. \n",
    "\n",
    "The key values for the guiding research questions are change in the margin of victory for the Democratic and Republican candidates in each county in each year. Let's reformat the data to best be able to view those values."
   ]
  },
  {
   "cell_type": "code",
   "execution_count": 232,
   "metadata": {},
   "outputs": [],
   "source": [
    "# Group by: election, county, contest, party, and candidate\n",
    "df_grouped = df_cleaned.groupby(['elec_date',\\\n",
    "                                'county_name',\\\n",
    "                                'contest_name',\\\n",
    "                                'cand_party',\\\n",
    "                                'cand_or_issue'],\\\n",
    "            as_index=False)\\\n",
    "            ['vote_total'].sum()"
   ]
  },
  {
   "cell_type": "code",
   "execution_count": 233,
   "metadata": {},
   "outputs": [],
   "source": [
    "# Add column for vote share\n",
    "df_grouped['vote_share'] = df_grouped.groupby(['elec_date', 'county_name'])['vote_total'].transform(lambda x: x / x.sum())"
   ]
  },
  {
   "cell_type": "code",
   "execution_count": 234,
   "metadata": {},
   "outputs": [
    {
     "data": {
      "text/html": [
       "<div>\n",
       "<style scoped>\n",
       "    .dataframe tbody tr th:only-of-type {\n",
       "        vertical-align: middle;\n",
       "    }\n",
       "\n",
       "    .dataframe tbody tr th {\n",
       "        vertical-align: top;\n",
       "    }\n",
       "\n",
       "    .dataframe thead th {\n",
       "        text-align: right;\n",
       "    }\n",
       "</style>\n",
       "<table border=\"1\" class=\"dataframe\">\n",
       "  <thead>\n",
       "    <tr style=\"text-align: right;\">\n",
       "      <th></th>\n",
       "      <th>elec_date</th>\n",
       "      <th>county_name</th>\n",
       "      <th>contest_name</th>\n",
       "      <th>cand_party</th>\n",
       "      <th>cand_or_issue</th>\n",
       "      <th>vote_total</th>\n",
       "      <th>vote_share</th>\n",
       "    </tr>\n",
       "  </thead>\n",
       "  <tbody>\n",
       "    <tr>\n",
       "      <th>0</th>\n",
       "      <td>2012</td>\n",
       "      <td>Alachua</td>\n",
       "      <td>President of the United States</td>\n",
       "      <td>AIP</td>\n",
       "      <td>Hoefling / Ellis</td>\n",
       "      <td>16</td>\n",
       "      <td>0.000132</td>\n",
       "    </tr>\n",
       "    <tr>\n",
       "      <th>1</th>\n",
       "      <td>2012</td>\n",
       "      <td>Alachua</td>\n",
       "      <td>President of the United States</td>\n",
       "      <td>CPF</td>\n",
       "      <td>Goode, / Clymer</td>\n",
       "      <td>43</td>\n",
       "      <td>0.000356</td>\n",
       "    </tr>\n",
       "    <tr>\n",
       "      <th>2</th>\n",
       "      <td>2012</td>\n",
       "      <td>Alachua</td>\n",
       "      <td>President of the United States</td>\n",
       "      <td>DEM</td>\n",
       "      <td>Obama / Biden</td>\n",
       "      <td>69699</td>\n",
       "      <td>0.577107</td>\n",
       "    </tr>\n",
       "    <tr>\n",
       "      <th>3</th>\n",
       "      <td>2012</td>\n",
       "      <td>Alachua</td>\n",
       "      <td>President of the United States</td>\n",
       "      <td>GRE</td>\n",
       "      <td>Stein / Honkala</td>\n",
       "      <td>344</td>\n",
       "      <td>0.002848</td>\n",
       "    </tr>\n",
       "    <tr>\n",
       "      <th>4</th>\n",
       "      <td>2012</td>\n",
       "      <td>Alachua</td>\n",
       "      <td>President of the United States</td>\n",
       "      <td>JPF</td>\n",
       "      <td>Anderson / Rodriguez</td>\n",
       "      <td>27</td>\n",
       "      <td>0.000224</td>\n",
       "    </tr>\n",
       "    <tr>\n",
       "      <th>5</th>\n",
       "      <td>2012</td>\n",
       "      <td>Alachua</td>\n",
       "      <td>President of the United States</td>\n",
       "      <td>LBT</td>\n",
       "      <td>Johnson / Gray</td>\n",
       "      <td>1306</td>\n",
       "      <td>0.010814</td>\n",
       "    </tr>\n",
       "    <tr>\n",
       "      <th>6</th>\n",
       "      <td>2012</td>\n",
       "      <td>Alachua</td>\n",
       "      <td>President of the United States</td>\n",
       "      <td>N/A</td>\n",
       "      <td>Write-in</td>\n",
       "      <td>356</td>\n",
       "      <td>0.002948</td>\n",
       "    </tr>\n",
       "    <tr>\n",
       "      <th>7</th>\n",
       "      <td>2012</td>\n",
       "      <td>Alachua</td>\n",
       "      <td>President of the United States</td>\n",
       "      <td>OBJ</td>\n",
       "      <td>Stevens / Link</td>\n",
       "      <td>46</td>\n",
       "      <td>0.000381</td>\n",
       "    </tr>\n",
       "    <tr>\n",
       "      <th>8</th>\n",
       "      <td>2012</td>\n",
       "      <td>Alachua</td>\n",
       "      <td>President of the United States</td>\n",
       "      <td>PFP</td>\n",
       "      <td>Barr / Sheehan</td>\n",
       "      <td>102</td>\n",
       "      <td>0.000845</td>\n",
       "    </tr>\n",
       "    <tr>\n",
       "      <th>9</th>\n",
       "      <td>2012</td>\n",
       "      <td>Alachua</td>\n",
       "      <td>President of the United States</td>\n",
       "      <td>PSL</td>\n",
       "      <td>Lindsay / Osorio</td>\n",
       "      <td>4</td>\n",
       "      <td>0.000033</td>\n",
       "    </tr>\n",
       "    <tr>\n",
       "      <th>10</th>\n",
       "      <td>2012</td>\n",
       "      <td>Alachua</td>\n",
       "      <td>President of the United States</td>\n",
       "      <td>REF</td>\n",
       "      <td>Barnett / Cross</td>\n",
       "      <td>11</td>\n",
       "      <td>0.000091</td>\n",
       "    </tr>\n",
       "    <tr>\n",
       "      <th>11</th>\n",
       "      <td>2012</td>\n",
       "      <td>Alachua</td>\n",
       "      <td>President of the United States</td>\n",
       "      <td>REP</td>\n",
       "      <td>Romney / Ryan</td>\n",
       "      <td>48797</td>\n",
       "      <td>0.404039</td>\n",
       "    </tr>\n",
       "    <tr>\n",
       "      <th>12</th>\n",
       "      <td>2012</td>\n",
       "      <td>Alachua</td>\n",
       "      <td>President of the United States</td>\n",
       "      <td>SOC</td>\n",
       "      <td>Alexander / Mendoza</td>\n",
       "      <td>22</td>\n",
       "      <td>0.000182</td>\n",
       "    </tr>\n",
       "    <tr>\n",
       "      <th>13</th>\n",
       "      <td>2012</td>\n",
       "      <td>Baker</td>\n",
       "      <td>President of the United States</td>\n",
       "      <td>AIP</td>\n",
       "      <td>Hoefling / Ellis</td>\n",
       "      <td>5</td>\n",
       "      <td>0.000439</td>\n",
       "    </tr>\n",
       "    <tr>\n",
       "      <th>14</th>\n",
       "      <td>2012</td>\n",
       "      <td>Baker</td>\n",
       "      <td>President of the United States</td>\n",
       "      <td>CPF</td>\n",
       "      <td>Goode, / Clymer</td>\n",
       "      <td>3</td>\n",
       "      <td>0.000263</td>\n",
       "    </tr>\n",
       "    <tr>\n",
       "      <th>15</th>\n",
       "      <td>2012</td>\n",
       "      <td>Baker</td>\n",
       "      <td>President of the United States</td>\n",
       "      <td>DEM</td>\n",
       "      <td>Obama / Biden</td>\n",
       "      <td>2310</td>\n",
       "      <td>0.202845</td>\n",
       "    </tr>\n",
       "    <tr>\n",
       "      <th>16</th>\n",
       "      <td>2012</td>\n",
       "      <td>Baker</td>\n",
       "      <td>President of the United States</td>\n",
       "      <td>GRE</td>\n",
       "      <td>Stein / Honkala</td>\n",
       "      <td>6</td>\n",
       "      <td>0.000527</td>\n",
       "    </tr>\n",
       "    <tr>\n",
       "      <th>17</th>\n",
       "      <td>2012</td>\n",
       "      <td>Baker</td>\n",
       "      <td>President of the United States</td>\n",
       "      <td>JPF</td>\n",
       "      <td>Anderson / Rodriguez</td>\n",
       "      <td>3</td>\n",
       "      <td>0.000263</td>\n",
       "    </tr>\n",
       "    <tr>\n",
       "      <th>18</th>\n",
       "      <td>2012</td>\n",
       "      <td>Baker</td>\n",
       "      <td>President of the United States</td>\n",
       "      <td>LBT</td>\n",
       "      <td>Johnson / Gray</td>\n",
       "      <td>41</td>\n",
       "      <td>0.003600</td>\n",
       "    </tr>\n",
       "    <tr>\n",
       "      <th>19</th>\n",
       "      <td>2012</td>\n",
       "      <td>Baker</td>\n",
       "      <td>President of the United States</td>\n",
       "      <td>N/A</td>\n",
       "      <td>Write-in</td>\n",
       "      <td>22</td>\n",
       "      <td>0.001932</td>\n",
       "    </tr>\n",
       "  </tbody>\n",
       "</table>\n",
       "</div>"
      ],
      "text/plain": [
       "    elec_date county_name                    contest_name cand_party  \\\n",
       "0        2012     Alachua  President of the United States        AIP   \n",
       "1        2012     Alachua  President of the United States        CPF   \n",
       "2        2012     Alachua  President of the United States        DEM   \n",
       "3        2012     Alachua  President of the United States        GRE   \n",
       "4        2012     Alachua  President of the United States        JPF   \n",
       "5        2012     Alachua  President of the United States        LBT   \n",
       "6        2012     Alachua  President of the United States        N/A   \n",
       "7        2012     Alachua  President of the United States        OBJ   \n",
       "8        2012     Alachua  President of the United States        PFP   \n",
       "9        2012     Alachua  President of the United States        PSL   \n",
       "10       2012     Alachua  President of the United States        REF   \n",
       "11       2012     Alachua  President of the United States        REP   \n",
       "12       2012     Alachua  President of the United States        SOC   \n",
       "13       2012       Baker  President of the United States        AIP   \n",
       "14       2012       Baker  President of the United States        CPF   \n",
       "15       2012       Baker  President of the United States        DEM   \n",
       "16       2012       Baker  President of the United States        GRE   \n",
       "17       2012       Baker  President of the United States        JPF   \n",
       "18       2012       Baker  President of the United States        LBT   \n",
       "19       2012       Baker  President of the United States        N/A   \n",
       "\n",
       "           cand_or_issue  vote_total  vote_share  \n",
       "0       Hoefling / Ellis          16    0.000132  \n",
       "1        Goode, / Clymer          43    0.000356  \n",
       "2          Obama / Biden       69699    0.577107  \n",
       "3        Stein / Honkala         344    0.002848  \n",
       "4   Anderson / Rodriguez          27    0.000224  \n",
       "5         Johnson / Gray        1306    0.010814  \n",
       "6               Write-in         356    0.002948  \n",
       "7         Stevens / Link          46    0.000381  \n",
       "8         Barr / Sheehan         102    0.000845  \n",
       "9       Lindsay / Osorio           4    0.000033  \n",
       "10       Barnett / Cross          11    0.000091  \n",
       "11         Romney / Ryan       48797    0.404039  \n",
       "12   Alexander / Mendoza          22    0.000182  \n",
       "13      Hoefling / Ellis           5    0.000439  \n",
       "14       Goode, / Clymer           3    0.000263  \n",
       "15         Obama / Biden        2310    0.202845  \n",
       "16       Stein / Honkala           6    0.000527  \n",
       "17  Anderson / Rodriguez           3    0.000263  \n",
       "18        Johnson / Gray          41    0.003600  \n",
       "19              Write-in          22    0.001932  "
      ]
     },
     "execution_count": 234,
     "metadata": {},
     "output_type": "execute_result"
    }
   ],
   "source": [
    "df_grouped.head(20)"
   ]
  },
  {
   "cell_type": "code",
   "execution_count": 235,
   "metadata": {},
   "outputs": [
    {
     "name": "stdout",
     "output_type": "stream",
     "text": [
      "<class 'pandas.core.frame.DataFrame'>\n",
      "RangeIndex: 2980 entries, 0 to 2979\n",
      "Data columns (total 7 columns):\n",
      " #   Column         Non-Null Count  Dtype  \n",
      "---  ------         --------------  -----  \n",
      " 0   elec_date      2980 non-null   int32  \n",
      " 1   county_name    2980 non-null   object \n",
      " 2   contest_name   2980 non-null   object \n",
      " 3   cand_party     2980 non-null   object \n",
      " 4   cand_or_issue  2980 non-null   object \n",
      " 5   vote_total     2980 non-null   int64  \n",
      " 6   vote_share     2980 non-null   float64\n",
      "dtypes: float64(1), int32(1), int64(1), object(4)\n",
      "memory usage: 151.5+ KB\n"
     ]
    }
   ],
   "source": [
    "df_grouped.info()"
   ]
  },
  {
   "cell_type": "markdown",
   "metadata": {},
   "source": [
    "### Step 3.5: (Light) Exploratory Data Analysis\n",
    "\n",
    "The data must still be reformatted in order to answer our initial research questions, but the current shape of the data is such that we can do some light EDA that we won't be able to do as readily once we transform the data in the following steps."
   ]
  },
  {
   "cell_type": "code",
   "execution_count": 236,
   "metadata": {},
   "outputs": [
    {
     "data": {
      "text/plain": [
       "elec_date\n",
       "2014     5962422\n",
       "2022     7771398\n",
       "2018     8228238\n",
       "2012     8486746\n",
       "2016     9504468\n",
       "2020    11090844\n",
       "Name: vote_total, dtype: int64"
      ]
     },
     "execution_count": 236,
     "metadata": {},
     "output_type": "execute_result"
    }
   ],
   "source": [
    "# Sum all votes cast statewide for each election year and sort by ascending values\n",
    "df_grouped.groupby('elec_date')['vote_total'].sum().sort_values(ascending=True)"
   ]
  },
  {
   "cell_type": "markdown",
   "metadata": {},
   "source": [
    "`Interesting Finding:` The 2022 midterm looks like it had significantly lower turnout than would be expected. About 5 million fewer votes were cast in the 2022 midterm than the 2018 midterm."
   ]
  },
  {
   "cell_type": "code",
   "execution_count": 237,
   "metadata": {},
   "outputs": [
    {
     "data": {
      "text/plain": [
       "elec_date  county_name\n",
       "2012       Alachua        120773\n",
       "           Baker           11388\n",
       "           Bay             80101\n",
       "           Bradford        11664\n",
       "           Brevard        286428\n",
       "                           ...  \n",
       "2022       Union            4558\n",
       "           Volusia        226246\n",
       "           Wakulla         15063\n",
       "           Walton          34901\n",
       "           Washington       9126\n",
       "Name: vote_total, Length: 402, dtype: int64"
      ]
     },
     "execution_count": 237,
     "metadata": {},
     "output_type": "execute_result"
    }
   ],
   "source": [
    "# Sum all votes cast by county for each election year\n",
    "df_grouped.groupby(['elec_date', 'county_name'])['vote_total'].sum()"
   ]
  },
  {
   "cell_type": "markdown",
   "metadata": {},
   "source": [
    "`Interesting Finding:` The above data could be used to analyze the counties with the largest changes in overall turnout year to year, or coupled with the `df_grouped` data to analyze changes in turnout by party. "
   ]
  },
  {
   "cell_type": "code",
   "execution_count": 238,
   "metadata": {},
   "outputs": [
    {
     "data": {
      "text/html": [
       "<div>\n",
       "<style scoped>\n",
       "    .dataframe tbody tr th:only-of-type {\n",
       "        vertical-align: middle;\n",
       "    }\n",
       "\n",
       "    .dataframe tbody tr th {\n",
       "        vertical-align: top;\n",
       "    }\n",
       "\n",
       "    .dataframe thead th {\n",
       "        text-align: right;\n",
       "    }\n",
       "</style>\n",
       "<table border=\"1\" class=\"dataframe\">\n",
       "  <thead>\n",
       "    <tr style=\"text-align: right;\">\n",
       "      <th></th>\n",
       "      <th>elec_date</th>\n",
       "      <th>county_name</th>\n",
       "      <th>contest_name</th>\n",
       "      <th>cand_party</th>\n",
       "      <th>cand_or_issue</th>\n",
       "      <th>vote_total</th>\n",
       "      <th>vote_share</th>\n",
       "    </tr>\n",
       "  </thead>\n",
       "  <tbody>\n",
       "    <tr>\n",
       "      <th>2</th>\n",
       "      <td>2012</td>\n",
       "      <td>Alachua</td>\n",
       "      <td>President of the United States</td>\n",
       "      <td>DEM</td>\n",
       "      <td>Obama / Biden</td>\n",
       "      <td>69699</td>\n",
       "      <td>0.577107</td>\n",
       "    </tr>\n",
       "    <tr>\n",
       "      <th>11</th>\n",
       "      <td>2012</td>\n",
       "      <td>Alachua</td>\n",
       "      <td>President of the United States</td>\n",
       "      <td>REP</td>\n",
       "      <td>Romney / Ryan</td>\n",
       "      <td>48797</td>\n",
       "      <td>0.404039</td>\n",
       "    </tr>\n",
       "    <tr>\n",
       "      <th>15</th>\n",
       "      <td>2012</td>\n",
       "      <td>Baker</td>\n",
       "      <td>President of the United States</td>\n",
       "      <td>DEM</td>\n",
       "      <td>Obama / Biden</td>\n",
       "      <td>2310</td>\n",
       "      <td>0.202845</td>\n",
       "    </tr>\n",
       "    <tr>\n",
       "      <th>23</th>\n",
       "      <td>2012</td>\n",
       "      <td>Baker</td>\n",
       "      <td>President of the United States</td>\n",
       "      <td>REP</td>\n",
       "      <td>Romney / Ryan</td>\n",
       "      <td>8974</td>\n",
       "      <td>0.788022</td>\n",
       "    </tr>\n",
       "    <tr>\n",
       "      <th>27</th>\n",
       "      <td>2012</td>\n",
       "      <td>Bay</td>\n",
       "      <td>President of the United States</td>\n",
       "      <td>DEM</td>\n",
       "      <td>Obama / Biden</td>\n",
       "      <td>22051</td>\n",
       "      <td>0.275290</td>\n",
       "    </tr>\n",
       "    <tr>\n",
       "      <th>...</th>\n",
       "      <td>...</td>\n",
       "      <td>...</td>\n",
       "      <td>...</td>\n",
       "      <td>...</td>\n",
       "      <td>...</td>\n",
       "      <td>...</td>\n",
       "      <td>...</td>\n",
       "    </tr>\n",
       "    <tr>\n",
       "      <th>2971</th>\n",
       "      <td>2022</td>\n",
       "      <td>Wakulla</td>\n",
       "      <td>Governor and Lieutenant Governor</td>\n",
       "      <td>REP</td>\n",
       "      <td>DeSantis / Nuñez</td>\n",
       "      <td>11033</td>\n",
       "      <td>0.732457</td>\n",
       "    </tr>\n",
       "    <tr>\n",
       "      <th>2972</th>\n",
       "      <td>2022</td>\n",
       "      <td>Walton</td>\n",
       "      <td>Governor and Lieutenant Governor</td>\n",
       "      <td>DEM</td>\n",
       "      <td>Crist / Hernandez</td>\n",
       "      <td>6112</td>\n",
       "      <td>0.175124</td>\n",
       "    </tr>\n",
       "    <tr>\n",
       "      <th>2975</th>\n",
       "      <td>2022</td>\n",
       "      <td>Walton</td>\n",
       "      <td>Governor and Lieutenant Governor</td>\n",
       "      <td>REP</td>\n",
       "      <td>DeSantis / Nuñez</td>\n",
       "      <td>28647</td>\n",
       "      <td>0.820807</td>\n",
       "    </tr>\n",
       "    <tr>\n",
       "      <th>2976</th>\n",
       "      <td>2022</td>\n",
       "      <td>Washington</td>\n",
       "      <td>Governor and Lieutenant Governor</td>\n",
       "      <td>DEM</td>\n",
       "      <td>Crist / Hernandez</td>\n",
       "      <td>1285</td>\n",
       "      <td>0.140806</td>\n",
       "    </tr>\n",
       "    <tr>\n",
       "      <th>2979</th>\n",
       "      <td>2022</td>\n",
       "      <td>Washington</td>\n",
       "      <td>Governor and Lieutenant Governor</td>\n",
       "      <td>REP</td>\n",
       "      <td>DeSantis / Nuñez</td>\n",
       "      <td>7786</td>\n",
       "      <td>0.853167</td>\n",
       "    </tr>\n",
       "  </tbody>\n",
       "</table>\n",
       "<p>804 rows × 7 columns</p>\n",
       "</div>"
      ],
      "text/plain": [
       "      elec_date county_name                      contest_name cand_party  \\\n",
       "2          2012     Alachua    President of the United States        DEM   \n",
       "11         2012     Alachua    President of the United States        REP   \n",
       "15         2012       Baker    President of the United States        DEM   \n",
       "23         2012       Baker    President of the United States        REP   \n",
       "27         2012         Bay    President of the United States        DEM   \n",
       "...         ...         ...                               ...        ...   \n",
       "2971       2022     Wakulla  Governor and Lieutenant Governor        REP   \n",
       "2972       2022      Walton  Governor and Lieutenant Governor        DEM   \n",
       "2975       2022      Walton  Governor and Lieutenant Governor        REP   \n",
       "2976       2022  Washington  Governor and Lieutenant Governor        DEM   \n",
       "2979       2022  Washington  Governor and Lieutenant Governor        REP   \n",
       "\n",
       "          cand_or_issue  vote_total  vote_share  \n",
       "2         Obama / Biden       69699    0.577107  \n",
       "11        Romney / Ryan       48797    0.404039  \n",
       "15        Obama / Biden        2310    0.202845  \n",
       "23        Romney / Ryan        8974    0.788022  \n",
       "27        Obama / Biden       22051    0.275290  \n",
       "...                 ...         ...         ...  \n",
       "2971   DeSantis / Nuñez       11033    0.732457  \n",
       "2972  Crist / Hernandez        6112    0.175124  \n",
       "2975   DeSantis / Nuñez       28647    0.820807  \n",
       "2976  Crist / Hernandez        1285    0.140806  \n",
       "2979   DeSantis / Nuñez        7786    0.853167  \n",
       "\n",
       "[804 rows x 7 columns]"
      ]
     },
     "execution_count": 238,
     "metadata": {},
     "output_type": "execute_result"
    }
   ],
   "source": [
    "# Narrow to Democratic and Republican vote totals (ie. remove third party and write-in data, which are outside the scope of our analysis)\n",
    "df_grouped_narrowed = df_grouped.query('cand_party == \"DEM\" or cand_party == \"REP\"').copy()\n",
    "df_grouped_narrowed\n"
   ]
  },
  {
   "cell_type": "markdown",
   "metadata": {},
   "source": [
    "# Step 3: Reformat Data (cont'd)"
   ]
  },
  {
   "cell_type": "markdown",
   "metadata": {},
   "source": [
    "`Note: Branching Paths`\n",
    "\n",
    "At this point it is worth noting that there will be two parallel paths explored in the coming sections. The process and operations for each will be similar and the data in each is related, but it is important to understand how they differ and why they are both significant:\n",
    "- The first path will examine the <b>vote margins</b> (labeled as <b>D_margin</b>) for each county in each year, which represents <b>by how many percentage points the Democratic candidate won the county</b>. A negative number indicates the number of percentage points by which the Republican candidate won the county. <p>\n",
    "    Exe. A D_margin value of 5 means the Democrat outperformed the Republican by 5 points, as in a case where the Democrat received 52.5% of the vote and the Republican received 47.5%.\n",
    "    Exe. A D_margin value of -5 means the Democrat underperformed the Republican by 5 points, as in a case where the Democrat received 47.5% of the vote and the Republican received 52.5%.\n",
    "- The second path will examine the <b>net votes</b> (labeled as <b>D_net_votes</b>) for each county in each year, which represents <b>how many more votes the Democratic candidate received than the Republican candidate in a given county</b>. A negative number indicates how many more votes the Republican candidate received than the Democratic candidate in a given county."
   ]
  },
  {
   "cell_type": "code",
   "execution_count": 239,
   "metadata": {},
   "outputs": [
    {
     "data": {
      "text/html": [
       "<div>\n",
       "<style scoped>\n",
       "    .dataframe tbody tr th:only-of-type {\n",
       "        vertical-align: middle;\n",
       "    }\n",
       "\n",
       "    .dataframe tbody tr th {\n",
       "        vertical-align: top;\n",
       "    }\n",
       "\n",
       "    .dataframe thead th {\n",
       "        text-align: right;\n",
       "    }\n",
       "</style>\n",
       "<table border=\"1\" class=\"dataframe\">\n",
       "  <thead>\n",
       "    <tr style=\"text-align: right;\">\n",
       "      <th></th>\n",
       "      <th>elec_date</th>\n",
       "      <th>county_name</th>\n",
       "      <th>vote_total</th>\n",
       "    </tr>\n",
       "  </thead>\n",
       "  <tbody>\n",
       "    <tr>\n",
       "      <th>0</th>\n",
       "      <td>2012</td>\n",
       "      <td>Alachua</td>\n",
       "      <td>20902</td>\n",
       "    </tr>\n",
       "    <tr>\n",
       "      <th>1</th>\n",
       "      <td>2012</td>\n",
       "      <td>Baker</td>\n",
       "      <td>-6664</td>\n",
       "    </tr>\n",
       "    <tr>\n",
       "      <th>2</th>\n",
       "      <td>2012</td>\n",
       "      <td>Bay</td>\n",
       "      <td>-34825</td>\n",
       "    </tr>\n",
       "    <tr>\n",
       "      <th>3</th>\n",
       "      <td>2012</td>\n",
       "      <td>Bradford</td>\n",
       "      <td>-4894</td>\n",
       "    </tr>\n",
       "    <tr>\n",
       "      <th>4</th>\n",
       "      <td>2012</td>\n",
       "      <td>Brevard</td>\n",
       "      <td>-36307</td>\n",
       "    </tr>\n",
       "    <tr>\n",
       "      <th>...</th>\n",
       "      <td>...</td>\n",
       "      <td>...</td>\n",
       "      <td>...</td>\n",
       "    </tr>\n",
       "    <tr>\n",
       "      <th>397</th>\n",
       "      <td>2022</td>\n",
       "      <td>Union</td>\n",
       "      <td>-3451</td>\n",
       "    </tr>\n",
       "    <tr>\n",
       "      <th>398</th>\n",
       "      <td>2022</td>\n",
       "      <td>Volusia</td>\n",
       "      <td>-64803</td>\n",
       "    </tr>\n",
       "    <tr>\n",
       "      <th>399</th>\n",
       "      <td>2022</td>\n",
       "      <td>Wakulla</td>\n",
       "      <td>-7113</td>\n",
       "    </tr>\n",
       "    <tr>\n",
       "      <th>400</th>\n",
       "      <td>2022</td>\n",
       "      <td>Walton</td>\n",
       "      <td>-22535</td>\n",
       "    </tr>\n",
       "    <tr>\n",
       "      <th>401</th>\n",
       "      <td>2022</td>\n",
       "      <td>Washington</td>\n",
       "      <td>-6501</td>\n",
       "    </tr>\n",
       "  </tbody>\n",
       "</table>\n",
       "<p>402 rows × 3 columns</p>\n",
       "</div>"
      ],
      "text/plain": [
       "     elec_date county_name  vote_total\n",
       "0         2012     Alachua       20902\n",
       "1         2012       Baker       -6664\n",
       "2         2012         Bay      -34825\n",
       "3         2012    Bradford       -4894\n",
       "4         2012     Brevard      -36307\n",
       "..         ...         ...         ...\n",
       "397       2022       Union       -3451\n",
       "398       2022     Volusia      -64803\n",
       "399       2022     Wakulla       -7113\n",
       "400       2022      Walton      -22535\n",
       "401       2022  Washington       -6501\n",
       "\n",
       "[402 rows x 3 columns]"
      ]
     },
     "execution_count": 239,
     "metadata": {},
     "output_type": "execute_result"
    }
   ],
   "source": [
    "# Subtract R vote total from D vote total to get D net votes\n",
    "df_grouped_narrowed['vote_total'] *= np.where(df_grouped_narrowed.cand_party == 'DEM', 1, -1)\n",
    "D_net_votes_by_county = df_grouped_narrowed.groupby(['elec_date', 'county_name'], as_index=False)['vote_total'].agg('sum')\n",
    "D_net_votes_by_county"
   ]
  },
  {
   "cell_type": "code",
   "execution_count": 240,
   "metadata": {},
   "outputs": [],
   "source": [
    "# Rename 'vote_total' column to 'D_net_votes' to reflext the operation in previous code block\n",
    "D_net_votes_by_county.rename(columns= {'vote_total' : 'D_net_votes'}, inplace=True)"
   ]
  },
  {
   "cell_type": "code",
   "execution_count": 241,
   "metadata": {},
   "outputs": [],
   "source": [
    "# Create pivot table with elections vs. counties and D_net_votes as values\n",
    "net_votes_by_year_county = D_net_votes_by_county.pivot_table(index='county_name', columns='elec_date', values='D_net_votes')\n",
    "\n",
    "# Change column headers (currently years as ints) to strings\n",
    "net_votes_by_year_county.columns = net_votes_by_year_county.columns.map(str)"
   ]
  },
  {
   "cell_type": "code",
   "execution_count": 242,
   "metadata": {},
   "outputs": [
    {
     "data": {
      "text/html": [
       "<div>\n",
       "<style scoped>\n",
       "    .dataframe tbody tr th:only-of-type {\n",
       "        vertical-align: middle;\n",
       "    }\n",
       "\n",
       "    .dataframe tbody tr th {\n",
       "        vertical-align: top;\n",
       "    }\n",
       "\n",
       "    .dataframe thead th {\n",
       "        text-align: right;\n",
       "    }\n",
       "</style>\n",
       "<table border=\"1\" class=\"dataframe\">\n",
       "  <thead>\n",
       "    <tr style=\"text-align: right;\">\n",
       "      <th>elec_date</th>\n",
       "      <th>2012</th>\n",
       "      <th>2014</th>\n",
       "      <th>2016</th>\n",
       "      <th>2018</th>\n",
       "      <th>2020</th>\n",
       "      <th>2022</th>\n",
       "      <th>mean</th>\n",
       "      <th>variance</th>\n",
       "      <th>std</th>\n",
       "    </tr>\n",
       "    <tr>\n",
       "      <th>county_name</th>\n",
       "      <th></th>\n",
       "      <th></th>\n",
       "      <th></th>\n",
       "      <th></th>\n",
       "      <th></th>\n",
       "      <th></th>\n",
       "      <th></th>\n",
       "      <th></th>\n",
       "      <th></th>\n",
       "    </tr>\n",
       "  </thead>\n",
       "  <tbody>\n",
       "    <tr>\n",
       "      <th>Alachua</th>\n",
       "      <td>20902</td>\n",
       "      <td>12955</td>\n",
       "      <td>28986</td>\n",
       "      <td>31416</td>\n",
       "      <td>38732</td>\n",
       "      <td>14475</td>\n",
       "      <td>24577.67</td>\n",
       "      <td>1.034404e+08</td>\n",
       "      <td>10170.567</td>\n",
       "    </tr>\n",
       "    <tr>\n",
       "      <th>Baker</th>\n",
       "      <td>-6664</td>\n",
       "      <td>-3856</td>\n",
       "      <td>-8182</td>\n",
       "      <td>-6928</td>\n",
       "      <td>-9874</td>\n",
       "      <td>-8502</td>\n",
       "      <td>-7334.33</td>\n",
       "      <td>4.249029e+06</td>\n",
       "      <td>2061.317</td>\n",
       "    </tr>\n",
       "    <tr>\n",
       "      <th>Bay</th>\n",
       "      <td>-34825</td>\n",
       "      <td>-27966</td>\n",
       "      <td>-40397</td>\n",
       "      <td>-28952</td>\n",
       "      <td>-40483</td>\n",
       "      <td>-38499</td>\n",
       "      <td>-35187.00</td>\n",
       "      <td>3.146203e+07</td>\n",
       "      <td>5609.103</td>\n",
       "    </tr>\n",
       "    <tr>\n",
       "      <th>Bradford</th>\n",
       "      <td>-4894</td>\n",
       "      <td>-2931</td>\n",
       "      <td>-5989</td>\n",
       "      <td>-5027</td>\n",
       "      <td>-7174</td>\n",
       "      <td>-6494</td>\n",
       "      <td>-5418.17</td>\n",
       "      <td>2.235996e+06</td>\n",
       "      <td>1495.325</td>\n",
       "    </tr>\n",
       "    <tr>\n",
       "      <th>Brevard</th>\n",
       "      <td>-36307</td>\n",
       "      <td>-25602</td>\n",
       "      <td>-62169</td>\n",
       "      <td>-47292</td>\n",
       "      <td>-59334</td>\n",
       "      <td>-75431</td>\n",
       "      <td>-51022.50</td>\n",
       "      <td>3.331530e+08</td>\n",
       "      <td>18252.478</td>\n",
       "    </tr>\n",
       "    <tr>\n",
       "      <th>...</th>\n",
       "      <td>...</td>\n",
       "      <td>...</td>\n",
       "      <td>...</td>\n",
       "      <td>...</td>\n",
       "      <td>...</td>\n",
       "      <td>...</td>\n",
       "      <td>...</td>\n",
       "      <td>...</td>\n",
       "      <td>...</td>\n",
       "    </tr>\n",
       "    <tr>\n",
       "      <th>Union</th>\n",
       "      <td>-2641</td>\n",
       "      <td>-875</td>\n",
       "      <td>-3554</td>\n",
       "      <td>-2869</td>\n",
       "      <td>-4080</td>\n",
       "      <td>-3451</td>\n",
       "      <td>-2911.67</td>\n",
       "      <td>1.258313e+06</td>\n",
       "      <td>1121.746</td>\n",
       "    </tr>\n",
       "    <tr>\n",
       "      <th>Volusia</th>\n",
       "      <td>-2742</td>\n",
       "      <td>-6434</td>\n",
       "      <td>-33916</td>\n",
       "      <td>-24325</td>\n",
       "      <td>-43246</td>\n",
       "      <td>-64803</td>\n",
       "      <td>-29244.33</td>\n",
       "      <td>5.458349e+08</td>\n",
       "      <td>23363.111</td>\n",
       "    </tr>\n",
       "    <tr>\n",
       "      <th>Wakulla</th>\n",
       "      <td>-4115</td>\n",
       "      <td>-1884</td>\n",
       "      <td>-6164</td>\n",
       "      <td>-5608</td>\n",
       "      <td>-7523</td>\n",
       "      <td>-7113</td>\n",
       "      <td>-5401.17</td>\n",
       "      <td>4.416386e+06</td>\n",
       "      <td>2101.520</td>\n",
       "    </tr>\n",
       "    <tr>\n",
       "      <th>Walton</th>\n",
       "      <td>-14819</td>\n",
       "      <td>-10821</td>\n",
       "      <td>-18880</td>\n",
       "      <td>-15906</td>\n",
       "      <td>-22609</td>\n",
       "      <td>-22535</td>\n",
       "      <td>-17595.00</td>\n",
       "      <td>2.152820e+07</td>\n",
       "      <td>4639.849</td>\n",
       "    </tr>\n",
       "    <tr>\n",
       "      <th>Washington</th>\n",
       "      <td>-5218</td>\n",
       "      <td>-3759</td>\n",
       "      <td>-6373</td>\n",
       "      <td>-5152</td>\n",
       "      <td>-7529</td>\n",
       "      <td>-6501</td>\n",
       "      <td>-5755.33</td>\n",
       "      <td>1.744302e+06</td>\n",
       "      <td>1320.720</td>\n",
       "    </tr>\n",
       "  </tbody>\n",
       "</table>\n",
       "<p>67 rows × 9 columns</p>\n",
       "</div>"
      ],
      "text/plain": [
       "elec_date     2012   2014   2016   2018   2020   2022      mean      variance  \\\n",
       "county_name                                                                     \n",
       "Alachua      20902  12955  28986  31416  38732  14475  24577.67  1.034404e+08   \n",
       "Baker        -6664  -3856  -8182  -6928  -9874  -8502  -7334.33  4.249029e+06   \n",
       "Bay         -34825 -27966 -40397 -28952 -40483 -38499 -35187.00  3.146203e+07   \n",
       "Bradford     -4894  -2931  -5989  -5027  -7174  -6494  -5418.17  2.235996e+06   \n",
       "Brevard     -36307 -25602 -62169 -47292 -59334 -75431 -51022.50  3.331530e+08   \n",
       "...            ...    ...    ...    ...    ...    ...       ...           ...   \n",
       "Union        -2641   -875  -3554  -2869  -4080  -3451  -2911.67  1.258313e+06   \n",
       "Volusia      -2742  -6434 -33916 -24325 -43246 -64803 -29244.33  5.458349e+08   \n",
       "Wakulla      -4115  -1884  -6164  -5608  -7523  -7113  -5401.17  4.416386e+06   \n",
       "Walton      -14819 -10821 -18880 -15906 -22609 -22535 -17595.00  2.152820e+07   \n",
       "Washington   -5218  -3759  -6373  -5152  -7529  -6501  -5755.33  1.744302e+06   \n",
       "\n",
       "elec_date          std  \n",
       "county_name             \n",
       "Alachua      10170.567  \n",
       "Baker         2061.317  \n",
       "Bay           5609.103  \n",
       "Bradford      1495.325  \n",
       "Brevard      18252.478  \n",
       "...                ...  \n",
       "Union         1121.746  \n",
       "Volusia      23363.111  \n",
       "Wakulla       2101.520  \n",
       "Walton        4639.849  \n",
       "Washington    1320.720  \n",
       "\n",
       "[67 rows x 9 columns]"
      ]
     },
     "execution_count": 242,
     "metadata": {},
     "output_type": "execute_result"
    }
   ],
   "source": [
    "# Add columns for relevant summary statistics\n",
    "net_votes_by_year_county['mean'] = net_votes_by_year_county.loc[:, '2012':'2022'].mean(axis=1).round(2)\n",
    "net_votes_by_year_county['variance'] = net_votes_by_year_county.loc[:, '2012':'2022'].var(axis=1).round(3)\n",
    "net_votes_by_year_county['std'] = net_votes_by_year_county.loc[:, '2012':'2022'].std(axis=1).round(3)\n",
    "net_votes_by_year_county"
   ]
  },
  {
   "cell_type": "code",
   "execution_count": 243,
   "metadata": {},
   "outputs": [
    {
     "data": {
      "text/html": [
       "<div>\n",
       "<style scoped>\n",
       "    .dataframe tbody tr th:only-of-type {\n",
       "        vertical-align: middle;\n",
       "    }\n",
       "\n",
       "    .dataframe tbody tr th {\n",
       "        vertical-align: top;\n",
       "    }\n",
       "\n",
       "    .dataframe thead th {\n",
       "        text-align: right;\n",
       "    }\n",
       "</style>\n",
       "<table border=\"1\" class=\"dataframe\">\n",
       "  <thead>\n",
       "    <tr style=\"text-align: right;\">\n",
       "      <th></th>\n",
       "      <th>elec_date</th>\n",
       "      <th>county_name</th>\n",
       "      <th>vote_share</th>\n",
       "    </tr>\n",
       "  </thead>\n",
       "  <tbody>\n",
       "    <tr>\n",
       "      <th>0</th>\n",
       "      <td>2012</td>\n",
       "      <td>Alachua</td>\n",
       "      <td>0.173068</td>\n",
       "    </tr>\n",
       "    <tr>\n",
       "      <th>1</th>\n",
       "      <td>2012</td>\n",
       "      <td>Baker</td>\n",
       "      <td>-0.585177</td>\n",
       "    </tr>\n",
       "    <tr>\n",
       "      <th>2</th>\n",
       "      <td>2012</td>\n",
       "      <td>Bay</td>\n",
       "      <td>-0.434764</td>\n",
       "    </tr>\n",
       "    <tr>\n",
       "      <th>3</th>\n",
       "      <td>2012</td>\n",
       "      <td>Bradford</td>\n",
       "      <td>-0.419582</td>\n",
       "    </tr>\n",
       "    <tr>\n",
       "      <th>4</th>\n",
       "      <td>2012</td>\n",
       "      <td>Brevard</td>\n",
       "      <td>-0.126758</td>\n",
       "    </tr>\n",
       "    <tr>\n",
       "      <th>...</th>\n",
       "      <td>...</td>\n",
       "      <td>...</td>\n",
       "      <td>...</td>\n",
       "    </tr>\n",
       "    <tr>\n",
       "      <th>397</th>\n",
       "      <td>2022</td>\n",
       "      <td>Union</td>\n",
       "      <td>-0.757130</td>\n",
       "    </tr>\n",
       "    <tr>\n",
       "      <th>398</th>\n",
       "      <td>2022</td>\n",
       "      <td>Volusia</td>\n",
       "      <td>-0.286427</td>\n",
       "    </tr>\n",
       "    <tr>\n",
       "      <th>399</th>\n",
       "      <td>2022</td>\n",
       "      <td>Wakulla</td>\n",
       "      <td>-0.472217</td>\n",
       "    </tr>\n",
       "    <tr>\n",
       "      <th>400</th>\n",
       "      <td>2022</td>\n",
       "      <td>Walton</td>\n",
       "      <td>-0.645684</td>\n",
       "    </tr>\n",
       "    <tr>\n",
       "      <th>401</th>\n",
       "      <td>2022</td>\n",
       "      <td>Washington</td>\n",
       "      <td>-0.712360</td>\n",
       "    </tr>\n",
       "  </tbody>\n",
       "</table>\n",
       "<p>402 rows × 3 columns</p>\n",
       "</div>"
      ],
      "text/plain": [
       "     elec_date county_name  vote_share\n",
       "0         2012     Alachua    0.173068\n",
       "1         2012       Baker   -0.585177\n",
       "2         2012         Bay   -0.434764\n",
       "3         2012    Bradford   -0.419582\n",
       "4         2012     Brevard   -0.126758\n",
       "..         ...         ...         ...\n",
       "397       2022       Union   -0.757130\n",
       "398       2022     Volusia   -0.286427\n",
       "399       2022     Wakulla   -0.472217\n",
       "400       2022      Walton   -0.645684\n",
       "401       2022  Washington   -0.712360\n",
       "\n",
       "[402 rows x 3 columns]"
      ]
     },
     "execution_count": 243,
     "metadata": {},
     "output_type": "execute_result"
    }
   ],
   "source": [
    "# Subtract R vote share from D vote share and group by election, county to get the D margin of victory for each county\n",
    "df_grouped_narrowed['vote_share'] *= np.where(df_grouped_narrowed.cand_party == 'DEM', 1, -1)\n",
    "D_margin_by_county = df_grouped_narrowed.groupby(['elec_date', 'county_name'], as_index=False)['vote_share'].agg('sum')\n",
    "D_margin_by_county"
   ]
  },
  {
   "cell_type": "code",
   "execution_count": 244,
   "metadata": {},
   "outputs": [
    {
     "data": {
      "text/html": [
       "<div>\n",
       "<style scoped>\n",
       "    .dataframe tbody tr th:only-of-type {\n",
       "        vertical-align: middle;\n",
       "    }\n",
       "\n",
       "    .dataframe tbody tr th {\n",
       "        vertical-align: top;\n",
       "    }\n",
       "\n",
       "    .dataframe thead th {\n",
       "        text-align: right;\n",
       "    }\n",
       "</style>\n",
       "<table border=\"1\" class=\"dataframe\">\n",
       "  <thead>\n",
       "    <tr style=\"text-align: right;\">\n",
       "      <th></th>\n",
       "      <th>elec_date</th>\n",
       "      <th>county_name</th>\n",
       "      <th>D_margin</th>\n",
       "    </tr>\n",
       "  </thead>\n",
       "  <tbody>\n",
       "    <tr>\n",
       "      <th>0</th>\n",
       "      <td>2012</td>\n",
       "      <td>Alachua</td>\n",
       "      <td>17.31</td>\n",
       "    </tr>\n",
       "    <tr>\n",
       "      <th>1</th>\n",
       "      <td>2012</td>\n",
       "      <td>Baker</td>\n",
       "      <td>-58.52</td>\n",
       "    </tr>\n",
       "    <tr>\n",
       "      <th>2</th>\n",
       "      <td>2012</td>\n",
       "      <td>Bay</td>\n",
       "      <td>-43.48</td>\n",
       "    </tr>\n",
       "    <tr>\n",
       "      <th>3</th>\n",
       "      <td>2012</td>\n",
       "      <td>Bradford</td>\n",
       "      <td>-41.96</td>\n",
       "    </tr>\n",
       "    <tr>\n",
       "      <th>4</th>\n",
       "      <td>2012</td>\n",
       "      <td>Brevard</td>\n",
       "      <td>-12.68</td>\n",
       "    </tr>\n",
       "    <tr>\n",
       "      <th>...</th>\n",
       "      <td>...</td>\n",
       "      <td>...</td>\n",
       "      <td>...</td>\n",
       "    </tr>\n",
       "    <tr>\n",
       "      <th>397</th>\n",
       "      <td>2022</td>\n",
       "      <td>Union</td>\n",
       "      <td>-75.71</td>\n",
       "    </tr>\n",
       "    <tr>\n",
       "      <th>398</th>\n",
       "      <td>2022</td>\n",
       "      <td>Volusia</td>\n",
       "      <td>-28.64</td>\n",
       "    </tr>\n",
       "    <tr>\n",
       "      <th>399</th>\n",
       "      <td>2022</td>\n",
       "      <td>Wakulla</td>\n",
       "      <td>-47.22</td>\n",
       "    </tr>\n",
       "    <tr>\n",
       "      <th>400</th>\n",
       "      <td>2022</td>\n",
       "      <td>Walton</td>\n",
       "      <td>-64.57</td>\n",
       "    </tr>\n",
       "    <tr>\n",
       "      <th>401</th>\n",
       "      <td>2022</td>\n",
       "      <td>Washington</td>\n",
       "      <td>-71.24</td>\n",
       "    </tr>\n",
       "  </tbody>\n",
       "</table>\n",
       "<p>402 rows × 3 columns</p>\n",
       "</div>"
      ],
      "text/plain": [
       "     elec_date county_name  D_margin\n",
       "0         2012     Alachua     17.31\n",
       "1         2012       Baker    -58.52\n",
       "2         2012         Bay    -43.48\n",
       "3         2012    Bradford    -41.96\n",
       "4         2012     Brevard    -12.68\n",
       "..         ...         ...       ...\n",
       "397       2022       Union    -75.71\n",
       "398       2022     Volusia    -28.64\n",
       "399       2022     Wakulla    -47.22\n",
       "400       2022      Walton    -64.57\n",
       "401       2022  Washington    -71.24\n",
       "\n",
       "[402 rows x 3 columns]"
      ]
     },
     "execution_count": 244,
     "metadata": {},
     "output_type": "execute_result"
    }
   ],
   "source": [
    "# Rename 'vote_share' column to 'D_margin' to reflext the operation in previous code block\n",
    "D_margin_by_county.rename(columns= {'vote_share' : 'D_margin'}, inplace=True)\n",
    "\n",
    "# Multiply by 100 and round to 2 decimal places so values are more recognizable as percentages\n",
    "D_margin_by_county['D_margin'] = (D_margin_by_county['D_margin'] * 100).round(decimals=2)\n",
    "D_margin_by_county"
   ]
  },
  {
   "cell_type": "code",
   "execution_count": 245,
   "metadata": {},
   "outputs": [
    {
     "data": {
      "text/html": [
       "<div>\n",
       "<style scoped>\n",
       "    .dataframe tbody tr th:only-of-type {\n",
       "        vertical-align: middle;\n",
       "    }\n",
       "\n",
       "    .dataframe tbody tr th {\n",
       "        vertical-align: top;\n",
       "    }\n",
       "\n",
       "    .dataframe thead th {\n",
       "        text-align: right;\n",
       "    }\n",
       "</style>\n",
       "<table border=\"1\" class=\"dataframe\">\n",
       "  <thead>\n",
       "    <tr style=\"text-align: right;\">\n",
       "      <th>elec_date</th>\n",
       "      <th>2012</th>\n",
       "      <th>2014</th>\n",
       "      <th>2016</th>\n",
       "      <th>2018</th>\n",
       "      <th>2020</th>\n",
       "      <th>2022</th>\n",
       "      <th>mean</th>\n",
       "      <th>variance</th>\n",
       "      <th>std</th>\n",
       "    </tr>\n",
       "    <tr>\n",
       "      <th>county_name</th>\n",
       "      <th></th>\n",
       "      <th></th>\n",
       "      <th></th>\n",
       "      <th></th>\n",
       "      <th></th>\n",
       "      <th></th>\n",
       "      <th></th>\n",
       "      <th></th>\n",
       "      <th></th>\n",
       "    </tr>\n",
       "  </thead>\n",
       "  <tbody>\n",
       "    <tr>\n",
       "      <th>Alachua</th>\n",
       "      <td>17.31</td>\n",
       "      <td>16.52</td>\n",
       "      <td>22.28</td>\n",
       "      <td>27.24</td>\n",
       "      <td>27.08</td>\n",
       "      <td>15.09</td>\n",
       "      <td>20.920000</td>\n",
       "      <td>29.223720</td>\n",
       "      <td>5.405897</td>\n",
       "    </tr>\n",
       "    <tr>\n",
       "      <th>Baker</th>\n",
       "      <td>-58.52</td>\n",
       "      <td>-45.50</td>\n",
       "      <td>-64.40</td>\n",
       "      <td>-65.69</td>\n",
       "      <td>-70.12</td>\n",
       "      <td>-79.27</td>\n",
       "      <td>-63.916667</td>\n",
       "      <td>129.176427</td>\n",
       "      <td>11.365581</td>\n",
       "    </tr>\n",
       "    <tr>\n",
       "      <th>Bay</th>\n",
       "      <td>-43.48</td>\n",
       "      <td>-48.93</td>\n",
       "      <td>-45.79</td>\n",
       "      <td>-45.66</td>\n",
       "      <td>-43.43</td>\n",
       "      <td>-57.38</td>\n",
       "      <td>-47.445000</td>\n",
       "      <td>27.735230</td>\n",
       "      <td>5.266425</td>\n",
       "    </tr>\n",
       "    <tr>\n",
       "      <th>Bradford</th>\n",
       "      <td>-41.96</td>\n",
       "      <td>-34.22</td>\n",
       "      <td>-49.26</td>\n",
       "      <td>-47.82</td>\n",
       "      <td>-52.56</td>\n",
       "      <td>-63.25</td>\n",
       "      <td>-48.178333</td>\n",
       "      <td>96.231057</td>\n",
       "      <td>9.809743</td>\n",
       "    </tr>\n",
       "    <tr>\n",
       "      <th>Brevard</th>\n",
       "      <td>-12.68</td>\n",
       "      <td>-11.51</td>\n",
       "      <td>-19.54</td>\n",
       "      <td>-16.78</td>\n",
       "      <td>-16.41</td>\n",
       "      <td>-28.20</td>\n",
       "      <td>-17.520000</td>\n",
       "      <td>35.893640</td>\n",
       "      <td>5.991130</td>\n",
       "    </tr>\n",
       "    <tr>\n",
       "      <th>...</th>\n",
       "      <td>...</td>\n",
       "      <td>...</td>\n",
       "      <td>...</td>\n",
       "      <td>...</td>\n",
       "      <td>...</td>\n",
       "      <td>...</td>\n",
       "      <td>...</td>\n",
       "      <td>...</td>\n",
       "      <td>...</td>\n",
       "    </tr>\n",
       "    <tr>\n",
       "      <th>Union</th>\n",
       "      <td>-48.84</td>\n",
       "      <td>-17.40</td>\n",
       "      <td>-62.11</td>\n",
       "      <td>-58.86</td>\n",
       "      <td>-65.27</td>\n",
       "      <td>-75.71</td>\n",
       "      <td>-54.698333</td>\n",
       "      <td>410.197657</td>\n",
       "      <td>20.253337</td>\n",
       "    </tr>\n",
       "    <tr>\n",
       "      <th>Volusia</th>\n",
       "      <td>-1.17</td>\n",
       "      <td>-3.65</td>\n",
       "      <td>-12.88</td>\n",
       "      <td>-10.62</td>\n",
       "      <td>-14.04</td>\n",
       "      <td>-28.64</td>\n",
       "      <td>-11.833333</td>\n",
       "      <td>94.114947</td>\n",
       "      <td>9.701286</td>\n",
       "    </tr>\n",
       "    <tr>\n",
       "      <th>Wakulla</th>\n",
       "      <td>-28.00</td>\n",
       "      <td>-16.27</td>\n",
       "      <td>-39.91</td>\n",
       "      <td>-39.38</td>\n",
       "      <td>-40.78</td>\n",
       "      <td>-47.22</td>\n",
       "      <td>-35.260000</td>\n",
       "      <td>125.087320</td>\n",
       "      <td>11.184244</td>\n",
       "    </tr>\n",
       "    <tr>\n",
       "      <th>Walton</th>\n",
       "      <td>-51.85</td>\n",
       "      <td>-52.93</td>\n",
       "      <td>-55.70</td>\n",
       "      <td>-52.40</td>\n",
       "      <td>-51.62</td>\n",
       "      <td>-64.57</td>\n",
       "      <td>-54.845000</td>\n",
       "      <td>24.864510</td>\n",
       "      <td>4.986433</td>\n",
       "    </tr>\n",
       "    <tr>\n",
       "      <th>Washington</th>\n",
       "      <td>-47.26</td>\n",
       "      <td>-45.45</td>\n",
       "      <td>-56.85</td>\n",
       "      <td>-56.87</td>\n",
       "      <td>-61.04</td>\n",
       "      <td>-71.24</td>\n",
       "      <td>-56.451667</td>\n",
       "      <td>89.120937</td>\n",
       "      <td>9.440389</td>\n",
       "    </tr>\n",
       "  </tbody>\n",
       "</table>\n",
       "<p>67 rows × 9 columns</p>\n",
       "</div>"
      ],
      "text/plain": [
       "elec_date     2012   2014   2016   2018   2020   2022       mean    variance  \\\n",
       "county_name                                                                    \n",
       "Alachua      17.31  16.52  22.28  27.24  27.08  15.09  20.920000   29.223720   \n",
       "Baker       -58.52 -45.50 -64.40 -65.69 -70.12 -79.27 -63.916667  129.176427   \n",
       "Bay         -43.48 -48.93 -45.79 -45.66 -43.43 -57.38 -47.445000   27.735230   \n",
       "Bradford    -41.96 -34.22 -49.26 -47.82 -52.56 -63.25 -48.178333   96.231057   \n",
       "Brevard     -12.68 -11.51 -19.54 -16.78 -16.41 -28.20 -17.520000   35.893640   \n",
       "...            ...    ...    ...    ...    ...    ...        ...         ...   \n",
       "Union       -48.84 -17.40 -62.11 -58.86 -65.27 -75.71 -54.698333  410.197657   \n",
       "Volusia      -1.17  -3.65 -12.88 -10.62 -14.04 -28.64 -11.833333   94.114947   \n",
       "Wakulla     -28.00 -16.27 -39.91 -39.38 -40.78 -47.22 -35.260000  125.087320   \n",
       "Walton      -51.85 -52.93 -55.70 -52.40 -51.62 -64.57 -54.845000   24.864510   \n",
       "Washington  -47.26 -45.45 -56.85 -56.87 -61.04 -71.24 -56.451667   89.120937   \n",
       "\n",
       "elec_date          std  \n",
       "county_name             \n",
       "Alachua       5.405897  \n",
       "Baker        11.365581  \n",
       "Bay           5.266425  \n",
       "Bradford      9.809743  \n",
       "Brevard       5.991130  \n",
       "...                ...  \n",
       "Union        20.253337  \n",
       "Volusia       9.701286  \n",
       "Wakulla      11.184244  \n",
       "Walton        4.986433  \n",
       "Washington    9.440389  \n",
       "\n",
       "[67 rows x 9 columns]"
      ]
     },
     "execution_count": 245,
     "metadata": {},
     "output_type": "execute_result"
    }
   ],
   "source": [
    "# Create pivot table with elections vs. counties and D_margin as values\n",
    "vote_share_by_year_county = D_margin_by_county.pivot_table(index='county_name', columns='elec_date', values='D_margin')\n",
    "\n",
    "# Change column headers (currently years as ints) to strings\n",
    "vote_share_by_year_county.columns = vote_share_by_year_county.columns.map(str)\n",
    "\n",
    "\n",
    "# Add columns for relevant summary statistics\n",
    "vote_share_by_year_county['mean'] = vote_share_by_year_county.loc[:, '2012':'2022'].mean(axis=1)\n",
    "vote_share_by_year_county['variance'] = vote_share_by_year_county.loc[:, '2012':'2022'].var(axis=1)\n",
    "vote_share_by_year_county['std'] = vote_share_by_year_county.loc[:, '2012':'2022'].std(axis=1)\n",
    "vote_share_by_year_county"
   ]
  },
  {
   "cell_type": "markdown",
   "metadata": {},
   "source": [
    "`Note:` Summary statistics that compare data between counties (exe. mean, median, mode, variance, or std for a given year) won't be particularly meaningful and are therefor excluded. \n",
    "\n",
    "This analysis aims to answer questions relating to the behavior of indiviual counties and treats counties as the unit of observation. It doesn't account for the relative populations (or, in the context of this data, vote totals) of each county. Given that there are many small counties with a vote share that favors Republicans (negative margins in the above table) and fewer but much more populous counties that favor Democrats (positive margins in the above table), the statistics  will skew towards the more numerous (but significantly less populous) Republican-leaning counties."
   ]
  },
  {
   "cell_type": "markdown",
   "metadata": {},
   "source": [
    "# Step 5: Answering Research Questions\n",
    "\n",
    "Now that the data is cleaned and formatted, we can begin answering our research questions.\n",
    "\n",
    "For reference, our key questions are:\n",
    "1. Which counties had the `largest change in vote share` between in presidential election years? What about midterm years?\n",
    "2. Which counties were the `most stable for each major party`? Which were the `least stable`?\n",
    "3. Which county or counties were `most consistent in predicting the outcome of the top-of-ticket race` in a given year?"
   ]
  },
  {
   "cell_type": "markdown",
   "metadata": {},
   "source": [
    "### QUESTION 1: Which counties had the `largest change in vote share` between in presidential election years? What about midterm years?\n",
    "\n",
    "The question here is really which county looks the most different in terms of vote shares in 2020 than it did in 2012 (for presidential years) and between 2014 and 2022 (for midterm years). To answer this, we can add two columns to our current dataframe with this data then sort on those columns.\n",
    "\n",
    "A positive value indicates the percentage by which a county has moved towards Democrats and a negative value indicates the percentage by which a county has moved towards Republicans."
   ]
  },
  {
   "cell_type": "code",
   "execution_count": 246,
   "metadata": {},
   "outputs": [
    {
     "data": {
      "text/html": [
       "<div>\n",
       "<style scoped>\n",
       "    .dataframe tbody tr th:only-of-type {\n",
       "        vertical-align: middle;\n",
       "    }\n",
       "\n",
       "    .dataframe tbody tr th {\n",
       "        vertical-align: top;\n",
       "    }\n",
       "\n",
       "    .dataframe thead th {\n",
       "        text-align: right;\n",
       "    }\n",
       "</style>\n",
       "<table border=\"1\" class=\"dataframe\">\n",
       "  <thead>\n",
       "    <tr style=\"text-align: right;\">\n",
       "      <th>elec_date</th>\n",
       "      <th>2012</th>\n",
       "      <th>2014</th>\n",
       "      <th>2016</th>\n",
       "      <th>2018</th>\n",
       "      <th>2020</th>\n",
       "      <th>2022</th>\n",
       "      <th>mean</th>\n",
       "      <th>variance</th>\n",
       "      <th>std</th>\n",
       "      <th>2012_to_2020_diff</th>\n",
       "      <th>2014_to_2022_diff</th>\n",
       "    </tr>\n",
       "    <tr>\n",
       "      <th>county_name</th>\n",
       "      <th></th>\n",
       "      <th></th>\n",
       "      <th></th>\n",
       "      <th></th>\n",
       "      <th></th>\n",
       "      <th></th>\n",
       "      <th></th>\n",
       "      <th></th>\n",
       "      <th></th>\n",
       "      <th></th>\n",
       "      <th></th>\n",
       "    </tr>\n",
       "  </thead>\n",
       "  <tbody>\n",
       "    <tr>\n",
       "      <th>Alachua</th>\n",
       "      <td>17.31</td>\n",
       "      <td>16.52</td>\n",
       "      <td>22.28</td>\n",
       "      <td>27.24</td>\n",
       "      <td>27.08</td>\n",
       "      <td>15.09</td>\n",
       "      <td>20.920000</td>\n",
       "      <td>29.223720</td>\n",
       "      <td>5.405897</td>\n",
       "      <td>9.77</td>\n",
       "      <td>-1.43</td>\n",
       "    </tr>\n",
       "    <tr>\n",
       "      <th>Baker</th>\n",
       "      <td>-58.52</td>\n",
       "      <td>-45.50</td>\n",
       "      <td>-64.40</td>\n",
       "      <td>-65.69</td>\n",
       "      <td>-70.12</td>\n",
       "      <td>-79.27</td>\n",
       "      <td>-63.916667</td>\n",
       "      <td>129.176427</td>\n",
       "      <td>11.365581</td>\n",
       "      <td>-11.60</td>\n",
       "      <td>-33.77</td>\n",
       "    </tr>\n",
       "    <tr>\n",
       "      <th>Bay</th>\n",
       "      <td>-43.48</td>\n",
       "      <td>-48.93</td>\n",
       "      <td>-45.79</td>\n",
       "      <td>-45.66</td>\n",
       "      <td>-43.43</td>\n",
       "      <td>-57.38</td>\n",
       "      <td>-47.445000</td>\n",
       "      <td>27.735230</td>\n",
       "      <td>5.266425</td>\n",
       "      <td>0.05</td>\n",
       "      <td>-8.45</td>\n",
       "    </tr>\n",
       "    <tr>\n",
       "      <th>Bradford</th>\n",
       "      <td>-41.96</td>\n",
       "      <td>-34.22</td>\n",
       "      <td>-49.26</td>\n",
       "      <td>-47.82</td>\n",
       "      <td>-52.56</td>\n",
       "      <td>-63.25</td>\n",
       "      <td>-48.178333</td>\n",
       "      <td>96.231057</td>\n",
       "      <td>9.809743</td>\n",
       "      <td>-10.60</td>\n",
       "      <td>-29.03</td>\n",
       "    </tr>\n",
       "    <tr>\n",
       "      <th>Brevard</th>\n",
       "      <td>-12.68</td>\n",
       "      <td>-11.51</td>\n",
       "      <td>-19.54</td>\n",
       "      <td>-16.78</td>\n",
       "      <td>-16.41</td>\n",
       "      <td>-28.20</td>\n",
       "      <td>-17.520000</td>\n",
       "      <td>35.893640</td>\n",
       "      <td>5.991130</td>\n",
       "      <td>-3.73</td>\n",
       "      <td>-16.69</td>\n",
       "    </tr>\n",
       "    <tr>\n",
       "      <th>...</th>\n",
       "      <td>...</td>\n",
       "      <td>...</td>\n",
       "      <td>...</td>\n",
       "      <td>...</td>\n",
       "      <td>...</td>\n",
       "      <td>...</td>\n",
       "      <td>...</td>\n",
       "      <td>...</td>\n",
       "      <td>...</td>\n",
       "      <td>...</td>\n",
       "      <td>...</td>\n",
       "    </tr>\n",
       "    <tr>\n",
       "      <th>Union</th>\n",
       "      <td>-48.84</td>\n",
       "      <td>-17.40</td>\n",
       "      <td>-62.11</td>\n",
       "      <td>-58.86</td>\n",
       "      <td>-65.27</td>\n",
       "      <td>-75.71</td>\n",
       "      <td>-54.698333</td>\n",
       "      <td>410.197657</td>\n",
       "      <td>20.253337</td>\n",
       "      <td>-16.43</td>\n",
       "      <td>-58.31</td>\n",
       "    </tr>\n",
       "    <tr>\n",
       "      <th>Volusia</th>\n",
       "      <td>-1.17</td>\n",
       "      <td>-3.65</td>\n",
       "      <td>-12.88</td>\n",
       "      <td>-10.62</td>\n",
       "      <td>-14.04</td>\n",
       "      <td>-28.64</td>\n",
       "      <td>-11.833333</td>\n",
       "      <td>94.114947</td>\n",
       "      <td>9.701286</td>\n",
       "      <td>-12.87</td>\n",
       "      <td>-24.99</td>\n",
       "    </tr>\n",
       "    <tr>\n",
       "      <th>Wakulla</th>\n",
       "      <td>-28.00</td>\n",
       "      <td>-16.27</td>\n",
       "      <td>-39.91</td>\n",
       "      <td>-39.38</td>\n",
       "      <td>-40.78</td>\n",
       "      <td>-47.22</td>\n",
       "      <td>-35.260000</td>\n",
       "      <td>125.087320</td>\n",
       "      <td>11.184244</td>\n",
       "      <td>-12.78</td>\n",
       "      <td>-30.95</td>\n",
       "    </tr>\n",
       "    <tr>\n",
       "      <th>Walton</th>\n",
       "      <td>-51.85</td>\n",
       "      <td>-52.93</td>\n",
       "      <td>-55.70</td>\n",
       "      <td>-52.40</td>\n",
       "      <td>-51.62</td>\n",
       "      <td>-64.57</td>\n",
       "      <td>-54.845000</td>\n",
       "      <td>24.864510</td>\n",
       "      <td>4.986433</td>\n",
       "      <td>0.23</td>\n",
       "      <td>-11.64</td>\n",
       "    </tr>\n",
       "    <tr>\n",
       "      <th>Washington</th>\n",
       "      <td>-47.26</td>\n",
       "      <td>-45.45</td>\n",
       "      <td>-56.85</td>\n",
       "      <td>-56.87</td>\n",
       "      <td>-61.04</td>\n",
       "      <td>-71.24</td>\n",
       "      <td>-56.451667</td>\n",
       "      <td>89.120937</td>\n",
       "      <td>9.440389</td>\n",
       "      <td>-13.78</td>\n",
       "      <td>-25.79</td>\n",
       "    </tr>\n",
       "  </tbody>\n",
       "</table>\n",
       "<p>67 rows × 11 columns</p>\n",
       "</div>"
      ],
      "text/plain": [
       "elec_date     2012   2014   2016   2018   2020   2022       mean    variance  \\\n",
       "county_name                                                                    \n",
       "Alachua      17.31  16.52  22.28  27.24  27.08  15.09  20.920000   29.223720   \n",
       "Baker       -58.52 -45.50 -64.40 -65.69 -70.12 -79.27 -63.916667  129.176427   \n",
       "Bay         -43.48 -48.93 -45.79 -45.66 -43.43 -57.38 -47.445000   27.735230   \n",
       "Bradford    -41.96 -34.22 -49.26 -47.82 -52.56 -63.25 -48.178333   96.231057   \n",
       "Brevard     -12.68 -11.51 -19.54 -16.78 -16.41 -28.20 -17.520000   35.893640   \n",
       "...            ...    ...    ...    ...    ...    ...        ...         ...   \n",
       "Union       -48.84 -17.40 -62.11 -58.86 -65.27 -75.71 -54.698333  410.197657   \n",
       "Volusia      -1.17  -3.65 -12.88 -10.62 -14.04 -28.64 -11.833333   94.114947   \n",
       "Wakulla     -28.00 -16.27 -39.91 -39.38 -40.78 -47.22 -35.260000  125.087320   \n",
       "Walton      -51.85 -52.93 -55.70 -52.40 -51.62 -64.57 -54.845000   24.864510   \n",
       "Washington  -47.26 -45.45 -56.85 -56.87 -61.04 -71.24 -56.451667   89.120937   \n",
       "\n",
       "elec_date          std  2012_to_2020_diff  2014_to_2022_diff  \n",
       "county_name                                                   \n",
       "Alachua       5.405897               9.77              -1.43  \n",
       "Baker        11.365581             -11.60             -33.77  \n",
       "Bay           5.266425               0.05              -8.45  \n",
       "Bradford      9.809743             -10.60             -29.03  \n",
       "Brevard       5.991130              -3.73             -16.69  \n",
       "...                ...                ...                ...  \n",
       "Union        20.253337             -16.43             -58.31  \n",
       "Volusia       9.701286             -12.87             -24.99  \n",
       "Wakulla      11.184244             -12.78             -30.95  \n",
       "Walton        4.986433               0.23             -11.64  \n",
       "Washington    9.440389             -13.78             -25.79  \n",
       "\n",
       "[67 rows x 11 columns]"
      ]
     },
     "execution_count": 246,
     "metadata": {},
     "output_type": "execute_result"
    }
   ],
   "source": [
    "vote_share_by_year_county['2012_to_2020_diff'] = vote_share_by_year_county['2020'] - vote_share_by_year_county['2012']\n",
    "vote_share_by_year_county['2014_to_2022_diff'] = vote_share_by_year_county['2022'] - vote_share_by_year_county['2014']\n",
    "vote_share_by_year_county"
   ]
  },
  {
   "cell_type": "code",
   "execution_count": 247,
   "metadata": {},
   "outputs": [
    {
     "data": {
      "text/plain": [
       "county_name\n",
       "St. Johns     11.06\n",
       "Okaloosa      10.15\n",
       "Alachua        9.77\n",
       "Seminole       9.44\n",
       "Clay           8.69\n",
       "Duval          7.40\n",
       "Santa Rosa     6.02\n",
       "Escambia       5.42\n",
       "Collier        5.38\n",
       "Orange         4.84\n",
       "Name: 2012_to_2020_diff, dtype: float64"
      ]
     },
     "execution_count": 247,
     "metadata": {},
     "output_type": "execute_result"
    }
   ],
   "source": [
    "# Top 10 counties that shifted towards Democrats during presidential election years\n",
    "vote_share_by_year_county['2012_to_2020_diff'].sort_values(ascending=False).head(10)"
   ]
  },
  {
   "cell_type": "code",
   "execution_count": 248,
   "metadata": {},
   "outputs": [
    {
     "data": {
      "text/plain": [
       "county_name\n",
       "Glades       -27.56\n",
       "Okeechobee   -24.30\n",
       "Hernando     -21.67\n",
       "Dixie        -19.24\n",
       "Citrus       -19.13\n",
       "Liberty      -19.04\n",
       "Calhoun      -18.48\n",
       "Desoto       -17.69\n",
       "Hendry       -17.07\n",
       "Putnam       -16.78\n",
       "Name: 2012_to_2020_diff, dtype: float64"
      ]
     },
     "execution_count": 248,
     "metadata": {},
     "output_type": "execute_result"
    }
   ],
   "source": [
    "# Top 10 counties that shifted towards Republicans during presidential election years\n",
    "vote_share_by_year_county['2012_to_2020_diff'].sort_values(ascending=True).head(10)"
   ]
  },
  {
   "cell_type": "code",
   "execution_count": 249,
   "metadata": {},
   "outputs": [],
   "source": [
    "# Map 2012_to_2020 diff "
   ]
  },
  {
   "cell_type": "code",
   "execution_count": 250,
   "metadata": {},
   "outputs": [
    {
     "data": {
      "application/vnd.plotly.v1+json": {
       "config": {
        "plotlyServerURL": "https://plot.ly"
       },
       "data": [
        {
         "alignmentgroup": "True",
         "hovertemplate": "County Name=%{x}<br>Change in Vote Share (%)=%{marker.color}<extra></extra>",
         "legendgroup": "",
         "marker": {
          "color": [
           9.77,
           -11.600000000000001,
           0.04999999999999716,
           -10.600000000000001,
           -3.7300000000000004,
           -5.199999999999999,
           -18.479999999999997,
           -12.33,
           -19.13,
           8.689999999999998,
           5.379999999999999,
           -8.480000000000004,
           -17.69,
           -19.240000000000002,
           7.4,
           5.419999999999998,
           -13.290000000000001,
           -5.850000000000001,
           -4.059999999999995,
           -13.050000000000004,
           -27.56,
           -8.68,
           -14.920000000000002,
           -14.149999999999999,
           -17.07,
           -21.67,
           -11.369999999999997,
           0.1800000000000006,
           -10.620000000000005,
           0.8199999999999967,
           -9.860000000000003,
           -8.620000000000001,
           -13.409999999999997,
           -2.8999999999999986,
           -2.669999999999998,
           4.59,
           -13.32,
           -19.04,
           -16.06,
           -3.580000000000002,
           -9.66,
           -1.6600000000000001,
           -16.37,
           -8.31,
           2.6099999999999994,
           10.149999999999999,
           -24.3,
           4.84,
           -10.680000000000001,
           -4.26,
           -13.400000000000002,
           -5.41,
           -7.58,
           -16.779999999999998,
           6.020000000000003,
           -3.0199999999999996,
           9.440000000000001,
           11.059999999999995,
           -9.4,
           -1.1899999999999977,
           -11.700000000000003,
           -15.649999999999999,
           -16.429999999999993,
           -12.87,
           -12.780000000000001,
           0.23000000000000398,
           -13.780000000000001
          ],
          "coloraxis": "coloraxis",
          "pattern": {
           "shape": ""
          }
         },
         "name": "",
         "offsetgroup": "",
         "orientation": "v",
         "showlegend": false,
         "textposition": "auto",
         "type": "bar",
         "x": [
          "Alachua",
          "Baker",
          "Bay",
          "Bradford",
          "Brevard",
          "Broward",
          "Calhoun",
          "Charlotte",
          "Citrus",
          "Clay",
          "Collier",
          "Columbia",
          "Desoto",
          "Dixie",
          "Duval",
          "Escambia",
          "Flagler",
          "Franklin",
          "Gadsden",
          "Gilchrist",
          "Glades",
          "Gulf",
          "Hamilton",
          "Hardee",
          "Hendry",
          "Hernando",
          "Highlands",
          "Hillsborough",
          "Holmes",
          "Indian River",
          "Jackson",
          "Jefferson",
          "Lafayette",
          "Lake",
          "Lee",
          "Leon",
          "Levy",
          "Liberty",
          "Madison",
          "Manatee",
          "Marion",
          "Martin",
          "Miami-Dade",
          "Monroe",
          "Nassau",
          "Okaloosa",
          "Okeechobee",
          "Orange",
          "Osceola",
          "Palm Beach",
          "Pasco",
          "Pinellas",
          "Polk",
          "Putnam",
          "Santa Rosa",
          "Sarasota",
          "Seminole",
          "St. Johns",
          "St. Lucie",
          "Sumter",
          "Suwannee",
          "Taylor",
          "Union",
          "Volusia",
          "Wakulla",
          "Walton",
          "Washington"
         ],
         "xaxis": "x",
         "y": [
          9.77,
          -11.600000000000001,
          0.04999999999999716,
          -10.600000000000001,
          -3.7300000000000004,
          -5.199999999999999,
          -18.479999999999997,
          -12.33,
          -19.13,
          8.689999999999998,
          5.379999999999999,
          -8.480000000000004,
          -17.69,
          -19.240000000000002,
          7.4,
          5.419999999999998,
          -13.290000000000001,
          -5.850000000000001,
          -4.059999999999995,
          -13.050000000000004,
          -27.56,
          -8.68,
          -14.920000000000002,
          -14.149999999999999,
          -17.07,
          -21.67,
          -11.369999999999997,
          0.1800000000000006,
          -10.620000000000005,
          0.8199999999999967,
          -9.860000000000003,
          -8.620000000000001,
          -13.409999999999997,
          -2.8999999999999986,
          -2.669999999999998,
          4.59,
          -13.32,
          -19.04,
          -16.06,
          -3.580000000000002,
          -9.66,
          -1.6600000000000001,
          -16.37,
          -8.31,
          2.6099999999999994,
          10.149999999999999,
          -24.3,
          4.84,
          -10.680000000000001,
          -4.26,
          -13.400000000000002,
          -5.41,
          -7.58,
          -16.779999999999998,
          6.020000000000003,
          -3.0199999999999996,
          9.440000000000001,
          11.059999999999995,
          -9.4,
          -1.1899999999999977,
          -11.700000000000003,
          -15.649999999999999,
          -16.429999999999993,
          -12.87,
          -12.780000000000001,
          0.23000000000000398,
          -13.780000000000001
         ],
         "yaxis": "y"
        }
       ],
       "layout": {
        "barmode": "relative",
        "coloraxis": {
         "cmid": 0,
         "colorbar": {
          "title": {
           "text": "Change in Vote Share (%)"
          }
         },
         "colorscale": [
          [
           0,
           "rgb(255,0,0)"
          ],
          [
           1,
           "rgb(0,0,255)"
          ]
         ]
        },
        "legend": {
         "tracegroupgap": 0
        },
        "template": {
         "data": {
          "bar": [
           {
            "error_x": {
             "color": "#2a3f5f"
            },
            "error_y": {
             "color": "#2a3f5f"
            },
            "marker": {
             "line": {
              "color": "#E5ECF6",
              "width": 0.5
             },
             "pattern": {
              "fillmode": "overlay",
              "size": 10,
              "solidity": 0.2
             }
            },
            "type": "bar"
           }
          ],
          "barpolar": [
           {
            "marker": {
             "line": {
              "color": "#E5ECF6",
              "width": 0.5
             },
             "pattern": {
              "fillmode": "overlay",
              "size": 10,
              "solidity": 0.2
             }
            },
            "type": "barpolar"
           }
          ],
          "carpet": [
           {
            "aaxis": {
             "endlinecolor": "#2a3f5f",
             "gridcolor": "white",
             "linecolor": "white",
             "minorgridcolor": "white",
             "startlinecolor": "#2a3f5f"
            },
            "baxis": {
             "endlinecolor": "#2a3f5f",
             "gridcolor": "white",
             "linecolor": "white",
             "minorgridcolor": "white",
             "startlinecolor": "#2a3f5f"
            },
            "type": "carpet"
           }
          ],
          "choropleth": [
           {
            "colorbar": {
             "outlinewidth": 0,
             "ticks": ""
            },
            "type": "choropleth"
           }
          ],
          "contour": [
           {
            "colorbar": {
             "outlinewidth": 0,
             "ticks": ""
            },
            "colorscale": [
             [
              0,
              "#0d0887"
             ],
             [
              0.1111111111111111,
              "#46039f"
             ],
             [
              0.2222222222222222,
              "#7201a8"
             ],
             [
              0.3333333333333333,
              "#9c179e"
             ],
             [
              0.4444444444444444,
              "#bd3786"
             ],
             [
              0.5555555555555556,
              "#d8576b"
             ],
             [
              0.6666666666666666,
              "#ed7953"
             ],
             [
              0.7777777777777778,
              "#fb9f3a"
             ],
             [
              0.8888888888888888,
              "#fdca26"
             ],
             [
              1,
              "#f0f921"
             ]
            ],
            "type": "contour"
           }
          ],
          "contourcarpet": [
           {
            "colorbar": {
             "outlinewidth": 0,
             "ticks": ""
            },
            "type": "contourcarpet"
           }
          ],
          "heatmap": [
           {
            "colorbar": {
             "outlinewidth": 0,
             "ticks": ""
            },
            "colorscale": [
             [
              0,
              "#0d0887"
             ],
             [
              0.1111111111111111,
              "#46039f"
             ],
             [
              0.2222222222222222,
              "#7201a8"
             ],
             [
              0.3333333333333333,
              "#9c179e"
             ],
             [
              0.4444444444444444,
              "#bd3786"
             ],
             [
              0.5555555555555556,
              "#d8576b"
             ],
             [
              0.6666666666666666,
              "#ed7953"
             ],
             [
              0.7777777777777778,
              "#fb9f3a"
             ],
             [
              0.8888888888888888,
              "#fdca26"
             ],
             [
              1,
              "#f0f921"
             ]
            ],
            "type": "heatmap"
           }
          ],
          "heatmapgl": [
           {
            "colorbar": {
             "outlinewidth": 0,
             "ticks": ""
            },
            "colorscale": [
             [
              0,
              "#0d0887"
             ],
             [
              0.1111111111111111,
              "#46039f"
             ],
             [
              0.2222222222222222,
              "#7201a8"
             ],
             [
              0.3333333333333333,
              "#9c179e"
             ],
             [
              0.4444444444444444,
              "#bd3786"
             ],
             [
              0.5555555555555556,
              "#d8576b"
             ],
             [
              0.6666666666666666,
              "#ed7953"
             ],
             [
              0.7777777777777778,
              "#fb9f3a"
             ],
             [
              0.8888888888888888,
              "#fdca26"
             ],
             [
              1,
              "#f0f921"
             ]
            ],
            "type": "heatmapgl"
           }
          ],
          "histogram": [
           {
            "marker": {
             "pattern": {
              "fillmode": "overlay",
              "size": 10,
              "solidity": 0.2
             }
            },
            "type": "histogram"
           }
          ],
          "histogram2d": [
           {
            "colorbar": {
             "outlinewidth": 0,
             "ticks": ""
            },
            "colorscale": [
             [
              0,
              "#0d0887"
             ],
             [
              0.1111111111111111,
              "#46039f"
             ],
             [
              0.2222222222222222,
              "#7201a8"
             ],
             [
              0.3333333333333333,
              "#9c179e"
             ],
             [
              0.4444444444444444,
              "#bd3786"
             ],
             [
              0.5555555555555556,
              "#d8576b"
             ],
             [
              0.6666666666666666,
              "#ed7953"
             ],
             [
              0.7777777777777778,
              "#fb9f3a"
             ],
             [
              0.8888888888888888,
              "#fdca26"
             ],
             [
              1,
              "#f0f921"
             ]
            ],
            "type": "histogram2d"
           }
          ],
          "histogram2dcontour": [
           {
            "colorbar": {
             "outlinewidth": 0,
             "ticks": ""
            },
            "colorscale": [
             [
              0,
              "#0d0887"
             ],
             [
              0.1111111111111111,
              "#46039f"
             ],
             [
              0.2222222222222222,
              "#7201a8"
             ],
             [
              0.3333333333333333,
              "#9c179e"
             ],
             [
              0.4444444444444444,
              "#bd3786"
             ],
             [
              0.5555555555555556,
              "#d8576b"
             ],
             [
              0.6666666666666666,
              "#ed7953"
             ],
             [
              0.7777777777777778,
              "#fb9f3a"
             ],
             [
              0.8888888888888888,
              "#fdca26"
             ],
             [
              1,
              "#f0f921"
             ]
            ],
            "type": "histogram2dcontour"
           }
          ],
          "mesh3d": [
           {
            "colorbar": {
             "outlinewidth": 0,
             "ticks": ""
            },
            "type": "mesh3d"
           }
          ],
          "parcoords": [
           {
            "line": {
             "colorbar": {
              "outlinewidth": 0,
              "ticks": ""
             }
            },
            "type": "parcoords"
           }
          ],
          "pie": [
           {
            "automargin": true,
            "type": "pie"
           }
          ],
          "scatter": [
           {
            "fillpattern": {
             "fillmode": "overlay",
             "size": 10,
             "solidity": 0.2
            },
            "type": "scatter"
           }
          ],
          "scatter3d": [
           {
            "line": {
             "colorbar": {
              "outlinewidth": 0,
              "ticks": ""
             }
            },
            "marker": {
             "colorbar": {
              "outlinewidth": 0,
              "ticks": ""
             }
            },
            "type": "scatter3d"
           }
          ],
          "scattercarpet": [
           {
            "marker": {
             "colorbar": {
              "outlinewidth": 0,
              "ticks": ""
             }
            },
            "type": "scattercarpet"
           }
          ],
          "scattergeo": [
           {
            "marker": {
             "colorbar": {
              "outlinewidth": 0,
              "ticks": ""
             }
            },
            "type": "scattergeo"
           }
          ],
          "scattergl": [
           {
            "marker": {
             "colorbar": {
              "outlinewidth": 0,
              "ticks": ""
             }
            },
            "type": "scattergl"
           }
          ],
          "scattermapbox": [
           {
            "marker": {
             "colorbar": {
              "outlinewidth": 0,
              "ticks": ""
             }
            },
            "type": "scattermapbox"
           }
          ],
          "scatterpolar": [
           {
            "marker": {
             "colorbar": {
              "outlinewidth": 0,
              "ticks": ""
             }
            },
            "type": "scatterpolar"
           }
          ],
          "scatterpolargl": [
           {
            "marker": {
             "colorbar": {
              "outlinewidth": 0,
              "ticks": ""
             }
            },
            "type": "scatterpolargl"
           }
          ],
          "scatterternary": [
           {
            "marker": {
             "colorbar": {
              "outlinewidth": 0,
              "ticks": ""
             }
            },
            "type": "scatterternary"
           }
          ],
          "surface": [
           {
            "colorbar": {
             "outlinewidth": 0,
             "ticks": ""
            },
            "colorscale": [
             [
              0,
              "#0d0887"
             ],
             [
              0.1111111111111111,
              "#46039f"
             ],
             [
              0.2222222222222222,
              "#7201a8"
             ],
             [
              0.3333333333333333,
              "#9c179e"
             ],
             [
              0.4444444444444444,
              "#bd3786"
             ],
             [
              0.5555555555555556,
              "#d8576b"
             ],
             [
              0.6666666666666666,
              "#ed7953"
             ],
             [
              0.7777777777777778,
              "#fb9f3a"
             ],
             [
              0.8888888888888888,
              "#fdca26"
             ],
             [
              1,
              "#f0f921"
             ]
            ],
            "type": "surface"
           }
          ],
          "table": [
           {
            "cells": {
             "fill": {
              "color": "#EBF0F8"
             },
             "line": {
              "color": "white"
             }
            },
            "header": {
             "fill": {
              "color": "#C8D4E3"
             },
             "line": {
              "color": "white"
             }
            },
            "type": "table"
           }
          ]
         },
         "layout": {
          "annotationdefaults": {
           "arrowcolor": "#2a3f5f",
           "arrowhead": 0,
           "arrowwidth": 1
          },
          "autotypenumbers": "strict",
          "coloraxis": {
           "colorbar": {
            "outlinewidth": 0,
            "ticks": ""
           }
          },
          "colorscale": {
           "diverging": [
            [
             0,
             "#8e0152"
            ],
            [
             0.1,
             "#c51b7d"
            ],
            [
             0.2,
             "#de77ae"
            ],
            [
             0.3,
             "#f1b6da"
            ],
            [
             0.4,
             "#fde0ef"
            ],
            [
             0.5,
             "#f7f7f7"
            ],
            [
             0.6,
             "#e6f5d0"
            ],
            [
             0.7,
             "#b8e186"
            ],
            [
             0.8,
             "#7fbc41"
            ],
            [
             0.9,
             "#4d9221"
            ],
            [
             1,
             "#276419"
            ]
           ],
           "sequential": [
            [
             0,
             "#0d0887"
            ],
            [
             0.1111111111111111,
             "#46039f"
            ],
            [
             0.2222222222222222,
             "#7201a8"
            ],
            [
             0.3333333333333333,
             "#9c179e"
            ],
            [
             0.4444444444444444,
             "#bd3786"
            ],
            [
             0.5555555555555556,
             "#d8576b"
            ],
            [
             0.6666666666666666,
             "#ed7953"
            ],
            [
             0.7777777777777778,
             "#fb9f3a"
            ],
            [
             0.8888888888888888,
             "#fdca26"
            ],
            [
             1,
             "#f0f921"
            ]
           ],
           "sequentialminus": [
            [
             0,
             "#0d0887"
            ],
            [
             0.1111111111111111,
             "#46039f"
            ],
            [
             0.2222222222222222,
             "#7201a8"
            ],
            [
             0.3333333333333333,
             "#9c179e"
            ],
            [
             0.4444444444444444,
             "#bd3786"
            ],
            [
             0.5555555555555556,
             "#d8576b"
            ],
            [
             0.6666666666666666,
             "#ed7953"
            ],
            [
             0.7777777777777778,
             "#fb9f3a"
            ],
            [
             0.8888888888888888,
             "#fdca26"
            ],
            [
             1,
             "#f0f921"
            ]
           ]
          },
          "colorway": [
           "#636efa",
           "#EF553B",
           "#00cc96",
           "#ab63fa",
           "#FFA15A",
           "#19d3f3",
           "#FF6692",
           "#B6E880",
           "#FF97FF",
           "#FECB52"
          ],
          "font": {
           "color": "#2a3f5f"
          },
          "geo": {
           "bgcolor": "white",
           "lakecolor": "white",
           "landcolor": "#E5ECF6",
           "showlakes": true,
           "showland": true,
           "subunitcolor": "white"
          },
          "hoverlabel": {
           "align": "left"
          },
          "hovermode": "closest",
          "mapbox": {
           "style": "light"
          },
          "paper_bgcolor": "white",
          "plot_bgcolor": "#E5ECF6",
          "polar": {
           "angularaxis": {
            "gridcolor": "white",
            "linecolor": "white",
            "ticks": ""
           },
           "bgcolor": "#E5ECF6",
           "radialaxis": {
            "gridcolor": "white",
            "linecolor": "white",
            "ticks": ""
           }
          },
          "scene": {
           "xaxis": {
            "backgroundcolor": "#E5ECF6",
            "gridcolor": "white",
            "gridwidth": 2,
            "linecolor": "white",
            "showbackground": true,
            "ticks": "",
            "zerolinecolor": "white"
           },
           "yaxis": {
            "backgroundcolor": "#E5ECF6",
            "gridcolor": "white",
            "gridwidth": 2,
            "linecolor": "white",
            "showbackground": true,
            "ticks": "",
            "zerolinecolor": "white"
           },
           "zaxis": {
            "backgroundcolor": "#E5ECF6",
            "gridcolor": "white",
            "gridwidth": 2,
            "linecolor": "white",
            "showbackground": true,
            "ticks": "",
            "zerolinecolor": "white"
           }
          },
          "shapedefaults": {
           "line": {
            "color": "#2a3f5f"
           }
          },
          "ternary": {
           "aaxis": {
            "gridcolor": "white",
            "linecolor": "white",
            "ticks": ""
           },
           "baxis": {
            "gridcolor": "white",
            "linecolor": "white",
            "ticks": ""
           },
           "bgcolor": "#E5ECF6",
           "caxis": {
            "gridcolor": "white",
            "linecolor": "white",
            "ticks": ""
           }
          },
          "title": {
           "x": 0.05
          },
          "xaxis": {
           "automargin": true,
           "gridcolor": "white",
           "linecolor": "white",
           "ticks": "",
           "title": {
            "standoff": 15
           },
           "zerolinecolor": "white",
           "zerolinewidth": 2
          },
          "yaxis": {
           "automargin": true,
           "gridcolor": "white",
           "linecolor": "white",
           "ticks": "",
           "title": {
            "standoff": 15
           },
           "zerolinecolor": "white",
           "zerolinewidth": 2
          }
         }
        },
        "title": {
         "text": "Change in Vote Share in Presidential Elections (2012 to 2020)"
        },
        "xaxis": {
         "anchor": "y",
         "domain": [
          0,
          1
         ],
         "title": {
          "text": "County Name"
         }
        },
        "yaxis": {
         "anchor": "x",
         "domain": [
          0,
          1
         ],
         "title": {
          "text": "Change in Vote Share (%)"
         }
        }
       }
      }
     },
     "metadata": {},
     "output_type": "display_data"
    }
   ],
   "source": [
    "# Graph this data for all counties\n",
    "vote_share_by_year_county[\"2012_to_2020_diff\"] = vote_share_by_year_county[\"2012_to_2020_diff\"].astype(float)\n",
    " \n",
    "fig_bar = px.bar(vote_share_by_year_county, \n",
    "                             x=vote_share_by_year_county.index, \n",
    "                             y='2012_to_2020_diff', \n",
    "                             title='Change in Vote Share in Presidential Elections (2012 to 2020)',\n",
    "                             color='2012_to_2020_diff',\n",
    "                             color_continuous_scale=px.colors.sequential.Bluered_r,\n",
    "                             color_continuous_midpoint=0,\n",
    "                             labels={'2012_to_2020_diff' : 'Change in Vote Share (%)', 'county_name' : 'County Name'})\n",
    "\n",
    "\n",
    "fig_bar.show()"
   ]
  },
  {
   "cell_type": "markdown",
   "metadata": {},
   "source": [
    "The counties that shifted most towards Democrats are focused in eastern central and northeast Florida. The counties that shifted most towards Republicans are focused in the western central and Big Ben regions. \n",
    "\n",
    "The shifts towards Republicans during presidential elections in this period are massive (at least in terms of vote share). The top 10 counties in this category all saw Republicans gain between 16.7% (Putnam) and a whopping 27.5% (Glades) of the vote share, whereas the biggest gains for Democrats were only between 4.8% (Organge) and 11% (St. Johns)."
   ]
  },
  {
   "cell_type": "code",
   "execution_count": 251,
   "metadata": {},
   "outputs": [
    {
     "data": {
      "text/plain": [
       "county_name\n",
       "Okaloosa      2.29\n",
       "Duval         0.94\n",
       "Clay         -1.18\n",
       "Alachua      -1.43\n",
       "St. Johns    -1.91\n",
       "Escambia     -2.04\n",
       "Seminole     -4.69\n",
       "Orange       -4.83\n",
       "Santa Rosa   -4.95\n",
       "Nassau       -5.16\n",
       "Name: 2014_to_2022_diff, dtype: float64"
      ]
     },
     "execution_count": 251,
     "metadata": {},
     "output_type": "execute_result"
    }
   ],
   "source": [
    "# Top 10 counties that shifted towards Democrats during midterm election years\n",
    "vote_share_by_year_county['2014_to_2022_diff'].sort_values(ascending=False).head(10)"
   ]
  },
  {
   "cell_type": "code",
   "execution_count": 252,
   "metadata": {},
   "outputs": [
    {
     "data": {
      "text/plain": [
       "county_name\n",
       "Union        -58.31\n",
       "Desoto       -47.90\n",
       "Liberty      -46.49\n",
       "Dixie        -44.00\n",
       "Lafayette    -42.93\n",
       "Okeechobee   -42.13\n",
       "Hardee       -38.29\n",
       "Hamilton     -38.15\n",
       "Calhoun      -37.38\n",
       "Hernando     -37.33\n",
       "Name: 2014_to_2022_diff, dtype: float64"
      ]
     },
     "execution_count": 252,
     "metadata": {},
     "output_type": "execute_result"
    }
   ],
   "source": [
    "# Top 10 counties that shifted towards Republicans during midterm election years\n",
    "vote_share_by_year_county['2014_to_2022_diff'].sort_values(ascending=True).head(10)"
   ]
  },
  {
   "cell_type": "code",
   "execution_count": 253,
   "metadata": {},
   "outputs": [
    {
     "data": {
      "application/vnd.plotly.v1+json": {
       "config": {
        "plotlyServerURL": "https://plot.ly"
       },
       "data": [
        {
         "alignmentgroup": "True",
         "hovertemplate": "County Name=%{x}<br>Change in Vote Share (%)=%{marker.color}<extra></extra>",
         "legendgroup": "",
         "marker": {
          "color": [
           -1.4299999999999997,
           -33.769999999999996,
           -8.450000000000003,
           -29.03,
           -16.689999999999998,
           -23.059999999999995,
           -37.379999999999995,
           -29.069999999999997,
           -33.86,
           -1.1799999999999997,
           -8.549999999999997,
           -27.56,
           -47.9,
           -44.00000000000001,
           0.9399999999999995,
           -2.039999999999999,
           -23.54,
           -27.509999999999998,
           -18.67,
           -29.379999999999995,
           -36.41,
           -21.25,
           -38.150000000000006,
           -38.29,
           -32.67999999999999,
           -37.33,
           -24.640000000000004,
           -11.91,
           -27.049999999999997,
           -13.71,
           -32.480000000000004,
           -28.66,
           -42.93,
           -15.77,
           -17.82,
           -10.700000000000001,
           -25.700000000000003,
           -46.489999999999995,
           -32.24,
           -19.57,
           -22.480000000000004,
           -23.42,
           -30.41,
           -25.3,
           -5.159999999999997,
           2.289999999999999,
           -42.13,
           -4.83,
           -15.53,
           -23.49,
           -30.56,
           -21.09,
           -19.82,
           -23.89,
           -4.949999999999996,
           -19.2,
           -4.69,
           -1.9099999999999966,
           -28.57,
           -7.290000000000006,
           -29.35,
           -33.849999999999994,
           -58.309999999999995,
           -24.990000000000002,
           -30.95,
           -11.639999999999993,
           -25.789999999999992
          ],
          "coloraxis": "coloraxis",
          "pattern": {
           "shape": ""
          }
         },
         "name": "",
         "offsetgroup": "",
         "orientation": "v",
         "showlegend": false,
         "textposition": "auto",
         "type": "bar",
         "x": [
          "Alachua",
          "Baker",
          "Bay",
          "Bradford",
          "Brevard",
          "Broward",
          "Calhoun",
          "Charlotte",
          "Citrus",
          "Clay",
          "Collier",
          "Columbia",
          "Desoto",
          "Dixie",
          "Duval",
          "Escambia",
          "Flagler",
          "Franklin",
          "Gadsden",
          "Gilchrist",
          "Glades",
          "Gulf",
          "Hamilton",
          "Hardee",
          "Hendry",
          "Hernando",
          "Highlands",
          "Hillsborough",
          "Holmes",
          "Indian River",
          "Jackson",
          "Jefferson",
          "Lafayette",
          "Lake",
          "Lee",
          "Leon",
          "Levy",
          "Liberty",
          "Madison",
          "Manatee",
          "Marion",
          "Martin",
          "Miami-Dade",
          "Monroe",
          "Nassau",
          "Okaloosa",
          "Okeechobee",
          "Orange",
          "Osceola",
          "Palm Beach",
          "Pasco",
          "Pinellas",
          "Polk",
          "Putnam",
          "Santa Rosa",
          "Sarasota",
          "Seminole",
          "St. Johns",
          "St. Lucie",
          "Sumter",
          "Suwannee",
          "Taylor",
          "Union",
          "Volusia",
          "Wakulla",
          "Walton",
          "Washington"
         ],
         "xaxis": "x",
         "y": [
          -1.4299999999999997,
          -33.769999999999996,
          -8.450000000000003,
          -29.03,
          -16.689999999999998,
          -23.059999999999995,
          -37.379999999999995,
          -29.069999999999997,
          -33.86,
          -1.1799999999999997,
          -8.549999999999997,
          -27.56,
          -47.9,
          -44.00000000000001,
          0.9399999999999995,
          -2.039999999999999,
          -23.54,
          -27.509999999999998,
          -18.67,
          -29.379999999999995,
          -36.41,
          -21.25,
          -38.150000000000006,
          -38.29,
          -32.67999999999999,
          -37.33,
          -24.640000000000004,
          -11.91,
          -27.049999999999997,
          -13.71,
          -32.480000000000004,
          -28.66,
          -42.93,
          -15.77,
          -17.82,
          -10.700000000000001,
          -25.700000000000003,
          -46.489999999999995,
          -32.24,
          -19.57,
          -22.480000000000004,
          -23.42,
          -30.41,
          -25.3,
          -5.159999999999997,
          2.289999999999999,
          -42.13,
          -4.83,
          -15.53,
          -23.49,
          -30.56,
          -21.09,
          -19.82,
          -23.89,
          -4.949999999999996,
          -19.2,
          -4.69,
          -1.9099999999999966,
          -28.57,
          -7.290000000000006,
          -29.35,
          -33.849999999999994,
          -58.309999999999995,
          -24.990000000000002,
          -30.95,
          -11.639999999999993,
          -25.789999999999992
         ],
         "yaxis": "y"
        }
       ],
       "layout": {
        "barmode": "relative",
        "coloraxis": {
         "cmid": 0,
         "colorbar": {
          "title": {
           "text": "Change in Vote Share (%)"
          }
         },
         "colorscale": [
          [
           0,
           "rgb(255,0,0)"
          ],
          [
           1,
           "rgb(0,0,255)"
          ]
         ]
        },
        "legend": {
         "tracegroupgap": 0
        },
        "template": {
         "data": {
          "bar": [
           {
            "error_x": {
             "color": "#2a3f5f"
            },
            "error_y": {
             "color": "#2a3f5f"
            },
            "marker": {
             "line": {
              "color": "#E5ECF6",
              "width": 0.5
             },
             "pattern": {
              "fillmode": "overlay",
              "size": 10,
              "solidity": 0.2
             }
            },
            "type": "bar"
           }
          ],
          "barpolar": [
           {
            "marker": {
             "line": {
              "color": "#E5ECF6",
              "width": 0.5
             },
             "pattern": {
              "fillmode": "overlay",
              "size": 10,
              "solidity": 0.2
             }
            },
            "type": "barpolar"
           }
          ],
          "carpet": [
           {
            "aaxis": {
             "endlinecolor": "#2a3f5f",
             "gridcolor": "white",
             "linecolor": "white",
             "minorgridcolor": "white",
             "startlinecolor": "#2a3f5f"
            },
            "baxis": {
             "endlinecolor": "#2a3f5f",
             "gridcolor": "white",
             "linecolor": "white",
             "minorgridcolor": "white",
             "startlinecolor": "#2a3f5f"
            },
            "type": "carpet"
           }
          ],
          "choropleth": [
           {
            "colorbar": {
             "outlinewidth": 0,
             "ticks": ""
            },
            "type": "choropleth"
           }
          ],
          "contour": [
           {
            "colorbar": {
             "outlinewidth": 0,
             "ticks": ""
            },
            "colorscale": [
             [
              0,
              "#0d0887"
             ],
             [
              0.1111111111111111,
              "#46039f"
             ],
             [
              0.2222222222222222,
              "#7201a8"
             ],
             [
              0.3333333333333333,
              "#9c179e"
             ],
             [
              0.4444444444444444,
              "#bd3786"
             ],
             [
              0.5555555555555556,
              "#d8576b"
             ],
             [
              0.6666666666666666,
              "#ed7953"
             ],
             [
              0.7777777777777778,
              "#fb9f3a"
             ],
             [
              0.8888888888888888,
              "#fdca26"
             ],
             [
              1,
              "#f0f921"
             ]
            ],
            "type": "contour"
           }
          ],
          "contourcarpet": [
           {
            "colorbar": {
             "outlinewidth": 0,
             "ticks": ""
            },
            "type": "contourcarpet"
           }
          ],
          "heatmap": [
           {
            "colorbar": {
             "outlinewidth": 0,
             "ticks": ""
            },
            "colorscale": [
             [
              0,
              "#0d0887"
             ],
             [
              0.1111111111111111,
              "#46039f"
             ],
             [
              0.2222222222222222,
              "#7201a8"
             ],
             [
              0.3333333333333333,
              "#9c179e"
             ],
             [
              0.4444444444444444,
              "#bd3786"
             ],
             [
              0.5555555555555556,
              "#d8576b"
             ],
             [
              0.6666666666666666,
              "#ed7953"
             ],
             [
              0.7777777777777778,
              "#fb9f3a"
             ],
             [
              0.8888888888888888,
              "#fdca26"
             ],
             [
              1,
              "#f0f921"
             ]
            ],
            "type": "heatmap"
           }
          ],
          "heatmapgl": [
           {
            "colorbar": {
             "outlinewidth": 0,
             "ticks": ""
            },
            "colorscale": [
             [
              0,
              "#0d0887"
             ],
             [
              0.1111111111111111,
              "#46039f"
             ],
             [
              0.2222222222222222,
              "#7201a8"
             ],
             [
              0.3333333333333333,
              "#9c179e"
             ],
             [
              0.4444444444444444,
              "#bd3786"
             ],
             [
              0.5555555555555556,
              "#d8576b"
             ],
             [
              0.6666666666666666,
              "#ed7953"
             ],
             [
              0.7777777777777778,
              "#fb9f3a"
             ],
             [
              0.8888888888888888,
              "#fdca26"
             ],
             [
              1,
              "#f0f921"
             ]
            ],
            "type": "heatmapgl"
           }
          ],
          "histogram": [
           {
            "marker": {
             "pattern": {
              "fillmode": "overlay",
              "size": 10,
              "solidity": 0.2
             }
            },
            "type": "histogram"
           }
          ],
          "histogram2d": [
           {
            "colorbar": {
             "outlinewidth": 0,
             "ticks": ""
            },
            "colorscale": [
             [
              0,
              "#0d0887"
             ],
             [
              0.1111111111111111,
              "#46039f"
             ],
             [
              0.2222222222222222,
              "#7201a8"
             ],
             [
              0.3333333333333333,
              "#9c179e"
             ],
             [
              0.4444444444444444,
              "#bd3786"
             ],
             [
              0.5555555555555556,
              "#d8576b"
             ],
             [
              0.6666666666666666,
              "#ed7953"
             ],
             [
              0.7777777777777778,
              "#fb9f3a"
             ],
             [
              0.8888888888888888,
              "#fdca26"
             ],
             [
              1,
              "#f0f921"
             ]
            ],
            "type": "histogram2d"
           }
          ],
          "histogram2dcontour": [
           {
            "colorbar": {
             "outlinewidth": 0,
             "ticks": ""
            },
            "colorscale": [
             [
              0,
              "#0d0887"
             ],
             [
              0.1111111111111111,
              "#46039f"
             ],
             [
              0.2222222222222222,
              "#7201a8"
             ],
             [
              0.3333333333333333,
              "#9c179e"
             ],
             [
              0.4444444444444444,
              "#bd3786"
             ],
             [
              0.5555555555555556,
              "#d8576b"
             ],
             [
              0.6666666666666666,
              "#ed7953"
             ],
             [
              0.7777777777777778,
              "#fb9f3a"
             ],
             [
              0.8888888888888888,
              "#fdca26"
             ],
             [
              1,
              "#f0f921"
             ]
            ],
            "type": "histogram2dcontour"
           }
          ],
          "mesh3d": [
           {
            "colorbar": {
             "outlinewidth": 0,
             "ticks": ""
            },
            "type": "mesh3d"
           }
          ],
          "parcoords": [
           {
            "line": {
             "colorbar": {
              "outlinewidth": 0,
              "ticks": ""
             }
            },
            "type": "parcoords"
           }
          ],
          "pie": [
           {
            "automargin": true,
            "type": "pie"
           }
          ],
          "scatter": [
           {
            "fillpattern": {
             "fillmode": "overlay",
             "size": 10,
             "solidity": 0.2
            },
            "type": "scatter"
           }
          ],
          "scatter3d": [
           {
            "line": {
             "colorbar": {
              "outlinewidth": 0,
              "ticks": ""
             }
            },
            "marker": {
             "colorbar": {
              "outlinewidth": 0,
              "ticks": ""
             }
            },
            "type": "scatter3d"
           }
          ],
          "scattercarpet": [
           {
            "marker": {
             "colorbar": {
              "outlinewidth": 0,
              "ticks": ""
             }
            },
            "type": "scattercarpet"
           }
          ],
          "scattergeo": [
           {
            "marker": {
             "colorbar": {
              "outlinewidth": 0,
              "ticks": ""
             }
            },
            "type": "scattergeo"
           }
          ],
          "scattergl": [
           {
            "marker": {
             "colorbar": {
              "outlinewidth": 0,
              "ticks": ""
             }
            },
            "type": "scattergl"
           }
          ],
          "scattermapbox": [
           {
            "marker": {
             "colorbar": {
              "outlinewidth": 0,
              "ticks": ""
             }
            },
            "type": "scattermapbox"
           }
          ],
          "scatterpolar": [
           {
            "marker": {
             "colorbar": {
              "outlinewidth": 0,
              "ticks": ""
             }
            },
            "type": "scatterpolar"
           }
          ],
          "scatterpolargl": [
           {
            "marker": {
             "colorbar": {
              "outlinewidth": 0,
              "ticks": ""
             }
            },
            "type": "scatterpolargl"
           }
          ],
          "scatterternary": [
           {
            "marker": {
             "colorbar": {
              "outlinewidth": 0,
              "ticks": ""
             }
            },
            "type": "scatterternary"
           }
          ],
          "surface": [
           {
            "colorbar": {
             "outlinewidth": 0,
             "ticks": ""
            },
            "colorscale": [
             [
              0,
              "#0d0887"
             ],
             [
              0.1111111111111111,
              "#46039f"
             ],
             [
              0.2222222222222222,
              "#7201a8"
             ],
             [
              0.3333333333333333,
              "#9c179e"
             ],
             [
              0.4444444444444444,
              "#bd3786"
             ],
             [
              0.5555555555555556,
              "#d8576b"
             ],
             [
              0.6666666666666666,
              "#ed7953"
             ],
             [
              0.7777777777777778,
              "#fb9f3a"
             ],
             [
              0.8888888888888888,
              "#fdca26"
             ],
             [
              1,
              "#f0f921"
             ]
            ],
            "type": "surface"
           }
          ],
          "table": [
           {
            "cells": {
             "fill": {
              "color": "#EBF0F8"
             },
             "line": {
              "color": "white"
             }
            },
            "header": {
             "fill": {
              "color": "#C8D4E3"
             },
             "line": {
              "color": "white"
             }
            },
            "type": "table"
           }
          ]
         },
         "layout": {
          "annotationdefaults": {
           "arrowcolor": "#2a3f5f",
           "arrowhead": 0,
           "arrowwidth": 1
          },
          "autotypenumbers": "strict",
          "coloraxis": {
           "colorbar": {
            "outlinewidth": 0,
            "ticks": ""
           }
          },
          "colorscale": {
           "diverging": [
            [
             0,
             "#8e0152"
            ],
            [
             0.1,
             "#c51b7d"
            ],
            [
             0.2,
             "#de77ae"
            ],
            [
             0.3,
             "#f1b6da"
            ],
            [
             0.4,
             "#fde0ef"
            ],
            [
             0.5,
             "#f7f7f7"
            ],
            [
             0.6,
             "#e6f5d0"
            ],
            [
             0.7,
             "#b8e186"
            ],
            [
             0.8,
             "#7fbc41"
            ],
            [
             0.9,
             "#4d9221"
            ],
            [
             1,
             "#276419"
            ]
           ],
           "sequential": [
            [
             0,
             "#0d0887"
            ],
            [
             0.1111111111111111,
             "#46039f"
            ],
            [
             0.2222222222222222,
             "#7201a8"
            ],
            [
             0.3333333333333333,
             "#9c179e"
            ],
            [
             0.4444444444444444,
             "#bd3786"
            ],
            [
             0.5555555555555556,
             "#d8576b"
            ],
            [
             0.6666666666666666,
             "#ed7953"
            ],
            [
             0.7777777777777778,
             "#fb9f3a"
            ],
            [
             0.8888888888888888,
             "#fdca26"
            ],
            [
             1,
             "#f0f921"
            ]
           ],
           "sequentialminus": [
            [
             0,
             "#0d0887"
            ],
            [
             0.1111111111111111,
             "#46039f"
            ],
            [
             0.2222222222222222,
             "#7201a8"
            ],
            [
             0.3333333333333333,
             "#9c179e"
            ],
            [
             0.4444444444444444,
             "#bd3786"
            ],
            [
             0.5555555555555556,
             "#d8576b"
            ],
            [
             0.6666666666666666,
             "#ed7953"
            ],
            [
             0.7777777777777778,
             "#fb9f3a"
            ],
            [
             0.8888888888888888,
             "#fdca26"
            ],
            [
             1,
             "#f0f921"
            ]
           ]
          },
          "colorway": [
           "#636efa",
           "#EF553B",
           "#00cc96",
           "#ab63fa",
           "#FFA15A",
           "#19d3f3",
           "#FF6692",
           "#B6E880",
           "#FF97FF",
           "#FECB52"
          ],
          "font": {
           "color": "#2a3f5f"
          },
          "geo": {
           "bgcolor": "white",
           "lakecolor": "white",
           "landcolor": "#E5ECF6",
           "showlakes": true,
           "showland": true,
           "subunitcolor": "white"
          },
          "hoverlabel": {
           "align": "left"
          },
          "hovermode": "closest",
          "mapbox": {
           "style": "light"
          },
          "paper_bgcolor": "white",
          "plot_bgcolor": "#E5ECF6",
          "polar": {
           "angularaxis": {
            "gridcolor": "white",
            "linecolor": "white",
            "ticks": ""
           },
           "bgcolor": "#E5ECF6",
           "radialaxis": {
            "gridcolor": "white",
            "linecolor": "white",
            "ticks": ""
           }
          },
          "scene": {
           "xaxis": {
            "backgroundcolor": "#E5ECF6",
            "gridcolor": "white",
            "gridwidth": 2,
            "linecolor": "white",
            "showbackground": true,
            "ticks": "",
            "zerolinecolor": "white"
           },
           "yaxis": {
            "backgroundcolor": "#E5ECF6",
            "gridcolor": "white",
            "gridwidth": 2,
            "linecolor": "white",
            "showbackground": true,
            "ticks": "",
            "zerolinecolor": "white"
           },
           "zaxis": {
            "backgroundcolor": "#E5ECF6",
            "gridcolor": "white",
            "gridwidth": 2,
            "linecolor": "white",
            "showbackground": true,
            "ticks": "",
            "zerolinecolor": "white"
           }
          },
          "shapedefaults": {
           "line": {
            "color": "#2a3f5f"
           }
          },
          "ternary": {
           "aaxis": {
            "gridcolor": "white",
            "linecolor": "white",
            "ticks": ""
           },
           "baxis": {
            "gridcolor": "white",
            "linecolor": "white",
            "ticks": ""
           },
           "bgcolor": "#E5ECF6",
           "caxis": {
            "gridcolor": "white",
            "linecolor": "white",
            "ticks": ""
           }
          },
          "title": {
           "x": 0.05
          },
          "xaxis": {
           "automargin": true,
           "gridcolor": "white",
           "linecolor": "white",
           "ticks": "",
           "title": {
            "standoff": 15
           },
           "zerolinecolor": "white",
           "zerolinewidth": 2
          },
          "yaxis": {
           "automargin": true,
           "gridcolor": "white",
           "linecolor": "white",
           "ticks": "",
           "title": {
            "standoff": 15
           },
           "zerolinecolor": "white",
           "zerolinewidth": 2
          }
         }
        },
        "title": {
         "text": "Change in Vote Share in Midterm Elections (2014 to 2022)"
        },
        "xaxis": {
         "anchor": "y",
         "domain": [
          0,
          1
         ],
         "title": {
          "text": "County Name"
         }
        },
        "yaxis": {
         "anchor": "x",
         "domain": [
          0,
          1
         ],
         "title": {
          "text": "Change in Vote Share (%)"
         }
        }
       }
      }
     },
     "metadata": {},
     "output_type": "display_data"
    }
   ],
   "source": [
    "# Graph this data for all counties\n",
    "vote_share_by_year_county[\"2014_to_2022_diff\"] = vote_share_by_year_county[\"2014_to_2022_diff\"].astype(float)\n",
    " \n",
    "fig_bar = px.bar(vote_share_by_year_county, \n",
    "                             x=vote_share_by_year_county.index, \n",
    "                             y='2014_to_2022_diff', \n",
    "                             title='Change in Vote Share in Midterm Elections (2014 to 2022)',\n",
    "                             color='2014_to_2022_diff',\n",
    "                             color_continuous_scale=px.colors.sequential.Bluered_r,\n",
    "                             color_continuous_midpoint=0,\n",
    "                             labels={'2014_to_2022_diff' : 'Change in Vote Share (%)', 'county_name' : 'County Name'})\n",
    "fig_bar.show()"
   ]
  },
  {
   "cell_type": "markdown",
   "metadata": {},
   "source": [
    "The trends identified in the above analysis of presidential years are even stronger when looking at midterm years. Only two counties demonstrated a shift towards Democrats between 2014 and 2022 (Okaloosa with 2.2% and Duval with 0.9%). The counties with the strongest shift towards Republicans showed those shifts to be truly enormous -- for instance, Union shifted by 58.3%, DeSoto by 47.9%, and Liberty by 46.5%. Though in counties with relatively small vote totals, those percentage shifts are massive."
   ]
  },
  {
   "cell_type": "code",
   "execution_count": 254,
   "metadata": {},
   "outputs": [],
   "source": [
    "# Map 2014 to 2022 diff"
   ]
  },
  {
   "cell_type": "markdown",
   "metadata": {},
   "source": [
    "### QUESTION 1b: Which counties had the `largest change in net votes` between in presidential election years? What about midterm years?"
   ]
  },
  {
   "cell_type": "markdown",
   "metadata": {},
   "source": [
    "The above answer gives interesting information, but doesn't give a sense of scale. For instance, it is significant that a county like Union shifted 58 points towards Republicans during midterm years. However, it does not give a sense of magnitude. How many votes are actually represented by the 58 point shift?\n",
    "\n",
    "To that end, I'll repeat the steps used to answer Question 1 using the D_net_votes metric instead of the D_vote_margin metric. This should give us a better sense of proportionality for how meaningful these shifts are in terms of actual vote totals across the state."
   ]
  },
  {
   "cell_type": "code",
   "execution_count": 255,
   "metadata": {},
   "outputs": [
    {
     "data": {
      "text/html": [
       "<div>\n",
       "<style scoped>\n",
       "    .dataframe tbody tr th:only-of-type {\n",
       "        vertical-align: middle;\n",
       "    }\n",
       "\n",
       "    .dataframe tbody tr th {\n",
       "        vertical-align: top;\n",
       "    }\n",
       "\n",
       "    .dataframe thead th {\n",
       "        text-align: right;\n",
       "    }\n",
       "</style>\n",
       "<table border=\"1\" class=\"dataframe\">\n",
       "  <thead>\n",
       "    <tr style=\"text-align: right;\">\n",
       "      <th>elec_date</th>\n",
       "      <th>2012</th>\n",
       "      <th>2014</th>\n",
       "      <th>2016</th>\n",
       "      <th>2018</th>\n",
       "      <th>2020</th>\n",
       "      <th>2022</th>\n",
       "      <th>mean</th>\n",
       "      <th>variance</th>\n",
       "      <th>std</th>\n",
       "      <th>2012_to_2020_diff</th>\n",
       "      <th>2014_to_2022_diff</th>\n",
       "    </tr>\n",
       "    <tr>\n",
       "      <th>county_name</th>\n",
       "      <th></th>\n",
       "      <th></th>\n",
       "      <th></th>\n",
       "      <th></th>\n",
       "      <th></th>\n",
       "      <th></th>\n",
       "      <th></th>\n",
       "      <th></th>\n",
       "      <th></th>\n",
       "      <th></th>\n",
       "      <th></th>\n",
       "    </tr>\n",
       "  </thead>\n",
       "  <tbody>\n",
       "    <tr>\n",
       "      <th>Alachua</th>\n",
       "      <td>20902</td>\n",
       "      <td>12955</td>\n",
       "      <td>28986</td>\n",
       "      <td>31416</td>\n",
       "      <td>38732</td>\n",
       "      <td>14475</td>\n",
       "      <td>24577.67</td>\n",
       "      <td>1.034404e+08</td>\n",
       "      <td>10170.567</td>\n",
       "      <td>17830</td>\n",
       "      <td>1520</td>\n",
       "    </tr>\n",
       "    <tr>\n",
       "      <th>Baker</th>\n",
       "      <td>-6664</td>\n",
       "      <td>-3856</td>\n",
       "      <td>-8182</td>\n",
       "      <td>-6928</td>\n",
       "      <td>-9874</td>\n",
       "      <td>-8502</td>\n",
       "      <td>-7334.33</td>\n",
       "      <td>4.249029e+06</td>\n",
       "      <td>2061.317</td>\n",
       "      <td>-3210</td>\n",
       "      <td>-4646</td>\n",
       "    </tr>\n",
       "    <tr>\n",
       "      <th>Bay</th>\n",
       "      <td>-34825</td>\n",
       "      <td>-27966</td>\n",
       "      <td>-40397</td>\n",
       "      <td>-28952</td>\n",
       "      <td>-40483</td>\n",
       "      <td>-38499</td>\n",
       "      <td>-35187.00</td>\n",
       "      <td>3.146203e+07</td>\n",
       "      <td>5609.103</td>\n",
       "      <td>-5658</td>\n",
       "      <td>-10533</td>\n",
       "    </tr>\n",
       "    <tr>\n",
       "      <th>Bradford</th>\n",
       "      <td>-4894</td>\n",
       "      <td>-2931</td>\n",
       "      <td>-5989</td>\n",
       "      <td>-5027</td>\n",
       "      <td>-7174</td>\n",
       "      <td>-6494</td>\n",
       "      <td>-5418.17</td>\n",
       "      <td>2.235996e+06</td>\n",
       "      <td>1495.325</td>\n",
       "      <td>-2280</td>\n",
       "      <td>-3563</td>\n",
       "    </tr>\n",
       "    <tr>\n",
       "      <th>Brevard</th>\n",
       "      <td>-36307</td>\n",
       "      <td>-25602</td>\n",
       "      <td>-62169</td>\n",
       "      <td>-47292</td>\n",
       "      <td>-59334</td>\n",
       "      <td>-75431</td>\n",
       "      <td>-51022.50</td>\n",
       "      <td>3.331530e+08</td>\n",
       "      <td>18252.478</td>\n",
       "      <td>-23027</td>\n",
       "      <td>-49829</td>\n",
       "    </tr>\n",
       "    <tr>\n",
       "      <th>...</th>\n",
       "      <td>...</td>\n",
       "      <td>...</td>\n",
       "      <td>...</td>\n",
       "      <td>...</td>\n",
       "      <td>...</td>\n",
       "      <td>...</td>\n",
       "      <td>...</td>\n",
       "      <td>...</td>\n",
       "      <td>...</td>\n",
       "      <td>...</td>\n",
       "      <td>...</td>\n",
       "    </tr>\n",
       "    <tr>\n",
       "      <th>Union</th>\n",
       "      <td>-2641</td>\n",
       "      <td>-875</td>\n",
       "      <td>-3554</td>\n",
       "      <td>-2869</td>\n",
       "      <td>-4080</td>\n",
       "      <td>-3451</td>\n",
       "      <td>-2911.67</td>\n",
       "      <td>1.258313e+06</td>\n",
       "      <td>1121.746</td>\n",
       "      <td>-1439</td>\n",
       "      <td>-2576</td>\n",
       "    </tr>\n",
       "    <tr>\n",
       "      <th>Volusia</th>\n",
       "      <td>-2742</td>\n",
       "      <td>-6434</td>\n",
       "      <td>-33916</td>\n",
       "      <td>-24325</td>\n",
       "      <td>-43246</td>\n",
       "      <td>-64803</td>\n",
       "      <td>-29244.33</td>\n",
       "      <td>5.458349e+08</td>\n",
       "      <td>23363.111</td>\n",
       "      <td>-40504</td>\n",
       "      <td>-58369</td>\n",
       "    </tr>\n",
       "    <tr>\n",
       "      <th>Wakulla</th>\n",
       "      <td>-4115</td>\n",
       "      <td>-1884</td>\n",
       "      <td>-6164</td>\n",
       "      <td>-5608</td>\n",
       "      <td>-7523</td>\n",
       "      <td>-7113</td>\n",
       "      <td>-5401.17</td>\n",
       "      <td>4.416386e+06</td>\n",
       "      <td>2101.520</td>\n",
       "      <td>-3408</td>\n",
       "      <td>-5229</td>\n",
       "    </tr>\n",
       "    <tr>\n",
       "      <th>Walton</th>\n",
       "      <td>-14819</td>\n",
       "      <td>-10821</td>\n",
       "      <td>-18880</td>\n",
       "      <td>-15906</td>\n",
       "      <td>-22609</td>\n",
       "      <td>-22535</td>\n",
       "      <td>-17595.00</td>\n",
       "      <td>2.152820e+07</td>\n",
       "      <td>4639.849</td>\n",
       "      <td>-7790</td>\n",
       "      <td>-11714</td>\n",
       "    </tr>\n",
       "    <tr>\n",
       "      <th>Washington</th>\n",
       "      <td>-5218</td>\n",
       "      <td>-3759</td>\n",
       "      <td>-6373</td>\n",
       "      <td>-5152</td>\n",
       "      <td>-7529</td>\n",
       "      <td>-6501</td>\n",
       "      <td>-5755.33</td>\n",
       "      <td>1.744302e+06</td>\n",
       "      <td>1320.720</td>\n",
       "      <td>-2311</td>\n",
       "      <td>-2742</td>\n",
       "    </tr>\n",
       "  </tbody>\n",
       "</table>\n",
       "<p>67 rows × 11 columns</p>\n",
       "</div>"
      ],
      "text/plain": [
       "elec_date     2012   2014   2016   2018   2020   2022      mean      variance  \\\n",
       "county_name                                                                     \n",
       "Alachua      20902  12955  28986  31416  38732  14475  24577.67  1.034404e+08   \n",
       "Baker        -6664  -3856  -8182  -6928  -9874  -8502  -7334.33  4.249029e+06   \n",
       "Bay         -34825 -27966 -40397 -28952 -40483 -38499 -35187.00  3.146203e+07   \n",
       "Bradford     -4894  -2931  -5989  -5027  -7174  -6494  -5418.17  2.235996e+06   \n",
       "Brevard     -36307 -25602 -62169 -47292 -59334 -75431 -51022.50  3.331530e+08   \n",
       "...            ...    ...    ...    ...    ...    ...       ...           ...   \n",
       "Union        -2641   -875  -3554  -2869  -4080  -3451  -2911.67  1.258313e+06   \n",
       "Volusia      -2742  -6434 -33916 -24325 -43246 -64803 -29244.33  5.458349e+08   \n",
       "Wakulla      -4115  -1884  -6164  -5608  -7523  -7113  -5401.17  4.416386e+06   \n",
       "Walton      -14819 -10821 -18880 -15906 -22609 -22535 -17595.00  2.152820e+07   \n",
       "Washington   -5218  -3759  -6373  -5152  -7529  -6501  -5755.33  1.744302e+06   \n",
       "\n",
       "elec_date          std  2012_to_2020_diff  2014_to_2022_diff  \n",
       "county_name                                                   \n",
       "Alachua      10170.567              17830               1520  \n",
       "Baker         2061.317              -3210              -4646  \n",
       "Bay           5609.103              -5658             -10533  \n",
       "Bradford      1495.325              -2280              -3563  \n",
       "Brevard      18252.478             -23027             -49829  \n",
       "...                ...                ...                ...  \n",
       "Union         1121.746              -1439              -2576  \n",
       "Volusia      23363.111             -40504             -58369  \n",
       "Wakulla       2101.520              -3408              -5229  \n",
       "Walton        4639.849              -7790             -11714  \n",
       "Washington    1320.720              -2311              -2742  \n",
       "\n",
       "[67 rows x 11 columns]"
      ]
     },
     "execution_count": 255,
     "metadata": {},
     "output_type": "execute_result"
    }
   ],
   "source": [
    "net_votes_by_year_county['2012_to_2020_diff'] = net_votes_by_year_county['2020'] - net_votes_by_year_county['2012'] \n",
    "net_votes_by_year_county['2014_to_2022_diff'] = net_votes_by_year_county['2022'] - net_votes_by_year_county['2014'] \n",
    "net_votes_by_year_county"
   ]
  },
  {
   "cell_type": "code",
   "execution_count": 256,
   "metadata": {},
   "outputs": [
    {
     "data": {
      "text/plain": [
       "county_name\n",
       "Orange          64540\n",
       "Duval           33672\n",
       "Broward         21132\n",
       "Seminole        21036\n",
       "Alachua         17830\n",
       "Hillsborough    12688\n",
       "Leon            10988\n",
       "Escambia         4781\n",
       "Okaloosa         1197\n",
       "Gadsden          -452\n",
       "Name: 2012_to_2020_diff, dtype: int64"
      ]
     },
     "execution_count": 256,
     "metadata": {},
     "output_type": "execute_result"
    }
   ],
   "source": [
    "# Top 10 counties where Democrats gained the most net votes during presidential election years\n",
    "net_votes_by_year_county['2012_to_2020_diff'].sort_values(ascending=False).head(10)"
   ]
  },
  {
   "cell_type": "markdown",
   "metadata": {},
   "source": [
    "We can see that Democrats only increased their net number of votes from 2012 to 2020 in 9 counties -- Gadsden, the 10th county, shows a negative net vote total."
   ]
  },
  {
   "cell_type": "code",
   "execution_count": 257,
   "metadata": {},
   "outputs": [
    {
     "data": {
      "text/plain": [
       "county_name\n",
       "Miami-Dade   -123428\n",
       "Pasco         -46384\n",
       "Volusia       -40504\n",
       "Polk          -32582\n",
       "Lee           -31546\n",
       "Marion        -26756\n",
       "Hernando      -25785\n",
       "Pinellas      -24605\n",
       "Brevard       -23027\n",
       "Citrus        -22058\n",
       "Name: 2012_to_2020_diff, dtype: int64"
      ]
     },
     "execution_count": 257,
     "metadata": {},
     "output_type": "execute_result"
    }
   ],
   "source": [
    "# Top 10 counties where Democrats lost the most net votes during presidential election years\n",
    "net_votes_by_year_county['2012_to_2020_diff'].sort_values(ascending=True).head(10)"
   ]
  },
  {
   "cell_type": "code",
   "execution_count": 258,
   "metadata": {},
   "outputs": [],
   "source": [
    "# Map 2012_to_2020 net votes diff"
   ]
  },
  {
   "cell_type": "code",
   "execution_count": 259,
   "metadata": {},
   "outputs": [
    {
     "data": {
      "application/vnd.plotly.v1+json": {
       "config": {
        "plotlyServerURL": "https://plot.ly"
       },
       "data": [
        {
         "alignmentgroup": "True",
         "hovertemplate": "County Name=%{x}<br>Change in Net Votes=%{marker.color}<extra></extra>",
         "legendgroup": "",
         "marker": {
          "color": [
           17830,
           -3210,
           -5658,
           -2280,
           -23027,
           21132,
           -1363,
           -18880,
           -22058,
           -1900,
           -6507,
           -4955,
           -2641,
           -2140,
           33672,
           4781,
           -11120,
           -830,
           -452,
           -2163,
           -1656,
           -1147,
           -942,
           -1591,
           -2373,
           -25785,
           -8168,
           12688,
           -1501,
           -5070,
           -2646,
           -719,
           -637,
           -16510,
           -31546,
           10988,
           -4609,
           -793,
           -1531,
           -15697,
           -26756,
           -6199,
           -123428,
           -3965,
           -7324,
           1197,
           -4608,
           64540,
           -2830,
           -3392,
           -46384,
           -24605,
           -32582,
           -7328,
           -9355,
           -12875,
           21036,
           -3773,
           -12361,
           -12298,
           -4004,
           -1967,
           -1439,
           -40504,
           -3408,
           -7790,
           -2311
          ],
          "coloraxis": "coloraxis",
          "pattern": {
           "shape": ""
          }
         },
         "name": "",
         "offsetgroup": "",
         "orientation": "v",
         "showlegend": false,
         "textposition": "auto",
         "type": "bar",
         "x": [
          "Alachua",
          "Baker",
          "Bay",
          "Bradford",
          "Brevard",
          "Broward",
          "Calhoun",
          "Charlotte",
          "Citrus",
          "Clay",
          "Collier",
          "Columbia",
          "Desoto",
          "Dixie",
          "Duval",
          "Escambia",
          "Flagler",
          "Franklin",
          "Gadsden",
          "Gilchrist",
          "Glades",
          "Gulf",
          "Hamilton",
          "Hardee",
          "Hendry",
          "Hernando",
          "Highlands",
          "Hillsborough",
          "Holmes",
          "Indian River",
          "Jackson",
          "Jefferson",
          "Lafayette",
          "Lake",
          "Lee",
          "Leon",
          "Levy",
          "Liberty",
          "Madison",
          "Manatee",
          "Marion",
          "Martin",
          "Miami-Dade",
          "Monroe",
          "Nassau",
          "Okaloosa",
          "Okeechobee",
          "Orange",
          "Osceola",
          "Palm Beach",
          "Pasco",
          "Pinellas",
          "Polk",
          "Putnam",
          "Santa Rosa",
          "Sarasota",
          "Seminole",
          "St. Johns",
          "St. Lucie",
          "Sumter",
          "Suwannee",
          "Taylor",
          "Union",
          "Volusia",
          "Wakulla",
          "Walton",
          "Washington"
         ],
         "xaxis": "x",
         "y": [
          17830,
          -3210,
          -5658,
          -2280,
          -23027,
          21132,
          -1363,
          -18880,
          -22058,
          -1900,
          -6507,
          -4955,
          -2641,
          -2140,
          33672,
          4781,
          -11120,
          -830,
          -452,
          -2163,
          -1656,
          -1147,
          -942,
          -1591,
          -2373,
          -25785,
          -8168,
          12688,
          -1501,
          -5070,
          -2646,
          -719,
          -637,
          -16510,
          -31546,
          10988,
          -4609,
          -793,
          -1531,
          -15697,
          -26756,
          -6199,
          -123428,
          -3965,
          -7324,
          1197,
          -4608,
          64540,
          -2830,
          -3392,
          -46384,
          -24605,
          -32582,
          -7328,
          -9355,
          -12875,
          21036,
          -3773,
          -12361,
          -12298,
          -4004,
          -1967,
          -1439,
          -40504,
          -3408,
          -7790,
          -2311
         ],
         "yaxis": "y"
        }
       ],
       "layout": {
        "barmode": "relative",
        "coloraxis": {
         "cmid": 0,
         "colorbar": {
          "title": {
           "text": "Change in Net Votes"
          }
         },
         "colorscale": [
          [
           0,
           "rgb(255,0,0)"
          ],
          [
           1,
           "rgb(0,0,255)"
          ]
         ]
        },
        "legend": {
         "tracegroupgap": 0
        },
        "template": {
         "data": {
          "bar": [
           {
            "error_x": {
             "color": "#2a3f5f"
            },
            "error_y": {
             "color": "#2a3f5f"
            },
            "marker": {
             "line": {
              "color": "#E5ECF6",
              "width": 0.5
             },
             "pattern": {
              "fillmode": "overlay",
              "size": 10,
              "solidity": 0.2
             }
            },
            "type": "bar"
           }
          ],
          "barpolar": [
           {
            "marker": {
             "line": {
              "color": "#E5ECF6",
              "width": 0.5
             },
             "pattern": {
              "fillmode": "overlay",
              "size": 10,
              "solidity": 0.2
             }
            },
            "type": "barpolar"
           }
          ],
          "carpet": [
           {
            "aaxis": {
             "endlinecolor": "#2a3f5f",
             "gridcolor": "white",
             "linecolor": "white",
             "minorgridcolor": "white",
             "startlinecolor": "#2a3f5f"
            },
            "baxis": {
             "endlinecolor": "#2a3f5f",
             "gridcolor": "white",
             "linecolor": "white",
             "minorgridcolor": "white",
             "startlinecolor": "#2a3f5f"
            },
            "type": "carpet"
           }
          ],
          "choropleth": [
           {
            "colorbar": {
             "outlinewidth": 0,
             "ticks": ""
            },
            "type": "choropleth"
           }
          ],
          "contour": [
           {
            "colorbar": {
             "outlinewidth": 0,
             "ticks": ""
            },
            "colorscale": [
             [
              0,
              "#0d0887"
             ],
             [
              0.1111111111111111,
              "#46039f"
             ],
             [
              0.2222222222222222,
              "#7201a8"
             ],
             [
              0.3333333333333333,
              "#9c179e"
             ],
             [
              0.4444444444444444,
              "#bd3786"
             ],
             [
              0.5555555555555556,
              "#d8576b"
             ],
             [
              0.6666666666666666,
              "#ed7953"
             ],
             [
              0.7777777777777778,
              "#fb9f3a"
             ],
             [
              0.8888888888888888,
              "#fdca26"
             ],
             [
              1,
              "#f0f921"
             ]
            ],
            "type": "contour"
           }
          ],
          "contourcarpet": [
           {
            "colorbar": {
             "outlinewidth": 0,
             "ticks": ""
            },
            "type": "contourcarpet"
           }
          ],
          "heatmap": [
           {
            "colorbar": {
             "outlinewidth": 0,
             "ticks": ""
            },
            "colorscale": [
             [
              0,
              "#0d0887"
             ],
             [
              0.1111111111111111,
              "#46039f"
             ],
             [
              0.2222222222222222,
              "#7201a8"
             ],
             [
              0.3333333333333333,
              "#9c179e"
             ],
             [
              0.4444444444444444,
              "#bd3786"
             ],
             [
              0.5555555555555556,
              "#d8576b"
             ],
             [
              0.6666666666666666,
              "#ed7953"
             ],
             [
              0.7777777777777778,
              "#fb9f3a"
             ],
             [
              0.8888888888888888,
              "#fdca26"
             ],
             [
              1,
              "#f0f921"
             ]
            ],
            "type": "heatmap"
           }
          ],
          "heatmapgl": [
           {
            "colorbar": {
             "outlinewidth": 0,
             "ticks": ""
            },
            "colorscale": [
             [
              0,
              "#0d0887"
             ],
             [
              0.1111111111111111,
              "#46039f"
             ],
             [
              0.2222222222222222,
              "#7201a8"
             ],
             [
              0.3333333333333333,
              "#9c179e"
             ],
             [
              0.4444444444444444,
              "#bd3786"
             ],
             [
              0.5555555555555556,
              "#d8576b"
             ],
             [
              0.6666666666666666,
              "#ed7953"
             ],
             [
              0.7777777777777778,
              "#fb9f3a"
             ],
             [
              0.8888888888888888,
              "#fdca26"
             ],
             [
              1,
              "#f0f921"
             ]
            ],
            "type": "heatmapgl"
           }
          ],
          "histogram": [
           {
            "marker": {
             "pattern": {
              "fillmode": "overlay",
              "size": 10,
              "solidity": 0.2
             }
            },
            "type": "histogram"
           }
          ],
          "histogram2d": [
           {
            "colorbar": {
             "outlinewidth": 0,
             "ticks": ""
            },
            "colorscale": [
             [
              0,
              "#0d0887"
             ],
             [
              0.1111111111111111,
              "#46039f"
             ],
             [
              0.2222222222222222,
              "#7201a8"
             ],
             [
              0.3333333333333333,
              "#9c179e"
             ],
             [
              0.4444444444444444,
              "#bd3786"
             ],
             [
              0.5555555555555556,
              "#d8576b"
             ],
             [
              0.6666666666666666,
              "#ed7953"
             ],
             [
              0.7777777777777778,
              "#fb9f3a"
             ],
             [
              0.8888888888888888,
              "#fdca26"
             ],
             [
              1,
              "#f0f921"
             ]
            ],
            "type": "histogram2d"
           }
          ],
          "histogram2dcontour": [
           {
            "colorbar": {
             "outlinewidth": 0,
             "ticks": ""
            },
            "colorscale": [
             [
              0,
              "#0d0887"
             ],
             [
              0.1111111111111111,
              "#46039f"
             ],
             [
              0.2222222222222222,
              "#7201a8"
             ],
             [
              0.3333333333333333,
              "#9c179e"
             ],
             [
              0.4444444444444444,
              "#bd3786"
             ],
             [
              0.5555555555555556,
              "#d8576b"
             ],
             [
              0.6666666666666666,
              "#ed7953"
             ],
             [
              0.7777777777777778,
              "#fb9f3a"
             ],
             [
              0.8888888888888888,
              "#fdca26"
             ],
             [
              1,
              "#f0f921"
             ]
            ],
            "type": "histogram2dcontour"
           }
          ],
          "mesh3d": [
           {
            "colorbar": {
             "outlinewidth": 0,
             "ticks": ""
            },
            "type": "mesh3d"
           }
          ],
          "parcoords": [
           {
            "line": {
             "colorbar": {
              "outlinewidth": 0,
              "ticks": ""
             }
            },
            "type": "parcoords"
           }
          ],
          "pie": [
           {
            "automargin": true,
            "type": "pie"
           }
          ],
          "scatter": [
           {
            "fillpattern": {
             "fillmode": "overlay",
             "size": 10,
             "solidity": 0.2
            },
            "type": "scatter"
           }
          ],
          "scatter3d": [
           {
            "line": {
             "colorbar": {
              "outlinewidth": 0,
              "ticks": ""
             }
            },
            "marker": {
             "colorbar": {
              "outlinewidth": 0,
              "ticks": ""
             }
            },
            "type": "scatter3d"
           }
          ],
          "scattercarpet": [
           {
            "marker": {
             "colorbar": {
              "outlinewidth": 0,
              "ticks": ""
             }
            },
            "type": "scattercarpet"
           }
          ],
          "scattergeo": [
           {
            "marker": {
             "colorbar": {
              "outlinewidth": 0,
              "ticks": ""
             }
            },
            "type": "scattergeo"
           }
          ],
          "scattergl": [
           {
            "marker": {
             "colorbar": {
              "outlinewidth": 0,
              "ticks": ""
             }
            },
            "type": "scattergl"
           }
          ],
          "scattermapbox": [
           {
            "marker": {
             "colorbar": {
              "outlinewidth": 0,
              "ticks": ""
             }
            },
            "type": "scattermapbox"
           }
          ],
          "scatterpolar": [
           {
            "marker": {
             "colorbar": {
              "outlinewidth": 0,
              "ticks": ""
             }
            },
            "type": "scatterpolar"
           }
          ],
          "scatterpolargl": [
           {
            "marker": {
             "colorbar": {
              "outlinewidth": 0,
              "ticks": ""
             }
            },
            "type": "scatterpolargl"
           }
          ],
          "scatterternary": [
           {
            "marker": {
             "colorbar": {
              "outlinewidth": 0,
              "ticks": ""
             }
            },
            "type": "scatterternary"
           }
          ],
          "surface": [
           {
            "colorbar": {
             "outlinewidth": 0,
             "ticks": ""
            },
            "colorscale": [
             [
              0,
              "#0d0887"
             ],
             [
              0.1111111111111111,
              "#46039f"
             ],
             [
              0.2222222222222222,
              "#7201a8"
             ],
             [
              0.3333333333333333,
              "#9c179e"
             ],
             [
              0.4444444444444444,
              "#bd3786"
             ],
             [
              0.5555555555555556,
              "#d8576b"
             ],
             [
              0.6666666666666666,
              "#ed7953"
             ],
             [
              0.7777777777777778,
              "#fb9f3a"
             ],
             [
              0.8888888888888888,
              "#fdca26"
             ],
             [
              1,
              "#f0f921"
             ]
            ],
            "type": "surface"
           }
          ],
          "table": [
           {
            "cells": {
             "fill": {
              "color": "#EBF0F8"
             },
             "line": {
              "color": "white"
             }
            },
            "header": {
             "fill": {
              "color": "#C8D4E3"
             },
             "line": {
              "color": "white"
             }
            },
            "type": "table"
           }
          ]
         },
         "layout": {
          "annotationdefaults": {
           "arrowcolor": "#2a3f5f",
           "arrowhead": 0,
           "arrowwidth": 1
          },
          "autotypenumbers": "strict",
          "coloraxis": {
           "colorbar": {
            "outlinewidth": 0,
            "ticks": ""
           }
          },
          "colorscale": {
           "diverging": [
            [
             0,
             "#8e0152"
            ],
            [
             0.1,
             "#c51b7d"
            ],
            [
             0.2,
             "#de77ae"
            ],
            [
             0.3,
             "#f1b6da"
            ],
            [
             0.4,
             "#fde0ef"
            ],
            [
             0.5,
             "#f7f7f7"
            ],
            [
             0.6,
             "#e6f5d0"
            ],
            [
             0.7,
             "#b8e186"
            ],
            [
             0.8,
             "#7fbc41"
            ],
            [
             0.9,
             "#4d9221"
            ],
            [
             1,
             "#276419"
            ]
           ],
           "sequential": [
            [
             0,
             "#0d0887"
            ],
            [
             0.1111111111111111,
             "#46039f"
            ],
            [
             0.2222222222222222,
             "#7201a8"
            ],
            [
             0.3333333333333333,
             "#9c179e"
            ],
            [
             0.4444444444444444,
             "#bd3786"
            ],
            [
             0.5555555555555556,
             "#d8576b"
            ],
            [
             0.6666666666666666,
             "#ed7953"
            ],
            [
             0.7777777777777778,
             "#fb9f3a"
            ],
            [
             0.8888888888888888,
             "#fdca26"
            ],
            [
             1,
             "#f0f921"
            ]
           ],
           "sequentialminus": [
            [
             0,
             "#0d0887"
            ],
            [
             0.1111111111111111,
             "#46039f"
            ],
            [
             0.2222222222222222,
             "#7201a8"
            ],
            [
             0.3333333333333333,
             "#9c179e"
            ],
            [
             0.4444444444444444,
             "#bd3786"
            ],
            [
             0.5555555555555556,
             "#d8576b"
            ],
            [
             0.6666666666666666,
             "#ed7953"
            ],
            [
             0.7777777777777778,
             "#fb9f3a"
            ],
            [
             0.8888888888888888,
             "#fdca26"
            ],
            [
             1,
             "#f0f921"
            ]
           ]
          },
          "colorway": [
           "#636efa",
           "#EF553B",
           "#00cc96",
           "#ab63fa",
           "#FFA15A",
           "#19d3f3",
           "#FF6692",
           "#B6E880",
           "#FF97FF",
           "#FECB52"
          ],
          "font": {
           "color": "#2a3f5f"
          },
          "geo": {
           "bgcolor": "white",
           "lakecolor": "white",
           "landcolor": "#E5ECF6",
           "showlakes": true,
           "showland": true,
           "subunitcolor": "white"
          },
          "hoverlabel": {
           "align": "left"
          },
          "hovermode": "closest",
          "mapbox": {
           "style": "light"
          },
          "paper_bgcolor": "white",
          "plot_bgcolor": "#E5ECF6",
          "polar": {
           "angularaxis": {
            "gridcolor": "white",
            "linecolor": "white",
            "ticks": ""
           },
           "bgcolor": "#E5ECF6",
           "radialaxis": {
            "gridcolor": "white",
            "linecolor": "white",
            "ticks": ""
           }
          },
          "scene": {
           "xaxis": {
            "backgroundcolor": "#E5ECF6",
            "gridcolor": "white",
            "gridwidth": 2,
            "linecolor": "white",
            "showbackground": true,
            "ticks": "",
            "zerolinecolor": "white"
           },
           "yaxis": {
            "backgroundcolor": "#E5ECF6",
            "gridcolor": "white",
            "gridwidth": 2,
            "linecolor": "white",
            "showbackground": true,
            "ticks": "",
            "zerolinecolor": "white"
           },
           "zaxis": {
            "backgroundcolor": "#E5ECF6",
            "gridcolor": "white",
            "gridwidth": 2,
            "linecolor": "white",
            "showbackground": true,
            "ticks": "",
            "zerolinecolor": "white"
           }
          },
          "shapedefaults": {
           "line": {
            "color": "#2a3f5f"
           }
          },
          "ternary": {
           "aaxis": {
            "gridcolor": "white",
            "linecolor": "white",
            "ticks": ""
           },
           "baxis": {
            "gridcolor": "white",
            "linecolor": "white",
            "ticks": ""
           },
           "bgcolor": "#E5ECF6",
           "caxis": {
            "gridcolor": "white",
            "linecolor": "white",
            "ticks": ""
           }
          },
          "title": {
           "x": 0.05
          },
          "xaxis": {
           "automargin": true,
           "gridcolor": "white",
           "linecolor": "white",
           "ticks": "",
           "title": {
            "standoff": 15
           },
           "zerolinecolor": "white",
           "zerolinewidth": 2
          },
          "yaxis": {
           "automargin": true,
           "gridcolor": "white",
           "linecolor": "white",
           "ticks": "",
           "title": {
            "standoff": 15
           },
           "zerolinecolor": "white",
           "zerolinewidth": 2
          }
         }
        },
        "title": {
         "text": "Change in Net Votes in Presidential Elections (2012 to 2020)"
        },
        "xaxis": {
         "anchor": "y",
         "domain": [
          0,
          1
         ],
         "title": {
          "text": "County Name"
         }
        },
        "yaxis": {
         "anchor": "x",
         "domain": [
          0,
          1
         ],
         "title": {
          "text": "Change in Net Votes"
         }
        }
       }
      }
     },
     "metadata": {},
     "output_type": "display_data"
    }
   ],
   "source": [
    "# Graph this data for all counties\n",
    "net_votes_by_year_county[\"2012_to_2020_diff\"] = net_votes_by_year_county[\"2012_to_2020_diff\"].astype(int)\n",
    " \n",
    "fig_bar = px.bar(net_votes_by_year_county, \n",
    "                             x=net_votes_by_year_county.index, \n",
    "                             y='2012_to_2020_diff', \n",
    "                             title='Change in Net Votes in Presidential Elections (2012 to 2020)',\n",
    "                             color='2012_to_2020_diff',\n",
    "                             color_continuous_scale=px.colors.sequential.Bluered_r,\n",
    "                             color_continuous_midpoint=0,\n",
    "                             labels={'2012_to_2020_diff' : 'Change in Net Votes', 'county_name' : 'County Name'})\n",
    "\n",
    "\n",
    "\n",
    "fig_bar.show()"
   ]
  },
  {
   "cell_type": "markdown",
   "metadata": {},
   "source": [
    "Unsurprisingly, Miami-Dade (123.4k net votes for Republicans) saw the biggest shift in net votes and by a wide margin -- almost three times as many net votes for Republicans than the next most significant county, Pasco (46.4k net votes for Republicans)."
   ]
  },
  {
   "cell_type": "code",
   "execution_count": 260,
   "metadata": {},
   "outputs": [
    {
     "data": {
      "text/plain": [
       "county_name\n",
       "Alachua      1520\n",
       "Liberty     -1202\n",
       "Lafayette   -1365\n",
       "Glades      -1597\n",
       "Hamilton    -1689\n",
       "Franklin    -1725\n",
       "Gulf        -1859\n",
       "Jefferson   -1985\n",
       "Calhoun     -2049\n",
       "Hardee      -2153\n",
       "Name: 2014_to_2022_diff, dtype: int64"
      ]
     },
     "execution_count": 260,
     "metadata": {},
     "output_type": "execute_result"
    }
   ],
   "source": [
    "# Top 10 counties where Democrats gained the most net votes during midterm election years\n",
    "net_votes_by_year_county['2014_to_2022_diff'].sort_values(ascending=False).head(10)"
   ]
  },
  {
   "cell_type": "code",
   "execution_count": 261,
   "metadata": {},
   "outputs": [
    {
     "data": {
      "text/plain": [
       "county_name\n",
       "Miami-Dade     -180264\n",
       "Palm Beach     -102103\n",
       "Broward         -88508\n",
       "Pinellas        -81380\n",
       "Pasco           -69882\n",
       "Lee             -62088\n",
       "Volusia         -58369\n",
       "Hillsborough    -54628\n",
       "Brevard         -49829\n",
       "Polk            -49315\n",
       "Name: 2014_to_2022_diff, dtype: int64"
      ]
     },
     "execution_count": 261,
     "metadata": {},
     "output_type": "execute_result"
    }
   ],
   "source": [
    "# Top 10 counties where Democrats lost the most net votes during midterm election years\n",
    "net_votes_by_year_county['2014_to_2022_diff'].sort_values(ascending=True).head(10)"
   ]
  },
  {
   "cell_type": "code",
   "execution_count": 262,
   "metadata": {},
   "outputs": [
    {
     "data": {
      "application/vnd.plotly.v1+json": {
       "config": {
        "plotlyServerURL": "https://plot.ly"
       },
       "data": [
        {
         "alignmentgroup": "True",
         "hovertemplate": "County Name=%{x}<br>Change in Net Votes=%{marker.color}<extra></extra>",
         "legendgroup": "",
         "marker": {
          "color": [
           1520,
           -4646,
           -10533,
           -3563,
           -49829,
           -88508,
           -2049,
           -30079,
           -28302,
           -11723,
           -31606,
           -8209,
           -4227,
           -2971,
           -4351,
           -7247,
           -16004,
           -1725,
           -3333,
           -3145,
           -1597,
           -1859,
           -1689,
           -2153,
           -2959,
           -30534,
           -11706,
           -54628,
           -2432,
           -16054,
           -5543,
           -1985,
           -1365,
           -33801,
           -62088,
           -10159,
           -6055,
           -1202,
           -2261,
           -38952,
           -41029,
           -20627,
           -180264,
           -8374,
           -10702,
           -9113,
           -4962,
           -7988,
           -12969,
           -102103,
           -69882,
           -81380,
           -49315,
           -7453,
           -15877,
           -43768,
           -11600,
           -24964,
           -31761,
           -20012,
           -6151,
           -2881,
           -2576,
           -58369,
           -5229,
           -11714,
           -2742
          ],
          "coloraxis": "coloraxis",
          "pattern": {
           "shape": ""
          }
         },
         "name": "",
         "offsetgroup": "",
         "orientation": "v",
         "showlegend": false,
         "textposition": "auto",
         "type": "bar",
         "x": [
          "Alachua",
          "Baker",
          "Bay",
          "Bradford",
          "Brevard",
          "Broward",
          "Calhoun",
          "Charlotte",
          "Citrus",
          "Clay",
          "Collier",
          "Columbia",
          "Desoto",
          "Dixie",
          "Duval",
          "Escambia",
          "Flagler",
          "Franklin",
          "Gadsden",
          "Gilchrist",
          "Glades",
          "Gulf",
          "Hamilton",
          "Hardee",
          "Hendry",
          "Hernando",
          "Highlands",
          "Hillsborough",
          "Holmes",
          "Indian River",
          "Jackson",
          "Jefferson",
          "Lafayette",
          "Lake",
          "Lee",
          "Leon",
          "Levy",
          "Liberty",
          "Madison",
          "Manatee",
          "Marion",
          "Martin",
          "Miami-Dade",
          "Monroe",
          "Nassau",
          "Okaloosa",
          "Okeechobee",
          "Orange",
          "Osceola",
          "Palm Beach",
          "Pasco",
          "Pinellas",
          "Polk",
          "Putnam",
          "Santa Rosa",
          "Sarasota",
          "Seminole",
          "St. Johns",
          "St. Lucie",
          "Sumter",
          "Suwannee",
          "Taylor",
          "Union",
          "Volusia",
          "Wakulla",
          "Walton",
          "Washington"
         ],
         "xaxis": "x",
         "y": [
          1520,
          -4646,
          -10533,
          -3563,
          -49829,
          -88508,
          -2049,
          -30079,
          -28302,
          -11723,
          -31606,
          -8209,
          -4227,
          -2971,
          -4351,
          -7247,
          -16004,
          -1725,
          -3333,
          -3145,
          -1597,
          -1859,
          -1689,
          -2153,
          -2959,
          -30534,
          -11706,
          -54628,
          -2432,
          -16054,
          -5543,
          -1985,
          -1365,
          -33801,
          -62088,
          -10159,
          -6055,
          -1202,
          -2261,
          -38952,
          -41029,
          -20627,
          -180264,
          -8374,
          -10702,
          -9113,
          -4962,
          -7988,
          -12969,
          -102103,
          -69882,
          -81380,
          -49315,
          -7453,
          -15877,
          -43768,
          -11600,
          -24964,
          -31761,
          -20012,
          -6151,
          -2881,
          -2576,
          -58369,
          -5229,
          -11714,
          -2742
         ],
         "yaxis": "y"
        }
       ],
       "layout": {
        "barmode": "relative",
        "coloraxis": {
         "cmid": 0,
         "colorbar": {
          "title": {
           "text": "Change in Net Votes"
          }
         },
         "colorscale": [
          [
           0,
           "rgb(255,0,0)"
          ],
          [
           1,
           "rgb(0,0,255)"
          ]
         ]
        },
        "legend": {
         "tracegroupgap": 0
        },
        "template": {
         "data": {
          "bar": [
           {
            "error_x": {
             "color": "#2a3f5f"
            },
            "error_y": {
             "color": "#2a3f5f"
            },
            "marker": {
             "line": {
              "color": "#E5ECF6",
              "width": 0.5
             },
             "pattern": {
              "fillmode": "overlay",
              "size": 10,
              "solidity": 0.2
             }
            },
            "type": "bar"
           }
          ],
          "barpolar": [
           {
            "marker": {
             "line": {
              "color": "#E5ECF6",
              "width": 0.5
             },
             "pattern": {
              "fillmode": "overlay",
              "size": 10,
              "solidity": 0.2
             }
            },
            "type": "barpolar"
           }
          ],
          "carpet": [
           {
            "aaxis": {
             "endlinecolor": "#2a3f5f",
             "gridcolor": "white",
             "linecolor": "white",
             "minorgridcolor": "white",
             "startlinecolor": "#2a3f5f"
            },
            "baxis": {
             "endlinecolor": "#2a3f5f",
             "gridcolor": "white",
             "linecolor": "white",
             "minorgridcolor": "white",
             "startlinecolor": "#2a3f5f"
            },
            "type": "carpet"
           }
          ],
          "choropleth": [
           {
            "colorbar": {
             "outlinewidth": 0,
             "ticks": ""
            },
            "type": "choropleth"
           }
          ],
          "contour": [
           {
            "colorbar": {
             "outlinewidth": 0,
             "ticks": ""
            },
            "colorscale": [
             [
              0,
              "#0d0887"
             ],
             [
              0.1111111111111111,
              "#46039f"
             ],
             [
              0.2222222222222222,
              "#7201a8"
             ],
             [
              0.3333333333333333,
              "#9c179e"
             ],
             [
              0.4444444444444444,
              "#bd3786"
             ],
             [
              0.5555555555555556,
              "#d8576b"
             ],
             [
              0.6666666666666666,
              "#ed7953"
             ],
             [
              0.7777777777777778,
              "#fb9f3a"
             ],
             [
              0.8888888888888888,
              "#fdca26"
             ],
             [
              1,
              "#f0f921"
             ]
            ],
            "type": "contour"
           }
          ],
          "contourcarpet": [
           {
            "colorbar": {
             "outlinewidth": 0,
             "ticks": ""
            },
            "type": "contourcarpet"
           }
          ],
          "heatmap": [
           {
            "colorbar": {
             "outlinewidth": 0,
             "ticks": ""
            },
            "colorscale": [
             [
              0,
              "#0d0887"
             ],
             [
              0.1111111111111111,
              "#46039f"
             ],
             [
              0.2222222222222222,
              "#7201a8"
             ],
             [
              0.3333333333333333,
              "#9c179e"
             ],
             [
              0.4444444444444444,
              "#bd3786"
             ],
             [
              0.5555555555555556,
              "#d8576b"
             ],
             [
              0.6666666666666666,
              "#ed7953"
             ],
             [
              0.7777777777777778,
              "#fb9f3a"
             ],
             [
              0.8888888888888888,
              "#fdca26"
             ],
             [
              1,
              "#f0f921"
             ]
            ],
            "type": "heatmap"
           }
          ],
          "heatmapgl": [
           {
            "colorbar": {
             "outlinewidth": 0,
             "ticks": ""
            },
            "colorscale": [
             [
              0,
              "#0d0887"
             ],
             [
              0.1111111111111111,
              "#46039f"
             ],
             [
              0.2222222222222222,
              "#7201a8"
             ],
             [
              0.3333333333333333,
              "#9c179e"
             ],
             [
              0.4444444444444444,
              "#bd3786"
             ],
             [
              0.5555555555555556,
              "#d8576b"
             ],
             [
              0.6666666666666666,
              "#ed7953"
             ],
             [
              0.7777777777777778,
              "#fb9f3a"
             ],
             [
              0.8888888888888888,
              "#fdca26"
             ],
             [
              1,
              "#f0f921"
             ]
            ],
            "type": "heatmapgl"
           }
          ],
          "histogram": [
           {
            "marker": {
             "pattern": {
              "fillmode": "overlay",
              "size": 10,
              "solidity": 0.2
             }
            },
            "type": "histogram"
           }
          ],
          "histogram2d": [
           {
            "colorbar": {
             "outlinewidth": 0,
             "ticks": ""
            },
            "colorscale": [
             [
              0,
              "#0d0887"
             ],
             [
              0.1111111111111111,
              "#46039f"
             ],
             [
              0.2222222222222222,
              "#7201a8"
             ],
             [
              0.3333333333333333,
              "#9c179e"
             ],
             [
              0.4444444444444444,
              "#bd3786"
             ],
             [
              0.5555555555555556,
              "#d8576b"
             ],
             [
              0.6666666666666666,
              "#ed7953"
             ],
             [
              0.7777777777777778,
              "#fb9f3a"
             ],
             [
              0.8888888888888888,
              "#fdca26"
             ],
             [
              1,
              "#f0f921"
             ]
            ],
            "type": "histogram2d"
           }
          ],
          "histogram2dcontour": [
           {
            "colorbar": {
             "outlinewidth": 0,
             "ticks": ""
            },
            "colorscale": [
             [
              0,
              "#0d0887"
             ],
             [
              0.1111111111111111,
              "#46039f"
             ],
             [
              0.2222222222222222,
              "#7201a8"
             ],
             [
              0.3333333333333333,
              "#9c179e"
             ],
             [
              0.4444444444444444,
              "#bd3786"
             ],
             [
              0.5555555555555556,
              "#d8576b"
             ],
             [
              0.6666666666666666,
              "#ed7953"
             ],
             [
              0.7777777777777778,
              "#fb9f3a"
             ],
             [
              0.8888888888888888,
              "#fdca26"
             ],
             [
              1,
              "#f0f921"
             ]
            ],
            "type": "histogram2dcontour"
           }
          ],
          "mesh3d": [
           {
            "colorbar": {
             "outlinewidth": 0,
             "ticks": ""
            },
            "type": "mesh3d"
           }
          ],
          "parcoords": [
           {
            "line": {
             "colorbar": {
              "outlinewidth": 0,
              "ticks": ""
             }
            },
            "type": "parcoords"
           }
          ],
          "pie": [
           {
            "automargin": true,
            "type": "pie"
           }
          ],
          "scatter": [
           {
            "fillpattern": {
             "fillmode": "overlay",
             "size": 10,
             "solidity": 0.2
            },
            "type": "scatter"
           }
          ],
          "scatter3d": [
           {
            "line": {
             "colorbar": {
              "outlinewidth": 0,
              "ticks": ""
             }
            },
            "marker": {
             "colorbar": {
              "outlinewidth": 0,
              "ticks": ""
             }
            },
            "type": "scatter3d"
           }
          ],
          "scattercarpet": [
           {
            "marker": {
             "colorbar": {
              "outlinewidth": 0,
              "ticks": ""
             }
            },
            "type": "scattercarpet"
           }
          ],
          "scattergeo": [
           {
            "marker": {
             "colorbar": {
              "outlinewidth": 0,
              "ticks": ""
             }
            },
            "type": "scattergeo"
           }
          ],
          "scattergl": [
           {
            "marker": {
             "colorbar": {
              "outlinewidth": 0,
              "ticks": ""
             }
            },
            "type": "scattergl"
           }
          ],
          "scattermapbox": [
           {
            "marker": {
             "colorbar": {
              "outlinewidth": 0,
              "ticks": ""
             }
            },
            "type": "scattermapbox"
           }
          ],
          "scatterpolar": [
           {
            "marker": {
             "colorbar": {
              "outlinewidth": 0,
              "ticks": ""
             }
            },
            "type": "scatterpolar"
           }
          ],
          "scatterpolargl": [
           {
            "marker": {
             "colorbar": {
              "outlinewidth": 0,
              "ticks": ""
             }
            },
            "type": "scatterpolargl"
           }
          ],
          "scatterternary": [
           {
            "marker": {
             "colorbar": {
              "outlinewidth": 0,
              "ticks": ""
             }
            },
            "type": "scatterternary"
           }
          ],
          "surface": [
           {
            "colorbar": {
             "outlinewidth": 0,
             "ticks": ""
            },
            "colorscale": [
             [
              0,
              "#0d0887"
             ],
             [
              0.1111111111111111,
              "#46039f"
             ],
             [
              0.2222222222222222,
              "#7201a8"
             ],
             [
              0.3333333333333333,
              "#9c179e"
             ],
             [
              0.4444444444444444,
              "#bd3786"
             ],
             [
              0.5555555555555556,
              "#d8576b"
             ],
             [
              0.6666666666666666,
              "#ed7953"
             ],
             [
              0.7777777777777778,
              "#fb9f3a"
             ],
             [
              0.8888888888888888,
              "#fdca26"
             ],
             [
              1,
              "#f0f921"
             ]
            ],
            "type": "surface"
           }
          ],
          "table": [
           {
            "cells": {
             "fill": {
              "color": "#EBF0F8"
             },
             "line": {
              "color": "white"
             }
            },
            "header": {
             "fill": {
              "color": "#C8D4E3"
             },
             "line": {
              "color": "white"
             }
            },
            "type": "table"
           }
          ]
         },
         "layout": {
          "annotationdefaults": {
           "arrowcolor": "#2a3f5f",
           "arrowhead": 0,
           "arrowwidth": 1
          },
          "autotypenumbers": "strict",
          "coloraxis": {
           "colorbar": {
            "outlinewidth": 0,
            "ticks": ""
           }
          },
          "colorscale": {
           "diverging": [
            [
             0,
             "#8e0152"
            ],
            [
             0.1,
             "#c51b7d"
            ],
            [
             0.2,
             "#de77ae"
            ],
            [
             0.3,
             "#f1b6da"
            ],
            [
             0.4,
             "#fde0ef"
            ],
            [
             0.5,
             "#f7f7f7"
            ],
            [
             0.6,
             "#e6f5d0"
            ],
            [
             0.7,
             "#b8e186"
            ],
            [
             0.8,
             "#7fbc41"
            ],
            [
             0.9,
             "#4d9221"
            ],
            [
             1,
             "#276419"
            ]
           ],
           "sequential": [
            [
             0,
             "#0d0887"
            ],
            [
             0.1111111111111111,
             "#46039f"
            ],
            [
             0.2222222222222222,
             "#7201a8"
            ],
            [
             0.3333333333333333,
             "#9c179e"
            ],
            [
             0.4444444444444444,
             "#bd3786"
            ],
            [
             0.5555555555555556,
             "#d8576b"
            ],
            [
             0.6666666666666666,
             "#ed7953"
            ],
            [
             0.7777777777777778,
             "#fb9f3a"
            ],
            [
             0.8888888888888888,
             "#fdca26"
            ],
            [
             1,
             "#f0f921"
            ]
           ],
           "sequentialminus": [
            [
             0,
             "#0d0887"
            ],
            [
             0.1111111111111111,
             "#46039f"
            ],
            [
             0.2222222222222222,
             "#7201a8"
            ],
            [
             0.3333333333333333,
             "#9c179e"
            ],
            [
             0.4444444444444444,
             "#bd3786"
            ],
            [
             0.5555555555555556,
             "#d8576b"
            ],
            [
             0.6666666666666666,
             "#ed7953"
            ],
            [
             0.7777777777777778,
             "#fb9f3a"
            ],
            [
             0.8888888888888888,
             "#fdca26"
            ],
            [
             1,
             "#f0f921"
            ]
           ]
          },
          "colorway": [
           "#636efa",
           "#EF553B",
           "#00cc96",
           "#ab63fa",
           "#FFA15A",
           "#19d3f3",
           "#FF6692",
           "#B6E880",
           "#FF97FF",
           "#FECB52"
          ],
          "font": {
           "color": "#2a3f5f"
          },
          "geo": {
           "bgcolor": "white",
           "lakecolor": "white",
           "landcolor": "#E5ECF6",
           "showlakes": true,
           "showland": true,
           "subunitcolor": "white"
          },
          "hoverlabel": {
           "align": "left"
          },
          "hovermode": "closest",
          "mapbox": {
           "style": "light"
          },
          "paper_bgcolor": "white",
          "plot_bgcolor": "#E5ECF6",
          "polar": {
           "angularaxis": {
            "gridcolor": "white",
            "linecolor": "white",
            "ticks": ""
           },
           "bgcolor": "#E5ECF6",
           "radialaxis": {
            "gridcolor": "white",
            "linecolor": "white",
            "ticks": ""
           }
          },
          "scene": {
           "xaxis": {
            "backgroundcolor": "#E5ECF6",
            "gridcolor": "white",
            "gridwidth": 2,
            "linecolor": "white",
            "showbackground": true,
            "ticks": "",
            "zerolinecolor": "white"
           },
           "yaxis": {
            "backgroundcolor": "#E5ECF6",
            "gridcolor": "white",
            "gridwidth": 2,
            "linecolor": "white",
            "showbackground": true,
            "ticks": "",
            "zerolinecolor": "white"
           },
           "zaxis": {
            "backgroundcolor": "#E5ECF6",
            "gridcolor": "white",
            "gridwidth": 2,
            "linecolor": "white",
            "showbackground": true,
            "ticks": "",
            "zerolinecolor": "white"
           }
          },
          "shapedefaults": {
           "line": {
            "color": "#2a3f5f"
           }
          },
          "ternary": {
           "aaxis": {
            "gridcolor": "white",
            "linecolor": "white",
            "ticks": ""
           },
           "baxis": {
            "gridcolor": "white",
            "linecolor": "white",
            "ticks": ""
           },
           "bgcolor": "#E5ECF6",
           "caxis": {
            "gridcolor": "white",
            "linecolor": "white",
            "ticks": ""
           }
          },
          "title": {
           "x": 0.05
          },
          "xaxis": {
           "automargin": true,
           "gridcolor": "white",
           "linecolor": "white",
           "ticks": "",
           "title": {
            "standoff": 15
           },
           "zerolinecolor": "white",
           "zerolinewidth": 2
          },
          "yaxis": {
           "automargin": true,
           "gridcolor": "white",
           "linecolor": "white",
           "ticks": "",
           "title": {
            "standoff": 15
           },
           "zerolinecolor": "white",
           "zerolinewidth": 2
          }
         }
        },
        "title": {
         "text": "Change in Net Votes in Midterm Elections (2014 to 2022)"
        },
        "xaxis": {
         "anchor": "y",
         "domain": [
          0,
          1
         ],
         "title": {
          "text": "County Name"
         }
        },
        "yaxis": {
         "anchor": "x",
         "domain": [
          0,
          1
         ],
         "title": {
          "text": "Change in Net Votes"
         }
        }
       }
      }
     },
     "metadata": {},
     "output_type": "display_data"
    }
   ],
   "source": [
    "# Graph this data for all counties\n",
    "net_votes_by_year_county[\"2014_to_2022_diff\"] = net_votes_by_year_county[\"2014_to_2022_diff\"].astype(int)\n",
    " \n",
    "fig_bar = px.bar(net_votes_by_year_county, \n",
    "                             x=net_votes_by_year_county.index, \n",
    "                             y='2014_to_2022_diff', \n",
    "                             title='Change in Net Votes in Midterm Elections (2014 to 2022)',\n",
    "                             color='2014_to_2022_diff',\n",
    "                             color_continuous_scale=px.colors.sequential.Bluered_r,\n",
    "                             color_continuous_midpoint=0,\n",
    "                             labels={'2014_to_2022_diff' : 'Change in Net Votes', 'county_name' : 'County Name'})\n",
    "\n",
    "\n",
    "\n",
    "fig_bar.show()"
   ]
  },
  {
   "cell_type": "markdown",
   "metadata": {},
   "source": [
    "The graph really speaks for itself.  The only county where Democrats have increased the net number of votes in the past decade is Alachua, and only by 1520 votes."
   ]
  },
  {
   "cell_type": "markdown",
   "metadata": {},
   "source": [
    "### QUESTION 2: Which counties were the `most stable for each major party`? Which were the `least stable`?\n",
    "\n",
    "The answer to this question would be the counties with the smallest variances. Let's grab the 10 smallest:"
   ]
  },
  {
   "cell_type": "code",
   "execution_count": 263,
   "metadata": {},
   "outputs": [
    {
     "data": {
      "text/plain": [
       "county_name\n",
       "Nassau           7.669590\n",
       "Sumter          17.109880\n",
       "Santa Rosa      18.892297\n",
       "Leon            21.569057\n",
       "Walton          24.864510\n",
       "Bay             27.735230\n",
       "Clay            27.881137\n",
       "Alachua         29.223720\n",
       "Indian River    29.668507\n",
       "St. Johns       31.189390\n",
       "Name: variance, dtype: float64"
      ]
     },
     "execution_count": 263,
     "metadata": {},
     "output_type": "execute_result"
    }
   ],
   "source": [
    "vote_share_by_year_county['variance'].sort_values(ascending=True).head(10)"
   ]
  },
  {
   "cell_type": "markdown",
   "metadata": {},
   "source": [
    "The only immediately identifiable trend I can see in this cohort is that they are concentrated in the northern part of the state. \n",
    "\n",
    "`For further investigation:`\n",
    "1. Map counties to more readily identify any regional trends in this cohort (are they on the periphery of an urban core? concentrated in the north or south?)\n",
    "2. Examine population to see if there are strong population trends in the cohort (are they smaller counties where a relatively small change in vote total causes a disproportionate change in vote margins?)\n",
    "3. Examine turnout rates (are these counties where turnout drops more radically in midterms? does that correlate with a radical change in vote share?)\n",
    "4. Examine whether changes in margins in these counties were in one direction or both directions (is the variance in vote share because of swings between R and D or from a strong shift toward one party?)"
   ]
  },
  {
   "cell_type": "code",
   "execution_count": 264,
   "metadata": {},
   "outputs": [
    {
     "data": {
      "text/plain": [
       "county_name\n",
       "Union         410.197657\n",
       "Liberty       270.087467\n",
       "Desoto        269.449507\n",
       "Okeechobee    252.030827\n",
       "Dixie         249.484097\n",
       "Glades        235.628840\n",
       "Lafayette     222.755587\n",
       "Hendry        221.779960\n",
       "Miami-Dade    217.224787\n",
       "Hernando      199.588667\n",
       "Name: variance, dtype: float64"
      ]
     },
     "execution_count": 264,
     "metadata": {},
     "output_type": "execute_result"
    }
   ],
   "source": [
    "vote_share_by_year_county['variance'].sort_values(ascending=False).head(10)"
   ]
  },
  {
   "cell_type": "markdown",
   "metadata": {},
   "source": [
    "This is really interesting. With the exception of Miami-Dade, these are small- to mid-sized counties that tend to be fairly red. There also doesn't appear to be a strong regional element; these counties are all across the state. \n",
    "\n",
    "The same questions for further investigation from above apply here as well."
   ]
  },
  {
   "cell_type": "markdown",
   "metadata": {},
   "source": [
    "### QUESTION 3: Which county or counties were `most consistent in predicting the outcome of the top-of-ticket race` in a given year?\n"
   ]
  },
  {
   "cell_type": "markdown",
   "metadata": {},
   "source": [
    "There are two ways to interpret this question. The first is a binary method, and would require determining which counties voted in the same direction as the entire state for each election year and then tallying the number of correct predictors (exe. if Alachua was won by Obama in 2012, then Scott in 2014, then Trump in 2016, then DeSantis in 2018, then Trump in 2020, then DeSantis in 2022, then they would have \"predicted\" 6 out of 6 of the elections we're looking at). The limitation of this method is that it doesn't give a sense of scale -- if DeSantis got 60% of the statewide vote in 2022 but only won Alachua with 52% of the vote, Alachua may have \"predicted\" the DeSantis victory but failed to predict the degree of the victory.\n",
    "\n",
    "The second is a correlational method. It would be to look at the correlations between the vote shares in each county and the statewide vote share in each election year. The county (or counties) whose vote shares most strongly correlate with the statewide vote shares could be considered the strongest \"predictor\" of the statewide outcomes. The limitation of this method is that a county's vote share correlating with the statewide vote share does not necessarily mean the outcomes were in the same in the county and statewide. For example, county could have voted very narrowly for one candidate (say, with 50.2% of the county vote total) but the same candidate narrowly lost the statewide vote (say, with 49.8% of the vote). These two numbers would show a strong correlation, even though the candidate that won the county did not end up winning the state.\n",
    "\n",
    "Below, we'll explore both the binary and correlational options methods."
   ]
  },
  {
   "cell_type": "markdown",
   "metadata": {},
   "source": [
    "`Binary Method:` The first thing we'll have to do for this method is go back to an earlier dataframe in the notebook and reformat the data to see which counties voted in the same way as the state overall in each of our election years."
   ]
  },
  {
   "cell_type": "code",
   "execution_count": 274,
   "metadata": {},
   "outputs": [
    {
     "data": {
      "text/html": [
       "<div>\n",
       "<style scoped>\n",
       "    .dataframe tbody tr th:only-of-type {\n",
       "        vertical-align: middle;\n",
       "    }\n",
       "\n",
       "    .dataframe tbody tr th {\n",
       "        vertical-align: top;\n",
       "    }\n",
       "\n",
       "    .dataframe thead th {\n",
       "        text-align: right;\n",
       "    }\n",
       "</style>\n",
       "<table border=\"1\" class=\"dataframe\">\n",
       "  <thead>\n",
       "    <tr style=\"text-align: right;\">\n",
       "      <th></th>\n",
       "      <th>elec_date</th>\n",
       "      <th>county_name</th>\n",
       "      <th>D_margin</th>\n",
       "      <th>county_winner</th>\n",
       "    </tr>\n",
       "  </thead>\n",
       "  <tbody>\n",
       "    <tr>\n",
       "      <th>0</th>\n",
       "      <td>2012</td>\n",
       "      <td>Alachua</td>\n",
       "      <td>17.31</td>\n",
       "      <td>DEM</td>\n",
       "    </tr>\n",
       "    <tr>\n",
       "      <th>1</th>\n",
       "      <td>2012</td>\n",
       "      <td>Baker</td>\n",
       "      <td>-58.52</td>\n",
       "      <td>REP</td>\n",
       "    </tr>\n",
       "    <tr>\n",
       "      <th>2</th>\n",
       "      <td>2012</td>\n",
       "      <td>Bay</td>\n",
       "      <td>-43.48</td>\n",
       "      <td>REP</td>\n",
       "    </tr>\n",
       "    <tr>\n",
       "      <th>3</th>\n",
       "      <td>2012</td>\n",
       "      <td>Bradford</td>\n",
       "      <td>-41.96</td>\n",
       "      <td>REP</td>\n",
       "    </tr>\n",
       "    <tr>\n",
       "      <th>4</th>\n",
       "      <td>2012</td>\n",
       "      <td>Brevard</td>\n",
       "      <td>-12.68</td>\n",
       "      <td>REP</td>\n",
       "    </tr>\n",
       "    <tr>\n",
       "      <th>...</th>\n",
       "      <td>...</td>\n",
       "      <td>...</td>\n",
       "      <td>...</td>\n",
       "      <td>...</td>\n",
       "    </tr>\n",
       "    <tr>\n",
       "      <th>397</th>\n",
       "      <td>2022</td>\n",
       "      <td>Union</td>\n",
       "      <td>-75.71</td>\n",
       "      <td>REP</td>\n",
       "    </tr>\n",
       "    <tr>\n",
       "      <th>398</th>\n",
       "      <td>2022</td>\n",
       "      <td>Volusia</td>\n",
       "      <td>-28.64</td>\n",
       "      <td>REP</td>\n",
       "    </tr>\n",
       "    <tr>\n",
       "      <th>399</th>\n",
       "      <td>2022</td>\n",
       "      <td>Wakulla</td>\n",
       "      <td>-47.22</td>\n",
       "      <td>REP</td>\n",
       "    </tr>\n",
       "    <tr>\n",
       "      <th>400</th>\n",
       "      <td>2022</td>\n",
       "      <td>Walton</td>\n",
       "      <td>-64.57</td>\n",
       "      <td>REP</td>\n",
       "    </tr>\n",
       "    <tr>\n",
       "      <th>401</th>\n",
       "      <td>2022</td>\n",
       "      <td>Washington</td>\n",
       "      <td>-71.24</td>\n",
       "      <td>REP</td>\n",
       "    </tr>\n",
       "  </tbody>\n",
       "</table>\n",
       "<p>402 rows × 4 columns</p>\n",
       "</div>"
      ],
      "text/plain": [
       "     elec_date county_name  D_margin county_winner\n",
       "0         2012     Alachua     17.31           DEM\n",
       "1         2012       Baker    -58.52           REP\n",
       "2         2012         Bay    -43.48           REP\n",
       "3         2012    Bradford    -41.96           REP\n",
       "4         2012     Brevard    -12.68           REP\n",
       "..         ...         ...       ...           ...\n",
       "397       2022       Union    -75.71           REP\n",
       "398       2022     Volusia    -28.64           REP\n",
       "399       2022     Wakulla    -47.22           REP\n",
       "400       2022      Walton    -64.57           REP\n",
       "401       2022  Washington    -71.24           REP\n",
       "\n",
       "[402 rows x 4 columns]"
      ]
     },
     "execution_count": 274,
     "metadata": {},
     "output_type": "execute_result"
    }
   ],
   "source": [
    "# Make a copy of df_grouped\n",
    "df_binary = D_margin_by_county.copy()\n",
    "\n",
    "# Add column county_winner containing which party won each county in each year\n",
    "df_binary['county_winner'] = np.where(df_binary.D_margin > 0, 'DEM', 'REP')\n",
    "\n",
    "df_binary"
   ]
  },
  {
   "cell_type": "code",
   "execution_count": 284,
   "metadata": {},
   "outputs": [
    {
     "data": {
      "text/html": [
       "<div>\n",
       "<style scoped>\n",
       "    .dataframe tbody tr th:only-of-type {\n",
       "        vertical-align: middle;\n",
       "    }\n",
       "\n",
       "    .dataframe tbody tr th {\n",
       "        vertical-align: top;\n",
       "    }\n",
       "\n",
       "    .dataframe thead th {\n",
       "        text-align: right;\n",
       "    }\n",
       "</style>\n",
       "<table border=\"1\" class=\"dataframe\">\n",
       "  <thead>\n",
       "    <tr style=\"text-align: right;\">\n",
       "      <th></th>\n",
       "      <th>elec_date</th>\n",
       "      <th>county_name</th>\n",
       "      <th>D_margin</th>\n",
       "      <th>county_winner</th>\n",
       "      <th>state_winner</th>\n",
       "      <th>prediction_success</th>\n",
       "    </tr>\n",
       "  </thead>\n",
       "  <tbody>\n",
       "    <tr>\n",
       "      <th>0</th>\n",
       "      <td>2012</td>\n",
       "      <td>Alachua</td>\n",
       "      <td>17.31</td>\n",
       "      <td>DEM</td>\n",
       "      <td>DEM</td>\n",
       "      <td>1</td>\n",
       "    </tr>\n",
       "    <tr>\n",
       "      <th>1</th>\n",
       "      <td>2012</td>\n",
       "      <td>Baker</td>\n",
       "      <td>-58.52</td>\n",
       "      <td>REP</td>\n",
       "      <td>DEM</td>\n",
       "      <td>0</td>\n",
       "    </tr>\n",
       "    <tr>\n",
       "      <th>2</th>\n",
       "      <td>2012</td>\n",
       "      <td>Bay</td>\n",
       "      <td>-43.48</td>\n",
       "      <td>REP</td>\n",
       "      <td>DEM</td>\n",
       "      <td>0</td>\n",
       "    </tr>\n",
       "    <tr>\n",
       "      <th>3</th>\n",
       "      <td>2012</td>\n",
       "      <td>Bradford</td>\n",
       "      <td>-41.96</td>\n",
       "      <td>REP</td>\n",
       "      <td>DEM</td>\n",
       "      <td>0</td>\n",
       "    </tr>\n",
       "    <tr>\n",
       "      <th>4</th>\n",
       "      <td>2012</td>\n",
       "      <td>Brevard</td>\n",
       "      <td>-12.68</td>\n",
       "      <td>REP</td>\n",
       "      <td>DEM</td>\n",
       "      <td>0</td>\n",
       "    </tr>\n",
       "    <tr>\n",
       "      <th>...</th>\n",
       "      <td>...</td>\n",
       "      <td>...</td>\n",
       "      <td>...</td>\n",
       "      <td>...</td>\n",
       "      <td>...</td>\n",
       "      <td>...</td>\n",
       "    </tr>\n",
       "    <tr>\n",
       "      <th>397</th>\n",
       "      <td>2022</td>\n",
       "      <td>Union</td>\n",
       "      <td>-75.71</td>\n",
       "      <td>REP</td>\n",
       "      <td>REP</td>\n",
       "      <td>1</td>\n",
       "    </tr>\n",
       "    <tr>\n",
       "      <th>398</th>\n",
       "      <td>2022</td>\n",
       "      <td>Volusia</td>\n",
       "      <td>-28.64</td>\n",
       "      <td>REP</td>\n",
       "      <td>REP</td>\n",
       "      <td>1</td>\n",
       "    </tr>\n",
       "    <tr>\n",
       "      <th>399</th>\n",
       "      <td>2022</td>\n",
       "      <td>Wakulla</td>\n",
       "      <td>-47.22</td>\n",
       "      <td>REP</td>\n",
       "      <td>REP</td>\n",
       "      <td>1</td>\n",
       "    </tr>\n",
       "    <tr>\n",
       "      <th>400</th>\n",
       "      <td>2022</td>\n",
       "      <td>Walton</td>\n",
       "      <td>-64.57</td>\n",
       "      <td>REP</td>\n",
       "      <td>REP</td>\n",
       "      <td>1</td>\n",
       "    </tr>\n",
       "    <tr>\n",
       "      <th>401</th>\n",
       "      <td>2022</td>\n",
       "      <td>Washington</td>\n",
       "      <td>-71.24</td>\n",
       "      <td>REP</td>\n",
       "      <td>REP</td>\n",
       "      <td>1</td>\n",
       "    </tr>\n",
       "  </tbody>\n",
       "</table>\n",
       "<p>402 rows × 6 columns</p>\n",
       "</div>"
      ],
      "text/plain": [
       "    elec_date county_name  D_margin county_winner state_winner  \\\n",
       "0        2012     Alachua     17.31           DEM          DEM   \n",
       "1        2012       Baker    -58.52           REP          DEM   \n",
       "2        2012         Bay    -43.48           REP          DEM   \n",
       "3        2012    Bradford    -41.96           REP          DEM   \n",
       "4        2012     Brevard    -12.68           REP          DEM   \n",
       "..        ...         ...       ...           ...          ...   \n",
       "397      2022       Union    -75.71           REP          REP   \n",
       "398      2022     Volusia    -28.64           REP          REP   \n",
       "399      2022     Wakulla    -47.22           REP          REP   \n",
       "400      2022      Walton    -64.57           REP          REP   \n",
       "401      2022  Washington    -71.24           REP          REP   \n",
       "\n",
       "     prediction_success  \n",
       "0                     1  \n",
       "1                     0  \n",
       "2                     0  \n",
       "3                     0  \n",
       "4                     0  \n",
       "..                  ...  \n",
       "397                   1  \n",
       "398                   1  \n",
       "399                   1  \n",
       "400                   1  \n",
       "401                   1  \n",
       "\n",
       "[402 rows x 6 columns]"
      ]
     },
     "execution_count": 284,
     "metadata": {},
     "output_type": "execute_result"
    }
   ],
   "source": [
    "# Recast the 'elec_date' column as string\n",
    "df_binary['elec_date'] = df_binary['elec_date'].astype(str)\n",
    "\n",
    "# Define function to label a new column with the winning party from each election year\n",
    "def label_state_winner(row):\n",
    "    if row['elec_date'] == '2012':\n",
    "        return 'DEM'\n",
    "    if row['elec_date'] == '2014':\n",
    "        return 'REP'\n",
    "    if row['elec_date'] == '2016':\n",
    "        return 'REP'\n",
    "    if row['elec_date'] == '2018':\n",
    "        return 'REP'\n",
    "    if row['elec_date'] == '2020':\n",
    "        return 'REP'\n",
    "    if row['elec_date'] == '2022':\n",
    "        return 'REP' \n",
    "    else:\n",
    "        return 'Error'\n",
    "\n",
    "# Apply function\n",
    "df_binary['state_winner'] = df_binary.apply(label_state_winner, axis=1)\n",
    "\n",
    "# Define function to return 1 if the county winner and state winner are the same or 0 if not\n",
    "def label_prediction_success(row):\n",
    "    if row['county_winner'] == row['state_winner']:\n",
    "        return 1\n",
    "    else:\n",
    "        return 0\n",
    "\n",
    "# Apply function    \n",
    "df_binary['prediction_success'] = df_binary.apply(label_prediction_success, axis=1)\n",
    "\n",
    "# Check output\n",
    "df_binary"
   ]
  },
  {
   "cell_type": "code",
   "execution_count": 292,
   "metadata": {},
   "outputs": [
    {
     "data": {
      "text/plain": [
       "county_name\n",
       "Lake          5\n",
       "Okeechobee    5\n",
       "Lafayette     5\n",
       "Baker         5\n",
       "Lee           5\n",
       "             ..\n",
       "Orange        1\n",
       "Gadsden       1\n",
       "Broward       1\n",
       "Leon          1\n",
       "Alachua       1\n",
       "Name: prediction_success, Length: 67, dtype: int64"
      ]
     },
     "execution_count": 292,
     "metadata": {},
     "output_type": "execute_result"
    }
   ],
   "source": [
    "df_county_successful_predictions = df_binary.groupby('county_name')['prediction_success'].sum().sort_values(ascending=False)\n",
    "df_county_successful_predictions"
   ]
  },
  {
   "cell_type": "code",
   "execution_count": 295,
   "metadata": {},
   "outputs": [
    {
     "data": {
      "application/vnd.plotly.v1+json": {
       "config": {
        "plotlyServerURL": "https://plot.ly"
       },
       "data": [
        {
         "alignmentgroup": "True",
         "bingroup": "x",
         "hovertemplate": "Prediction Successes=%{x}<br>count=%{y}<extra></extra>",
         "legendgroup": "",
         "marker": {
          "color": "#636efa",
          "pattern": {
           "shape": ""
          }
         },
         "name": "",
         "offsetgroup": "",
         "orientation": "v",
         "showlegend": false,
         "type": "histogram",
         "x": [
          5,
          5,
          5,
          5,
          5,
          5,
          5,
          5,
          5,
          5,
          5,
          5,
          5,
          5,
          5,
          5,
          5,
          5,
          5,
          5,
          5,
          5,
          5,
          5,
          5,
          5,
          5,
          5,
          5,
          5,
          5,
          5,
          5,
          5,
          5,
          5,
          5,
          5,
          5,
          5,
          5,
          5,
          5,
          5,
          5,
          5,
          5,
          5,
          5,
          5,
          5,
          5,
          5,
          5,
          4,
          3,
          3,
          3,
          2,
          2,
          2,
          2,
          1,
          1,
          1,
          1,
          1
         ],
         "xaxis": "x",
         "yaxis": "y"
        }
       ],
       "layout": {
        "barmode": "relative",
        "legend": {
         "tracegroupgap": 0
        },
        "template": {
         "data": {
          "bar": [
           {
            "error_x": {
             "color": "#2a3f5f"
            },
            "error_y": {
             "color": "#2a3f5f"
            },
            "marker": {
             "line": {
              "color": "#E5ECF6",
              "width": 0.5
             },
             "pattern": {
              "fillmode": "overlay",
              "size": 10,
              "solidity": 0.2
             }
            },
            "type": "bar"
           }
          ],
          "barpolar": [
           {
            "marker": {
             "line": {
              "color": "#E5ECF6",
              "width": 0.5
             },
             "pattern": {
              "fillmode": "overlay",
              "size": 10,
              "solidity": 0.2
             }
            },
            "type": "barpolar"
           }
          ],
          "carpet": [
           {
            "aaxis": {
             "endlinecolor": "#2a3f5f",
             "gridcolor": "white",
             "linecolor": "white",
             "minorgridcolor": "white",
             "startlinecolor": "#2a3f5f"
            },
            "baxis": {
             "endlinecolor": "#2a3f5f",
             "gridcolor": "white",
             "linecolor": "white",
             "minorgridcolor": "white",
             "startlinecolor": "#2a3f5f"
            },
            "type": "carpet"
           }
          ],
          "choropleth": [
           {
            "colorbar": {
             "outlinewidth": 0,
             "ticks": ""
            },
            "type": "choropleth"
           }
          ],
          "contour": [
           {
            "colorbar": {
             "outlinewidth": 0,
             "ticks": ""
            },
            "colorscale": [
             [
              0,
              "#0d0887"
             ],
             [
              0.1111111111111111,
              "#46039f"
             ],
             [
              0.2222222222222222,
              "#7201a8"
             ],
             [
              0.3333333333333333,
              "#9c179e"
             ],
             [
              0.4444444444444444,
              "#bd3786"
             ],
             [
              0.5555555555555556,
              "#d8576b"
             ],
             [
              0.6666666666666666,
              "#ed7953"
             ],
             [
              0.7777777777777778,
              "#fb9f3a"
             ],
             [
              0.8888888888888888,
              "#fdca26"
             ],
             [
              1,
              "#f0f921"
             ]
            ],
            "type": "contour"
           }
          ],
          "contourcarpet": [
           {
            "colorbar": {
             "outlinewidth": 0,
             "ticks": ""
            },
            "type": "contourcarpet"
           }
          ],
          "heatmap": [
           {
            "colorbar": {
             "outlinewidth": 0,
             "ticks": ""
            },
            "colorscale": [
             [
              0,
              "#0d0887"
             ],
             [
              0.1111111111111111,
              "#46039f"
             ],
             [
              0.2222222222222222,
              "#7201a8"
             ],
             [
              0.3333333333333333,
              "#9c179e"
             ],
             [
              0.4444444444444444,
              "#bd3786"
             ],
             [
              0.5555555555555556,
              "#d8576b"
             ],
             [
              0.6666666666666666,
              "#ed7953"
             ],
             [
              0.7777777777777778,
              "#fb9f3a"
             ],
             [
              0.8888888888888888,
              "#fdca26"
             ],
             [
              1,
              "#f0f921"
             ]
            ],
            "type": "heatmap"
           }
          ],
          "heatmapgl": [
           {
            "colorbar": {
             "outlinewidth": 0,
             "ticks": ""
            },
            "colorscale": [
             [
              0,
              "#0d0887"
             ],
             [
              0.1111111111111111,
              "#46039f"
             ],
             [
              0.2222222222222222,
              "#7201a8"
             ],
             [
              0.3333333333333333,
              "#9c179e"
             ],
             [
              0.4444444444444444,
              "#bd3786"
             ],
             [
              0.5555555555555556,
              "#d8576b"
             ],
             [
              0.6666666666666666,
              "#ed7953"
             ],
             [
              0.7777777777777778,
              "#fb9f3a"
             ],
             [
              0.8888888888888888,
              "#fdca26"
             ],
             [
              1,
              "#f0f921"
             ]
            ],
            "type": "heatmapgl"
           }
          ],
          "histogram": [
           {
            "marker": {
             "pattern": {
              "fillmode": "overlay",
              "size": 10,
              "solidity": 0.2
             }
            },
            "type": "histogram"
           }
          ],
          "histogram2d": [
           {
            "colorbar": {
             "outlinewidth": 0,
             "ticks": ""
            },
            "colorscale": [
             [
              0,
              "#0d0887"
             ],
             [
              0.1111111111111111,
              "#46039f"
             ],
             [
              0.2222222222222222,
              "#7201a8"
             ],
             [
              0.3333333333333333,
              "#9c179e"
             ],
             [
              0.4444444444444444,
              "#bd3786"
             ],
             [
              0.5555555555555556,
              "#d8576b"
             ],
             [
              0.6666666666666666,
              "#ed7953"
             ],
             [
              0.7777777777777778,
              "#fb9f3a"
             ],
             [
              0.8888888888888888,
              "#fdca26"
             ],
             [
              1,
              "#f0f921"
             ]
            ],
            "type": "histogram2d"
           }
          ],
          "histogram2dcontour": [
           {
            "colorbar": {
             "outlinewidth": 0,
             "ticks": ""
            },
            "colorscale": [
             [
              0,
              "#0d0887"
             ],
             [
              0.1111111111111111,
              "#46039f"
             ],
             [
              0.2222222222222222,
              "#7201a8"
             ],
             [
              0.3333333333333333,
              "#9c179e"
             ],
             [
              0.4444444444444444,
              "#bd3786"
             ],
             [
              0.5555555555555556,
              "#d8576b"
             ],
             [
              0.6666666666666666,
              "#ed7953"
             ],
             [
              0.7777777777777778,
              "#fb9f3a"
             ],
             [
              0.8888888888888888,
              "#fdca26"
             ],
             [
              1,
              "#f0f921"
             ]
            ],
            "type": "histogram2dcontour"
           }
          ],
          "mesh3d": [
           {
            "colorbar": {
             "outlinewidth": 0,
             "ticks": ""
            },
            "type": "mesh3d"
           }
          ],
          "parcoords": [
           {
            "line": {
             "colorbar": {
              "outlinewidth": 0,
              "ticks": ""
             }
            },
            "type": "parcoords"
           }
          ],
          "pie": [
           {
            "automargin": true,
            "type": "pie"
           }
          ],
          "scatter": [
           {
            "fillpattern": {
             "fillmode": "overlay",
             "size": 10,
             "solidity": 0.2
            },
            "type": "scatter"
           }
          ],
          "scatter3d": [
           {
            "line": {
             "colorbar": {
              "outlinewidth": 0,
              "ticks": ""
             }
            },
            "marker": {
             "colorbar": {
              "outlinewidth": 0,
              "ticks": ""
             }
            },
            "type": "scatter3d"
           }
          ],
          "scattercarpet": [
           {
            "marker": {
             "colorbar": {
              "outlinewidth": 0,
              "ticks": ""
             }
            },
            "type": "scattercarpet"
           }
          ],
          "scattergeo": [
           {
            "marker": {
             "colorbar": {
              "outlinewidth": 0,
              "ticks": ""
             }
            },
            "type": "scattergeo"
           }
          ],
          "scattergl": [
           {
            "marker": {
             "colorbar": {
              "outlinewidth": 0,
              "ticks": ""
             }
            },
            "type": "scattergl"
           }
          ],
          "scattermapbox": [
           {
            "marker": {
             "colorbar": {
              "outlinewidth": 0,
              "ticks": ""
             }
            },
            "type": "scattermapbox"
           }
          ],
          "scatterpolar": [
           {
            "marker": {
             "colorbar": {
              "outlinewidth": 0,
              "ticks": ""
             }
            },
            "type": "scatterpolar"
           }
          ],
          "scatterpolargl": [
           {
            "marker": {
             "colorbar": {
              "outlinewidth": 0,
              "ticks": ""
             }
            },
            "type": "scatterpolargl"
           }
          ],
          "scatterternary": [
           {
            "marker": {
             "colorbar": {
              "outlinewidth": 0,
              "ticks": ""
             }
            },
            "type": "scatterternary"
           }
          ],
          "surface": [
           {
            "colorbar": {
             "outlinewidth": 0,
             "ticks": ""
            },
            "colorscale": [
             [
              0,
              "#0d0887"
             ],
             [
              0.1111111111111111,
              "#46039f"
             ],
             [
              0.2222222222222222,
              "#7201a8"
             ],
             [
              0.3333333333333333,
              "#9c179e"
             ],
             [
              0.4444444444444444,
              "#bd3786"
             ],
             [
              0.5555555555555556,
              "#d8576b"
             ],
             [
              0.6666666666666666,
              "#ed7953"
             ],
             [
              0.7777777777777778,
              "#fb9f3a"
             ],
             [
              0.8888888888888888,
              "#fdca26"
             ],
             [
              1,
              "#f0f921"
             ]
            ],
            "type": "surface"
           }
          ],
          "table": [
           {
            "cells": {
             "fill": {
              "color": "#EBF0F8"
             },
             "line": {
              "color": "white"
             }
            },
            "header": {
             "fill": {
              "color": "#C8D4E3"
             },
             "line": {
              "color": "white"
             }
            },
            "type": "table"
           }
          ]
         },
         "layout": {
          "annotationdefaults": {
           "arrowcolor": "#2a3f5f",
           "arrowhead": 0,
           "arrowwidth": 1
          },
          "autotypenumbers": "strict",
          "coloraxis": {
           "colorbar": {
            "outlinewidth": 0,
            "ticks": ""
           }
          },
          "colorscale": {
           "diverging": [
            [
             0,
             "#8e0152"
            ],
            [
             0.1,
             "#c51b7d"
            ],
            [
             0.2,
             "#de77ae"
            ],
            [
             0.3,
             "#f1b6da"
            ],
            [
             0.4,
             "#fde0ef"
            ],
            [
             0.5,
             "#f7f7f7"
            ],
            [
             0.6,
             "#e6f5d0"
            ],
            [
             0.7,
             "#b8e186"
            ],
            [
             0.8,
             "#7fbc41"
            ],
            [
             0.9,
             "#4d9221"
            ],
            [
             1,
             "#276419"
            ]
           ],
           "sequential": [
            [
             0,
             "#0d0887"
            ],
            [
             0.1111111111111111,
             "#46039f"
            ],
            [
             0.2222222222222222,
             "#7201a8"
            ],
            [
             0.3333333333333333,
             "#9c179e"
            ],
            [
             0.4444444444444444,
             "#bd3786"
            ],
            [
             0.5555555555555556,
             "#d8576b"
            ],
            [
             0.6666666666666666,
             "#ed7953"
            ],
            [
             0.7777777777777778,
             "#fb9f3a"
            ],
            [
             0.8888888888888888,
             "#fdca26"
            ],
            [
             1,
             "#f0f921"
            ]
           ],
           "sequentialminus": [
            [
             0,
             "#0d0887"
            ],
            [
             0.1111111111111111,
             "#46039f"
            ],
            [
             0.2222222222222222,
             "#7201a8"
            ],
            [
             0.3333333333333333,
             "#9c179e"
            ],
            [
             0.4444444444444444,
             "#bd3786"
            ],
            [
             0.5555555555555556,
             "#d8576b"
            ],
            [
             0.6666666666666666,
             "#ed7953"
            ],
            [
             0.7777777777777778,
             "#fb9f3a"
            ],
            [
             0.8888888888888888,
             "#fdca26"
            ],
            [
             1,
             "#f0f921"
            ]
           ]
          },
          "colorway": [
           "#636efa",
           "#EF553B",
           "#00cc96",
           "#ab63fa",
           "#FFA15A",
           "#19d3f3",
           "#FF6692",
           "#B6E880",
           "#FF97FF",
           "#FECB52"
          ],
          "font": {
           "color": "#2a3f5f"
          },
          "geo": {
           "bgcolor": "white",
           "lakecolor": "white",
           "landcolor": "#E5ECF6",
           "showlakes": true,
           "showland": true,
           "subunitcolor": "white"
          },
          "hoverlabel": {
           "align": "left"
          },
          "hovermode": "closest",
          "mapbox": {
           "style": "light"
          },
          "paper_bgcolor": "white",
          "plot_bgcolor": "#E5ECF6",
          "polar": {
           "angularaxis": {
            "gridcolor": "white",
            "linecolor": "white",
            "ticks": ""
           },
           "bgcolor": "#E5ECF6",
           "radialaxis": {
            "gridcolor": "white",
            "linecolor": "white",
            "ticks": ""
           }
          },
          "scene": {
           "xaxis": {
            "backgroundcolor": "#E5ECF6",
            "gridcolor": "white",
            "gridwidth": 2,
            "linecolor": "white",
            "showbackground": true,
            "ticks": "",
            "zerolinecolor": "white"
           },
           "yaxis": {
            "backgroundcolor": "#E5ECF6",
            "gridcolor": "white",
            "gridwidth": 2,
            "linecolor": "white",
            "showbackground": true,
            "ticks": "",
            "zerolinecolor": "white"
           },
           "zaxis": {
            "backgroundcolor": "#E5ECF6",
            "gridcolor": "white",
            "gridwidth": 2,
            "linecolor": "white",
            "showbackground": true,
            "ticks": "",
            "zerolinecolor": "white"
           }
          },
          "shapedefaults": {
           "line": {
            "color": "#2a3f5f"
           }
          },
          "ternary": {
           "aaxis": {
            "gridcolor": "white",
            "linecolor": "white",
            "ticks": ""
           },
           "baxis": {
            "gridcolor": "white",
            "linecolor": "white",
            "ticks": ""
           },
           "bgcolor": "#E5ECF6",
           "caxis": {
            "gridcolor": "white",
            "linecolor": "white",
            "ticks": ""
           }
          },
          "title": {
           "x": 0.05
          },
          "xaxis": {
           "automargin": true,
           "gridcolor": "white",
           "linecolor": "white",
           "ticks": "",
           "title": {
            "standoff": 15
           },
           "zerolinecolor": "white",
           "zerolinewidth": 2
          },
          "yaxis": {
           "automargin": true,
           "gridcolor": "white",
           "linecolor": "white",
           "ticks": "",
           "title": {
            "standoff": 15
           },
           "zerolinecolor": "white",
           "zerolinewidth": 2
          }
         }
        },
        "title": {
         "text": "Successful Predictions"
        },
        "xaxis": {
         "anchor": "y",
         "domain": [
          0,
          1
         ],
         "title": {
          "text": "Prediction Successes"
         }
        },
        "yaxis": {
         "anchor": "x",
         "domain": [
          0,
          1
         ],
         "title": {
          "text": "count"
         }
        }
       }
      }
     },
     "metadata": {},
     "output_type": "display_data"
    }
   ],
   "source": [
    "fig_histogram = px.histogram(df_county_successful_predictions, \n",
    "                             x='prediction_success',\n",
    "                             title='Successful Predictions',\n",
    "                             labels={'prediction_success' : 'Prediction Successes', 'count' : 'Count of Counties'})\n",
    "fig_histogram.show()"
   ]
  },
  {
   "cell_type": "markdown",
   "metadata": {},
   "source": [
    "Looks like no county voted the same way as the state at large for all 6 of our elections in question, but 54 counties voted the same way as the state at large 5 out of 6 times. That's the overwhelming majority of the state's counties, so this method doesn't provide any particularly meaningful insights."
   ]
  },
  {
   "cell_type": "markdown",
   "metadata": {},
   "source": [
    "`Correlational Method:` Same as with the binary method, our first step is to find an earlier dataframe in the notebook that is close to the format we'll need and alter it to fit our needs."
   ]
  },
  {
   "cell_type": "code",
   "execution_count": 349,
   "metadata": {},
   "outputs": [
    {
     "data": {
      "text/html": [
       "<div>\n",
       "<style scoped>\n",
       "    .dataframe tbody tr th:only-of-type {\n",
       "        vertical-align: middle;\n",
       "    }\n",
       "\n",
       "    .dataframe tbody tr th {\n",
       "        vertical-align: top;\n",
       "    }\n",
       "\n",
       "    .dataframe thead th {\n",
       "        text-align: right;\n",
       "    }\n",
       "</style>\n",
       "<table border=\"1\" class=\"dataframe\">\n",
       "  <thead>\n",
       "    <tr style=\"text-align: right;\">\n",
       "      <th>county_name</th>\n",
       "      <th>Alachua</th>\n",
       "      <th>Baker</th>\n",
       "      <th>Bay</th>\n",
       "      <th>Bradford</th>\n",
       "      <th>Brevard</th>\n",
       "      <th>Broward</th>\n",
       "      <th>Calhoun</th>\n",
       "      <th>Charlotte</th>\n",
       "      <th>Citrus</th>\n",
       "      <th>Clay</th>\n",
       "      <th>...</th>\n",
       "      <th>St. Johns</th>\n",
       "      <th>St. Lucie</th>\n",
       "      <th>Sumter</th>\n",
       "      <th>Suwannee</th>\n",
       "      <th>Taylor</th>\n",
       "      <th>Union</th>\n",
       "      <th>Volusia</th>\n",
       "      <th>Wakulla</th>\n",
       "      <th>Walton</th>\n",
       "      <th>Washington</th>\n",
       "    </tr>\n",
       "    <tr>\n",
       "      <th>elec_date</th>\n",
       "      <th></th>\n",
       "      <th></th>\n",
       "      <th></th>\n",
       "      <th></th>\n",
       "      <th></th>\n",
       "      <th></th>\n",
       "      <th></th>\n",
       "      <th></th>\n",
       "      <th></th>\n",
       "      <th></th>\n",
       "      <th></th>\n",
       "      <th></th>\n",
       "      <th></th>\n",
       "      <th></th>\n",
       "      <th></th>\n",
       "      <th></th>\n",
       "      <th></th>\n",
       "      <th></th>\n",
       "      <th></th>\n",
       "      <th></th>\n",
       "      <th></th>\n",
       "    </tr>\n",
       "  </thead>\n",
       "  <tbody>\n",
       "    <tr>\n",
       "      <th>2012</th>\n",
       "      <td>17.31</td>\n",
       "      <td>-58.52</td>\n",
       "      <td>-43.48</td>\n",
       "      <td>-41.96</td>\n",
       "      <td>-12.68</td>\n",
       "      <td>34.93</td>\n",
       "      <td>-43.70</td>\n",
       "      <td>-14.24</td>\n",
       "      <td>-21.84</td>\n",
       "      <td>-45.72</td>\n",
       "      <td>...</td>\n",
       "      <td>-37.66</td>\n",
       "      <td>7.84</td>\n",
       "      <td>-34.89</td>\n",
       "      <td>-44.93</td>\n",
       "      <td>-38.13</td>\n",
       "      <td>-48.84</td>\n",
       "      <td>-1.17</td>\n",
       "      <td>-28.00</td>\n",
       "      <td>-51.85</td>\n",
       "      <td>-47.26</td>\n",
       "    </tr>\n",
       "    <tr>\n",
       "      <th>2014</th>\n",
       "      <td>16.52</td>\n",
       "      <td>-45.50</td>\n",
       "      <td>-48.93</td>\n",
       "      <td>-34.22</td>\n",
       "      <td>-11.51</td>\n",
       "      <td>38.44</td>\n",
       "      <td>-35.14</td>\n",
       "      <td>-12.30</td>\n",
       "      <td>-15.18</td>\n",
       "      <td>-48.87</td>\n",
       "      <td>...</td>\n",
       "      <td>-38.32</td>\n",
       "      <td>9.43</td>\n",
       "      <td>-39.41</td>\n",
       "      <td>-37.85</td>\n",
       "      <td>-32.17</td>\n",
       "      <td>-17.40</td>\n",
       "      <td>-3.65</td>\n",
       "      <td>-16.27</td>\n",
       "      <td>-52.93</td>\n",
       "      <td>-45.45</td>\n",
       "    </tr>\n",
       "    <tr>\n",
       "      <th>2016</th>\n",
       "      <td>22.28</td>\n",
       "      <td>-64.40</td>\n",
       "      <td>-45.79</td>\n",
       "      <td>-49.26</td>\n",
       "      <td>-19.54</td>\n",
       "      <td>34.91</td>\n",
       "      <td>-55.71</td>\n",
       "      <td>-27.55</td>\n",
       "      <td>-39.38</td>\n",
       "      <td>-43.93</td>\n",
       "      <td>...</td>\n",
       "      <td>-33.07</td>\n",
       "      <td>-2.40</td>\n",
       "      <td>-38.96</td>\n",
       "      <td>-54.95</td>\n",
       "      <td>-51.11</td>\n",
       "      <td>-62.11</td>\n",
       "      <td>-12.88</td>\n",
       "      <td>-39.91</td>\n",
       "      <td>-55.70</td>\n",
       "      <td>-56.85</td>\n",
       "    </tr>\n",
       "    <tr>\n",
       "      <th>2018</th>\n",
       "      <td>27.24</td>\n",
       "      <td>-65.69</td>\n",
       "      <td>-45.66</td>\n",
       "      <td>-47.82</td>\n",
       "      <td>-16.78</td>\n",
       "      <td>36.66</td>\n",
       "      <td>-57.54</td>\n",
       "      <td>-26.30</td>\n",
       "      <td>-37.39</td>\n",
       "      <td>-38.75</td>\n",
       "      <td>...</td>\n",
       "      <td>-28.57</td>\n",
       "      <td>3.72</td>\n",
       "      <td>-40.24</td>\n",
       "      <td>-55.19</td>\n",
       "      <td>-51.13</td>\n",
       "      <td>-58.86</td>\n",
       "      <td>-10.62</td>\n",
       "      <td>-39.38</td>\n",
       "      <td>-52.40</td>\n",
       "      <td>-56.87</td>\n",
       "    </tr>\n",
       "    <tr>\n",
       "      <th>2020</th>\n",
       "      <td>27.08</td>\n",
       "      <td>-70.12</td>\n",
       "      <td>-43.43</td>\n",
       "      <td>-52.56</td>\n",
       "      <td>-16.41</td>\n",
       "      <td>29.73</td>\n",
       "      <td>-62.18</td>\n",
       "      <td>-26.57</td>\n",
       "      <td>-40.97</td>\n",
       "      <td>-37.03</td>\n",
       "      <td>...</td>\n",
       "      <td>-26.60</td>\n",
       "      <td>-1.56</td>\n",
       "      <td>-36.08</td>\n",
       "      <td>-56.63</td>\n",
       "      <td>-53.78</td>\n",
       "      <td>-65.27</td>\n",
       "      <td>-14.04</td>\n",
       "      <td>-40.78</td>\n",
       "      <td>-51.62</td>\n",
       "      <td>-61.04</td>\n",
       "    </tr>\n",
       "    <tr>\n",
       "      <th>2022</th>\n",
       "      <td>15.09</td>\n",
       "      <td>-79.27</td>\n",
       "      <td>-57.38</td>\n",
       "      <td>-63.25</td>\n",
       "      <td>-28.20</td>\n",
       "      <td>15.38</td>\n",
       "      <td>-72.52</td>\n",
       "      <td>-41.37</td>\n",
       "      <td>-49.04</td>\n",
       "      <td>-50.05</td>\n",
       "      <td>...</td>\n",
       "      <td>-40.23</td>\n",
       "      <td>-19.14</td>\n",
       "      <td>-46.70</td>\n",
       "      <td>-67.20</td>\n",
       "      <td>-66.02</td>\n",
       "      <td>-75.71</td>\n",
       "      <td>-28.64</td>\n",
       "      <td>-47.22</td>\n",
       "      <td>-64.57</td>\n",
       "      <td>-71.24</td>\n",
       "    </tr>\n",
       "  </tbody>\n",
       "</table>\n",
       "<p>6 rows × 67 columns</p>\n",
       "</div>"
      ],
      "text/plain": [
       "county_name  Alachua  Baker    Bay  Bradford  Brevard  Broward  Calhoun  \\\n",
       "elec_date                                                                 \n",
       "2012           17.31 -58.52 -43.48    -41.96   -12.68    34.93   -43.70   \n",
       "2014           16.52 -45.50 -48.93    -34.22   -11.51    38.44   -35.14   \n",
       "2016           22.28 -64.40 -45.79    -49.26   -19.54    34.91   -55.71   \n",
       "2018           27.24 -65.69 -45.66    -47.82   -16.78    36.66   -57.54   \n",
       "2020           27.08 -70.12 -43.43    -52.56   -16.41    29.73   -62.18   \n",
       "2022           15.09 -79.27 -57.38    -63.25   -28.20    15.38   -72.52   \n",
       "\n",
       "county_name  Charlotte  Citrus   Clay  ...  St. Johns  St. Lucie  Sumter  \\\n",
       "elec_date                              ...                                 \n",
       "2012            -14.24  -21.84 -45.72  ...     -37.66       7.84  -34.89   \n",
       "2014            -12.30  -15.18 -48.87  ...     -38.32       9.43  -39.41   \n",
       "2016            -27.55  -39.38 -43.93  ...     -33.07      -2.40  -38.96   \n",
       "2018            -26.30  -37.39 -38.75  ...     -28.57       3.72  -40.24   \n",
       "2020            -26.57  -40.97 -37.03  ...     -26.60      -1.56  -36.08   \n",
       "2022            -41.37  -49.04 -50.05  ...     -40.23     -19.14  -46.70   \n",
       "\n",
       "county_name  Suwannee  Taylor  Union  Volusia  Wakulla  Walton  Washington  \n",
       "elec_date                                                                   \n",
       "2012           -44.93  -38.13 -48.84    -1.17   -28.00  -51.85      -47.26  \n",
       "2014           -37.85  -32.17 -17.40    -3.65   -16.27  -52.93      -45.45  \n",
       "2016           -54.95  -51.11 -62.11   -12.88   -39.91  -55.70      -56.85  \n",
       "2018           -55.19  -51.13 -58.86   -10.62   -39.38  -52.40      -56.87  \n",
       "2020           -56.63  -53.78 -65.27   -14.04   -40.78  -51.62      -61.04  \n",
       "2022           -67.20  -66.02 -75.71   -28.64   -47.22  -64.57      -71.24  \n",
       "\n",
       "[6 rows x 67 columns]"
      ]
     },
     "execution_count": 349,
     "metadata": {},
     "output_type": "execute_result"
    }
   ],
   "source": [
    "# vote_share_by_year_county contains the vote share for each county in each election year, which is a good start\n",
    "df_correlation = vote_share_by_year_county.copy()\n",
    "df_correlation.drop(columns=['2012_to_2020_diff', '2014_to_2022_diff','mean','variance','std'], inplace=True)\n",
    "df_correlation = df_correlation.transpose()\n",
    "df_correlation\n"
   ]
  },
  {
   "cell_type": "code",
   "execution_count": 346,
   "metadata": {},
   "outputs": [
    {
     "data": {
      "text/html": [
       "<div>\n",
       "<style scoped>\n",
       "    .dataframe tbody tr th:only-of-type {\n",
       "        vertical-align: middle;\n",
       "    }\n",
       "\n",
       "    .dataframe tbody tr th {\n",
       "        vertical-align: top;\n",
       "    }\n",
       "\n",
       "    .dataframe thead th {\n",
       "        text-align: right;\n",
       "    }\n",
       "</style>\n",
       "<table border=\"1\" class=\"dataframe\">\n",
       "  <thead>\n",
       "    <tr style=\"text-align: right;\">\n",
       "      <th></th>\n",
       "      <th>elec_date</th>\n",
       "      <th>vote_share</th>\n",
       "    </tr>\n",
       "  </thead>\n",
       "  <tbody>\n",
       "    <tr>\n",
       "      <th>0</th>\n",
       "      <td>2012</td>\n",
       "      <td>0.008725</td>\n",
       "    </tr>\n",
       "    <tr>\n",
       "      <th>1</th>\n",
       "      <td>2014</td>\n",
       "      <td>-0.010824</td>\n",
       "    </tr>\n",
       "    <tr>\n",
       "      <th>2</th>\n",
       "      <td>2016</td>\n",
       "      <td>-0.011810</td>\n",
       "    </tr>\n",
       "    <tr>\n",
       "      <th>3</th>\n",
       "      <td>2018</td>\n",
       "      <td>-0.003941</td>\n",
       "    </tr>\n",
       "    <tr>\n",
       "      <th>4</th>\n",
       "      <td>2020</td>\n",
       "      <td>-0.033512</td>\n",
       "    </tr>\n",
       "    <tr>\n",
       "      <th>5</th>\n",
       "      <td>2022</td>\n",
       "      <td>-0.194031</td>\n",
       "    </tr>\n",
       "  </tbody>\n",
       "</table>\n",
       "</div>"
      ],
      "text/plain": [
       "   elec_date  vote_share\n",
       "0       2012    0.008725\n",
       "1       2014   -0.010824\n",
       "2       2016   -0.011810\n",
       "3       2018   -0.003941\n",
       "4       2020   -0.033512\n",
       "5       2022   -0.194031"
      ]
     },
     "execution_count": 346,
     "metadata": {},
     "output_type": "execute_result"
    }
   ],
   "source": [
    "# We need the statewide vote share for each election, which we can't derive from the above df \n",
    "# df_grouped can be manipulated to get these figures, so we'll start there\n",
    "statewide_vote_share_by_year = df_grouped.copy()\n",
    "\n",
    "# Drop the current vote_share column which groups by county and which we'll replace with one that groups only by elec_year and cand_party\n",
    "statewide_vote_share_by_year = statewide_vote_share_by_year.drop(columns='vote_share')\n",
    "\n",
    "# Get statewide vote totals by party by elec_date by grouping vote totals by elec_date, cand_party, and cand_or_issue, summing vote_total\n",
    "statewide_vote_share_by_year = statewide_vote_share_by_year.groupby(['elec_date','cand_party','cand_or_issue'], as_index=False)['vote_total'].sum()\n",
    "\n",
    "# Add vote_share column\n",
    "statewide_vote_share_by_year['vote_share'] = statewide_vote_share_by_year.groupby(['elec_date'])['vote_total'].transform(lambda x: x / x.sum())\n",
    "\n",
    "# Narrow to DEM and REP candidates\n",
    "statewide_vote_share_by_year = statewide_vote_share_by_year.query('cand_party == \"DEM\" or cand_party == \"REP\"')\n",
    "\n",
    "# Make REP vote_share values negative to get a marginal value when summed by elec_date\n",
    "statewide_vote_share_by_year['vote_share'] *= np.where(statewide_vote_share_by_year.cand_party == 'DEM', 1, -1)\n",
    "\n",
    "# Group by vote_share by elec_date\n",
    "statewide_vote_share_by_year = statewide_vote_share_by_year.groupby(['elec_date'], as_index=False)['vote_share'].agg('sum')\n",
    "\n",
    "# Examine output\n",
    "statewide_vote_share_by_year\n",
    "\n"
   ]
  },
  {
   "cell_type": "code",
   "execution_count": 375,
   "metadata": {},
   "outputs": [
    {
     "data": {
      "text/html": [
       "<div>\n",
       "<style scoped>\n",
       "    .dataframe tbody tr th:only-of-type {\n",
       "        vertical-align: middle;\n",
       "    }\n",
       "\n",
       "    .dataframe tbody tr th {\n",
       "        vertical-align: top;\n",
       "    }\n",
       "\n",
       "    .dataframe thead th {\n",
       "        text-align: right;\n",
       "    }\n",
       "</style>\n",
       "<table border=\"1\" class=\"dataframe\">\n",
       "  <thead>\n",
       "    <tr style=\"text-align: right;\">\n",
       "      <th>county_name</th>\n",
       "      <th>Alachua</th>\n",
       "      <th>Baker</th>\n",
       "      <th>Bay</th>\n",
       "      <th>Bradford</th>\n",
       "      <th>Brevard</th>\n",
       "      <th>Broward</th>\n",
       "      <th>Calhoun</th>\n",
       "      <th>Charlotte</th>\n",
       "      <th>Citrus</th>\n",
       "      <th>Clay</th>\n",
       "      <th>...</th>\n",
       "      <th>St. Lucie</th>\n",
       "      <th>Sumter</th>\n",
       "      <th>Suwannee</th>\n",
       "      <th>Taylor</th>\n",
       "      <th>Union</th>\n",
       "      <th>Volusia</th>\n",
       "      <th>Wakulla</th>\n",
       "      <th>Walton</th>\n",
       "      <th>Washington</th>\n",
       "      <th>Statewide</th>\n",
       "    </tr>\n",
       "    <tr>\n",
       "      <th>elec_date</th>\n",
       "      <th></th>\n",
       "      <th></th>\n",
       "      <th></th>\n",
       "      <th></th>\n",
       "      <th></th>\n",
       "      <th></th>\n",
       "      <th></th>\n",
       "      <th></th>\n",
       "      <th></th>\n",
       "      <th></th>\n",
       "      <th></th>\n",
       "      <th></th>\n",
       "      <th></th>\n",
       "      <th></th>\n",
       "      <th></th>\n",
       "      <th></th>\n",
       "      <th></th>\n",
       "      <th></th>\n",
       "      <th></th>\n",
       "      <th></th>\n",
       "      <th></th>\n",
       "    </tr>\n",
       "  </thead>\n",
       "  <tbody>\n",
       "    <tr>\n",
       "      <th>2012</th>\n",
       "      <td>17.31</td>\n",
       "      <td>-58.52</td>\n",
       "      <td>-43.48</td>\n",
       "      <td>-41.96</td>\n",
       "      <td>-12.68</td>\n",
       "      <td>34.93</td>\n",
       "      <td>-43.70</td>\n",
       "      <td>-14.24</td>\n",
       "      <td>-21.84</td>\n",
       "      <td>-45.72</td>\n",
       "      <td>...</td>\n",
       "      <td>7.84</td>\n",
       "      <td>-34.89</td>\n",
       "      <td>-44.93</td>\n",
       "      <td>-38.13</td>\n",
       "      <td>-48.84</td>\n",
       "      <td>-1.17</td>\n",
       "      <td>-28.00</td>\n",
       "      <td>-51.85</td>\n",
       "      <td>-47.26</td>\n",
       "      <td>0.8725</td>\n",
       "    </tr>\n",
       "    <tr>\n",
       "      <th>2014</th>\n",
       "      <td>16.52</td>\n",
       "      <td>-45.50</td>\n",
       "      <td>-48.93</td>\n",
       "      <td>-34.22</td>\n",
       "      <td>-11.51</td>\n",
       "      <td>38.44</td>\n",
       "      <td>-35.14</td>\n",
       "      <td>-12.30</td>\n",
       "      <td>-15.18</td>\n",
       "      <td>-48.87</td>\n",
       "      <td>...</td>\n",
       "      <td>9.43</td>\n",
       "      <td>-39.41</td>\n",
       "      <td>-37.85</td>\n",
       "      <td>-32.17</td>\n",
       "      <td>-17.40</td>\n",
       "      <td>-3.65</td>\n",
       "      <td>-16.27</td>\n",
       "      <td>-52.93</td>\n",
       "      <td>-45.45</td>\n",
       "      <td>-1.0824</td>\n",
       "    </tr>\n",
       "    <tr>\n",
       "      <th>2016</th>\n",
       "      <td>22.28</td>\n",
       "      <td>-64.40</td>\n",
       "      <td>-45.79</td>\n",
       "      <td>-49.26</td>\n",
       "      <td>-19.54</td>\n",
       "      <td>34.91</td>\n",
       "      <td>-55.71</td>\n",
       "      <td>-27.55</td>\n",
       "      <td>-39.38</td>\n",
       "      <td>-43.93</td>\n",
       "      <td>...</td>\n",
       "      <td>-2.40</td>\n",
       "      <td>-38.96</td>\n",
       "      <td>-54.95</td>\n",
       "      <td>-51.11</td>\n",
       "      <td>-62.11</td>\n",
       "      <td>-12.88</td>\n",
       "      <td>-39.91</td>\n",
       "      <td>-55.70</td>\n",
       "      <td>-56.85</td>\n",
       "      <td>-1.1810</td>\n",
       "    </tr>\n",
       "    <tr>\n",
       "      <th>2018</th>\n",
       "      <td>27.24</td>\n",
       "      <td>-65.69</td>\n",
       "      <td>-45.66</td>\n",
       "      <td>-47.82</td>\n",
       "      <td>-16.78</td>\n",
       "      <td>36.66</td>\n",
       "      <td>-57.54</td>\n",
       "      <td>-26.30</td>\n",
       "      <td>-37.39</td>\n",
       "      <td>-38.75</td>\n",
       "      <td>...</td>\n",
       "      <td>3.72</td>\n",
       "      <td>-40.24</td>\n",
       "      <td>-55.19</td>\n",
       "      <td>-51.13</td>\n",
       "      <td>-58.86</td>\n",
       "      <td>-10.62</td>\n",
       "      <td>-39.38</td>\n",
       "      <td>-52.40</td>\n",
       "      <td>-56.87</td>\n",
       "      <td>-0.3941</td>\n",
       "    </tr>\n",
       "    <tr>\n",
       "      <th>2020</th>\n",
       "      <td>27.08</td>\n",
       "      <td>-70.12</td>\n",
       "      <td>-43.43</td>\n",
       "      <td>-52.56</td>\n",
       "      <td>-16.41</td>\n",
       "      <td>29.73</td>\n",
       "      <td>-62.18</td>\n",
       "      <td>-26.57</td>\n",
       "      <td>-40.97</td>\n",
       "      <td>-37.03</td>\n",
       "      <td>...</td>\n",
       "      <td>-1.56</td>\n",
       "      <td>-36.08</td>\n",
       "      <td>-56.63</td>\n",
       "      <td>-53.78</td>\n",
       "      <td>-65.27</td>\n",
       "      <td>-14.04</td>\n",
       "      <td>-40.78</td>\n",
       "      <td>-51.62</td>\n",
       "      <td>-61.04</td>\n",
       "      <td>-3.3512</td>\n",
       "    </tr>\n",
       "    <tr>\n",
       "      <th>2022</th>\n",
       "      <td>15.09</td>\n",
       "      <td>-79.27</td>\n",
       "      <td>-57.38</td>\n",
       "      <td>-63.25</td>\n",
       "      <td>-28.20</td>\n",
       "      <td>15.38</td>\n",
       "      <td>-72.52</td>\n",
       "      <td>-41.37</td>\n",
       "      <td>-49.04</td>\n",
       "      <td>-50.05</td>\n",
       "      <td>...</td>\n",
       "      <td>-19.14</td>\n",
       "      <td>-46.70</td>\n",
       "      <td>-67.20</td>\n",
       "      <td>-66.02</td>\n",
       "      <td>-75.71</td>\n",
       "      <td>-28.64</td>\n",
       "      <td>-47.22</td>\n",
       "      <td>-64.57</td>\n",
       "      <td>-71.24</td>\n",
       "      <td>-19.4031</td>\n",
       "    </tr>\n",
       "  </tbody>\n",
       "</table>\n",
       "<p>6 rows × 68 columns</p>\n",
       "</div>"
      ],
      "text/plain": [
       "county_name  Alachua  Baker    Bay  Bradford  Brevard  Broward  Calhoun  \\\n",
       "elec_date                                                                 \n",
       "2012           17.31 -58.52 -43.48    -41.96   -12.68    34.93   -43.70   \n",
       "2014           16.52 -45.50 -48.93    -34.22   -11.51    38.44   -35.14   \n",
       "2016           22.28 -64.40 -45.79    -49.26   -19.54    34.91   -55.71   \n",
       "2018           27.24 -65.69 -45.66    -47.82   -16.78    36.66   -57.54   \n",
       "2020           27.08 -70.12 -43.43    -52.56   -16.41    29.73   -62.18   \n",
       "2022           15.09 -79.27 -57.38    -63.25   -28.20    15.38   -72.52   \n",
       "\n",
       "county_name  Charlotte  Citrus   Clay  ...  St. Lucie  Sumter  Suwannee  \\\n",
       "elec_date                              ...                                \n",
       "2012            -14.24  -21.84 -45.72  ...       7.84  -34.89    -44.93   \n",
       "2014            -12.30  -15.18 -48.87  ...       9.43  -39.41    -37.85   \n",
       "2016            -27.55  -39.38 -43.93  ...      -2.40  -38.96    -54.95   \n",
       "2018            -26.30  -37.39 -38.75  ...       3.72  -40.24    -55.19   \n",
       "2020            -26.57  -40.97 -37.03  ...      -1.56  -36.08    -56.63   \n",
       "2022            -41.37  -49.04 -50.05  ...     -19.14  -46.70    -67.20   \n",
       "\n",
       "county_name  Taylor  Union  Volusia  Wakulla  Walton  Washington  Statewide  \n",
       "elec_date                                                                    \n",
       "2012         -38.13 -48.84    -1.17   -28.00  -51.85      -47.26     0.8725  \n",
       "2014         -32.17 -17.40    -3.65   -16.27  -52.93      -45.45    -1.0824  \n",
       "2016         -51.11 -62.11   -12.88   -39.91  -55.70      -56.85    -1.1810  \n",
       "2018         -51.13 -58.86   -10.62   -39.38  -52.40      -56.87    -0.3941  \n",
       "2020         -53.78 -65.27   -14.04   -40.78  -51.62      -61.04    -3.3512  \n",
       "2022         -66.02 -75.71   -28.64   -47.22  -64.57      -71.24   -19.4031  \n",
       "\n",
       "[6 rows x 68 columns]"
      ]
     },
     "execution_count": 375,
     "metadata": {},
     "output_type": "execute_result"
    }
   ],
   "source": [
    "# Translate these values to percentages and add to df_correlation\n",
    "df_correlation['Statewide'] = [0.8725, -001.0824, -001.1810, -000.3941, -003.3512, -019.4031]\n",
    "df_correlation\n",
    "\n"
   ]
  },
  {
   "cell_type": "code",
   "execution_count": 399,
   "metadata": {},
   "outputs": [
    {
     "data": {
      "text/plain": [
       "county_name\n",
       "Lee             3.427194\n",
       "Monroe          4.310466\n",
       "Polk            4.517983\n",
       "Palm Beach      4.618421\n",
       "Broward         5.393715\n",
       "                 ...    \n",
       "Desoto        121.959703\n",
       "Lafayette     153.854450\n",
       "Dixie         162.079117\n",
       "Liberty       172.735654\n",
       "Union         301.062948\n",
       "Name: var_diff, Length: 67, dtype: float64"
      ]
     },
     "execution_count": 399,
     "metadata": {},
     "output_type": "execute_result"
    }
   ],
   "source": [
    "df_correlation_diff = df_correlation.sub(df_correlation['Statewide'], axis=0).abs()\n",
    "\n",
    "\n",
    "df_correlation_diff = df_correlation_diff.drop(columns='Statewide').transpose()\n",
    "\n",
    "df_correlation_diff['mean_diff'] = df_correlation_diff.loc[:, '2012':'2022'].mean(axis=1)\n",
    "df_correlation_diff['var_diff'] = df_correlation_diff.loc[:, '2012':'2022'].var(axis=1)\n",
    "\n",
    "# df_correlation_diff\n",
    "\n",
    "# df_correlation_diff['mean_diff'].sort_values(ascending=True)\n",
    "df_correlation_diff['var_diff'].sort_values(ascending=True)"
   ]
  },
  {
   "cell_type": "code",
   "execution_count": 400,
   "metadata": {},
   "outputs": [
    {
     "data": {
      "application/vnd.plotly.v1+json": {
       "config": {
        "plotlyServerURL": "https://plot.ly"
       },
       "data": [
        {
         "hovertemplate": "county_name=Alachua<br>elec_date=%{x}<br>value=%{y}<extra></extra>",
         "legendgroup": "Alachua",
         "line": {
          "color": "#636efa",
          "dash": "solid"
         },
         "marker": {
          "symbol": "circle"
         },
         "mode": "lines",
         "name": "Alachua",
         "orientation": "v",
         "showlegend": true,
         "type": "scatter",
         "x": [
          "2012",
          "2014",
          "2016",
          "2018",
          "2020",
          "2022"
         ],
         "xaxis": "x",
         "y": [
          17.31,
          16.52,
          22.28,
          27.24,
          27.08,
          15.09
         ],
         "yaxis": "y"
        },
        {
         "hovertemplate": "county_name=Baker<br>elec_date=%{x}<br>value=%{y}<extra></extra>",
         "legendgroup": "Baker",
         "line": {
          "color": "#EF553B",
          "dash": "solid"
         },
         "marker": {
          "symbol": "circle"
         },
         "mode": "lines",
         "name": "Baker",
         "orientation": "v",
         "showlegend": true,
         "type": "scatter",
         "x": [
          "2012",
          "2014",
          "2016",
          "2018",
          "2020",
          "2022"
         ],
         "xaxis": "x",
         "y": [
          -58.52,
          -45.5,
          -64.4,
          -65.69,
          -70.12,
          -79.27
         ],
         "yaxis": "y"
        },
        {
         "hovertemplate": "county_name=Bay<br>elec_date=%{x}<br>value=%{y}<extra></extra>",
         "legendgroup": "Bay",
         "line": {
          "color": "#00cc96",
          "dash": "solid"
         },
         "marker": {
          "symbol": "circle"
         },
         "mode": "lines",
         "name": "Bay",
         "orientation": "v",
         "showlegend": true,
         "type": "scatter",
         "x": [
          "2012",
          "2014",
          "2016",
          "2018",
          "2020",
          "2022"
         ],
         "xaxis": "x",
         "y": [
          -43.48,
          -48.93,
          -45.79,
          -45.66,
          -43.43,
          -57.38
         ],
         "yaxis": "y"
        },
        {
         "hovertemplate": "county_name=Bradford<br>elec_date=%{x}<br>value=%{y}<extra></extra>",
         "legendgroup": "Bradford",
         "line": {
          "color": "#ab63fa",
          "dash": "solid"
         },
         "marker": {
          "symbol": "circle"
         },
         "mode": "lines",
         "name": "Bradford",
         "orientation": "v",
         "showlegend": true,
         "type": "scatter",
         "x": [
          "2012",
          "2014",
          "2016",
          "2018",
          "2020",
          "2022"
         ],
         "xaxis": "x",
         "y": [
          -41.96,
          -34.22,
          -49.26,
          -47.82,
          -52.56,
          -63.25
         ],
         "yaxis": "y"
        },
        {
         "hovertemplate": "county_name=Brevard<br>elec_date=%{x}<br>value=%{y}<extra></extra>",
         "legendgroup": "Brevard",
         "line": {
          "color": "#FFA15A",
          "dash": "solid"
         },
         "marker": {
          "symbol": "circle"
         },
         "mode": "lines",
         "name": "Brevard",
         "orientation": "v",
         "showlegend": true,
         "type": "scatter",
         "x": [
          "2012",
          "2014",
          "2016",
          "2018",
          "2020",
          "2022"
         ],
         "xaxis": "x",
         "y": [
          -12.68,
          -11.51,
          -19.54,
          -16.78,
          -16.41,
          -28.2
         ],
         "yaxis": "y"
        },
        {
         "hovertemplate": "county_name=Broward<br>elec_date=%{x}<br>value=%{y}<extra></extra>",
         "legendgroup": "Broward",
         "line": {
          "color": "#19d3f3",
          "dash": "solid"
         },
         "marker": {
          "symbol": "circle"
         },
         "mode": "lines",
         "name": "Broward",
         "orientation": "v",
         "showlegend": true,
         "type": "scatter",
         "x": [
          "2012",
          "2014",
          "2016",
          "2018",
          "2020",
          "2022"
         ],
         "xaxis": "x",
         "y": [
          34.93,
          38.44,
          34.91,
          36.66,
          29.73,
          15.38
         ],
         "yaxis": "y"
        },
        {
         "hovertemplate": "county_name=Calhoun<br>elec_date=%{x}<br>value=%{y}<extra></extra>",
         "legendgroup": "Calhoun",
         "line": {
          "color": "#FF6692",
          "dash": "solid"
         },
         "marker": {
          "symbol": "circle"
         },
         "mode": "lines",
         "name": "Calhoun",
         "orientation": "v",
         "showlegend": true,
         "type": "scatter",
         "x": [
          "2012",
          "2014",
          "2016",
          "2018",
          "2020",
          "2022"
         ],
         "xaxis": "x",
         "y": [
          -43.7,
          -35.14,
          -55.71,
          -57.54,
          -62.18,
          -72.52
         ],
         "yaxis": "y"
        },
        {
         "hovertemplate": "county_name=Charlotte<br>elec_date=%{x}<br>value=%{y}<extra></extra>",
         "legendgroup": "Charlotte",
         "line": {
          "color": "#B6E880",
          "dash": "solid"
         },
         "marker": {
          "symbol": "circle"
         },
         "mode": "lines",
         "name": "Charlotte",
         "orientation": "v",
         "showlegend": true,
         "type": "scatter",
         "x": [
          "2012",
          "2014",
          "2016",
          "2018",
          "2020",
          "2022"
         ],
         "xaxis": "x",
         "y": [
          -14.24,
          -12.3,
          -27.55,
          -26.3,
          -26.57,
          -41.37
         ],
         "yaxis": "y"
        },
        {
         "hovertemplate": "county_name=Citrus<br>elec_date=%{x}<br>value=%{y}<extra></extra>",
         "legendgroup": "Citrus",
         "line": {
          "color": "#FF97FF",
          "dash": "solid"
         },
         "marker": {
          "symbol": "circle"
         },
         "mode": "lines",
         "name": "Citrus",
         "orientation": "v",
         "showlegend": true,
         "type": "scatter",
         "x": [
          "2012",
          "2014",
          "2016",
          "2018",
          "2020",
          "2022"
         ],
         "xaxis": "x",
         "y": [
          -21.84,
          -15.18,
          -39.38,
          -37.39,
          -40.97,
          -49.04
         ],
         "yaxis": "y"
        },
        {
         "hovertemplate": "county_name=Clay<br>elec_date=%{x}<br>value=%{y}<extra></extra>",
         "legendgroup": "Clay",
         "line": {
          "color": "#FECB52",
          "dash": "solid"
         },
         "marker": {
          "symbol": "circle"
         },
         "mode": "lines",
         "name": "Clay",
         "orientation": "v",
         "showlegend": true,
         "type": "scatter",
         "x": [
          "2012",
          "2014",
          "2016",
          "2018",
          "2020",
          "2022"
         ],
         "xaxis": "x",
         "y": [
          -45.72,
          -48.87,
          -43.93,
          -38.75,
          -37.03,
          -50.05
         ],
         "yaxis": "y"
        },
        {
         "hovertemplate": "county_name=Collier<br>elec_date=%{x}<br>value=%{y}<extra></extra>",
         "legendgroup": "Collier",
         "line": {
          "color": "#636efa",
          "dash": "solid"
         },
         "marker": {
          "symbol": "circle"
         },
         "mode": "lines",
         "name": "Collier",
         "orientation": "v",
         "showlegend": true,
         "type": "scatter",
         "x": [
          "2012",
          "2014",
          "2016",
          "2018",
          "2020",
          "2022"
         ],
         "xaxis": "x",
         "y": [
          -30.02,
          -35.21,
          -25.7,
          -30.03,
          -24.64,
          -43.76
         ],
         "yaxis": "y"
        },
        {
         "hovertemplate": "county_name=Columbia<br>elec_date=%{x}<br>value=%{y}<extra></extra>",
         "legendgroup": "Columbia",
         "line": {
          "color": "#EF553B",
          "dash": "solid"
         },
         "marker": {
          "symbol": "circle"
         },
         "mode": "lines",
         "name": "Columbia",
         "orientation": "v",
         "showlegend": true,
         "type": "scatter",
         "x": [
          "2012",
          "2014",
          "2016",
          "2018",
          "2020",
          "2022"
         ],
         "xaxis": "x",
         "y": [
          -36.61,
          -31.45,
          -44.23,
          -41.48,
          -45.09,
          -59.01
         ],
         "yaxis": "y"
        },
        {
         "hovertemplate": "county_name=Desoto<br>elec_date=%{x}<br>value=%{y}<extra></extra>",
         "legendgroup": "Desoto",
         "line": {
          "color": "#00cc96",
          "dash": "solid"
         },
         "marker": {
          "symbol": "circle"
         },
         "mode": "lines",
         "name": "Desoto",
         "orientation": "v",
         "showlegend": true,
         "type": "scatter",
         "x": [
          "2012",
          "2014",
          "2016",
          "2018",
          "2020",
          "2022"
         ],
         "xaxis": "x",
         "y": [
          -14.29,
          -5.13,
          -27.49,
          -29.22,
          -31.98,
          -53.03
         ],
         "yaxis": "y"
        },
        {
         "hovertemplate": "county_name=Dixie<br>elec_date=%{x}<br>value=%{y}<extra></extra>",
         "legendgroup": "Dixie",
         "line": {
          "color": "#ab63fa",
          "dash": "solid"
         },
         "marker": {
          "symbol": "circle"
         },
         "mode": "lines",
         "name": "Dixie",
         "orientation": "v",
         "showlegend": true,
         "type": "scatter",
         "x": [
          "2012",
          "2014",
          "2016",
          "2018",
          "2020",
          "2022"
         ],
         "xaxis": "x",
         "y": [
          -46.76,
          -31.4,
          -62.82,
          -62.97,
          -66,
          -75.4
         ],
         "yaxis": "y"
        },
        {
         "hovertemplate": "county_name=Duval<br>elec_date=%{x}<br>value=%{y}<extra></extra>",
         "legendgroup": "Duval",
         "line": {
          "color": "#FFA15A",
          "dash": "solid"
         },
         "marker": {
          "symbol": "circle"
         },
         "mode": "lines",
         "name": "Duval",
         "orientation": "v",
         "showlegend": true,
         "type": "scatter",
         "x": [
          "2012",
          "2014",
          "2016",
          "2018",
          "2020",
          "2022"
         ],
         "xaxis": "x",
         "y": [
          -3.6,
          -12.7,
          -1.37,
          4.4,
          3.8,
          -11.76
         ],
         "yaxis": "y"
        },
        {
         "hovertemplate": "county_name=Escambia<br>elec_date=%{x}<br>value=%{y}<extra></extra>",
         "legendgroup": "Escambia",
         "line": {
          "color": "#19d3f3",
          "dash": "solid"
         },
         "marker": {
          "symbol": "circle"
         },
         "mode": "lines",
         "name": "Escambia",
         "orientation": "v",
         "showlegend": true,
         "type": "scatter",
         "x": [
          "2012",
          "2014",
          "2016",
          "2018",
          "2020",
          "2022"
         ],
         "xaxis": "x",
         "y": [
          -20.49,
          -27.8,
          -20.33,
          -16.9,
          -15.07,
          -29.84
         ],
         "yaxis": "y"
        },
        {
         "hovertemplate": "county_name=Flagler<br>elec_date=%{x}<br>value=%{y}<extra></extra>",
         "legendgroup": "Flagler",
         "line": {
          "color": "#FF6692",
          "dash": "solid"
         },
         "marker": {
          "symbol": "circle"
         },
         "mode": "lines",
         "name": "Flagler",
         "orientation": "v",
         "showlegend": true,
         "type": "scatter",
         "x": [
          "2012",
          "2014",
          "2016",
          "2018",
          "2020",
          "2022"
         ],
         "xaxis": "x",
         "y": [
          -7.42,
          -10.54,
          -20.39,
          -18.48,
          -20.71,
          -34.08
         ],
         "yaxis": "y"
        },
        {
         "hovertemplate": "county_name=Franklin<br>elec_date=%{x}<br>value=%{y}<extra></extra>",
         "legendgroup": "Franklin",
         "line": {
          "color": "#B6E880",
          "dash": "solid"
         },
         "marker": {
          "symbol": "circle"
         },
         "mode": "lines",
         "name": "Franklin",
         "orientation": "v",
         "showlegend": true,
         "type": "scatter",
         "x": [
          "2012",
          "2014",
          "2016",
          "2018",
          "2020",
          "2022"
         ],
         "xaxis": "x",
         "y": [
          -31.4,
          -20.21,
          -39.3,
          -31.65,
          -37.25,
          -47.72
         ],
         "yaxis": "y"
        },
        {
         "hovertemplate": "county_name=Gadsden<br>elec_date=%{x}<br>value=%{y}<extra></extra>",
         "legendgroup": "Gadsden",
         "line": {
          "color": "#FF97FF",
          "dash": "solid"
         },
         "marker": {
          "symbol": "circle"
         },
         "mode": "lines",
         "name": "Gadsden",
         "orientation": "v",
         "showlegend": true,
         "type": "scatter",
         "x": [
          "2012",
          "2014",
          "2016",
          "2018",
          "2020",
          "2022"
         ],
         "xaxis": "x",
         "y": [
          40.62,
          43.31,
          37.5,
          37.44,
          36.56,
          24.64
         ],
         "yaxis": "y"
        },
        {
         "hovertemplate": "county_name=Gilchrist<br>elec_date=%{x}<br>value=%{y}<extra></extra>",
         "legendgroup": "Gilchrist",
         "line": {
          "color": "#FECB52",
          "dash": "solid"
         },
         "marker": {
          "symbol": "circle"
         },
         "mode": "lines",
         "name": "Gilchrist",
         "orientation": "v",
         "showlegend": true,
         "type": "scatter",
         "x": [
          "2012",
          "2014",
          "2016",
          "2018",
          "2020",
          "2022"
         ],
         "xaxis": "x",
         "y": [
          -50.8,
          -44.2,
          -62.35,
          -63.67,
          -63.85,
          -73.58
         ],
         "yaxis": "y"
        },
        {
         "hovertemplate": "county_name=Glades<br>elec_date=%{x}<br>value=%{y}<extra></extra>",
         "legendgroup": "Glades",
         "line": {
          "color": "#636efa",
          "dash": "solid"
         },
         "marker": {
          "symbol": "circle"
         },
         "mode": "lines",
         "name": "Glades",
         "orientation": "v",
         "showlegend": true,
         "type": "scatter",
         "x": [
          "2012",
          "2014",
          "2016",
          "2018",
          "2020",
          "2022"
         ],
         "xaxis": "x",
         "y": [
          -18.51,
          -25.49,
          -39.37,
          -40.44,
          -46.07,
          -61.9
         ],
         "yaxis": "y"
        },
        {
         "hovertemplate": "county_name=Gulf<br>elec_date=%{x}<br>value=%{y}<extra></extra>",
         "legendgroup": "Gulf",
         "line": {
          "color": "#EF553B",
          "dash": "solid"
         },
         "marker": {
          "symbol": "circle"
         },
         "mode": "lines",
         "name": "Gulf",
         "orientation": "v",
         "showlegend": true,
         "type": "scatter",
         "x": [
          "2012",
          "2014",
          "2016",
          "2018",
          "2020",
          "2022"
         ],
         "xaxis": "x",
         "y": [
          -41.83,
          -39.5,
          -49.23,
          -46.68,
          -50.51,
          -60.75
         ],
         "yaxis": "y"
        },
        {
         "hovertemplate": "county_name=Hamilton<br>elec_date=%{x}<br>value=%{y}<extra></extra>",
         "legendgroup": "Hamilton",
         "line": {
          "color": "#00cc96",
          "dash": "solid"
         },
         "marker": {
          "symbol": "circle"
         },
         "mode": "lines",
         "name": "Hamilton",
         "orientation": "v",
         "showlegend": true,
         "type": "scatter",
         "x": [
          "2012",
          "2014",
          "2016",
          "2018",
          "2020",
          "2022"
         ],
         "xaxis": "x",
         "y": [
          -16.79,
          -9.02,
          -28.03,
          -28.91,
          -31.71,
          -47.17
         ],
         "yaxis": "y"
        },
        {
         "hovertemplate": "county_name=Hardee<br>elec_date=%{x}<br>value=%{y}<extra></extra>",
         "legendgroup": "Hardee",
         "line": {
          "color": "#ab63fa",
          "dash": "solid"
         },
         "marker": {
          "symbol": "circle"
         },
         "mode": "lines",
         "name": "Hardee",
         "orientation": "v",
         "showlegend": true,
         "type": "scatter",
         "x": [
          "2012",
          "2014",
          "2016",
          "2018",
          "2020",
          "2022"
         ],
         "xaxis": "x",
         "y": [
          -30.83,
          -26.9,
          -40.46,
          -41.9,
          -44.98,
          -65.19
         ],
         "yaxis": "y"
        },
        {
         "hovertemplate": "county_name=Hendry<br>elec_date=%{x}<br>value=%{y}<extra></extra>",
         "legendgroup": "Hendry",
         "line": {
          "color": "#FFA15A",
          "dash": "solid"
         },
         "marker": {
          "symbol": "circle"
         },
         "mode": "lines",
         "name": "Hendry",
         "orientation": "v",
         "showlegend": true,
         "type": "scatter",
         "x": [
          "2012",
          "2014",
          "2016",
          "2018",
          "2020",
          "2022"
         ],
         "xaxis": "x",
         "y": [
          -5.91,
          -16.73,
          -14.13,
          -18.7,
          -22.98,
          -49.41
         ],
         "yaxis": "y"
        },
        {
         "hovertemplate": "county_name=Hernando<br>elec_date=%{x}<br>value=%{y}<extra></extra>",
         "legendgroup": "Hernando",
         "line": {
          "color": "#19d3f3",
          "dash": "solid"
         },
         "marker": {
          "symbol": "circle"
         },
         "mode": "lines",
         "name": "Hernando",
         "orientation": "v",
         "showlegend": true,
         "type": "scatter",
         "x": [
          "2012",
          "2014",
          "2016",
          "2018",
          "2020",
          "2022"
         ],
         "xaxis": "x",
         "y": [
          -8.47,
          -3.14,
          -28.71,
          -25.07,
          -30.14,
          -40.47
         ],
         "yaxis": "y"
        },
        {
         "hovertemplate": "county_name=Highlands<br>elec_date=%{x}<br>value=%{y}<extra></extra>",
         "legendgroup": "Highlands",
         "line": {
          "color": "#FF6692",
          "dash": "solid"
         },
         "marker": {
          "symbol": "circle"
         },
         "mode": "lines",
         "name": "Highlands",
         "orientation": "v",
         "showlegend": true,
         "type": "scatter",
         "x": [
          "2012",
          "2014",
          "2016",
          "2018",
          "2020",
          "2022"
         ],
         "xaxis": "x",
         "y": [
          -22.96,
          -24.38,
          -31.79,
          -33.92,
          -34.33,
          -49.02
         ],
         "yaxis": "y"
        },
        {
         "hovertemplate": "county_name=Hillsborough<br>elec_date=%{x}<br>value=%{y}<extra></extra>",
         "legendgroup": "Hillsborough",
         "line": {
          "color": "#B6E880",
          "dash": "solid"
         },
         "marker": {
          "symbol": "circle"
         },
         "mode": "lines",
         "name": "Hillsborough",
         "orientation": "v",
         "showlegend": true,
         "type": "scatter",
         "x": [
          "2012",
          "2014",
          "2016",
          "2018",
          "2020",
          "2022"
         ],
         "xaxis": "x",
         "y": [
          6.68,
          2.69,
          6.79,
          8.93,
          6.86,
          -9.22
         ],
         "yaxis": "y"
        },
        {
         "hovertemplate": "county_name=Holmes<br>elec_date=%{x}<br>value=%{y}<extra></extra>",
         "legendgroup": "Holmes",
         "line": {
          "color": "#FF97FF",
          "dash": "solid"
         },
         "marker": {
          "symbol": "circle"
         },
         "mode": "lines",
         "name": "Holmes",
         "orientation": "v",
         "showlegend": true,
         "type": "scatter",
         "x": [
          "2012",
          "2014",
          "2016",
          "2018",
          "2020",
          "2022"
         ],
         "xaxis": "x",
         "y": [
          -68.21,
          -56.72,
          -77.49,
          -76.73,
          -78.83,
          -83.77
         ],
         "yaxis": "y"
        },
        {
         "hovertemplate": "county_name=Indian River<br>elec_date=%{x}<br>value=%{y}<extra></extra>",
         "legendgroup": "Indian River",
         "line": {
          "color": "#FECB52",
          "dash": "solid"
         },
         "marker": {
          "symbol": "circle"
         },
         "mode": "lines",
         "name": "Indian River",
         "orientation": "v",
         "showlegend": true,
         "type": "scatter",
         "x": [
          "2012",
          "2014",
          "2016",
          "2018",
          "2020",
          "2022"
         ],
         "xaxis": "x",
         "y": [
          -22.33,
          -21.85,
          -24.47,
          -22.16,
          -21.51,
          -35.56
         ],
         "yaxis": "y"
        },
        {
         "hovertemplate": "county_name=Jackson<br>elec_date=%{x}<br>value=%{y}<extra></extra>",
         "legendgroup": "Jackson",
         "line": {
          "color": "#636efa",
          "dash": "solid"
         },
         "marker": {
          "symbol": "circle"
         },
         "mode": "lines",
         "name": "Jackson",
         "orientation": "v",
         "showlegend": true,
         "type": "scatter",
         "x": [
          "2012",
          "2014",
          "2016",
          "2018",
          "2020",
          "2022"
         ],
         "xaxis": "x",
         "y": [
          -28.98,
          -20.06,
          -37.15,
          -35.98,
          -38.84,
          -52.54
         ],
         "yaxis": "y"
        },
        {
         "hovertemplate": "county_name=Jefferson<br>elec_date=%{x}<br>value=%{y}<extra></extra>",
         "legendgroup": "Jefferson",
         "line": {
          "color": "#EF553B",
          "dash": "solid"
         },
         "marker": {
          "symbol": "circle"
         },
         "mode": "lines",
         "name": "Jefferson",
         "orientation": "v",
         "showlegend": true,
         "type": "scatter",
         "x": [
          "2012",
          "2014",
          "2016",
          "2018",
          "2020",
          "2022"
         ],
         "xaxis": "x",
         "y": [
          1.75,
          7.14,
          -5.06,
          -6.8,
          -6.87,
          -21.52
         ],
         "yaxis": "y"
        },
        {
         "hovertemplate": "county_name=Lafayette<br>elec_date=%{x}<br>value=%{y}<extra></extra>",
         "legendgroup": "Lafayette",
         "line": {
          "color": "#00cc96",
          "dash": "solid"
         },
         "marker": {
          "symbol": "circle"
         },
         "mode": "lines",
         "name": "Lafayette",
         "orientation": "v",
         "showlegend": true,
         "type": "scatter",
         "x": [
          "2012",
          "2014",
          "2016",
          "2018",
          "2020",
          "2022"
         ],
         "xaxis": "x",
         "y": [
          -58.16,
          -36.68,
          -67.17,
          -68.79,
          -71.57,
          -79.61
         ],
         "yaxis": "y"
        },
        {
         "hovertemplate": "county_name=Lake<br>elec_date=%{x}<br>value=%{y}<extra></extra>",
         "legendgroup": "Lake",
         "line": {
          "color": "#ab63fa",
          "dash": "solid"
         },
         "marker": {
          "symbol": "circle"
         },
         "mode": "lines",
         "name": "Lake",
         "orientation": "v",
         "showlegend": true,
         "type": "scatter",
         "x": [
          "2012",
          "2014",
          "2016",
          "2018",
          "2020",
          "2022"
         ],
         "xaxis": "x",
         "y": [
          -17.14,
          -17.95,
          -23.08,
          -20.85,
          -20.04,
          -33.72
         ],
         "yaxis": "y"
        },
        {
         "hovertemplate": "county_name=Lee<br>elec_date=%{x}<br>value=%{y}<extra></extra>",
         "legendgroup": "Lee",
         "line": {
          "color": "#FFA15A",
          "dash": "solid"
         },
         "marker": {
          "symbol": "circle"
         },
         "mode": "lines",
         "name": "Lee",
         "orientation": "v",
         "showlegend": true,
         "type": "scatter",
         "x": [
          "2012",
          "2014",
          "2016",
          "2018",
          "2020",
          "2022"
         ],
         "xaxis": "x",
         "y": [
          -16.51,
          -20.18,
          -20.42,
          -21.7,
          -19.18,
          -38
         ],
         "yaxis": "y"
        },
        {
         "hovertemplate": "county_name=Leon<br>elec_date=%{x}<br>value=%{y}<extra></extra>",
         "legendgroup": "Leon",
         "line": {
          "color": "#19d3f3",
          "dash": "solid"
         },
         "marker": {
          "symbol": "circle"
         },
         "mode": "lines",
         "name": "Leon",
         "orientation": "v",
         "showlegend": true,
         "type": "scatter",
         "x": [
          "2012",
          "2014",
          "2016",
          "2018",
          "2020",
          "2022"
         ],
         "xaxis": "x",
         "y": [
          23.59,
          26.23,
          24.85,
          27.67,
          28.18,
          15.53
         ],
         "yaxis": "y"
        },
        {
         "hovertemplate": "county_name=Levy<br>elec_date=%{x}<br>value=%{y}<extra></extra>",
         "legendgroup": "Levy",
         "line": {
          "color": "#FF6692",
          "dash": "solid"
         },
         "marker": {
          "symbol": "circle"
         },
         "mode": "lines",
         "name": "Levy",
         "orientation": "v",
         "showlegend": true,
         "type": "scatter",
         "x": [
          "2012",
          "2014",
          "2016",
          "2018",
          "2020",
          "2022"
         ],
         "xaxis": "x",
         "y": [
          -32.16,
          -31.75,
          -44.48,
          -43.07,
          -45.48,
          -57.45
         ],
         "yaxis": "y"
        },
        {
         "hovertemplate": "county_name=Liberty<br>elec_date=%{x}<br>value=%{y}<extra></extra>",
         "legendgroup": "Liberty",
         "line": {
          "color": "#B6E880",
          "dash": "solid"
         },
         "marker": {
          "symbol": "circle"
         },
         "mode": "lines",
         "name": "Liberty",
         "orientation": "v",
         "showlegend": true,
         "type": "scatter",
         "x": [
          "2012",
          "2014",
          "2016",
          "2018",
          "2020",
          "2022"
         ],
         "xaxis": "x",
         "y": [
          -41.32,
          -24.7,
          -57.13,
          -57.16,
          -60.36,
          -71.19
         ],
         "yaxis": "y"
        },
        {
         "hovertemplate": "county_name=Madison<br>elec_date=%{x}<br>value=%{y}<extra></extra>",
         "legendgroup": "Madison",
         "line": {
          "color": "#FF97FF",
          "dash": "solid"
         },
         "marker": {
          "symbol": "circle"
         },
         "mode": "lines",
         "name": "Madison",
         "orientation": "v",
         "showlegend": true,
         "type": "scatter",
         "x": [
          "2012",
          "2014",
          "2016",
          "2018",
          "2020",
          "2022"
         ],
         "xaxis": "x",
         "y": [
          -3.41,
          -1.68,
          -15.52,
          -14.54,
          -19.47,
          -33.92
         ],
         "yaxis": "y"
        },
        {
         "hovertemplate": "county_name=Manatee<br>elec_date=%{x}<br>value=%{y}<extra></extra>",
         "legendgroup": "Manatee",
         "line": {
          "color": "#FECB52",
          "dash": "solid"
         },
         "marker": {
          "symbol": "circle"
         },
         "mode": "lines",
         "name": "Manatee",
         "orientation": "v",
         "showlegend": true,
         "type": "scatter",
         "x": [
          "2012",
          "2014",
          "2016",
          "2018",
          "2020",
          "2022"
         ],
         "xaxis": "x",
         "y": [
          -12.43,
          -10.31,
          -17,
          -15.67,
          -16.01,
          -29.88
         ],
         "yaxis": "y"
        },
        {
         "hovertemplate": "county_name=Marion<br>elec_date=%{x}<br>value=%{y}<extra></extra>",
         "legendgroup": "Marion",
         "line": {
          "color": "#636efa",
          "dash": "solid"
         },
         "marker": {
          "symbol": "circle"
         },
         "mode": "lines",
         "name": "Marion",
         "orientation": "v",
         "showlegend": true,
         "type": "scatter",
         "x": [
          "2012",
          "2014",
          "2016",
          "2018",
          "2020",
          "2022"
         ],
         "xaxis": "x",
         "y": [
          -16.21,
          -16.54,
          -26.03,
          -24.2,
          -25.87,
          -39.02
         ],
         "yaxis": "y"
        },
        {
         "hovertemplate": "county_name=Martin<br>elec_date=%{x}<br>value=%{y}<extra></extra>",
         "legendgroup": "Martin",
         "line": {
          "color": "#EF553B",
          "dash": "solid"
         },
         "marker": {
          "symbol": "circle"
         },
         "mode": "lines",
         "name": "Martin",
         "orientation": "v",
         "showlegend": true,
         "type": "scatter",
         "x": [
          "2012",
          "2014",
          "2016",
          "2018",
          "2020",
          "2022"
         ],
         "xaxis": "x",
         "y": [
          -22.87,
          -15.01,
          -26.57,
          -24.03,
          -24.53,
          -38.43
         ],
         "yaxis": "y"
        },
        {
         "hovertemplate": "county_name=Miami-Dade<br>elec_date=%{x}<br>value=%{y}<extra></extra>",
         "legendgroup": "Miami-Dade",
         "line": {
          "color": "#00cc96",
          "dash": "solid"
         },
         "marker": {
          "symbol": "circle"
         },
         "mode": "lines",
         "name": "Miami-Dade",
         "orientation": "v",
         "showlegend": true,
         "type": "scatter",
         "x": [
          "2012",
          "2014",
          "2016",
          "2018",
          "2020",
          "2022"
         ],
         "xaxis": "x",
         "y": [
          23.71,
          19.09,
          29.39,
          20.93,
          7.34,
          -11.32
         ],
         "yaxis": "y"
        },
        {
         "hovertemplate": "county_name=Monroe<br>elec_date=%{x}<br>value=%{y}<extra></extra>",
         "legendgroup": "Monroe",
         "line": {
          "color": "#ab63fa",
          "dash": "solid"
         },
         "marker": {
          "symbol": "circle"
         },
         "mode": "lines",
         "name": "Monroe",
         "orientation": "v",
         "showlegend": true,
         "type": "scatter",
         "x": [
          "2012",
          "2014",
          "2016",
          "2018",
          "2020",
          "2022"
         ],
         "xaxis": "x",
         "y": [
          0.4,
          4.23,
          -6.82,
          -3.68,
          -7.91,
          -21.07
         ],
         "yaxis": "y"
        },
        {
         "hovertemplate": "county_name=Nassau<br>elec_date=%{x}<br>value=%{y}<extra></extra>",
         "legendgroup": "Nassau",
         "line": {
          "color": "#FFA15A",
          "dash": "solid"
         },
         "marker": {
          "symbol": "circle"
         },
         "mode": "lines",
         "name": "Nassau",
         "orientation": "v",
         "showlegend": true,
         "type": "scatter",
         "x": [
          "2012",
          "2014",
          "2016",
          "2018",
          "2020",
          "2022"
         ],
         "xaxis": "x",
         "y": [
          -48.44,
          -48.39,
          -49.79,
          -46.41,
          -45.83,
          -53.55
         ],
         "yaxis": "y"
        },
        {
         "hovertemplate": "county_name=Okaloosa<br>elec_date=%{x}<br>value=%{y}<extra></extra>",
         "legendgroup": "Okaloosa",
         "line": {
          "color": "#19d3f3",
          "dash": "solid"
         },
         "marker": {
          "symbol": "circle"
         },
         "mode": "lines",
         "name": "Okaloosa",
         "orientation": "v",
         "showlegend": true,
         "type": "scatter",
         "x": [
          "2012",
          "2014",
          "2016",
          "2018",
          "2020",
          "2022"
         ],
         "xaxis": "x",
         "y": [
          -49.17,
          -55.55,
          -47.13,
          -44.7,
          -39.02,
          -53.26
         ],
         "yaxis": "y"
        },
        {
         "hovertemplate": "county_name=Okeechobee<br>elec_date=%{x}<br>value=%{y}<extra></extra>",
         "legendgroup": "Okeechobee",
         "line": {
          "color": "#FF6692",
          "dash": "solid"
         },
         "marker": {
          "symbol": "circle"
         },
         "mode": "lines",
         "name": "Okeechobee",
         "orientation": "v",
         "showlegend": true,
         "type": "scatter",
         "x": [
          "2012",
          "2014",
          "2016",
          "2018",
          "2020",
          "2022"
         ],
         "xaxis": "x",
         "y": [
          -19.99,
          -19.11,
          -39.22,
          -39.31,
          -44.29,
          -61.24
         ],
         "yaxis": "y"
        },
        {
         "hovertemplate": "county_name=Orange<br>elec_date=%{x}<br>value=%{y}<extra></extra>",
         "legendgroup": "Orange",
         "line": {
          "color": "#B6E880",
          "dash": "solid"
         },
         "marker": {
          "symbol": "circle"
         },
         "mode": "lines",
         "name": "Orange",
         "orientation": "v",
         "showlegend": true,
         "type": "scatter",
         "x": [
          "2012",
          "2014",
          "2016",
          "2018",
          "2020",
          "2022"
         ],
         "xaxis": "x",
         "y": [
          18.21,
          11.85,
          24.4,
          25.63,
          23.05,
          7.02
         ],
         "yaxis": "y"
        },
        {
         "hovertemplate": "county_name=Osceola<br>elec_date=%{x}<br>value=%{y}<extra></extra>",
         "legendgroup": "Osceola",
         "line": {
          "color": "#FF97FF",
          "dash": "solid"
         },
         "marker": {
          "symbol": "circle"
         },
         "mode": "lines",
         "name": "Osceola",
         "orientation": "v",
         "showlegend": true,
         "type": "scatter",
         "x": [
          "2012",
          "2014",
          "2016",
          "2018",
          "2020",
          "2022"
         ],
         "xaxis": "x",
         "y": [
          24.46,
          8.78,
          24.85,
          20.92,
          13.78,
          -6.75
         ],
         "yaxis": "y"
        },
        {
         "hovertemplate": "county_name=Palm Beach<br>elec_date=%{x}<br>value=%{y}<extra></extra>",
         "legendgroup": "Palm Beach",
         "line": {
          "color": "#FECB52",
          "dash": "solid"
         },
         "marker": {
          "symbol": "circle"
         },
         "mode": "lines",
         "name": "Palm Beach",
         "orientation": "v",
         "showlegend": true,
         "type": "scatter",
         "x": [
          "2012",
          "2014",
          "2016",
          "2018",
          "2020",
          "2022"
         ],
         "xaxis": "x",
         "y": [
          17.02,
          20.58,
          15.29,
          17.1,
          12.76,
          -2.91
         ],
         "yaxis": "y"
        },
        {
         "hovertemplate": "county_name=Pasco<br>elec_date=%{x}<br>value=%{y}<extra></extra>",
         "legendgroup": "Pasco",
         "line": {
          "color": "#636efa",
          "dash": "solid"
         },
         "marker": {
          "symbol": "circle"
         },
         "mode": "lines",
         "name": "Pasco",
         "orientation": "v",
         "showlegend": true,
         "type": "scatter",
         "x": [
          "2012",
          "2014",
          "2016",
          "2018",
          "2020",
          "2022"
         ],
         "xaxis": "x",
         "y": [
          -6.61,
          -1.77,
          -21.36,
          -16.27,
          -20.01,
          -32.33
         ],
         "yaxis": "y"
        },
        {
         "hovertemplate": "county_name=Pinellas<br>elec_date=%{x}<br>value=%{y}<extra></extra>",
         "legendgroup": "Pinellas",
         "line": {
          "color": "#EF553B",
          "dash": "solid"
         },
         "marker": {
          "symbol": "circle"
         },
         "mode": "lines",
         "name": "Pinellas",
         "orientation": "v",
         "showlegend": true,
         "type": "scatter",
         "x": [
          "2012",
          "2014",
          "2016",
          "2018",
          "2020",
          "2022"
         ],
         "xaxis": "x",
         "y": [
          5.63,
          11.24,
          -1.11,
          3.02,
          0.22,
          -9.85
         ],
         "yaxis": "y"
        },
        {
         "hovertemplate": "county_name=Polk<br>elec_date=%{x}<br>value=%{y}<extra></extra>",
         "legendgroup": "Polk",
         "line": {
          "color": "#00cc96",
          "dash": "solid"
         },
         "marker": {
          "symbol": "circle"
         },
         "mode": "lines",
         "name": "Polk",
         "orientation": "v",
         "showlegend": true,
         "type": "scatter",
         "x": [
          "2012",
          "2014",
          "2016",
          "2018",
          "2020",
          "2022"
         ],
         "xaxis": "x",
         "y": [
          -6.82,
          -9.78,
          -13.94,
          -13.34,
          -14.4,
          -29.6
         ],
         "yaxis": "y"
        },
        {
         "hovertemplate": "county_name=Putnam<br>elec_date=%{x}<br>value=%{y}<extra></extra>",
         "legendgroup": "Putnam",
         "line": {
          "color": "#ab63fa",
          "dash": "solid"
         },
         "marker": {
          "symbol": "circle"
         },
         "mode": "lines",
         "name": "Putnam",
         "orientation": "v",
         "showlegend": true,
         "type": "scatter",
         "x": [
          "2012",
          "2014",
          "2016",
          "2018",
          "2020",
          "2022"
         ],
         "xaxis": "x",
         "y": [
          -24.37,
          -28.83,
          -36.17,
          -34.5,
          -41.15,
          -52.72
         ],
         "yaxis": "y"
        },
        {
         "hovertemplate": "county_name=Santa Rosa<br>elec_date=%{x}<br>value=%{y}<extra></extra>",
         "legendgroup": "Santa Rosa",
         "line": {
          "color": "#FFA15A",
          "dash": "solid"
         },
         "marker": {
          "symbol": "circle"
         },
         "mode": "lines",
         "name": "Santa Rosa",
         "orientation": "v",
         "showlegend": true,
         "type": "scatter",
         "x": [
          "2012",
          "2014",
          "2016",
          "2018",
          "2020",
          "2022"
         ],
         "xaxis": "x",
         "y": [
          -52.45,
          -54.49,
          -52.86,
          -50.16,
          -46.43,
          -59.44
         ],
         "yaxis": "y"
        },
        {
         "hovertemplate": "county_name=Sarasota<br>elec_date=%{x}<br>value=%{y}<extra></extra>",
         "legendgroup": "Sarasota",
         "line": {
          "color": "#19d3f3",
          "dash": "solid"
         },
         "marker": {
          "symbol": "circle"
         },
         "mode": "lines",
         "name": "Sarasota",
         "orientation": "v",
         "showlegend": true,
         "type": "scatter",
         "x": [
          "2012",
          "2014",
          "2016",
          "2018",
          "2020",
          "2022"
         ],
         "xaxis": "x",
         "y": [
          -7.4,
          -3.07,
          -11.48,
          -8.64,
          -10.42,
          -22.27
         ],
         "yaxis": "y"
        },
        {
         "hovertemplate": "county_name=Seminole<br>elec_date=%{x}<br>value=%{y}<extra></extra>",
         "legendgroup": "Seminole",
         "line": {
          "color": "#FF6692",
          "dash": "solid"
         },
         "marker": {
          "symbol": "circle"
         },
         "mode": "lines",
         "name": "Seminole",
         "orientation": "v",
         "showlegend": true,
         "type": "scatter",
         "x": [
          "2012",
          "2014",
          "2016",
          "2018",
          "2020",
          "2022"
         ],
         "xaxis": "x",
         "y": [
          -6.65,
          -7.61,
          -1.63,
          1.79,
          2.79,
          -12.3
         ],
         "yaxis": "y"
        },
        {
         "hovertemplate": "county_name=St. Johns<br>elec_date=%{x}<br>value=%{y}<extra></extra>",
         "legendgroup": "St. Johns",
         "line": {
          "color": "#B6E880",
          "dash": "solid"
         },
         "marker": {
          "symbol": "circle"
         },
         "mode": "lines",
         "name": "St. Johns",
         "orientation": "v",
         "showlegend": true,
         "type": "scatter",
         "x": [
          "2012",
          "2014",
          "2016",
          "2018",
          "2020",
          "2022"
         ],
         "xaxis": "x",
         "y": [
          -37.66,
          -38.32,
          -33.07,
          -28.57,
          -26.6,
          -40.23
         ],
         "yaxis": "y"
        },
        {
         "hovertemplate": "county_name=St. Lucie<br>elec_date=%{x}<br>value=%{y}<extra></extra>",
         "legendgroup": "St. Lucie",
         "line": {
          "color": "#FF97FF",
          "dash": "solid"
         },
         "marker": {
          "symbol": "circle"
         },
         "mode": "lines",
         "name": "St. Lucie",
         "orientation": "v",
         "showlegend": true,
         "type": "scatter",
         "x": [
          "2012",
          "2014",
          "2016",
          "2018",
          "2020",
          "2022"
         ],
         "xaxis": "x",
         "y": [
          7.84,
          9.43,
          -2.4,
          3.72,
          -1.56,
          -19.14
         ],
         "yaxis": "y"
        },
        {
         "hovertemplate": "county_name=Sumter<br>elec_date=%{x}<br>value=%{y}<extra></extra>",
         "legendgroup": "Sumter",
         "line": {
          "color": "#FECB52",
          "dash": "solid"
         },
         "marker": {
          "symbol": "circle"
         },
         "mode": "lines",
         "name": "Sumter",
         "orientation": "v",
         "showlegend": true,
         "type": "scatter",
         "x": [
          "2012",
          "2014",
          "2016",
          "2018",
          "2020",
          "2022"
         ],
         "xaxis": "x",
         "y": [
          -34.89,
          -39.41,
          -38.96,
          -40.24,
          -36.08,
          -46.7
         ],
         "yaxis": "y"
        },
        {
         "hovertemplate": "county_name=Suwannee<br>elec_date=%{x}<br>value=%{y}<extra></extra>",
         "legendgroup": "Suwannee",
         "line": {
          "color": "#636efa",
          "dash": "solid"
         },
         "marker": {
          "symbol": "circle"
         },
         "mode": "lines",
         "name": "Suwannee",
         "orientation": "v",
         "showlegend": true,
         "type": "scatter",
         "x": [
          "2012",
          "2014",
          "2016",
          "2018",
          "2020",
          "2022"
         ],
         "xaxis": "x",
         "y": [
          -44.93,
          -37.85,
          -54.95,
          -55.19,
          -56.63,
          -67.2
         ],
         "yaxis": "y"
        },
        {
         "hovertemplate": "county_name=Taylor<br>elec_date=%{x}<br>value=%{y}<extra></extra>",
         "legendgroup": "Taylor",
         "line": {
          "color": "#EF553B",
          "dash": "solid"
         },
         "marker": {
          "symbol": "circle"
         },
         "mode": "lines",
         "name": "Taylor",
         "orientation": "v",
         "showlegend": true,
         "type": "scatter",
         "x": [
          "2012",
          "2014",
          "2016",
          "2018",
          "2020",
          "2022"
         ],
         "xaxis": "x",
         "y": [
          -38.13,
          -32.17,
          -51.11,
          -51.13,
          -53.78,
          -66.02
         ],
         "yaxis": "y"
        },
        {
         "hovertemplate": "county_name=Union<br>elec_date=%{x}<br>value=%{y}<extra></extra>",
         "legendgroup": "Union",
         "line": {
          "color": "#00cc96",
          "dash": "solid"
         },
         "marker": {
          "symbol": "circle"
         },
         "mode": "lines",
         "name": "Union",
         "orientation": "v",
         "showlegend": true,
         "type": "scatter",
         "x": [
          "2012",
          "2014",
          "2016",
          "2018",
          "2020",
          "2022"
         ],
         "xaxis": "x",
         "y": [
          -48.84,
          -17.4,
          -62.11,
          -58.86,
          -65.27,
          -75.71
         ],
         "yaxis": "y"
        },
        {
         "hovertemplate": "county_name=Volusia<br>elec_date=%{x}<br>value=%{y}<extra></extra>",
         "legendgroup": "Volusia",
         "line": {
          "color": "#ab63fa",
          "dash": "solid"
         },
         "marker": {
          "symbol": "circle"
         },
         "mode": "lines",
         "name": "Volusia",
         "orientation": "v",
         "showlegend": true,
         "type": "scatter",
         "x": [
          "2012",
          "2014",
          "2016",
          "2018",
          "2020",
          "2022"
         ],
         "xaxis": "x",
         "y": [
          -1.17,
          -3.65,
          -12.88,
          -10.62,
          -14.04,
          -28.64
         ],
         "yaxis": "y"
        },
        {
         "hovertemplate": "county_name=Wakulla<br>elec_date=%{x}<br>value=%{y}<extra></extra>",
         "legendgroup": "Wakulla",
         "line": {
          "color": "#FFA15A",
          "dash": "solid"
         },
         "marker": {
          "symbol": "circle"
         },
         "mode": "lines",
         "name": "Wakulla",
         "orientation": "v",
         "showlegend": true,
         "type": "scatter",
         "x": [
          "2012",
          "2014",
          "2016",
          "2018",
          "2020",
          "2022"
         ],
         "xaxis": "x",
         "y": [
          -28,
          -16.27,
          -39.91,
          -39.38,
          -40.78,
          -47.22
         ],
         "yaxis": "y"
        },
        {
         "hovertemplate": "county_name=Walton<br>elec_date=%{x}<br>value=%{y}<extra></extra>",
         "legendgroup": "Walton",
         "line": {
          "color": "#19d3f3",
          "dash": "solid"
         },
         "marker": {
          "symbol": "circle"
         },
         "mode": "lines",
         "name": "Walton",
         "orientation": "v",
         "showlegend": true,
         "type": "scatter",
         "x": [
          "2012",
          "2014",
          "2016",
          "2018",
          "2020",
          "2022"
         ],
         "xaxis": "x",
         "y": [
          -51.85,
          -52.93,
          -55.7,
          -52.4,
          -51.62,
          -64.57
         ],
         "yaxis": "y"
        },
        {
         "hovertemplate": "county_name=Washington<br>elec_date=%{x}<br>value=%{y}<extra></extra>",
         "legendgroup": "Washington",
         "line": {
          "color": "#FF6692",
          "dash": "solid"
         },
         "marker": {
          "symbol": "circle"
         },
         "mode": "lines",
         "name": "Washington",
         "orientation": "v",
         "showlegend": true,
         "type": "scatter",
         "x": [
          "2012",
          "2014",
          "2016",
          "2018",
          "2020",
          "2022"
         ],
         "xaxis": "x",
         "y": [
          -47.26,
          -45.45,
          -56.85,
          -56.87,
          -61.04,
          -71.24
         ],
         "yaxis": "y"
        },
        {
         "hovertemplate": "county_name=Statewide<br>elec_date=%{x}<br>value=%{y}<extra></extra>",
         "legendgroup": "Statewide",
         "line": {
          "color": "#B6E880",
          "dash": "solid"
         },
         "marker": {
          "symbol": "circle"
         },
         "mode": "lines",
         "name": "Statewide",
         "orientation": "v",
         "showlegend": true,
         "type": "scatter",
         "x": [
          "2012",
          "2014",
          "2016",
          "2018",
          "2020",
          "2022"
         ],
         "xaxis": "x",
         "y": [
          0.8725,
          -1.0824,
          -1.181,
          -0.3941,
          -3.3512,
          -19.4031
         ],
         "yaxis": "y"
        }
       ],
       "layout": {
        "legend": {
         "title": {
          "text": "county_name"
         },
         "tracegroupgap": 0
        },
        "margin": {
         "t": 60
        },
        "template": {
         "data": {
          "bar": [
           {
            "error_x": {
             "color": "#2a3f5f"
            },
            "error_y": {
             "color": "#2a3f5f"
            },
            "marker": {
             "line": {
              "color": "#E5ECF6",
              "width": 0.5
             },
             "pattern": {
              "fillmode": "overlay",
              "size": 10,
              "solidity": 0.2
             }
            },
            "type": "bar"
           }
          ],
          "barpolar": [
           {
            "marker": {
             "line": {
              "color": "#E5ECF6",
              "width": 0.5
             },
             "pattern": {
              "fillmode": "overlay",
              "size": 10,
              "solidity": 0.2
             }
            },
            "type": "barpolar"
           }
          ],
          "carpet": [
           {
            "aaxis": {
             "endlinecolor": "#2a3f5f",
             "gridcolor": "white",
             "linecolor": "white",
             "minorgridcolor": "white",
             "startlinecolor": "#2a3f5f"
            },
            "baxis": {
             "endlinecolor": "#2a3f5f",
             "gridcolor": "white",
             "linecolor": "white",
             "minorgridcolor": "white",
             "startlinecolor": "#2a3f5f"
            },
            "type": "carpet"
           }
          ],
          "choropleth": [
           {
            "colorbar": {
             "outlinewidth": 0,
             "ticks": ""
            },
            "type": "choropleth"
           }
          ],
          "contour": [
           {
            "colorbar": {
             "outlinewidth": 0,
             "ticks": ""
            },
            "colorscale": [
             [
              0,
              "#0d0887"
             ],
             [
              0.1111111111111111,
              "#46039f"
             ],
             [
              0.2222222222222222,
              "#7201a8"
             ],
             [
              0.3333333333333333,
              "#9c179e"
             ],
             [
              0.4444444444444444,
              "#bd3786"
             ],
             [
              0.5555555555555556,
              "#d8576b"
             ],
             [
              0.6666666666666666,
              "#ed7953"
             ],
             [
              0.7777777777777778,
              "#fb9f3a"
             ],
             [
              0.8888888888888888,
              "#fdca26"
             ],
             [
              1,
              "#f0f921"
             ]
            ],
            "type": "contour"
           }
          ],
          "contourcarpet": [
           {
            "colorbar": {
             "outlinewidth": 0,
             "ticks": ""
            },
            "type": "contourcarpet"
           }
          ],
          "heatmap": [
           {
            "colorbar": {
             "outlinewidth": 0,
             "ticks": ""
            },
            "colorscale": [
             [
              0,
              "#0d0887"
             ],
             [
              0.1111111111111111,
              "#46039f"
             ],
             [
              0.2222222222222222,
              "#7201a8"
             ],
             [
              0.3333333333333333,
              "#9c179e"
             ],
             [
              0.4444444444444444,
              "#bd3786"
             ],
             [
              0.5555555555555556,
              "#d8576b"
             ],
             [
              0.6666666666666666,
              "#ed7953"
             ],
             [
              0.7777777777777778,
              "#fb9f3a"
             ],
             [
              0.8888888888888888,
              "#fdca26"
             ],
             [
              1,
              "#f0f921"
             ]
            ],
            "type": "heatmap"
           }
          ],
          "heatmapgl": [
           {
            "colorbar": {
             "outlinewidth": 0,
             "ticks": ""
            },
            "colorscale": [
             [
              0,
              "#0d0887"
             ],
             [
              0.1111111111111111,
              "#46039f"
             ],
             [
              0.2222222222222222,
              "#7201a8"
             ],
             [
              0.3333333333333333,
              "#9c179e"
             ],
             [
              0.4444444444444444,
              "#bd3786"
             ],
             [
              0.5555555555555556,
              "#d8576b"
             ],
             [
              0.6666666666666666,
              "#ed7953"
             ],
             [
              0.7777777777777778,
              "#fb9f3a"
             ],
             [
              0.8888888888888888,
              "#fdca26"
             ],
             [
              1,
              "#f0f921"
             ]
            ],
            "type": "heatmapgl"
           }
          ],
          "histogram": [
           {
            "marker": {
             "pattern": {
              "fillmode": "overlay",
              "size": 10,
              "solidity": 0.2
             }
            },
            "type": "histogram"
           }
          ],
          "histogram2d": [
           {
            "colorbar": {
             "outlinewidth": 0,
             "ticks": ""
            },
            "colorscale": [
             [
              0,
              "#0d0887"
             ],
             [
              0.1111111111111111,
              "#46039f"
             ],
             [
              0.2222222222222222,
              "#7201a8"
             ],
             [
              0.3333333333333333,
              "#9c179e"
             ],
             [
              0.4444444444444444,
              "#bd3786"
             ],
             [
              0.5555555555555556,
              "#d8576b"
             ],
             [
              0.6666666666666666,
              "#ed7953"
             ],
             [
              0.7777777777777778,
              "#fb9f3a"
             ],
             [
              0.8888888888888888,
              "#fdca26"
             ],
             [
              1,
              "#f0f921"
             ]
            ],
            "type": "histogram2d"
           }
          ],
          "histogram2dcontour": [
           {
            "colorbar": {
             "outlinewidth": 0,
             "ticks": ""
            },
            "colorscale": [
             [
              0,
              "#0d0887"
             ],
             [
              0.1111111111111111,
              "#46039f"
             ],
             [
              0.2222222222222222,
              "#7201a8"
             ],
             [
              0.3333333333333333,
              "#9c179e"
             ],
             [
              0.4444444444444444,
              "#bd3786"
             ],
             [
              0.5555555555555556,
              "#d8576b"
             ],
             [
              0.6666666666666666,
              "#ed7953"
             ],
             [
              0.7777777777777778,
              "#fb9f3a"
             ],
             [
              0.8888888888888888,
              "#fdca26"
             ],
             [
              1,
              "#f0f921"
             ]
            ],
            "type": "histogram2dcontour"
           }
          ],
          "mesh3d": [
           {
            "colorbar": {
             "outlinewidth": 0,
             "ticks": ""
            },
            "type": "mesh3d"
           }
          ],
          "parcoords": [
           {
            "line": {
             "colorbar": {
              "outlinewidth": 0,
              "ticks": ""
             }
            },
            "type": "parcoords"
           }
          ],
          "pie": [
           {
            "automargin": true,
            "type": "pie"
           }
          ],
          "scatter": [
           {
            "fillpattern": {
             "fillmode": "overlay",
             "size": 10,
             "solidity": 0.2
            },
            "type": "scatter"
           }
          ],
          "scatter3d": [
           {
            "line": {
             "colorbar": {
              "outlinewidth": 0,
              "ticks": ""
             }
            },
            "marker": {
             "colorbar": {
              "outlinewidth": 0,
              "ticks": ""
             }
            },
            "type": "scatter3d"
           }
          ],
          "scattercarpet": [
           {
            "marker": {
             "colorbar": {
              "outlinewidth": 0,
              "ticks": ""
             }
            },
            "type": "scattercarpet"
           }
          ],
          "scattergeo": [
           {
            "marker": {
             "colorbar": {
              "outlinewidth": 0,
              "ticks": ""
             }
            },
            "type": "scattergeo"
           }
          ],
          "scattergl": [
           {
            "marker": {
             "colorbar": {
              "outlinewidth": 0,
              "ticks": ""
             }
            },
            "type": "scattergl"
           }
          ],
          "scattermapbox": [
           {
            "marker": {
             "colorbar": {
              "outlinewidth": 0,
              "ticks": ""
             }
            },
            "type": "scattermapbox"
           }
          ],
          "scatterpolar": [
           {
            "marker": {
             "colorbar": {
              "outlinewidth": 0,
              "ticks": ""
             }
            },
            "type": "scatterpolar"
           }
          ],
          "scatterpolargl": [
           {
            "marker": {
             "colorbar": {
              "outlinewidth": 0,
              "ticks": ""
             }
            },
            "type": "scatterpolargl"
           }
          ],
          "scatterternary": [
           {
            "marker": {
             "colorbar": {
              "outlinewidth": 0,
              "ticks": ""
             }
            },
            "type": "scatterternary"
           }
          ],
          "surface": [
           {
            "colorbar": {
             "outlinewidth": 0,
             "ticks": ""
            },
            "colorscale": [
             [
              0,
              "#0d0887"
             ],
             [
              0.1111111111111111,
              "#46039f"
             ],
             [
              0.2222222222222222,
              "#7201a8"
             ],
             [
              0.3333333333333333,
              "#9c179e"
             ],
             [
              0.4444444444444444,
              "#bd3786"
             ],
             [
              0.5555555555555556,
              "#d8576b"
             ],
             [
              0.6666666666666666,
              "#ed7953"
             ],
             [
              0.7777777777777778,
              "#fb9f3a"
             ],
             [
              0.8888888888888888,
              "#fdca26"
             ],
             [
              1,
              "#f0f921"
             ]
            ],
            "type": "surface"
           }
          ],
          "table": [
           {
            "cells": {
             "fill": {
              "color": "#EBF0F8"
             },
             "line": {
              "color": "white"
             }
            },
            "header": {
             "fill": {
              "color": "#C8D4E3"
             },
             "line": {
              "color": "white"
             }
            },
            "type": "table"
           }
          ]
         },
         "layout": {
          "annotationdefaults": {
           "arrowcolor": "#2a3f5f",
           "arrowhead": 0,
           "arrowwidth": 1
          },
          "autotypenumbers": "strict",
          "coloraxis": {
           "colorbar": {
            "outlinewidth": 0,
            "ticks": ""
           }
          },
          "colorscale": {
           "diverging": [
            [
             0,
             "#8e0152"
            ],
            [
             0.1,
             "#c51b7d"
            ],
            [
             0.2,
             "#de77ae"
            ],
            [
             0.3,
             "#f1b6da"
            ],
            [
             0.4,
             "#fde0ef"
            ],
            [
             0.5,
             "#f7f7f7"
            ],
            [
             0.6,
             "#e6f5d0"
            ],
            [
             0.7,
             "#b8e186"
            ],
            [
             0.8,
             "#7fbc41"
            ],
            [
             0.9,
             "#4d9221"
            ],
            [
             1,
             "#276419"
            ]
           ],
           "sequential": [
            [
             0,
             "#0d0887"
            ],
            [
             0.1111111111111111,
             "#46039f"
            ],
            [
             0.2222222222222222,
             "#7201a8"
            ],
            [
             0.3333333333333333,
             "#9c179e"
            ],
            [
             0.4444444444444444,
             "#bd3786"
            ],
            [
             0.5555555555555556,
             "#d8576b"
            ],
            [
             0.6666666666666666,
             "#ed7953"
            ],
            [
             0.7777777777777778,
             "#fb9f3a"
            ],
            [
             0.8888888888888888,
             "#fdca26"
            ],
            [
             1,
             "#f0f921"
            ]
           ],
           "sequentialminus": [
            [
             0,
             "#0d0887"
            ],
            [
             0.1111111111111111,
             "#46039f"
            ],
            [
             0.2222222222222222,
             "#7201a8"
            ],
            [
             0.3333333333333333,
             "#9c179e"
            ],
            [
             0.4444444444444444,
             "#bd3786"
            ],
            [
             0.5555555555555556,
             "#d8576b"
            ],
            [
             0.6666666666666666,
             "#ed7953"
            ],
            [
             0.7777777777777778,
             "#fb9f3a"
            ],
            [
             0.8888888888888888,
             "#fdca26"
            ],
            [
             1,
             "#f0f921"
            ]
           ]
          },
          "colorway": [
           "#636efa",
           "#EF553B",
           "#00cc96",
           "#ab63fa",
           "#FFA15A",
           "#19d3f3",
           "#FF6692",
           "#B6E880",
           "#FF97FF",
           "#FECB52"
          ],
          "font": {
           "color": "#2a3f5f"
          },
          "geo": {
           "bgcolor": "white",
           "lakecolor": "white",
           "landcolor": "#E5ECF6",
           "showlakes": true,
           "showland": true,
           "subunitcolor": "white"
          },
          "hoverlabel": {
           "align": "left"
          },
          "hovermode": "closest",
          "mapbox": {
           "style": "light"
          },
          "paper_bgcolor": "white",
          "plot_bgcolor": "#E5ECF6",
          "polar": {
           "angularaxis": {
            "gridcolor": "white",
            "linecolor": "white",
            "ticks": ""
           },
           "bgcolor": "#E5ECF6",
           "radialaxis": {
            "gridcolor": "white",
            "linecolor": "white",
            "ticks": ""
           }
          },
          "scene": {
           "xaxis": {
            "backgroundcolor": "#E5ECF6",
            "gridcolor": "white",
            "gridwidth": 2,
            "linecolor": "white",
            "showbackground": true,
            "ticks": "",
            "zerolinecolor": "white"
           },
           "yaxis": {
            "backgroundcolor": "#E5ECF6",
            "gridcolor": "white",
            "gridwidth": 2,
            "linecolor": "white",
            "showbackground": true,
            "ticks": "",
            "zerolinecolor": "white"
           },
           "zaxis": {
            "backgroundcolor": "#E5ECF6",
            "gridcolor": "white",
            "gridwidth": 2,
            "linecolor": "white",
            "showbackground": true,
            "ticks": "",
            "zerolinecolor": "white"
           }
          },
          "shapedefaults": {
           "line": {
            "color": "#2a3f5f"
           }
          },
          "ternary": {
           "aaxis": {
            "gridcolor": "white",
            "linecolor": "white",
            "ticks": ""
           },
           "baxis": {
            "gridcolor": "white",
            "linecolor": "white",
            "ticks": ""
           },
           "bgcolor": "#E5ECF6",
           "caxis": {
            "gridcolor": "white",
            "linecolor": "white",
            "ticks": ""
           }
          },
          "title": {
           "x": 0.05
          },
          "xaxis": {
           "automargin": true,
           "gridcolor": "white",
           "linecolor": "white",
           "ticks": "",
           "title": {
            "standoff": 15
           },
           "zerolinecolor": "white",
           "zerolinewidth": 2
          },
          "yaxis": {
           "automargin": true,
           "gridcolor": "white",
           "linecolor": "white",
           "ticks": "",
           "title": {
            "standoff": 15
           },
           "zerolinecolor": "white",
           "zerolinewidth": 2
          }
         }
        },
        "xaxis": {
         "anchor": "y",
         "domain": [
          0,
          1
         ],
         "title": {
          "text": "elec_date"
         }
        },
        "yaxis": {
         "anchor": "x",
         "domain": [
          0,
          1
         ],
         "title": {
          "text": "value"
         }
        }
       }
      }
     },
     "metadata": {},
     "output_type": "display_data"
    }
   ],
   "source": [
    "fig_scatter = px.line(df_correlation, x=df_correlation.index, y=df_correlation.columns)\n",
    "fig_scatter.show()"
   ]
  },
  {
   "cell_type": "code",
   "execution_count": 357,
   "metadata": {},
   "outputs": [
    {
     "data": {
      "text/html": [
       "<div>\n",
       "<style scoped>\n",
       "    .dataframe tbody tr th:only-of-type {\n",
       "        vertical-align: middle;\n",
       "    }\n",
       "\n",
       "    .dataframe tbody tr th {\n",
       "        vertical-align: top;\n",
       "    }\n",
       "\n",
       "    .dataframe thead th {\n",
       "        text-align: right;\n",
       "    }\n",
       "</style>\n",
       "<table border=\"1\" class=\"dataframe\">\n",
       "  <thead>\n",
       "    <tr style=\"text-align: right;\">\n",
       "      <th>county_name</th>\n",
       "      <th>Alachua</th>\n",
       "      <th>Baker</th>\n",
       "      <th>Bay</th>\n",
       "      <th>Bradford</th>\n",
       "      <th>Brevard</th>\n",
       "      <th>Broward</th>\n",
       "      <th>Calhoun</th>\n",
       "      <th>Charlotte</th>\n",
       "      <th>Citrus</th>\n",
       "      <th>Clay</th>\n",
       "      <th>...</th>\n",
       "      <th>St. Lucie</th>\n",
       "      <th>Sumter</th>\n",
       "      <th>Suwannee</th>\n",
       "      <th>Taylor</th>\n",
       "      <th>Union</th>\n",
       "      <th>Volusia</th>\n",
       "      <th>Wakulla</th>\n",
       "      <th>Walton</th>\n",
       "      <th>Washington</th>\n",
       "      <th>Statewide</th>\n",
       "    </tr>\n",
       "    <tr>\n",
       "      <th>county_name</th>\n",
       "      <th></th>\n",
       "      <th></th>\n",
       "      <th></th>\n",
       "      <th></th>\n",
       "      <th></th>\n",
       "      <th></th>\n",
       "      <th></th>\n",
       "      <th></th>\n",
       "      <th></th>\n",
       "      <th></th>\n",
       "      <th></th>\n",
       "      <th></th>\n",
       "      <th></th>\n",
       "      <th></th>\n",
       "      <th></th>\n",
       "      <th></th>\n",
       "      <th></th>\n",
       "      <th></th>\n",
       "      <th></th>\n",
       "      <th></th>\n",
       "      <th></th>\n",
       "    </tr>\n",
       "  </thead>\n",
       "  <tbody>\n",
       "    <tr>\n",
       "      <th>Alachua</th>\n",
       "      <td>1.000000</td>\n",
       "      <td>-0.198833</td>\n",
       "      <td>0.621051</td>\n",
       "      <td>-0.083705</td>\n",
       "      <td>0.167443</td>\n",
       "      <td>0.337040</td>\n",
       "      <td>-0.242602</td>\n",
       "      <td>-0.072469</td>\n",
       "      <td>-0.320338</td>\n",
       "      <td>0.974751</td>\n",
       "      <td>...</td>\n",
       "      <td>0.186989</td>\n",
       "      <td>0.376215</td>\n",
       "      <td>-0.188539</td>\n",
       "      <td>-0.184181</td>\n",
       "      <td>-0.300064</td>\n",
       "      <td>0.061526</td>\n",
       "      <td>-0.351974</td>\n",
       "      <td>0.531340</td>\n",
       "      <td>-0.105119</td>\n",
       "      <td>0.436550</td>\n",
       "    </tr>\n",
       "    <tr>\n",
       "      <th>Baker</th>\n",
       "      <td>-0.198833</td>\n",
       "      <td>1.000000</td>\n",
       "      <td>0.393320</td>\n",
       "      <td>0.984978</td>\n",
       "      <td>0.862225</td>\n",
       "      <td>0.815969</td>\n",
       "      <td>0.985069</td>\n",
       "      <td>0.929404</td>\n",
       "      <td>0.956573</td>\n",
       "      <td>-0.195506</td>\n",
       "      <td>...</td>\n",
       "      <td>0.872081</td>\n",
       "      <td>0.497381</td>\n",
       "      <td>0.982047</td>\n",
       "      <td>0.972590</td>\n",
       "      <td>0.971079</td>\n",
       "      <td>0.867648</td>\n",
       "      <td>0.969724</td>\n",
       "      <td>0.623971</td>\n",
       "      <td>0.948159</td>\n",
       "      <td>0.703113</td>\n",
       "    </tr>\n",
       "    <tr>\n",
       "      <th>Bay</th>\n",
       "      <td>0.621051</td>\n",
       "      <td>0.393320</td>\n",
       "      <td>1.000000</td>\n",
       "      <td>0.522322</td>\n",
       "      <td>0.753085</td>\n",
       "      <td>0.765142</td>\n",
       "      <td>0.441767</td>\n",
       "      <td>0.625602</td>\n",
       "      <td>0.376498</td>\n",
       "      <td>0.704763</td>\n",
       "      <td>...</td>\n",
       "      <td>0.745536</td>\n",
       "      <td>0.945471</td>\n",
       "      <td>0.480900</td>\n",
       "      <td>0.507747</td>\n",
       "      <td>0.214604</td>\n",
       "      <td>0.738586</td>\n",
       "      <td>0.279098</td>\n",
       "      <td>0.925696</td>\n",
       "      <td>0.592156</td>\n",
       "      <td>0.904878</td>\n",
       "    </tr>\n",
       "    <tr>\n",
       "      <th>Bradford</th>\n",
       "      <td>-0.083705</td>\n",
       "      <td>0.984978</td>\n",
       "      <td>0.522322</td>\n",
       "      <td>1.000000</td>\n",
       "      <td>0.927451</td>\n",
       "      <td>0.880770</td>\n",
       "      <td>0.984666</td>\n",
       "      <td>0.967505</td>\n",
       "      <td>0.957023</td>\n",
       "      <td>-0.062642</td>\n",
       "      <td>...</td>\n",
       "      <td>0.942651</td>\n",
       "      <td>0.604302</td>\n",
       "      <td>0.987490</td>\n",
       "      <td>0.986269</td>\n",
       "      <td>0.932736</td>\n",
       "      <td>0.935353</td>\n",
       "      <td>0.944653</td>\n",
       "      <td>0.734310</td>\n",
       "      <td>0.980462</td>\n",
       "      <td>0.798159</td>\n",
       "    </tr>\n",
       "    <tr>\n",
       "      <th>Brevard</th>\n",
       "      <td>0.167443</td>\n",
       "      <td>0.862225</td>\n",
       "      <td>0.753085</td>\n",
       "      <td>0.927451</td>\n",
       "      <td>1.000000</td>\n",
       "      <td>0.885702</td>\n",
       "      <td>0.884691</td>\n",
       "      <td>0.968364</td>\n",
       "      <td>0.870050</td>\n",
       "      <td>0.243409</td>\n",
       "      <td>...</td>\n",
       "      <td>0.981229</td>\n",
       "      <td>0.822436</td>\n",
       "      <td>0.918688</td>\n",
       "      <td>0.924546</td>\n",
       "      <td>0.786349</td>\n",
       "      <td>0.966422</td>\n",
       "      <td>0.827439</td>\n",
       "      <td>0.917068</td>\n",
       "      <td>0.933365</td>\n",
       "      <td>0.889938</td>\n",
       "    </tr>\n",
       "    <tr>\n",
       "      <th>...</th>\n",
       "      <td>...</td>\n",
       "      <td>...</td>\n",
       "      <td>...</td>\n",
       "      <td>...</td>\n",
       "      <td>...</td>\n",
       "      <td>...</td>\n",
       "      <td>...</td>\n",
       "      <td>...</td>\n",
       "      <td>...</td>\n",
       "      <td>...</td>\n",
       "      <td>...</td>\n",
       "      <td>...</td>\n",
       "      <td>...</td>\n",
       "      <td>...</td>\n",
       "      <td>...</td>\n",
       "      <td>...</td>\n",
       "      <td>...</td>\n",
       "      <td>...</td>\n",
       "      <td>...</td>\n",
       "      <td>...</td>\n",
       "      <td>...</td>\n",
       "    </tr>\n",
       "    <tr>\n",
       "      <th>Volusia</th>\n",
       "      <td>0.061526</td>\n",
       "      <td>0.867648</td>\n",
       "      <td>0.738586</td>\n",
       "      <td>0.935353</td>\n",
       "      <td>0.966422</td>\n",
       "      <td>0.899879</td>\n",
       "      <td>0.915323</td>\n",
       "      <td>0.974941</td>\n",
       "      <td>0.892279</td>\n",
       "      <td>0.134320</td>\n",
       "      <td>...</td>\n",
       "      <td>0.979626</td>\n",
       "      <td>0.806871</td>\n",
       "      <td>0.923940</td>\n",
       "      <td>0.943034</td>\n",
       "      <td>0.760233</td>\n",
       "      <td>1.000000</td>\n",
       "      <td>0.821876</td>\n",
       "      <td>0.859115</td>\n",
       "      <td>0.975326</td>\n",
       "      <td>0.904736</td>\n",
       "    </tr>\n",
       "    <tr>\n",
       "      <th>Wakulla</th>\n",
       "      <td>-0.351974</td>\n",
       "      <td>0.969724</td>\n",
       "      <td>0.279098</td>\n",
       "      <td>0.944653</td>\n",
       "      <td>0.827439</td>\n",
       "      <td>0.677971</td>\n",
       "      <td>0.970145</td>\n",
       "      <td>0.917975</td>\n",
       "      <td>0.983302</td>\n",
       "      <td>-0.315094</td>\n",
       "      <td>...</td>\n",
       "      <td>0.809113</td>\n",
       "      <td>0.445064</td>\n",
       "      <td>0.973934</td>\n",
       "      <td>0.962582</td>\n",
       "      <td>0.981901</td>\n",
       "      <td>0.821876</td>\n",
       "      <td>1.000000</td>\n",
       "      <td>0.539797</td>\n",
       "      <td>0.911931</td>\n",
       "      <td>0.570829</td>\n",
       "    </tr>\n",
       "    <tr>\n",
       "      <th>Walton</th>\n",
       "      <td>0.531340</td>\n",
       "      <td>0.623971</td>\n",
       "      <td>0.925696</td>\n",
       "      <td>0.734310</td>\n",
       "      <td>0.917068</td>\n",
       "      <td>0.870078</td>\n",
       "      <td>0.643339</td>\n",
       "      <td>0.798087</td>\n",
       "      <td>0.604089</td>\n",
       "      <td>0.604744</td>\n",
       "      <td>...</td>\n",
       "      <td>0.903974</td>\n",
       "      <td>0.899429</td>\n",
       "      <td>0.693213</td>\n",
       "      <td>0.705662</td>\n",
       "      <td>0.505741</td>\n",
       "      <td>0.859115</td>\n",
       "      <td>0.539797</td>\n",
       "      <td>1.000000</td>\n",
       "      <td>0.751730</td>\n",
       "      <td>0.938599</td>\n",
       "    </tr>\n",
       "    <tr>\n",
       "      <th>Washington</th>\n",
       "      <td>-0.105119</td>\n",
       "      <td>0.948159</td>\n",
       "      <td>0.592156</td>\n",
       "      <td>0.980462</td>\n",
       "      <td>0.933365</td>\n",
       "      <td>0.874839</td>\n",
       "      <td>0.980037</td>\n",
       "      <td>0.984042</td>\n",
       "      <td>0.955769</td>\n",
       "      <td>-0.056665</td>\n",
       "      <td>...</td>\n",
       "      <td>0.950530</td>\n",
       "      <td>0.687552</td>\n",
       "      <td>0.976779</td>\n",
       "      <td>0.987735</td>\n",
       "      <td>0.866236</td>\n",
       "      <td>0.975326</td>\n",
       "      <td>0.911931</td>\n",
       "      <td>0.751730</td>\n",
       "      <td>1.000000</td>\n",
       "      <td>0.830744</td>\n",
       "    </tr>\n",
       "    <tr>\n",
       "      <th>Statewide</th>\n",
       "      <td>0.436550</td>\n",
       "      <td>0.703113</td>\n",
       "      <td>0.904878</td>\n",
       "      <td>0.798159</td>\n",
       "      <td>0.889938</td>\n",
       "      <td>0.964227</td>\n",
       "      <td>0.723705</td>\n",
       "      <td>0.818438</td>\n",
       "      <td>0.643911</td>\n",
       "      <td>0.467924</td>\n",
       "      <td>...</td>\n",
       "      <td>0.925193</td>\n",
       "      <td>0.854372</td>\n",
       "      <td>0.738565</td>\n",
       "      <td>0.758421</td>\n",
       "      <td>0.541547</td>\n",
       "      <td>0.904736</td>\n",
       "      <td>0.570829</td>\n",
       "      <td>0.938599</td>\n",
       "      <td>0.830744</td>\n",
       "      <td>1.000000</td>\n",
       "    </tr>\n",
       "  </tbody>\n",
       "</table>\n",
       "<p>68 rows × 68 columns</p>\n",
       "</div>"
      ],
      "text/plain": [
       "county_name   Alachua     Baker       Bay  Bradford   Brevard   Broward  \\\n",
       "county_name                                                               \n",
       "Alachua      1.000000 -0.198833  0.621051 -0.083705  0.167443  0.337040   \n",
       "Baker       -0.198833  1.000000  0.393320  0.984978  0.862225  0.815969   \n",
       "Bay          0.621051  0.393320  1.000000  0.522322  0.753085  0.765142   \n",
       "Bradford    -0.083705  0.984978  0.522322  1.000000  0.927451  0.880770   \n",
       "Brevard      0.167443  0.862225  0.753085  0.927451  1.000000  0.885702   \n",
       "...               ...       ...       ...       ...       ...       ...   \n",
       "Volusia      0.061526  0.867648  0.738586  0.935353  0.966422  0.899879   \n",
       "Wakulla     -0.351974  0.969724  0.279098  0.944653  0.827439  0.677971   \n",
       "Walton       0.531340  0.623971  0.925696  0.734310  0.917068  0.870078   \n",
       "Washington  -0.105119  0.948159  0.592156  0.980462  0.933365  0.874839   \n",
       "Statewide    0.436550  0.703113  0.904878  0.798159  0.889938  0.964227   \n",
       "\n",
       "county_name   Calhoun  Charlotte    Citrus      Clay  ...  St. Lucie  \\\n",
       "county_name                                           ...              \n",
       "Alachua     -0.242602  -0.072469 -0.320338  0.974751  ...   0.186989   \n",
       "Baker        0.985069   0.929404  0.956573 -0.195506  ...   0.872081   \n",
       "Bay          0.441767   0.625602  0.376498  0.704763  ...   0.745536   \n",
       "Bradford     0.984666   0.967505  0.957023 -0.062642  ...   0.942651   \n",
       "Brevard      0.884691   0.968364  0.870050  0.243409  ...   0.981229   \n",
       "...               ...        ...       ...       ...  ...        ...   \n",
       "Volusia      0.915323   0.974941  0.892279  0.134320  ...   0.979626   \n",
       "Wakulla      0.970145   0.917975  0.983302 -0.315094  ...   0.809113   \n",
       "Walton       0.643339   0.798087  0.604089  0.604744  ...   0.903974   \n",
       "Washington   0.980037   0.984042  0.955769 -0.056665  ...   0.950530   \n",
       "Statewide    0.723705   0.818438  0.643911  0.467924  ...   0.925193   \n",
       "\n",
       "county_name    Sumter  Suwannee    Taylor     Union   Volusia   Wakulla  \\\n",
       "county_name                                                               \n",
       "Alachua      0.376215 -0.188539 -0.184181 -0.300064  0.061526 -0.351974   \n",
       "Baker        0.497381  0.982047  0.972590  0.971079  0.867648  0.969724   \n",
       "Bay          0.945471  0.480900  0.507747  0.214604  0.738586  0.279098   \n",
       "Bradford     0.604302  0.987490  0.986269  0.932736  0.935353  0.944653   \n",
       "Brevard      0.822436  0.918688  0.924546  0.786349  0.966422  0.827439   \n",
       "...               ...       ...       ...       ...       ...       ...   \n",
       "Volusia      0.806871  0.923940  0.943034  0.760233  1.000000  0.821876   \n",
       "Wakulla      0.445064  0.973934  0.962582  0.981901  0.821876  1.000000   \n",
       "Walton       0.899429  0.693213  0.705662  0.505741  0.859115  0.539797   \n",
       "Washington   0.687552  0.976779  0.987735  0.866236  0.975326  0.911931   \n",
       "Statewide    0.854372  0.738565  0.758421  0.541547  0.904736  0.570829   \n",
       "\n",
       "county_name    Walton  Washington  Statewide  \n",
       "county_name                                   \n",
       "Alachua      0.531340   -0.105119   0.436550  \n",
       "Baker        0.623971    0.948159   0.703113  \n",
       "Bay          0.925696    0.592156   0.904878  \n",
       "Bradford     0.734310    0.980462   0.798159  \n",
       "Brevard      0.917068    0.933365   0.889938  \n",
       "...               ...         ...        ...  \n",
       "Volusia      0.859115    0.975326   0.904736  \n",
       "Wakulla      0.539797    0.911931   0.570829  \n",
       "Walton       1.000000    0.751730   0.938599  \n",
       "Washington   0.751730    1.000000   0.830744  \n",
       "Statewide    0.938599    0.830744   1.000000  \n",
       "\n",
       "[68 rows x 68 columns]"
      ]
     },
     "execution_count": 357,
     "metadata": {},
     "output_type": "execute_result"
    }
   ],
   "source": [
    "correlations = df_correlation.corr()\n",
    "correlations"
   ]
  },
  {
   "cell_type": "code",
   "execution_count": 356,
   "metadata": {},
   "outputs": [
    {
     "data": {
      "text/plain": [
       "county_name\n",
       "Statewide     1.000000\n",
       "Lee           0.970925\n",
       "Hendry        0.968131\n",
       "Palm Beach    0.967788\n",
       "Broward       0.964227\n",
       "                ...   \n",
       "Duval         0.493587\n",
       "Clay          0.467924\n",
       "Alachua       0.436550\n",
       "St. Johns     0.434279\n",
       "Okaloosa      0.322389\n",
       "Name: Statewide, Length: 68, dtype: float64"
      ]
     },
     "execution_count": 356,
     "metadata": {},
     "output_type": "execute_result"
    }
   ],
   "source": [
    "statewide_correlations = correlations['Statewide'].sort_values(ascending=False)\n",
    "statewide_correlations"
   ]
  },
  {
   "cell_type": "code",
   "execution_count": 364,
   "metadata": {},
   "outputs": [
    {
     "data": {
      "application/vnd.plotly.v1+json": {
       "config": {
        "plotlyServerURL": "https://plot.ly"
       },
       "data": [
        {
         "alignmentgroup": "True",
         "hovertemplate": "x=%{x}<br>y=%{y}<br>color=%{marker.color}<extra></extra>",
         "legendgroup": "",
         "marker": {
          "color": [
           1,
           0.9709249764974082,
           0.9681307466031001,
           0.9677884400320951,
           0.9642266669171539,
           0.9629840452320348,
           0.9582996171370708,
           0.9447894896901102,
           0.9419768082350874,
           0.9413517399070769,
           0.9385985202851366,
           0.9361177676837549,
           0.9251927825884467,
           0.9193153442327286,
           0.904877994819044,
           0.9047357782258003,
           0.9033262740973876,
           0.8998283188600255,
           0.8957363295918626,
           0.8940429449243326,
           0.8909440185800855,
           0.8905068220927624,
           0.8899375857314664,
           0.8874572111068207,
           0.8753915658327279,
           0.8737300709304137,
           0.8705584091056701,
           0.866730795774077,
           0.857731091206306,
           0.8543723750701211,
           0.8493276309085195,
           0.8487676653237534,
           0.8307439724423266,
           0.8279180082058462,
           0.8223422086149016,
           0.8213672693254109,
           0.8184375536431103,
           0.815934398684541,
           0.8077932496513579,
           0.8014904778514944,
           0.7993957566395773,
           0.7981587450591862,
           0.7944983524446296,
           0.7850331481361316,
           0.7649950375615658,
           0.7584211490142191,
           0.7385654332898571,
           0.7243561515891823,
           0.7237048685918553,
           0.7031134007290811,
           0.7022593473585471,
           0.6934703360860942,
           0.6864626331554501,
           0.6794764616437229,
           0.6439107111687811,
           0.6203876771304717,
           0.6179525087475268,
           0.6060613697045812,
           0.6042110221972803,
           0.5708291063100535,
           0.5587240308319844,
           0.5581543189547408,
           0.5415473022970035,
           0.49358689056941396,
           0.4679235258284538,
           0.4365500101218925,
           0.43427892519987665,
           0.32238860804976494
          ],
          "coloraxis": "coloraxis",
          "pattern": {
           "shape": ""
          }
         },
         "name": "",
         "offsetgroup": "",
         "orientation": "v",
         "showlegend": false,
         "textposition": "auto",
         "type": "bar",
         "x": [
          "Statewide",
          "Lee",
          "Hendry",
          "Palm Beach",
          "Broward",
          "Polk",
          "Indian River",
          "Lake",
          "Hillsborough",
          "Manatee",
          "Walton",
          "Gadsden",
          "St. Lucie",
          "Miami-Dade",
          "Bay",
          "Volusia",
          "Sarasota",
          "Highlands",
          "Hardee",
          "Monroe",
          "Marion",
          "Osceola",
          "Brevard",
          "Putnam",
          "Gulf",
          "Columbia",
          "Flagler",
          "Leon",
          "Madison",
          "Sumter",
          "Jefferson",
          "Martin",
          "Washington",
          "Levy",
          "Glades",
          "Desoto",
          "Charlotte",
          "Pinellas",
          "Okeechobee",
          "Jackson",
          "Hamilton",
          "Bradford",
          "Nassau",
          "Collier",
          "Pasco",
          "Taylor",
          "Suwannee",
          "Franklin",
          "Calhoun",
          "Baker",
          "Orange",
          "Gilchrist",
          "Hernando",
          "Santa Rosa",
          "Citrus",
          "Liberty",
          "Escambia",
          "Seminole",
          "Dixie",
          "Wakulla",
          "Holmes",
          "Lafayette",
          "Union",
          "Duval",
          "Clay",
          "Alachua",
          "St. Johns",
          "Okaloosa"
         ],
         "xaxis": "x",
         "y": [
          1,
          0.9709249764974082,
          0.9681307466031001,
          0.9677884400320951,
          0.9642266669171539,
          0.9629840452320348,
          0.9582996171370708,
          0.9447894896901102,
          0.9419768082350874,
          0.9413517399070769,
          0.9385985202851366,
          0.9361177676837549,
          0.9251927825884467,
          0.9193153442327286,
          0.904877994819044,
          0.9047357782258003,
          0.9033262740973876,
          0.8998283188600255,
          0.8957363295918626,
          0.8940429449243326,
          0.8909440185800855,
          0.8905068220927624,
          0.8899375857314664,
          0.8874572111068207,
          0.8753915658327279,
          0.8737300709304137,
          0.8705584091056701,
          0.866730795774077,
          0.857731091206306,
          0.8543723750701211,
          0.8493276309085195,
          0.8487676653237534,
          0.8307439724423266,
          0.8279180082058462,
          0.8223422086149016,
          0.8213672693254109,
          0.8184375536431103,
          0.815934398684541,
          0.8077932496513579,
          0.8014904778514944,
          0.7993957566395773,
          0.7981587450591862,
          0.7944983524446296,
          0.7850331481361316,
          0.7649950375615658,
          0.7584211490142191,
          0.7385654332898571,
          0.7243561515891823,
          0.7237048685918553,
          0.7031134007290811,
          0.7022593473585471,
          0.6934703360860942,
          0.6864626331554501,
          0.6794764616437229,
          0.6439107111687811,
          0.6203876771304717,
          0.6179525087475268,
          0.6060613697045812,
          0.6042110221972803,
          0.5708291063100535,
          0.5587240308319844,
          0.5581543189547408,
          0.5415473022970035,
          0.49358689056941396,
          0.4679235258284538,
          0.4365500101218925,
          0.43427892519987665,
          0.32238860804976494
         ],
         "yaxis": "y"
        }
       ],
       "layout": {
        "barmode": "relative",
        "coloraxis": {
         "colorbar": {
          "title": {
           "text": "color"
          }
         },
         "colorscale": [
          [
           0,
           "#0d0887"
          ],
          [
           0.1111111111111111,
           "#46039f"
          ],
          [
           0.2222222222222222,
           "#7201a8"
          ],
          [
           0.3333333333333333,
           "#9c179e"
          ],
          [
           0.4444444444444444,
           "#bd3786"
          ],
          [
           0.5555555555555556,
           "#d8576b"
          ],
          [
           0.6666666666666666,
           "#ed7953"
          ],
          [
           0.7777777777777778,
           "#fb9f3a"
          ],
          [
           0.8888888888888888,
           "#fdca26"
          ],
          [
           1,
           "#f0f921"
          ]
         ]
        },
        "legend": {
         "tracegroupgap": 0
        },
        "margin": {
         "t": 60
        },
        "template": {
         "data": {
          "bar": [
           {
            "error_x": {
             "color": "#2a3f5f"
            },
            "error_y": {
             "color": "#2a3f5f"
            },
            "marker": {
             "line": {
              "color": "#E5ECF6",
              "width": 0.5
             },
             "pattern": {
              "fillmode": "overlay",
              "size": 10,
              "solidity": 0.2
             }
            },
            "type": "bar"
           }
          ],
          "barpolar": [
           {
            "marker": {
             "line": {
              "color": "#E5ECF6",
              "width": 0.5
             },
             "pattern": {
              "fillmode": "overlay",
              "size": 10,
              "solidity": 0.2
             }
            },
            "type": "barpolar"
           }
          ],
          "carpet": [
           {
            "aaxis": {
             "endlinecolor": "#2a3f5f",
             "gridcolor": "white",
             "linecolor": "white",
             "minorgridcolor": "white",
             "startlinecolor": "#2a3f5f"
            },
            "baxis": {
             "endlinecolor": "#2a3f5f",
             "gridcolor": "white",
             "linecolor": "white",
             "minorgridcolor": "white",
             "startlinecolor": "#2a3f5f"
            },
            "type": "carpet"
           }
          ],
          "choropleth": [
           {
            "colorbar": {
             "outlinewidth": 0,
             "ticks": ""
            },
            "type": "choropleth"
           }
          ],
          "contour": [
           {
            "colorbar": {
             "outlinewidth": 0,
             "ticks": ""
            },
            "colorscale": [
             [
              0,
              "#0d0887"
             ],
             [
              0.1111111111111111,
              "#46039f"
             ],
             [
              0.2222222222222222,
              "#7201a8"
             ],
             [
              0.3333333333333333,
              "#9c179e"
             ],
             [
              0.4444444444444444,
              "#bd3786"
             ],
             [
              0.5555555555555556,
              "#d8576b"
             ],
             [
              0.6666666666666666,
              "#ed7953"
             ],
             [
              0.7777777777777778,
              "#fb9f3a"
             ],
             [
              0.8888888888888888,
              "#fdca26"
             ],
             [
              1,
              "#f0f921"
             ]
            ],
            "type": "contour"
           }
          ],
          "contourcarpet": [
           {
            "colorbar": {
             "outlinewidth": 0,
             "ticks": ""
            },
            "type": "contourcarpet"
           }
          ],
          "heatmap": [
           {
            "colorbar": {
             "outlinewidth": 0,
             "ticks": ""
            },
            "colorscale": [
             [
              0,
              "#0d0887"
             ],
             [
              0.1111111111111111,
              "#46039f"
             ],
             [
              0.2222222222222222,
              "#7201a8"
             ],
             [
              0.3333333333333333,
              "#9c179e"
             ],
             [
              0.4444444444444444,
              "#bd3786"
             ],
             [
              0.5555555555555556,
              "#d8576b"
             ],
             [
              0.6666666666666666,
              "#ed7953"
             ],
             [
              0.7777777777777778,
              "#fb9f3a"
             ],
             [
              0.8888888888888888,
              "#fdca26"
             ],
             [
              1,
              "#f0f921"
             ]
            ],
            "type": "heatmap"
           }
          ],
          "heatmapgl": [
           {
            "colorbar": {
             "outlinewidth": 0,
             "ticks": ""
            },
            "colorscale": [
             [
              0,
              "#0d0887"
             ],
             [
              0.1111111111111111,
              "#46039f"
             ],
             [
              0.2222222222222222,
              "#7201a8"
             ],
             [
              0.3333333333333333,
              "#9c179e"
             ],
             [
              0.4444444444444444,
              "#bd3786"
             ],
             [
              0.5555555555555556,
              "#d8576b"
             ],
             [
              0.6666666666666666,
              "#ed7953"
             ],
             [
              0.7777777777777778,
              "#fb9f3a"
             ],
             [
              0.8888888888888888,
              "#fdca26"
             ],
             [
              1,
              "#f0f921"
             ]
            ],
            "type": "heatmapgl"
           }
          ],
          "histogram": [
           {
            "marker": {
             "pattern": {
              "fillmode": "overlay",
              "size": 10,
              "solidity": 0.2
             }
            },
            "type": "histogram"
           }
          ],
          "histogram2d": [
           {
            "colorbar": {
             "outlinewidth": 0,
             "ticks": ""
            },
            "colorscale": [
             [
              0,
              "#0d0887"
             ],
             [
              0.1111111111111111,
              "#46039f"
             ],
             [
              0.2222222222222222,
              "#7201a8"
             ],
             [
              0.3333333333333333,
              "#9c179e"
             ],
             [
              0.4444444444444444,
              "#bd3786"
             ],
             [
              0.5555555555555556,
              "#d8576b"
             ],
             [
              0.6666666666666666,
              "#ed7953"
             ],
             [
              0.7777777777777778,
              "#fb9f3a"
             ],
             [
              0.8888888888888888,
              "#fdca26"
             ],
             [
              1,
              "#f0f921"
             ]
            ],
            "type": "histogram2d"
           }
          ],
          "histogram2dcontour": [
           {
            "colorbar": {
             "outlinewidth": 0,
             "ticks": ""
            },
            "colorscale": [
             [
              0,
              "#0d0887"
             ],
             [
              0.1111111111111111,
              "#46039f"
             ],
             [
              0.2222222222222222,
              "#7201a8"
             ],
             [
              0.3333333333333333,
              "#9c179e"
             ],
             [
              0.4444444444444444,
              "#bd3786"
             ],
             [
              0.5555555555555556,
              "#d8576b"
             ],
             [
              0.6666666666666666,
              "#ed7953"
             ],
             [
              0.7777777777777778,
              "#fb9f3a"
             ],
             [
              0.8888888888888888,
              "#fdca26"
             ],
             [
              1,
              "#f0f921"
             ]
            ],
            "type": "histogram2dcontour"
           }
          ],
          "mesh3d": [
           {
            "colorbar": {
             "outlinewidth": 0,
             "ticks": ""
            },
            "type": "mesh3d"
           }
          ],
          "parcoords": [
           {
            "line": {
             "colorbar": {
              "outlinewidth": 0,
              "ticks": ""
             }
            },
            "type": "parcoords"
           }
          ],
          "pie": [
           {
            "automargin": true,
            "type": "pie"
           }
          ],
          "scatter": [
           {
            "fillpattern": {
             "fillmode": "overlay",
             "size": 10,
             "solidity": 0.2
            },
            "type": "scatter"
           }
          ],
          "scatter3d": [
           {
            "line": {
             "colorbar": {
              "outlinewidth": 0,
              "ticks": ""
             }
            },
            "marker": {
             "colorbar": {
              "outlinewidth": 0,
              "ticks": ""
             }
            },
            "type": "scatter3d"
           }
          ],
          "scattercarpet": [
           {
            "marker": {
             "colorbar": {
              "outlinewidth": 0,
              "ticks": ""
             }
            },
            "type": "scattercarpet"
           }
          ],
          "scattergeo": [
           {
            "marker": {
             "colorbar": {
              "outlinewidth": 0,
              "ticks": ""
             }
            },
            "type": "scattergeo"
           }
          ],
          "scattergl": [
           {
            "marker": {
             "colorbar": {
              "outlinewidth": 0,
              "ticks": ""
             }
            },
            "type": "scattergl"
           }
          ],
          "scattermapbox": [
           {
            "marker": {
             "colorbar": {
              "outlinewidth": 0,
              "ticks": ""
             }
            },
            "type": "scattermapbox"
           }
          ],
          "scatterpolar": [
           {
            "marker": {
             "colorbar": {
              "outlinewidth": 0,
              "ticks": ""
             }
            },
            "type": "scatterpolar"
           }
          ],
          "scatterpolargl": [
           {
            "marker": {
             "colorbar": {
              "outlinewidth": 0,
              "ticks": ""
             }
            },
            "type": "scatterpolargl"
           }
          ],
          "scatterternary": [
           {
            "marker": {
             "colorbar": {
              "outlinewidth": 0,
              "ticks": ""
             }
            },
            "type": "scatterternary"
           }
          ],
          "surface": [
           {
            "colorbar": {
             "outlinewidth": 0,
             "ticks": ""
            },
            "colorscale": [
             [
              0,
              "#0d0887"
             ],
             [
              0.1111111111111111,
              "#46039f"
             ],
             [
              0.2222222222222222,
              "#7201a8"
             ],
             [
              0.3333333333333333,
              "#9c179e"
             ],
             [
              0.4444444444444444,
              "#bd3786"
             ],
             [
              0.5555555555555556,
              "#d8576b"
             ],
             [
              0.6666666666666666,
              "#ed7953"
             ],
             [
              0.7777777777777778,
              "#fb9f3a"
             ],
             [
              0.8888888888888888,
              "#fdca26"
             ],
             [
              1,
              "#f0f921"
             ]
            ],
            "type": "surface"
           }
          ],
          "table": [
           {
            "cells": {
             "fill": {
              "color": "#EBF0F8"
             },
             "line": {
              "color": "white"
             }
            },
            "header": {
             "fill": {
              "color": "#C8D4E3"
             },
             "line": {
              "color": "white"
             }
            },
            "type": "table"
           }
          ]
         },
         "layout": {
          "annotationdefaults": {
           "arrowcolor": "#2a3f5f",
           "arrowhead": 0,
           "arrowwidth": 1
          },
          "autotypenumbers": "strict",
          "coloraxis": {
           "colorbar": {
            "outlinewidth": 0,
            "ticks": ""
           }
          },
          "colorscale": {
           "diverging": [
            [
             0,
             "#8e0152"
            ],
            [
             0.1,
             "#c51b7d"
            ],
            [
             0.2,
             "#de77ae"
            ],
            [
             0.3,
             "#f1b6da"
            ],
            [
             0.4,
             "#fde0ef"
            ],
            [
             0.5,
             "#f7f7f7"
            ],
            [
             0.6,
             "#e6f5d0"
            ],
            [
             0.7,
             "#b8e186"
            ],
            [
             0.8,
             "#7fbc41"
            ],
            [
             0.9,
             "#4d9221"
            ],
            [
             1,
             "#276419"
            ]
           ],
           "sequential": [
            [
             0,
             "#0d0887"
            ],
            [
             0.1111111111111111,
             "#46039f"
            ],
            [
             0.2222222222222222,
             "#7201a8"
            ],
            [
             0.3333333333333333,
             "#9c179e"
            ],
            [
             0.4444444444444444,
             "#bd3786"
            ],
            [
             0.5555555555555556,
             "#d8576b"
            ],
            [
             0.6666666666666666,
             "#ed7953"
            ],
            [
             0.7777777777777778,
             "#fb9f3a"
            ],
            [
             0.8888888888888888,
             "#fdca26"
            ],
            [
             1,
             "#f0f921"
            ]
           ],
           "sequentialminus": [
            [
             0,
             "#0d0887"
            ],
            [
             0.1111111111111111,
             "#46039f"
            ],
            [
             0.2222222222222222,
             "#7201a8"
            ],
            [
             0.3333333333333333,
             "#9c179e"
            ],
            [
             0.4444444444444444,
             "#bd3786"
            ],
            [
             0.5555555555555556,
             "#d8576b"
            ],
            [
             0.6666666666666666,
             "#ed7953"
            ],
            [
             0.7777777777777778,
             "#fb9f3a"
            ],
            [
             0.8888888888888888,
             "#fdca26"
            ],
            [
             1,
             "#f0f921"
            ]
           ]
          },
          "colorway": [
           "#636efa",
           "#EF553B",
           "#00cc96",
           "#ab63fa",
           "#FFA15A",
           "#19d3f3",
           "#FF6692",
           "#B6E880",
           "#FF97FF",
           "#FECB52"
          ],
          "font": {
           "color": "#2a3f5f"
          },
          "geo": {
           "bgcolor": "white",
           "lakecolor": "white",
           "landcolor": "#E5ECF6",
           "showlakes": true,
           "showland": true,
           "subunitcolor": "white"
          },
          "hoverlabel": {
           "align": "left"
          },
          "hovermode": "closest",
          "mapbox": {
           "style": "light"
          },
          "paper_bgcolor": "white",
          "plot_bgcolor": "#E5ECF6",
          "polar": {
           "angularaxis": {
            "gridcolor": "white",
            "linecolor": "white",
            "ticks": ""
           },
           "bgcolor": "#E5ECF6",
           "radialaxis": {
            "gridcolor": "white",
            "linecolor": "white",
            "ticks": ""
           }
          },
          "scene": {
           "xaxis": {
            "backgroundcolor": "#E5ECF6",
            "gridcolor": "white",
            "gridwidth": 2,
            "linecolor": "white",
            "showbackground": true,
            "ticks": "",
            "zerolinecolor": "white"
           },
           "yaxis": {
            "backgroundcolor": "#E5ECF6",
            "gridcolor": "white",
            "gridwidth": 2,
            "linecolor": "white",
            "showbackground": true,
            "ticks": "",
            "zerolinecolor": "white"
           },
           "zaxis": {
            "backgroundcolor": "#E5ECF6",
            "gridcolor": "white",
            "gridwidth": 2,
            "linecolor": "white",
            "showbackground": true,
            "ticks": "",
            "zerolinecolor": "white"
           }
          },
          "shapedefaults": {
           "line": {
            "color": "#2a3f5f"
           }
          },
          "ternary": {
           "aaxis": {
            "gridcolor": "white",
            "linecolor": "white",
            "ticks": ""
           },
           "baxis": {
            "gridcolor": "white",
            "linecolor": "white",
            "ticks": ""
           },
           "bgcolor": "#E5ECF6",
           "caxis": {
            "gridcolor": "white",
            "linecolor": "white",
            "ticks": ""
           }
          },
          "title": {
           "x": 0.05
          },
          "xaxis": {
           "automargin": true,
           "gridcolor": "white",
           "linecolor": "white",
           "ticks": "",
           "title": {
            "standoff": 15
           },
           "zerolinecolor": "white",
           "zerolinewidth": 2
          },
          "yaxis": {
           "automargin": true,
           "gridcolor": "white",
           "linecolor": "white",
           "ticks": "",
           "title": {
            "standoff": 15
           },
           "zerolinecolor": "white",
           "zerolinewidth": 2
          }
         }
        },
        "xaxis": {
         "anchor": "y",
         "domain": [
          0,
          1
         ],
         "title": {
          "text": "x"
         }
        },
        "yaxis": {
         "anchor": "x",
         "domain": [
          0,
          1
         ],
         "title": {
          "text": "y"
         }
        }
       }
      }
     },
     "metadata": {},
     "output_type": "display_data"
    }
   ],
   "source": [
    "fig_bar = px.bar(y= statewide_correlations, \n",
    "                 x=statewide_correlations.index,\n",
    "                 color=statewide_correlations)\n",
    "fig_bar.show()"
   ]
  },
  {
   "cell_type": "markdown",
   "metadata": {},
   "source": [
    "## Misc: EDA and Visualizations"
   ]
  },
  {
   "cell_type": "code",
   "execution_count": null,
   "metadata": {},
   "outputs": [
    {
     "data": {
      "application/vnd.plotly.v1+json": {
       "config": {
        "plotlyServerURL": "https://plot.ly"
       },
       "data": [
        {
         "alignmentgroup": "True",
         "bingroup": "x",
         "hovertemplate": "D_margin=%{x}<br>count=%{y}<extra></extra>",
         "legendgroup": "",
         "marker": {
          "color": "#636efa",
          "pattern": {
           "shape": ""
          }
         },
         "name": "",
         "offsetgroup": "",
         "orientation": "v",
         "showlegend": false,
         "type": "histogram",
         "x": [
          17.31,
          -58.52,
          -43.48,
          -41.96,
          -12.68,
          34.93,
          -43.7,
          -14.24,
          -21.84,
          -45.72,
          -30.02,
          -36.61,
          -14.29,
          -46.76,
          -3.6,
          -20.49,
          -7.42,
          -31.4,
          40.62,
          -50.8,
          -18.51,
          -41.83,
          -16.79,
          -30.83,
          -5.91,
          -8.47,
          -22.96,
          6.68,
          -68.21,
          -22.33,
          -28.98,
          1.75,
          -58.16,
          -17.14,
          -16.51,
          23.59,
          -32.16,
          -41.32,
          -3.41,
          -12.43,
          -16.21,
          -22.87,
          23.71,
          0.4,
          -48.44,
          -49.17,
          -19.99,
          18.21,
          24.46,
          17.02,
          -6.61,
          5.63,
          -6.82,
          -24.37,
          -52.45,
          -7.4,
          -6.65,
          -37.66,
          7.84,
          -34.89,
          -44.93,
          -38.13,
          -48.84,
          -1.17,
          -28,
          -51.85,
          -47.26,
          16.52,
          -45.5,
          -48.93,
          -34.22,
          -11.51,
          38.44,
          -35.14,
          -12.3,
          -15.18,
          -48.87,
          -35.21,
          -31.45,
          -5.13,
          -31.4,
          -12.7,
          -27.8,
          -10.54,
          -20.21,
          43.31,
          -44.2,
          -25.49,
          -39.5,
          -9.02,
          -26.9,
          -16.73,
          -3.14,
          -24.38,
          2.69,
          -56.72,
          -21.85,
          -20.06,
          7.14,
          -36.68,
          -17.95,
          -20.18,
          26.23,
          -31.75,
          -24.7,
          -1.68,
          -10.31,
          -16.54,
          -15.01,
          19.09,
          4.23,
          -48.39,
          -55.55,
          -19.11,
          11.85,
          8.78,
          20.58,
          -1.77,
          11.24,
          -9.78,
          -28.83,
          -54.49,
          -3.07,
          -7.61,
          -38.32,
          9.43,
          -39.41,
          -37.85,
          -32.17,
          -17.4,
          -3.65,
          -16.27,
          -52.93,
          -45.45,
          22.28,
          -64.4,
          -45.79,
          -49.26,
          -19.54,
          34.91,
          -55.71,
          -27.55,
          -39.38,
          -43.93,
          -25.7,
          -44.23,
          -27.49,
          -62.82,
          -1.37,
          -20.33,
          -20.39,
          -39.3,
          37.5,
          -62.35,
          -39.37,
          -49.23,
          -28.03,
          -40.46,
          -14.13,
          -28.71,
          -31.79,
          6.79,
          -77.49,
          -24.47,
          -37.15,
          -5.06,
          -67.17,
          -23.08,
          -20.42,
          24.85,
          -44.48,
          -57.13,
          -15.52,
          -17,
          -26.03,
          -26.57,
          29.39,
          -6.82,
          -49.79,
          -47.13,
          -39.22,
          24.4,
          24.85,
          15.29,
          -21.36,
          -1.11,
          -13.94,
          -36.17,
          -52.86,
          -11.48,
          -1.63,
          -33.07,
          -2.4,
          -38.96,
          -54.95,
          -51.11,
          -62.11,
          -12.88,
          -39.91,
          -55.7,
          -56.85,
          27.24,
          -65.69,
          -45.66,
          -47.82,
          -16.78,
          36.66,
          -57.54,
          -26.3,
          -37.39,
          -38.75,
          -30.03,
          -41.48,
          -29.22,
          -62.97,
          4.4,
          -16.9,
          -18.48,
          -31.65,
          37.44,
          -63.67,
          -40.44,
          -46.68,
          -28.91,
          -41.9,
          -18.7,
          -25.07,
          -33.92,
          8.93,
          -76.73,
          -22.16,
          -35.98,
          -6.8,
          -68.79,
          -20.85,
          -21.7,
          27.67,
          -43.07,
          -57.16,
          -14.54,
          -15.67,
          -24.2,
          -24.03,
          20.93,
          -3.68,
          -46.41,
          -44.7,
          -39.31,
          25.63,
          20.92,
          17.1,
          -16.27,
          3.02,
          -13.34,
          -34.5,
          -50.16,
          -8.64,
          1.79,
          -28.57,
          3.72,
          -40.24,
          -55.19,
          -51.13,
          -58.86,
          -10.62,
          -39.38,
          -52.4,
          -56.87,
          27.08,
          -70.12,
          -43.43,
          -52.56,
          -16.41,
          29.73,
          -62.18,
          -26.57,
          -40.97,
          -37.03,
          -24.64,
          -45.09,
          -31.98,
          -66,
          3.8,
          -15.07,
          -20.71,
          -37.25,
          36.56,
          -63.85,
          -46.07,
          -50.51,
          -31.71,
          -44.98,
          -22.98,
          -30.14,
          -34.33,
          6.86,
          -78.83,
          -21.51,
          -38.84,
          -6.87,
          -71.57,
          -20.04,
          -19.18,
          28.18,
          -45.48,
          -60.36,
          -19.47,
          -16.01,
          -25.87,
          -24.53,
          7.34,
          -7.91,
          -45.83,
          -39.02,
          -44.29,
          23.05,
          13.78,
          12.76,
          -20.01,
          0.22,
          -14.4,
          -41.15,
          -46.43,
          -10.42,
          2.79,
          -26.6,
          -1.56,
          -36.08,
          -56.63,
          -53.78,
          -65.27,
          -14.04,
          -40.78,
          -51.62,
          -61.04,
          15.09,
          -79.27,
          -57.38,
          -63.25,
          -28.2,
          15.38,
          -72.52,
          -41.37,
          -49.04,
          -50.05,
          -43.76,
          -59.01,
          -53.03,
          -75.4,
          -11.76,
          -29.84,
          -34.08,
          -47.72,
          24.64,
          -73.58,
          -61.9,
          -60.75,
          -47.17,
          -65.19,
          -49.41,
          -40.47,
          -49.02,
          -9.22,
          -83.77,
          -35.56,
          -52.54,
          -21.52,
          -79.61,
          -33.72,
          -38,
          15.53,
          -57.45,
          -71.19,
          -33.92,
          -29.88,
          -39.02,
          -38.43,
          -11.32,
          -21.07,
          -53.55,
          -53.26,
          -61.24,
          7.02,
          -6.75,
          -2.91,
          -32.33,
          -9.85,
          -29.6,
          -52.72,
          -59.44,
          -22.27,
          -12.3,
          -40.23,
          -19.14,
          -46.7,
          -67.2,
          -66.02,
          -75.71,
          -28.64,
          -47.22,
          -64.57,
          -71.24
         ],
         "xaxis": "x",
         "yaxis": "y"
        }
       ],
       "layout": {
        "barmode": "relative",
        "legend": {
         "tracegroupgap": 0
        },
        "margin": {
         "t": 60
        },
        "template": {
         "data": {
          "bar": [
           {
            "error_x": {
             "color": "#2a3f5f"
            },
            "error_y": {
             "color": "#2a3f5f"
            },
            "marker": {
             "line": {
              "color": "#E5ECF6",
              "width": 0.5
             },
             "pattern": {
              "fillmode": "overlay",
              "size": 10,
              "solidity": 0.2
             }
            },
            "type": "bar"
           }
          ],
          "barpolar": [
           {
            "marker": {
             "line": {
              "color": "#E5ECF6",
              "width": 0.5
             },
             "pattern": {
              "fillmode": "overlay",
              "size": 10,
              "solidity": 0.2
             }
            },
            "type": "barpolar"
           }
          ],
          "carpet": [
           {
            "aaxis": {
             "endlinecolor": "#2a3f5f",
             "gridcolor": "white",
             "linecolor": "white",
             "minorgridcolor": "white",
             "startlinecolor": "#2a3f5f"
            },
            "baxis": {
             "endlinecolor": "#2a3f5f",
             "gridcolor": "white",
             "linecolor": "white",
             "minorgridcolor": "white",
             "startlinecolor": "#2a3f5f"
            },
            "type": "carpet"
           }
          ],
          "choropleth": [
           {
            "colorbar": {
             "outlinewidth": 0,
             "ticks": ""
            },
            "type": "choropleth"
           }
          ],
          "contour": [
           {
            "colorbar": {
             "outlinewidth": 0,
             "ticks": ""
            },
            "colorscale": [
             [
              0,
              "#0d0887"
             ],
             [
              0.1111111111111111,
              "#46039f"
             ],
             [
              0.2222222222222222,
              "#7201a8"
             ],
             [
              0.3333333333333333,
              "#9c179e"
             ],
             [
              0.4444444444444444,
              "#bd3786"
             ],
             [
              0.5555555555555556,
              "#d8576b"
             ],
             [
              0.6666666666666666,
              "#ed7953"
             ],
             [
              0.7777777777777778,
              "#fb9f3a"
             ],
             [
              0.8888888888888888,
              "#fdca26"
             ],
             [
              1,
              "#f0f921"
             ]
            ],
            "type": "contour"
           }
          ],
          "contourcarpet": [
           {
            "colorbar": {
             "outlinewidth": 0,
             "ticks": ""
            },
            "type": "contourcarpet"
           }
          ],
          "heatmap": [
           {
            "colorbar": {
             "outlinewidth": 0,
             "ticks": ""
            },
            "colorscale": [
             [
              0,
              "#0d0887"
             ],
             [
              0.1111111111111111,
              "#46039f"
             ],
             [
              0.2222222222222222,
              "#7201a8"
             ],
             [
              0.3333333333333333,
              "#9c179e"
             ],
             [
              0.4444444444444444,
              "#bd3786"
             ],
             [
              0.5555555555555556,
              "#d8576b"
             ],
             [
              0.6666666666666666,
              "#ed7953"
             ],
             [
              0.7777777777777778,
              "#fb9f3a"
             ],
             [
              0.8888888888888888,
              "#fdca26"
             ],
             [
              1,
              "#f0f921"
             ]
            ],
            "type": "heatmap"
           }
          ],
          "heatmapgl": [
           {
            "colorbar": {
             "outlinewidth": 0,
             "ticks": ""
            },
            "colorscale": [
             [
              0,
              "#0d0887"
             ],
             [
              0.1111111111111111,
              "#46039f"
             ],
             [
              0.2222222222222222,
              "#7201a8"
             ],
             [
              0.3333333333333333,
              "#9c179e"
             ],
             [
              0.4444444444444444,
              "#bd3786"
             ],
             [
              0.5555555555555556,
              "#d8576b"
             ],
             [
              0.6666666666666666,
              "#ed7953"
             ],
             [
              0.7777777777777778,
              "#fb9f3a"
             ],
             [
              0.8888888888888888,
              "#fdca26"
             ],
             [
              1,
              "#f0f921"
             ]
            ],
            "type": "heatmapgl"
           }
          ],
          "histogram": [
           {
            "marker": {
             "pattern": {
              "fillmode": "overlay",
              "size": 10,
              "solidity": 0.2
             }
            },
            "type": "histogram"
           }
          ],
          "histogram2d": [
           {
            "colorbar": {
             "outlinewidth": 0,
             "ticks": ""
            },
            "colorscale": [
             [
              0,
              "#0d0887"
             ],
             [
              0.1111111111111111,
              "#46039f"
             ],
             [
              0.2222222222222222,
              "#7201a8"
             ],
             [
              0.3333333333333333,
              "#9c179e"
             ],
             [
              0.4444444444444444,
              "#bd3786"
             ],
             [
              0.5555555555555556,
              "#d8576b"
             ],
             [
              0.6666666666666666,
              "#ed7953"
             ],
             [
              0.7777777777777778,
              "#fb9f3a"
             ],
             [
              0.8888888888888888,
              "#fdca26"
             ],
             [
              1,
              "#f0f921"
             ]
            ],
            "type": "histogram2d"
           }
          ],
          "histogram2dcontour": [
           {
            "colorbar": {
             "outlinewidth": 0,
             "ticks": ""
            },
            "colorscale": [
             [
              0,
              "#0d0887"
             ],
             [
              0.1111111111111111,
              "#46039f"
             ],
             [
              0.2222222222222222,
              "#7201a8"
             ],
             [
              0.3333333333333333,
              "#9c179e"
             ],
             [
              0.4444444444444444,
              "#bd3786"
             ],
             [
              0.5555555555555556,
              "#d8576b"
             ],
             [
              0.6666666666666666,
              "#ed7953"
             ],
             [
              0.7777777777777778,
              "#fb9f3a"
             ],
             [
              0.8888888888888888,
              "#fdca26"
             ],
             [
              1,
              "#f0f921"
             ]
            ],
            "type": "histogram2dcontour"
           }
          ],
          "mesh3d": [
           {
            "colorbar": {
             "outlinewidth": 0,
             "ticks": ""
            },
            "type": "mesh3d"
           }
          ],
          "parcoords": [
           {
            "line": {
             "colorbar": {
              "outlinewidth": 0,
              "ticks": ""
             }
            },
            "type": "parcoords"
           }
          ],
          "pie": [
           {
            "automargin": true,
            "type": "pie"
           }
          ],
          "scatter": [
           {
            "fillpattern": {
             "fillmode": "overlay",
             "size": 10,
             "solidity": 0.2
            },
            "type": "scatter"
           }
          ],
          "scatter3d": [
           {
            "line": {
             "colorbar": {
              "outlinewidth": 0,
              "ticks": ""
             }
            },
            "marker": {
             "colorbar": {
              "outlinewidth": 0,
              "ticks": ""
             }
            },
            "type": "scatter3d"
           }
          ],
          "scattercarpet": [
           {
            "marker": {
             "colorbar": {
              "outlinewidth": 0,
              "ticks": ""
             }
            },
            "type": "scattercarpet"
           }
          ],
          "scattergeo": [
           {
            "marker": {
             "colorbar": {
              "outlinewidth": 0,
              "ticks": ""
             }
            },
            "type": "scattergeo"
           }
          ],
          "scattergl": [
           {
            "marker": {
             "colorbar": {
              "outlinewidth": 0,
              "ticks": ""
             }
            },
            "type": "scattergl"
           }
          ],
          "scattermapbox": [
           {
            "marker": {
             "colorbar": {
              "outlinewidth": 0,
              "ticks": ""
             }
            },
            "type": "scattermapbox"
           }
          ],
          "scatterpolar": [
           {
            "marker": {
             "colorbar": {
              "outlinewidth": 0,
              "ticks": ""
             }
            },
            "type": "scatterpolar"
           }
          ],
          "scatterpolargl": [
           {
            "marker": {
             "colorbar": {
              "outlinewidth": 0,
              "ticks": ""
             }
            },
            "type": "scatterpolargl"
           }
          ],
          "scatterternary": [
           {
            "marker": {
             "colorbar": {
              "outlinewidth": 0,
              "ticks": ""
             }
            },
            "type": "scatterternary"
           }
          ],
          "surface": [
           {
            "colorbar": {
             "outlinewidth": 0,
             "ticks": ""
            },
            "colorscale": [
             [
              0,
              "#0d0887"
             ],
             [
              0.1111111111111111,
              "#46039f"
             ],
             [
              0.2222222222222222,
              "#7201a8"
             ],
             [
              0.3333333333333333,
              "#9c179e"
             ],
             [
              0.4444444444444444,
              "#bd3786"
             ],
             [
              0.5555555555555556,
              "#d8576b"
             ],
             [
              0.6666666666666666,
              "#ed7953"
             ],
             [
              0.7777777777777778,
              "#fb9f3a"
             ],
             [
              0.8888888888888888,
              "#fdca26"
             ],
             [
              1,
              "#f0f921"
             ]
            ],
            "type": "surface"
           }
          ],
          "table": [
           {
            "cells": {
             "fill": {
              "color": "#EBF0F8"
             },
             "line": {
              "color": "white"
             }
            },
            "header": {
             "fill": {
              "color": "#C8D4E3"
             },
             "line": {
              "color": "white"
             }
            },
            "type": "table"
           }
          ]
         },
         "layout": {
          "annotationdefaults": {
           "arrowcolor": "#2a3f5f",
           "arrowhead": 0,
           "arrowwidth": 1
          },
          "autotypenumbers": "strict",
          "coloraxis": {
           "colorbar": {
            "outlinewidth": 0,
            "ticks": ""
           }
          },
          "colorscale": {
           "diverging": [
            [
             0,
             "#8e0152"
            ],
            [
             0.1,
             "#c51b7d"
            ],
            [
             0.2,
             "#de77ae"
            ],
            [
             0.3,
             "#f1b6da"
            ],
            [
             0.4,
             "#fde0ef"
            ],
            [
             0.5,
             "#f7f7f7"
            ],
            [
             0.6,
             "#e6f5d0"
            ],
            [
             0.7,
             "#b8e186"
            ],
            [
             0.8,
             "#7fbc41"
            ],
            [
             0.9,
             "#4d9221"
            ],
            [
             1,
             "#276419"
            ]
           ],
           "sequential": [
            [
             0,
             "#0d0887"
            ],
            [
             0.1111111111111111,
             "#46039f"
            ],
            [
             0.2222222222222222,
             "#7201a8"
            ],
            [
             0.3333333333333333,
             "#9c179e"
            ],
            [
             0.4444444444444444,
             "#bd3786"
            ],
            [
             0.5555555555555556,
             "#d8576b"
            ],
            [
             0.6666666666666666,
             "#ed7953"
            ],
            [
             0.7777777777777778,
             "#fb9f3a"
            ],
            [
             0.8888888888888888,
             "#fdca26"
            ],
            [
             1,
             "#f0f921"
            ]
           ],
           "sequentialminus": [
            [
             0,
             "#0d0887"
            ],
            [
             0.1111111111111111,
             "#46039f"
            ],
            [
             0.2222222222222222,
             "#7201a8"
            ],
            [
             0.3333333333333333,
             "#9c179e"
            ],
            [
             0.4444444444444444,
             "#bd3786"
            ],
            [
             0.5555555555555556,
             "#d8576b"
            ],
            [
             0.6666666666666666,
             "#ed7953"
            ],
            [
             0.7777777777777778,
             "#fb9f3a"
            ],
            [
             0.8888888888888888,
             "#fdca26"
            ],
            [
             1,
             "#f0f921"
            ]
           ]
          },
          "colorway": [
           "#636efa",
           "#EF553B",
           "#00cc96",
           "#ab63fa",
           "#FFA15A",
           "#19d3f3",
           "#FF6692",
           "#B6E880",
           "#FF97FF",
           "#FECB52"
          ],
          "font": {
           "color": "#2a3f5f"
          },
          "geo": {
           "bgcolor": "white",
           "lakecolor": "white",
           "landcolor": "#E5ECF6",
           "showlakes": true,
           "showland": true,
           "subunitcolor": "white"
          },
          "hoverlabel": {
           "align": "left"
          },
          "hovermode": "closest",
          "mapbox": {
           "style": "light"
          },
          "paper_bgcolor": "white",
          "plot_bgcolor": "#E5ECF6",
          "polar": {
           "angularaxis": {
            "gridcolor": "white",
            "linecolor": "white",
            "ticks": ""
           },
           "bgcolor": "#E5ECF6",
           "radialaxis": {
            "gridcolor": "white",
            "linecolor": "white",
            "ticks": ""
           }
          },
          "scene": {
           "xaxis": {
            "backgroundcolor": "#E5ECF6",
            "gridcolor": "white",
            "gridwidth": 2,
            "linecolor": "white",
            "showbackground": true,
            "ticks": "",
            "zerolinecolor": "white"
           },
           "yaxis": {
            "backgroundcolor": "#E5ECF6",
            "gridcolor": "white",
            "gridwidth": 2,
            "linecolor": "white",
            "showbackground": true,
            "ticks": "",
            "zerolinecolor": "white"
           },
           "zaxis": {
            "backgroundcolor": "#E5ECF6",
            "gridcolor": "white",
            "gridwidth": 2,
            "linecolor": "white",
            "showbackground": true,
            "ticks": "",
            "zerolinecolor": "white"
           }
          },
          "shapedefaults": {
           "line": {
            "color": "#2a3f5f"
           }
          },
          "ternary": {
           "aaxis": {
            "gridcolor": "white",
            "linecolor": "white",
            "ticks": ""
           },
           "baxis": {
            "gridcolor": "white",
            "linecolor": "white",
            "ticks": ""
           },
           "bgcolor": "#E5ECF6",
           "caxis": {
            "gridcolor": "white",
            "linecolor": "white",
            "ticks": ""
           }
          },
          "title": {
           "x": 0.05
          },
          "xaxis": {
           "automargin": true,
           "gridcolor": "white",
           "linecolor": "white",
           "ticks": "",
           "title": {
            "standoff": 15
           },
           "zerolinecolor": "white",
           "zerolinewidth": 2
          },
          "yaxis": {
           "automargin": true,
           "gridcolor": "white",
           "linecolor": "white",
           "ticks": "",
           "title": {
            "standoff": 15
           },
           "zerolinecolor": "white",
           "zerolinewidth": 2
          }
         }
        },
        "xaxis": {
         "anchor": "y",
         "domain": [
          0,
          1
         ],
         "title": {
          "text": "D_margin"
         }
        },
        "yaxis": {
         "anchor": "x",
         "domain": [
          0,
          1
         ],
         "title": {
          "text": "count"
         }
        }
       }
      }
     },
     "metadata": {},
     "output_type": "display_data"
    }
   ],
   "source": [
    "fig_histogram = px.histogram(D_margin_by_county, x='D_margin')\n",
    "fig_histogram.show()"
   ]
  },
  {
   "cell_type": "code",
   "execution_count": null,
   "metadata": {},
   "outputs": [
    {
     "data": {
      "application/vnd.plotly.v1+json": {
       "config": {
        "plotlyServerURL": "https://plot.ly"
       },
       "data": [
        {
         "alignmentgroup": "True",
         "bingroup": "x",
         "hovertemplate": "vote_share=%{x}<br>count=%{y}<extra></extra>",
         "legendgroup": "",
         "marker": {
          "color": "#636efa",
          "pattern": {
           "shape": ""
          }
         },
         "name": "",
         "offsetgroup": "",
         "orientation": "v",
         "showlegend": false,
         "type": "histogram",
         "x": [
          0.17306848384986706,
          -0.5851773796979277,
          -0.43476361094118676,
          -0.41958161865569277,
          -0.12675785886854635,
          0.3492904754224494,
          -0.43700469027979943,
          -0.14236425938791614,
          -0.21844706009249149,
          -0.4572387789886886,
          -0.3001660818086845,
          -0.36607044477907963,
          -0.1429149388085364,
          -0.4675959189538727,
          -0.03604751740229151,
          -0.2049178677156686,
          -0.07419094010688859,
          -0.3139788860575173,
          0.4062402773456598,
          -0.5080005039687538,
          -0.1850649350649351,
          -0.41832725231546447,
          -0.16789667896678973,
          -0.3082551076753175,
          -0.05912873225648552,
          -0.08469164045372224,
          -0.22959027761453654,
          0.06676309140660508,
          -0.6821471652593486,
          -0.2233012425836785,
          -0.2897887156007059,
          0.017519181585677723,
          -0.5816206694069289,
          -0.17136681011332067,
          -0.16506500423859138,
          0.2359303428375406,
          -0.3215582163948637,
          -0.41319550015202183,
          -0.034146900423971505,
          -0.12428996659430935,
          -0.16206457356960025,
          -0.22870301251312675,
          0.2371064368006971,
          0.004036584742731608,
          -0.4843815384615385,
          -0.49168551143833816,
          -0.19988679550416433,
          0.18205746592681832,
          0.24464295550944715,
          0.1702179724929168,
          -0.06611030207983265,
          0.05629563156702505,
          -0.06817944201832055,
          -0.24373090631364563,
          -0.5245003893070335,
          -0.07398021744461708,
          -0.0665260142458966,
          -0.3766071195723041,
          0.07840163502323588,
          -0.3488587189905196,
          -0.44931646718475243,
          -0.38129102844638957,
          -0.4883505917159763,
          -0.011655487260577913,
          -0.2799891134245084,
          -0.5184731649289763,
          -0.47255931896395575,
          0.16522337996913616,
          -0.45498525073746315,
          -0.48928390223419704,
          -0.3421667055802008,
          -0.11512052987279281,
          0.38443080369024274,
          -0.3513706793802145,
          -0.12301309978737007,
          -0.15182234682713353,
          -0.48871971305175316,
          -0.35206947166726726,
          -0.3144749701379086,
          -0.05132625994694956,
          -0.31404651162790703,
          -0.1269922765233643,
          -0.27797587513753613,
          -0.1054239877769289,
          -0.20208574739281576,
          0.43313078539383265,
          -0.44199264460046805,
          -0.25494722955145116,
          -0.394975845410628,
          -0.09020134228187926,
          -0.2689820801773508,
          -0.16728735289736335,
          -0.03135807084774278,
          -0.2437868346378122,
          0.026910047918699054,
          -0.567213687150838,
          -0.21848691478419874,
          -0.20058177971704344,
          0.07143988594962769,
          -0.3667687595712098,
          -0.17951384259876457,
          -0.20175613460534436,
          0.2623377102390086,
          -0.3174698343700817,
          -0.24701046337817634,
          -0.016797488226059698,
          -0.10312651276144685,
          -0.16536416069511373,
          -0.15006510416666663,
          0.19089010187417077,
          0.04230378949578362,
          -0.48392973324658417,
          -0.555495707243822,
          -0.19114349775784756,
          0.11845179268668082,
          0.08778881734215205,
          0.20578704531635605,
          -0.01773023255813949,
          0.11235990072641971,
          -0.09782172437698405,
          -0.2883357478379209,
          -0.5448829506540167,
          -0.030734424162252083,
          -0.07611232244986105,
          -0.38324202756473097,
          0.09429480571863941,
          -0.39409741082744887,
          -0.3784543325526932,
          -0.3216689098250337,
          -0.17395626242544726,
          -0.036477645111179124,
          -0.1626521626521626,
          -0.5292736610418195,
          -0.45453446191051994,
          0.2227978478093774,
          -0.6439984258166076,
          -0.45790165718301556,
          -0.49259746668860016,
          -0.19541335445604308,
          0.34914400492961445,
          -0.5571148825065275,
          -0.27547923076131575,
          -0.3938093816843257,
          -0.4392687085923013,
          -0.2570169845226364,
          -0.4423156873614191,
          -0.2748784738145465,
          -0.6282086668506763,
          -0.013670107862831682,
          -0.20332485795086014,
          -0.20390777243175195,
          -0.3929691368212576,
          0.37498304164970825,
          -0.6234655335221907,
          -0.39365586490187127,
          -0.4922930023189197,
          -0.2802768166089965,
          -0.4045781556572924,
          -0.14129851547129318,
          -0.28710737340334486,
          -0.31792397470170175,
          0.06793621354882518,
          -0.7748948106591865,
          -0.24468497294054414,
          -0.3714731320005671,
          -0.05059175445441544,
          -0.6716505423629434,
          -0.23084323778906735,
          -0.20416272237386685,
          0.24854920360538335,
          -0.4448433252987333,
          -0.571256038647343,
          -0.15515222482435603,
          -0.1699519244068003,
          -0.2603297328027288,
          -0.26570706312836906,
          0.2939117151594777,
          -0.06824580589617701,
          -0.4978932584269663,
          -0.4712525466227864,
          -0.3921953346413778,
          0.24402520737377287,
          0.24851556535753672,
          0.152895865126081,
          -0.21359011777279918,
          -0.011055609716875914,
          -0.13937742404231818,
          -0.3616708206960752,
          -0.5285620856073249,
          -0.11483749940567012,
          -0.016295733793669775,
          -0.3306951235436647,
          -0.024001183156916184,
          -0.3896009736140241,
          -0.549475701282802,
          -0.5111253744116389,
          -0.6211114994757078,
          -0.12882200563662743,
          -0.39911939911939914,
          -0.5569650126851141,
          -0.5684595486575685,
          0.2724269201085684,
          -0.6569315380238954,
          -0.4566489487547515,
          -0.4781698849044041,
          -0.1677532864632476,
          0.3666133014645366,
          -0.5753632617653437,
          -0.2630040508193703,
          -0.3739271369177648,
          -0.38751296056780643,
          -0.30030796530729026,
          -0.41482047364400304,
          -0.2922369306708549,
          -0.6297381116471399,
          0.043952055172849114,
          -0.169043351976022,
          -0.18477952443107648,
          -0.31648594008454334,
          0.37442694837552315,
          -0.63668430335097,
          -0.4043772798332465,
          -0.4667796610169491,
          -0.28906935908691833,
          -0.4189569019362898,
          -0.18700743075883808,
          -0.2507307768529528,
          -0.3391695345273682,
          0.0893327220280054,
          -0.7672909600353931,
          -0.22158517382000242,
          -0.35976982737052793,
          -0.06799674267100975,
          -0.6878980891719745,
          -0.20848534852840694,
          -0.21698695938741208,
          0.2766510845708748,
          -0.43068467520318077,
          -0.5715883668903803,
          -0.14544025157232704,
          -0.15671545928884706,
          -0.24199667092478616,
          -0.24031715027371553,
          0.2092627894621707,
          -0.03684443460942688,
          -0.46413085870288373,
          -0.44702771590895557,
          -0.39310467389372666,
          0.25629534739649507,
          0.20921930373149888,
          0.17102172161378082,
          -0.1627385066994934,
          0.030194905025676844,
          -0.13342753413077307,
          -0.34497459764806193,
          -0.5015996827075622,
          -0.08639596215944928,
          0.017906750508970892,
          -0.28573826143342107,
          0.03715190230306353,
          -0.40240708154794685,
          -0.5519321394910461,
          -0.5113207547169811,
          -0.5886335658596635,
          -0.10622270742358075,
          -0.39379257074643637,
          -0.5240166040719509,
          -0.568653421633554,
          0.2707641544387509,
          -0.7011788098281495,
          -0.4343063735745014,
          -0.5255677655677655,
          -0.16406334248575288,
          0.29734379559001295,
          -0.6218448829738412,
          -0.26570462773897974,
          -0.4096886109564398,
          -0.3703112465907268,
          -0.2464363732385913,
          -0.45092469479028163,
          -0.319816976964342,
          -0.659977976263306,
          0.038032139323014136,
          -0.15068244603642833,
          -0.20708848781709638,
          -0.3725032803615687,
          0.3656257890749937,
          -0.6385281385281385,
          -0.4606957524505093,
          -0.5051395007342143,
          -0.3171232876712329,
          -0.4497765231710185,
          -0.2297777091694968,
          -0.30135593220338985,
          -0.343299580805084,
          0.06857750242273847,
          -0.7882793566864948,
          -0.21514221403724165,
          -0.3884039900249377,
          -0.06872933396315539,
          -0.7156916347731,
          -0.20043158522388488,
          -0.19180551359612485,
          0.2817783650199418,
          -0.4547767953418158,
          -0.6036465638148668,
          -0.1947194719471947,
          -0.16011716450853442,
          -0.2587389358916743,
          -0.2453457581209193,
          0.07337102366172588,
          -0.07911635736403505,
          -0.4583213103623865,
          -0.39017328662103934,
          -0.4429429429429429,
          0.23047737296216475,
          0.1378426243170664,
          0.1276289476979643,
          -0.20007864622745947,
          0.0022114865430776787,
          -0.14399202385866183,
          -0.4114820712756026,
          -0.46430903561633613,
          -0.1042154523562796,
          0.027867423257521284,
          -0.266008461030122,
          -0.0156310741576684,
          -0.36081361202280193,
          -0.566319988602365,
          -0.5377786545669757,
          -0.6526955687090066,
          -0.14035941825782428,
          -0.40779488291413707,
          -0.5162461468204133,
          -0.610376976084313,
          0.15093690368192197,
          -0.7927272727272727,
          -0.5738154501959967,
          -0.6325119314307978,
          -0.2820346004718586,
          0.15377033679860075,
          -0.725195553725813,
          -0.4136949064785451,
          -0.4903726953815314,
          -0.5005048879814468,
          -0.43760648269713415,
          -0.5900872423820963,
          -0.5302838754166187,
          -0.7540055025084966,
          -0.11761240620796248,
          -0.2983661231931016,
          -0.3408409431647812,
          -0.4772142594634326,
          0.24641340525651323,
          -0.7357651245551601,
          -0.6189605641159571,
          -0.6074708171206227,
          -0.4716981132075471,
          -0.6519147398843931,
          -0.49412904006778835,
          -0.4047379220294721,
          -0.49024482109227874,
          -0.09221449637445861,
          -0.8376585078148039,
          -0.3556201550387597,
          -0.5253583241455346,
          -0.21523782797811147,
          -0.7960932145305003,
          -0.33715659340659343,
          -0.38001882000733905,
          0.15533626041392434,
          -0.5744668973986826,
          -0.7118838364539549,
          -0.33920641741870794,
          -0.298771327083212,
          -0.39024671579621917,
          -0.38429448800648924,
          -0.11316975041125182,
          -0.2107105046465122,
          -0.5355079139100578,
          -0.5326140628086115,
          -0.6124379937534448,
          0.07015200255383935,
          -0.06752248966690982,
          -0.02905360177127847,
          -0.3233220730731621,
          -0.09851615371174094,
          -0.2959868183655991,
          -0.5272440115819953,
          -0.594401437290285,
          -0.2226617998419348,
          -0.12295851528384283,
          -0.4022909840032077,
          -0.19136343888583768,
          -0.4669811320754717,
          -0.6720229730555387,
          -0.6601941747572816,
          -0.7571303203159281,
          -0.28642716335316426,
          -0.4722166899024099,
          -0.645683504770637,
          -0.7123602892833661
         ],
         "xaxis": "x",
         "yaxis": "y"
        }
       ],
       "layout": {
        "barmode": "relative",
        "legend": {
         "tracegroupgap": 0
        },
        "margin": {
         "t": 60
        },
        "template": {
         "data": {
          "bar": [
           {
            "error_x": {
             "color": "#2a3f5f"
            },
            "error_y": {
             "color": "#2a3f5f"
            },
            "marker": {
             "line": {
              "color": "#E5ECF6",
              "width": 0.5
             },
             "pattern": {
              "fillmode": "overlay",
              "size": 10,
              "solidity": 0.2
             }
            },
            "type": "bar"
           }
          ],
          "barpolar": [
           {
            "marker": {
             "line": {
              "color": "#E5ECF6",
              "width": 0.5
             },
             "pattern": {
              "fillmode": "overlay",
              "size": 10,
              "solidity": 0.2
             }
            },
            "type": "barpolar"
           }
          ],
          "carpet": [
           {
            "aaxis": {
             "endlinecolor": "#2a3f5f",
             "gridcolor": "white",
             "linecolor": "white",
             "minorgridcolor": "white",
             "startlinecolor": "#2a3f5f"
            },
            "baxis": {
             "endlinecolor": "#2a3f5f",
             "gridcolor": "white",
             "linecolor": "white",
             "minorgridcolor": "white",
             "startlinecolor": "#2a3f5f"
            },
            "type": "carpet"
           }
          ],
          "choropleth": [
           {
            "colorbar": {
             "outlinewidth": 0,
             "ticks": ""
            },
            "type": "choropleth"
           }
          ],
          "contour": [
           {
            "colorbar": {
             "outlinewidth": 0,
             "ticks": ""
            },
            "colorscale": [
             [
              0,
              "#0d0887"
             ],
             [
              0.1111111111111111,
              "#46039f"
             ],
             [
              0.2222222222222222,
              "#7201a8"
             ],
             [
              0.3333333333333333,
              "#9c179e"
             ],
             [
              0.4444444444444444,
              "#bd3786"
             ],
             [
              0.5555555555555556,
              "#d8576b"
             ],
             [
              0.6666666666666666,
              "#ed7953"
             ],
             [
              0.7777777777777778,
              "#fb9f3a"
             ],
             [
              0.8888888888888888,
              "#fdca26"
             ],
             [
              1,
              "#f0f921"
             ]
            ],
            "type": "contour"
           }
          ],
          "contourcarpet": [
           {
            "colorbar": {
             "outlinewidth": 0,
             "ticks": ""
            },
            "type": "contourcarpet"
           }
          ],
          "heatmap": [
           {
            "colorbar": {
             "outlinewidth": 0,
             "ticks": ""
            },
            "colorscale": [
             [
              0,
              "#0d0887"
             ],
             [
              0.1111111111111111,
              "#46039f"
             ],
             [
              0.2222222222222222,
              "#7201a8"
             ],
             [
              0.3333333333333333,
              "#9c179e"
             ],
             [
              0.4444444444444444,
              "#bd3786"
             ],
             [
              0.5555555555555556,
              "#d8576b"
             ],
             [
              0.6666666666666666,
              "#ed7953"
             ],
             [
              0.7777777777777778,
              "#fb9f3a"
             ],
             [
              0.8888888888888888,
              "#fdca26"
             ],
             [
              1,
              "#f0f921"
             ]
            ],
            "type": "heatmap"
           }
          ],
          "heatmapgl": [
           {
            "colorbar": {
             "outlinewidth": 0,
             "ticks": ""
            },
            "colorscale": [
             [
              0,
              "#0d0887"
             ],
             [
              0.1111111111111111,
              "#46039f"
             ],
             [
              0.2222222222222222,
              "#7201a8"
             ],
             [
              0.3333333333333333,
              "#9c179e"
             ],
             [
              0.4444444444444444,
              "#bd3786"
             ],
             [
              0.5555555555555556,
              "#d8576b"
             ],
             [
              0.6666666666666666,
              "#ed7953"
             ],
             [
              0.7777777777777778,
              "#fb9f3a"
             ],
             [
              0.8888888888888888,
              "#fdca26"
             ],
             [
              1,
              "#f0f921"
             ]
            ],
            "type": "heatmapgl"
           }
          ],
          "histogram": [
           {
            "marker": {
             "pattern": {
              "fillmode": "overlay",
              "size": 10,
              "solidity": 0.2
             }
            },
            "type": "histogram"
           }
          ],
          "histogram2d": [
           {
            "colorbar": {
             "outlinewidth": 0,
             "ticks": ""
            },
            "colorscale": [
             [
              0,
              "#0d0887"
             ],
             [
              0.1111111111111111,
              "#46039f"
             ],
             [
              0.2222222222222222,
              "#7201a8"
             ],
             [
              0.3333333333333333,
              "#9c179e"
             ],
             [
              0.4444444444444444,
              "#bd3786"
             ],
             [
              0.5555555555555556,
              "#d8576b"
             ],
             [
              0.6666666666666666,
              "#ed7953"
             ],
             [
              0.7777777777777778,
              "#fb9f3a"
             ],
             [
              0.8888888888888888,
              "#fdca26"
             ],
             [
              1,
              "#f0f921"
             ]
            ],
            "type": "histogram2d"
           }
          ],
          "histogram2dcontour": [
           {
            "colorbar": {
             "outlinewidth": 0,
             "ticks": ""
            },
            "colorscale": [
             [
              0,
              "#0d0887"
             ],
             [
              0.1111111111111111,
              "#46039f"
             ],
             [
              0.2222222222222222,
              "#7201a8"
             ],
             [
              0.3333333333333333,
              "#9c179e"
             ],
             [
              0.4444444444444444,
              "#bd3786"
             ],
             [
              0.5555555555555556,
              "#d8576b"
             ],
             [
              0.6666666666666666,
              "#ed7953"
             ],
             [
              0.7777777777777778,
              "#fb9f3a"
             ],
             [
              0.8888888888888888,
              "#fdca26"
             ],
             [
              1,
              "#f0f921"
             ]
            ],
            "type": "histogram2dcontour"
           }
          ],
          "mesh3d": [
           {
            "colorbar": {
             "outlinewidth": 0,
             "ticks": ""
            },
            "type": "mesh3d"
           }
          ],
          "parcoords": [
           {
            "line": {
             "colorbar": {
              "outlinewidth": 0,
              "ticks": ""
             }
            },
            "type": "parcoords"
           }
          ],
          "pie": [
           {
            "automargin": true,
            "type": "pie"
           }
          ],
          "scatter": [
           {
            "fillpattern": {
             "fillmode": "overlay",
             "size": 10,
             "solidity": 0.2
            },
            "type": "scatter"
           }
          ],
          "scatter3d": [
           {
            "line": {
             "colorbar": {
              "outlinewidth": 0,
              "ticks": ""
             }
            },
            "marker": {
             "colorbar": {
              "outlinewidth": 0,
              "ticks": ""
             }
            },
            "type": "scatter3d"
           }
          ],
          "scattercarpet": [
           {
            "marker": {
             "colorbar": {
              "outlinewidth": 0,
              "ticks": ""
             }
            },
            "type": "scattercarpet"
           }
          ],
          "scattergeo": [
           {
            "marker": {
             "colorbar": {
              "outlinewidth": 0,
              "ticks": ""
             }
            },
            "type": "scattergeo"
           }
          ],
          "scattergl": [
           {
            "marker": {
             "colorbar": {
              "outlinewidth": 0,
              "ticks": ""
             }
            },
            "type": "scattergl"
           }
          ],
          "scattermapbox": [
           {
            "marker": {
             "colorbar": {
              "outlinewidth": 0,
              "ticks": ""
             }
            },
            "type": "scattermapbox"
           }
          ],
          "scatterpolar": [
           {
            "marker": {
             "colorbar": {
              "outlinewidth": 0,
              "ticks": ""
             }
            },
            "type": "scatterpolar"
           }
          ],
          "scatterpolargl": [
           {
            "marker": {
             "colorbar": {
              "outlinewidth": 0,
              "ticks": ""
             }
            },
            "type": "scatterpolargl"
           }
          ],
          "scatterternary": [
           {
            "marker": {
             "colorbar": {
              "outlinewidth": 0,
              "ticks": ""
             }
            },
            "type": "scatterternary"
           }
          ],
          "surface": [
           {
            "colorbar": {
             "outlinewidth": 0,
             "ticks": ""
            },
            "colorscale": [
             [
              0,
              "#0d0887"
             ],
             [
              0.1111111111111111,
              "#46039f"
             ],
             [
              0.2222222222222222,
              "#7201a8"
             ],
             [
              0.3333333333333333,
              "#9c179e"
             ],
             [
              0.4444444444444444,
              "#bd3786"
             ],
             [
              0.5555555555555556,
              "#d8576b"
             ],
             [
              0.6666666666666666,
              "#ed7953"
             ],
             [
              0.7777777777777778,
              "#fb9f3a"
             ],
             [
              0.8888888888888888,
              "#fdca26"
             ],
             [
              1,
              "#f0f921"
             ]
            ],
            "type": "surface"
           }
          ],
          "table": [
           {
            "cells": {
             "fill": {
              "color": "#EBF0F8"
             },
             "line": {
              "color": "white"
             }
            },
            "header": {
             "fill": {
              "color": "#C8D4E3"
             },
             "line": {
              "color": "white"
             }
            },
            "type": "table"
           }
          ]
         },
         "layout": {
          "annotationdefaults": {
           "arrowcolor": "#2a3f5f",
           "arrowhead": 0,
           "arrowwidth": 1
          },
          "autotypenumbers": "strict",
          "coloraxis": {
           "colorbar": {
            "outlinewidth": 0,
            "ticks": ""
           }
          },
          "colorscale": {
           "diverging": [
            [
             0,
             "#8e0152"
            ],
            [
             0.1,
             "#c51b7d"
            ],
            [
             0.2,
             "#de77ae"
            ],
            [
             0.3,
             "#f1b6da"
            ],
            [
             0.4,
             "#fde0ef"
            ],
            [
             0.5,
             "#f7f7f7"
            ],
            [
             0.6,
             "#e6f5d0"
            ],
            [
             0.7,
             "#b8e186"
            ],
            [
             0.8,
             "#7fbc41"
            ],
            [
             0.9,
             "#4d9221"
            ],
            [
             1,
             "#276419"
            ]
           ],
           "sequential": [
            [
             0,
             "#0d0887"
            ],
            [
             0.1111111111111111,
             "#46039f"
            ],
            [
             0.2222222222222222,
             "#7201a8"
            ],
            [
             0.3333333333333333,
             "#9c179e"
            ],
            [
             0.4444444444444444,
             "#bd3786"
            ],
            [
             0.5555555555555556,
             "#d8576b"
            ],
            [
             0.6666666666666666,
             "#ed7953"
            ],
            [
             0.7777777777777778,
             "#fb9f3a"
            ],
            [
             0.8888888888888888,
             "#fdca26"
            ],
            [
             1,
             "#f0f921"
            ]
           ],
           "sequentialminus": [
            [
             0,
             "#0d0887"
            ],
            [
             0.1111111111111111,
             "#46039f"
            ],
            [
             0.2222222222222222,
             "#7201a8"
            ],
            [
             0.3333333333333333,
             "#9c179e"
            ],
            [
             0.4444444444444444,
             "#bd3786"
            ],
            [
             0.5555555555555556,
             "#d8576b"
            ],
            [
             0.6666666666666666,
             "#ed7953"
            ],
            [
             0.7777777777777778,
             "#fb9f3a"
            ],
            [
             0.8888888888888888,
             "#fdca26"
            ],
            [
             1,
             "#f0f921"
            ]
           ]
          },
          "colorway": [
           "#636efa",
           "#EF553B",
           "#00cc96",
           "#ab63fa",
           "#FFA15A",
           "#19d3f3",
           "#FF6692",
           "#B6E880",
           "#FF97FF",
           "#FECB52"
          ],
          "font": {
           "color": "#2a3f5f"
          },
          "geo": {
           "bgcolor": "white",
           "lakecolor": "white",
           "landcolor": "#E5ECF6",
           "showlakes": true,
           "showland": true,
           "subunitcolor": "white"
          },
          "hoverlabel": {
           "align": "left"
          },
          "hovermode": "closest",
          "mapbox": {
           "style": "light"
          },
          "paper_bgcolor": "white",
          "plot_bgcolor": "#E5ECF6",
          "polar": {
           "angularaxis": {
            "gridcolor": "white",
            "linecolor": "white",
            "ticks": ""
           },
           "bgcolor": "#E5ECF6",
           "radialaxis": {
            "gridcolor": "white",
            "linecolor": "white",
            "ticks": ""
           }
          },
          "scene": {
           "xaxis": {
            "backgroundcolor": "#E5ECF6",
            "gridcolor": "white",
            "gridwidth": 2,
            "linecolor": "white",
            "showbackground": true,
            "ticks": "",
            "zerolinecolor": "white"
           },
           "yaxis": {
            "backgroundcolor": "#E5ECF6",
            "gridcolor": "white",
            "gridwidth": 2,
            "linecolor": "white",
            "showbackground": true,
            "ticks": "",
            "zerolinecolor": "white"
           },
           "zaxis": {
            "backgroundcolor": "#E5ECF6",
            "gridcolor": "white",
            "gridwidth": 2,
            "linecolor": "white",
            "showbackground": true,
            "ticks": "",
            "zerolinecolor": "white"
           }
          },
          "shapedefaults": {
           "line": {
            "color": "#2a3f5f"
           }
          },
          "ternary": {
           "aaxis": {
            "gridcolor": "white",
            "linecolor": "white",
            "ticks": ""
           },
           "baxis": {
            "gridcolor": "white",
            "linecolor": "white",
            "ticks": ""
           },
           "bgcolor": "#E5ECF6",
           "caxis": {
            "gridcolor": "white",
            "linecolor": "white",
            "ticks": ""
           }
          },
          "title": {
           "x": 0.05
          },
          "xaxis": {
           "automargin": true,
           "gridcolor": "white",
           "linecolor": "white",
           "ticks": "",
           "title": {
            "standoff": 15
           },
           "zerolinecolor": "white",
           "zerolinewidth": 2
          },
          "yaxis": {
           "automargin": true,
           "gridcolor": "white",
           "linecolor": "white",
           "ticks": "",
           "title": {
            "standoff": 15
           },
           "zerolinecolor": "white",
           "zerolinewidth": 2
          }
         }
        },
        "xaxis": {
         "anchor": "y",
         "domain": [
          0,
          1
         ],
         "title": {
          "text": "vote_share"
         }
        },
        "yaxis": {
         "anchor": "x",
         "domain": [
          0,
          1
         ],
         "title": {
          "text": "count"
         }
        }
       }
      }
     },
     "metadata": {},
     "output_type": "display_data"
    },
    {
     "data": {
      "application/vnd.plotly.v1+json": {
       "config": {
        "plotlyServerURL": "https://plot.ly"
       },
       "data": [
        {
         "alignmentgroup": "True",
         "bingroup": "x",
         "histfunc": "sum",
         "hovertemplate": "county_name=%{x}<br>sum of vote_share=%{y}<extra></extra>",
         "legendgroup": "",
         "marker": {
          "color": "#636efa",
          "pattern": {
           "shape": ""
          }
         },
         "name": "",
         "offsetgroup": "",
         "orientation": "v",
         "showlegend": false,
         "type": "histogram",
         "x": [
          "Alachua",
          "Baker",
          "Bay",
          "Bradford",
          "Brevard",
          "Broward",
          "Calhoun",
          "Charlotte",
          "Citrus",
          "Clay",
          "Collier",
          "Columbia",
          "Desoto",
          "Dixie",
          "Duval",
          "Escambia",
          "Flagler",
          "Franklin",
          "Gadsden",
          "Gilchrist",
          "Glades",
          "Gulf",
          "Hamilton",
          "Hardee",
          "Hendry",
          "Hernando",
          "Highlands",
          "Hillsborough",
          "Holmes",
          "Indian River",
          "Jackson",
          "Jefferson",
          "Lafayette",
          "Lake",
          "Lee",
          "Leon",
          "Levy",
          "Liberty",
          "Madison",
          "Manatee",
          "Marion",
          "Martin",
          "Miami-Dade",
          "Monroe",
          "Nassau",
          "Okaloosa",
          "Okeechobee",
          "Orange",
          "Osceola",
          "Palm Beach",
          "Pasco",
          "Pinellas",
          "Polk",
          "Putnam",
          "Santa Rosa",
          "Sarasota",
          "Seminole",
          "St. Johns",
          "St. Lucie",
          "Sumter",
          "Suwannee",
          "Taylor",
          "Union",
          "Volusia",
          "Wakulla",
          "Walton",
          "Washington"
         ],
         "xaxis": "x",
         "y": [
          0.17306848384986706,
          -0.5851773796979277,
          -0.43476361094118676,
          -0.41958161865569277,
          -0.12675785886854635,
          0.3492904754224494,
          -0.43700469027979943,
          -0.14236425938791614,
          -0.21844706009249149,
          -0.4572387789886886,
          -0.3001660818086845,
          -0.36607044477907963,
          -0.1429149388085364,
          -0.4675959189538727,
          -0.03604751740229151,
          -0.2049178677156686,
          -0.07419094010688859,
          -0.3139788860575173,
          0.4062402773456598,
          -0.5080005039687538,
          -0.1850649350649351,
          -0.41832725231546447,
          -0.16789667896678973,
          -0.3082551076753175,
          -0.05912873225648552,
          -0.08469164045372224,
          -0.22959027761453654,
          0.06676309140660508,
          -0.6821471652593486,
          -0.2233012425836785,
          -0.2897887156007059,
          0.017519181585677723,
          -0.5816206694069289,
          -0.17136681011332067,
          -0.16506500423859138,
          0.2359303428375406,
          -0.3215582163948637,
          -0.41319550015202183,
          -0.034146900423971505,
          -0.12428996659430935,
          -0.16206457356960025,
          -0.22870301251312675,
          0.2371064368006971,
          0.004036584742731608,
          -0.4843815384615385,
          -0.49168551143833816,
          -0.19988679550416433,
          0.18205746592681832,
          0.24464295550944715,
          0.1702179724929168,
          -0.06611030207983265,
          0.05629563156702505,
          -0.06817944201832055,
          -0.24373090631364563,
          -0.5245003893070335,
          -0.07398021744461708,
          -0.0665260142458966,
          -0.3766071195723041,
          0.07840163502323588,
          -0.3488587189905196,
          -0.44931646718475243,
          -0.38129102844638957,
          -0.4883505917159763,
          -0.011655487260577913,
          -0.2799891134245084,
          -0.5184731649289763,
          -0.47255931896395575
         ],
         "yaxis": "y"
        }
       ],
       "layout": {
        "barmode": "relative",
        "legend": {
         "tracegroupgap": 0
        },
        "template": {
         "data": {
          "bar": [
           {
            "error_x": {
             "color": "#2a3f5f"
            },
            "error_y": {
             "color": "#2a3f5f"
            },
            "marker": {
             "line": {
              "color": "#E5ECF6",
              "width": 0.5
             },
             "pattern": {
              "fillmode": "overlay",
              "size": 10,
              "solidity": 0.2
             }
            },
            "type": "bar"
           }
          ],
          "barpolar": [
           {
            "marker": {
             "line": {
              "color": "#E5ECF6",
              "width": 0.5
             },
             "pattern": {
              "fillmode": "overlay",
              "size": 10,
              "solidity": 0.2
             }
            },
            "type": "barpolar"
           }
          ],
          "carpet": [
           {
            "aaxis": {
             "endlinecolor": "#2a3f5f",
             "gridcolor": "white",
             "linecolor": "white",
             "minorgridcolor": "white",
             "startlinecolor": "#2a3f5f"
            },
            "baxis": {
             "endlinecolor": "#2a3f5f",
             "gridcolor": "white",
             "linecolor": "white",
             "minorgridcolor": "white",
             "startlinecolor": "#2a3f5f"
            },
            "type": "carpet"
           }
          ],
          "choropleth": [
           {
            "colorbar": {
             "outlinewidth": 0,
             "ticks": ""
            },
            "type": "choropleth"
           }
          ],
          "contour": [
           {
            "colorbar": {
             "outlinewidth": 0,
             "ticks": ""
            },
            "colorscale": [
             [
              0,
              "#0d0887"
             ],
             [
              0.1111111111111111,
              "#46039f"
             ],
             [
              0.2222222222222222,
              "#7201a8"
             ],
             [
              0.3333333333333333,
              "#9c179e"
             ],
             [
              0.4444444444444444,
              "#bd3786"
             ],
             [
              0.5555555555555556,
              "#d8576b"
             ],
             [
              0.6666666666666666,
              "#ed7953"
             ],
             [
              0.7777777777777778,
              "#fb9f3a"
             ],
             [
              0.8888888888888888,
              "#fdca26"
             ],
             [
              1,
              "#f0f921"
             ]
            ],
            "type": "contour"
           }
          ],
          "contourcarpet": [
           {
            "colorbar": {
             "outlinewidth": 0,
             "ticks": ""
            },
            "type": "contourcarpet"
           }
          ],
          "heatmap": [
           {
            "colorbar": {
             "outlinewidth": 0,
             "ticks": ""
            },
            "colorscale": [
             [
              0,
              "#0d0887"
             ],
             [
              0.1111111111111111,
              "#46039f"
             ],
             [
              0.2222222222222222,
              "#7201a8"
             ],
             [
              0.3333333333333333,
              "#9c179e"
             ],
             [
              0.4444444444444444,
              "#bd3786"
             ],
             [
              0.5555555555555556,
              "#d8576b"
             ],
             [
              0.6666666666666666,
              "#ed7953"
             ],
             [
              0.7777777777777778,
              "#fb9f3a"
             ],
             [
              0.8888888888888888,
              "#fdca26"
             ],
             [
              1,
              "#f0f921"
             ]
            ],
            "type": "heatmap"
           }
          ],
          "heatmapgl": [
           {
            "colorbar": {
             "outlinewidth": 0,
             "ticks": ""
            },
            "colorscale": [
             [
              0,
              "#0d0887"
             ],
             [
              0.1111111111111111,
              "#46039f"
             ],
             [
              0.2222222222222222,
              "#7201a8"
             ],
             [
              0.3333333333333333,
              "#9c179e"
             ],
             [
              0.4444444444444444,
              "#bd3786"
             ],
             [
              0.5555555555555556,
              "#d8576b"
             ],
             [
              0.6666666666666666,
              "#ed7953"
             ],
             [
              0.7777777777777778,
              "#fb9f3a"
             ],
             [
              0.8888888888888888,
              "#fdca26"
             ],
             [
              1,
              "#f0f921"
             ]
            ],
            "type": "heatmapgl"
           }
          ],
          "histogram": [
           {
            "marker": {
             "pattern": {
              "fillmode": "overlay",
              "size": 10,
              "solidity": 0.2
             }
            },
            "type": "histogram"
           }
          ],
          "histogram2d": [
           {
            "colorbar": {
             "outlinewidth": 0,
             "ticks": ""
            },
            "colorscale": [
             [
              0,
              "#0d0887"
             ],
             [
              0.1111111111111111,
              "#46039f"
             ],
             [
              0.2222222222222222,
              "#7201a8"
             ],
             [
              0.3333333333333333,
              "#9c179e"
             ],
             [
              0.4444444444444444,
              "#bd3786"
             ],
             [
              0.5555555555555556,
              "#d8576b"
             ],
             [
              0.6666666666666666,
              "#ed7953"
             ],
             [
              0.7777777777777778,
              "#fb9f3a"
             ],
             [
              0.8888888888888888,
              "#fdca26"
             ],
             [
              1,
              "#f0f921"
             ]
            ],
            "type": "histogram2d"
           }
          ],
          "histogram2dcontour": [
           {
            "colorbar": {
             "outlinewidth": 0,
             "ticks": ""
            },
            "colorscale": [
             [
              0,
              "#0d0887"
             ],
             [
              0.1111111111111111,
              "#46039f"
             ],
             [
              0.2222222222222222,
              "#7201a8"
             ],
             [
              0.3333333333333333,
              "#9c179e"
             ],
             [
              0.4444444444444444,
              "#bd3786"
             ],
             [
              0.5555555555555556,
              "#d8576b"
             ],
             [
              0.6666666666666666,
              "#ed7953"
             ],
             [
              0.7777777777777778,
              "#fb9f3a"
             ],
             [
              0.8888888888888888,
              "#fdca26"
             ],
             [
              1,
              "#f0f921"
             ]
            ],
            "type": "histogram2dcontour"
           }
          ],
          "mesh3d": [
           {
            "colorbar": {
             "outlinewidth": 0,
             "ticks": ""
            },
            "type": "mesh3d"
           }
          ],
          "parcoords": [
           {
            "line": {
             "colorbar": {
              "outlinewidth": 0,
              "ticks": ""
             }
            },
            "type": "parcoords"
           }
          ],
          "pie": [
           {
            "automargin": true,
            "type": "pie"
           }
          ],
          "scatter": [
           {
            "fillpattern": {
             "fillmode": "overlay",
             "size": 10,
             "solidity": 0.2
            },
            "type": "scatter"
           }
          ],
          "scatter3d": [
           {
            "line": {
             "colorbar": {
              "outlinewidth": 0,
              "ticks": ""
             }
            },
            "marker": {
             "colorbar": {
              "outlinewidth": 0,
              "ticks": ""
             }
            },
            "type": "scatter3d"
           }
          ],
          "scattercarpet": [
           {
            "marker": {
             "colorbar": {
              "outlinewidth": 0,
              "ticks": ""
             }
            },
            "type": "scattercarpet"
           }
          ],
          "scattergeo": [
           {
            "marker": {
             "colorbar": {
              "outlinewidth": 0,
              "ticks": ""
             }
            },
            "type": "scattergeo"
           }
          ],
          "scattergl": [
           {
            "marker": {
             "colorbar": {
              "outlinewidth": 0,
              "ticks": ""
             }
            },
            "type": "scattergl"
           }
          ],
          "scattermapbox": [
           {
            "marker": {
             "colorbar": {
              "outlinewidth": 0,
              "ticks": ""
             }
            },
            "type": "scattermapbox"
           }
          ],
          "scatterpolar": [
           {
            "marker": {
             "colorbar": {
              "outlinewidth": 0,
              "ticks": ""
             }
            },
            "type": "scatterpolar"
           }
          ],
          "scatterpolargl": [
           {
            "marker": {
             "colorbar": {
              "outlinewidth": 0,
              "ticks": ""
             }
            },
            "type": "scatterpolargl"
           }
          ],
          "scatterternary": [
           {
            "marker": {
             "colorbar": {
              "outlinewidth": 0,
              "ticks": ""
             }
            },
            "type": "scatterternary"
           }
          ],
          "surface": [
           {
            "colorbar": {
             "outlinewidth": 0,
             "ticks": ""
            },
            "colorscale": [
             [
              0,
              "#0d0887"
             ],
             [
              0.1111111111111111,
              "#46039f"
             ],
             [
              0.2222222222222222,
              "#7201a8"
             ],
             [
              0.3333333333333333,
              "#9c179e"
             ],
             [
              0.4444444444444444,
              "#bd3786"
             ],
             [
              0.5555555555555556,
              "#d8576b"
             ],
             [
              0.6666666666666666,
              "#ed7953"
             ],
             [
              0.7777777777777778,
              "#fb9f3a"
             ],
             [
              0.8888888888888888,
              "#fdca26"
             ],
             [
              1,
              "#f0f921"
             ]
            ],
            "type": "surface"
           }
          ],
          "table": [
           {
            "cells": {
             "fill": {
              "color": "#EBF0F8"
             },
             "line": {
              "color": "white"
             }
            },
            "header": {
             "fill": {
              "color": "#C8D4E3"
             },
             "line": {
              "color": "white"
             }
            },
            "type": "table"
           }
          ]
         },
         "layout": {
          "annotationdefaults": {
           "arrowcolor": "#2a3f5f",
           "arrowhead": 0,
           "arrowwidth": 1
          },
          "autotypenumbers": "strict",
          "coloraxis": {
           "colorbar": {
            "outlinewidth": 0,
            "ticks": ""
           }
          },
          "colorscale": {
           "diverging": [
            [
             0,
             "#8e0152"
            ],
            [
             0.1,
             "#c51b7d"
            ],
            [
             0.2,
             "#de77ae"
            ],
            [
             0.3,
             "#f1b6da"
            ],
            [
             0.4,
             "#fde0ef"
            ],
            [
             0.5,
             "#f7f7f7"
            ],
            [
             0.6,
             "#e6f5d0"
            ],
            [
             0.7,
             "#b8e186"
            ],
            [
             0.8,
             "#7fbc41"
            ],
            [
             0.9,
             "#4d9221"
            ],
            [
             1,
             "#276419"
            ]
           ],
           "sequential": [
            [
             0,
             "#0d0887"
            ],
            [
             0.1111111111111111,
             "#46039f"
            ],
            [
             0.2222222222222222,
             "#7201a8"
            ],
            [
             0.3333333333333333,
             "#9c179e"
            ],
            [
             0.4444444444444444,
             "#bd3786"
            ],
            [
             0.5555555555555556,
             "#d8576b"
            ],
            [
             0.6666666666666666,
             "#ed7953"
            ],
            [
             0.7777777777777778,
             "#fb9f3a"
            ],
            [
             0.8888888888888888,
             "#fdca26"
            ],
            [
             1,
             "#f0f921"
            ]
           ],
           "sequentialminus": [
            [
             0,
             "#0d0887"
            ],
            [
             0.1111111111111111,
             "#46039f"
            ],
            [
             0.2222222222222222,
             "#7201a8"
            ],
            [
             0.3333333333333333,
             "#9c179e"
            ],
            [
             0.4444444444444444,
             "#bd3786"
            ],
            [
             0.5555555555555556,
             "#d8576b"
            ],
            [
             0.6666666666666666,
             "#ed7953"
            ],
            [
             0.7777777777777778,
             "#fb9f3a"
            ],
            [
             0.8888888888888888,
             "#fdca26"
            ],
            [
             1,
             "#f0f921"
            ]
           ]
          },
          "colorway": [
           "#636efa",
           "#EF553B",
           "#00cc96",
           "#ab63fa",
           "#FFA15A",
           "#19d3f3",
           "#FF6692",
           "#B6E880",
           "#FF97FF",
           "#FECB52"
          ],
          "font": {
           "color": "#2a3f5f"
          },
          "geo": {
           "bgcolor": "white",
           "lakecolor": "white",
           "landcolor": "#E5ECF6",
           "showlakes": true,
           "showland": true,
           "subunitcolor": "white"
          },
          "hoverlabel": {
           "align": "left"
          },
          "hovermode": "closest",
          "mapbox": {
           "style": "light"
          },
          "paper_bgcolor": "white",
          "plot_bgcolor": "#E5ECF6",
          "polar": {
           "angularaxis": {
            "gridcolor": "white",
            "linecolor": "white",
            "ticks": ""
           },
           "bgcolor": "#E5ECF6",
           "radialaxis": {
            "gridcolor": "white",
            "linecolor": "white",
            "ticks": ""
           }
          },
          "scene": {
           "xaxis": {
            "backgroundcolor": "#E5ECF6",
            "gridcolor": "white",
            "gridwidth": 2,
            "linecolor": "white",
            "showbackground": true,
            "ticks": "",
            "zerolinecolor": "white"
           },
           "yaxis": {
            "backgroundcolor": "#E5ECF6",
            "gridcolor": "white",
            "gridwidth": 2,
            "linecolor": "white",
            "showbackground": true,
            "ticks": "",
            "zerolinecolor": "white"
           },
           "zaxis": {
            "backgroundcolor": "#E5ECF6",
            "gridcolor": "white",
            "gridwidth": 2,
            "linecolor": "white",
            "showbackground": true,
            "ticks": "",
            "zerolinecolor": "white"
           }
          },
          "shapedefaults": {
           "line": {
            "color": "#2a3f5f"
           }
          },
          "ternary": {
           "aaxis": {
            "gridcolor": "white",
            "linecolor": "white",
            "ticks": ""
           },
           "baxis": {
            "gridcolor": "white",
            "linecolor": "white",
            "ticks": ""
           },
           "bgcolor": "#E5ECF6",
           "caxis": {
            "gridcolor": "white",
            "linecolor": "white",
            "ticks": ""
           }
          },
          "title": {
           "x": 0.05
          },
          "xaxis": {
           "automargin": true,
           "gridcolor": "white",
           "linecolor": "white",
           "ticks": "",
           "title": {
            "standoff": 15
           },
           "zerolinecolor": "white",
           "zerolinewidth": 2
          },
          "yaxis": {
           "automargin": true,
           "gridcolor": "white",
           "linecolor": "white",
           "ticks": "",
           "title": {
            "standoff": 15
           },
           "zerolinecolor": "white",
           "zerolinewidth": 2
          }
         }
        },
        "title": {
         "text": "2012"
        },
        "xaxis": {
         "anchor": "y",
         "domain": [
          0,
          1
         ],
         "title": {
          "text": "county_name"
         }
        },
        "yaxis": {
         "anchor": "x",
         "domain": [
          0,
          1
         ],
         "title": {
          "text": "sum of vote_share"
         }
        }
       }
      }
     },
     "metadata": {},
     "output_type": "display_data"
    },
    {
     "data": {
      "application/vnd.plotly.v1+json": {
       "config": {
        "plotlyServerURL": "https://plot.ly"
       },
       "data": [
        {
         "alignmentgroup": "True",
         "bingroup": "x",
         "histfunc": "sum",
         "hovertemplate": "county_name=%{x}<br>sum of vote_share=%{y}<extra></extra>",
         "legendgroup": "",
         "marker": {
          "color": "#636efa",
          "pattern": {
           "shape": ""
          }
         },
         "name": "",
         "offsetgroup": "",
         "orientation": "v",
         "showlegend": false,
         "type": "histogram",
         "x": [
          "Alachua",
          "Baker",
          "Bay",
          "Bradford",
          "Brevard",
          "Broward",
          "Calhoun",
          "Charlotte",
          "Citrus",
          "Clay",
          "Collier",
          "Columbia",
          "Desoto",
          "Dixie",
          "Duval",
          "Escambia",
          "Flagler",
          "Franklin",
          "Gadsden",
          "Gilchrist",
          "Glades",
          "Gulf",
          "Hamilton",
          "Hardee",
          "Hendry",
          "Hernando",
          "Highlands",
          "Hillsborough",
          "Holmes",
          "Indian River",
          "Jackson",
          "Jefferson",
          "Lafayette",
          "Lake",
          "Lee",
          "Leon",
          "Levy",
          "Liberty",
          "Madison",
          "Manatee",
          "Marion",
          "Martin",
          "Miami-Dade",
          "Monroe",
          "Nassau",
          "Okaloosa",
          "Okeechobee",
          "Orange",
          "Osceola",
          "Palm Beach",
          "Pasco",
          "Pinellas",
          "Polk",
          "Putnam",
          "Santa Rosa",
          "Sarasota",
          "Seminole",
          "St. Johns",
          "St. Lucie",
          "Sumter",
          "Suwannee",
          "Taylor",
          "Union",
          "Volusia",
          "Wakulla",
          "Walton",
          "Washington"
         ],
         "xaxis": "x",
         "y": [
          0.16522337996913616,
          -0.45498525073746315,
          -0.48928390223419704,
          -0.3421667055802008,
          -0.11512052987279281,
          0.38443080369024274,
          -0.3513706793802145,
          -0.12301309978737007,
          -0.15182234682713353,
          -0.48871971305175316,
          -0.35206947166726726,
          -0.3144749701379086,
          -0.05132625994694956,
          -0.31404651162790703,
          -0.1269922765233643,
          -0.27797587513753613,
          -0.1054239877769289,
          -0.20208574739281576,
          0.43313078539383265,
          -0.44199264460046805,
          -0.25494722955145116,
          -0.394975845410628,
          -0.09020134228187926,
          -0.2689820801773508,
          -0.16728735289736335,
          -0.03135807084774278,
          -0.2437868346378122,
          0.026910047918699054,
          -0.567213687150838,
          -0.21848691478419874,
          -0.20058177971704344,
          0.07143988594962769,
          -0.3667687595712098,
          -0.17951384259876457,
          -0.20175613460534436,
          0.2623377102390086,
          -0.3174698343700817,
          -0.24701046337817634,
          -0.016797488226059698,
          -0.10312651276144685,
          -0.16536416069511373,
          -0.15006510416666663,
          0.19089010187417077,
          0.04230378949578362,
          -0.48392973324658417,
          -0.555495707243822,
          -0.19114349775784756,
          0.11845179268668082,
          0.08778881734215205,
          0.20578704531635605,
          -0.01773023255813949,
          0.11235990072641971,
          -0.09782172437698405,
          -0.2883357478379209,
          -0.5448829506540167,
          -0.030734424162252083,
          -0.07611232244986105,
          -0.38324202756473097,
          0.09429480571863941,
          -0.39409741082744887,
          -0.3784543325526932,
          -0.3216689098250337,
          -0.17395626242544726,
          -0.036477645111179124,
          -0.1626521626521626,
          -0.5292736610418195,
          -0.45453446191051994
         ],
         "yaxis": "y"
        }
       ],
       "layout": {
        "barmode": "relative",
        "legend": {
         "tracegroupgap": 0
        },
        "template": {
         "data": {
          "bar": [
           {
            "error_x": {
             "color": "#2a3f5f"
            },
            "error_y": {
             "color": "#2a3f5f"
            },
            "marker": {
             "line": {
              "color": "#E5ECF6",
              "width": 0.5
             },
             "pattern": {
              "fillmode": "overlay",
              "size": 10,
              "solidity": 0.2
             }
            },
            "type": "bar"
           }
          ],
          "barpolar": [
           {
            "marker": {
             "line": {
              "color": "#E5ECF6",
              "width": 0.5
             },
             "pattern": {
              "fillmode": "overlay",
              "size": 10,
              "solidity": 0.2
             }
            },
            "type": "barpolar"
           }
          ],
          "carpet": [
           {
            "aaxis": {
             "endlinecolor": "#2a3f5f",
             "gridcolor": "white",
             "linecolor": "white",
             "minorgridcolor": "white",
             "startlinecolor": "#2a3f5f"
            },
            "baxis": {
             "endlinecolor": "#2a3f5f",
             "gridcolor": "white",
             "linecolor": "white",
             "minorgridcolor": "white",
             "startlinecolor": "#2a3f5f"
            },
            "type": "carpet"
           }
          ],
          "choropleth": [
           {
            "colorbar": {
             "outlinewidth": 0,
             "ticks": ""
            },
            "type": "choropleth"
           }
          ],
          "contour": [
           {
            "colorbar": {
             "outlinewidth": 0,
             "ticks": ""
            },
            "colorscale": [
             [
              0,
              "#0d0887"
             ],
             [
              0.1111111111111111,
              "#46039f"
             ],
             [
              0.2222222222222222,
              "#7201a8"
             ],
             [
              0.3333333333333333,
              "#9c179e"
             ],
             [
              0.4444444444444444,
              "#bd3786"
             ],
             [
              0.5555555555555556,
              "#d8576b"
             ],
             [
              0.6666666666666666,
              "#ed7953"
             ],
             [
              0.7777777777777778,
              "#fb9f3a"
             ],
             [
              0.8888888888888888,
              "#fdca26"
             ],
             [
              1,
              "#f0f921"
             ]
            ],
            "type": "contour"
           }
          ],
          "contourcarpet": [
           {
            "colorbar": {
             "outlinewidth": 0,
             "ticks": ""
            },
            "type": "contourcarpet"
           }
          ],
          "heatmap": [
           {
            "colorbar": {
             "outlinewidth": 0,
             "ticks": ""
            },
            "colorscale": [
             [
              0,
              "#0d0887"
             ],
             [
              0.1111111111111111,
              "#46039f"
             ],
             [
              0.2222222222222222,
              "#7201a8"
             ],
             [
              0.3333333333333333,
              "#9c179e"
             ],
             [
              0.4444444444444444,
              "#bd3786"
             ],
             [
              0.5555555555555556,
              "#d8576b"
             ],
             [
              0.6666666666666666,
              "#ed7953"
             ],
             [
              0.7777777777777778,
              "#fb9f3a"
             ],
             [
              0.8888888888888888,
              "#fdca26"
             ],
             [
              1,
              "#f0f921"
             ]
            ],
            "type": "heatmap"
           }
          ],
          "heatmapgl": [
           {
            "colorbar": {
             "outlinewidth": 0,
             "ticks": ""
            },
            "colorscale": [
             [
              0,
              "#0d0887"
             ],
             [
              0.1111111111111111,
              "#46039f"
             ],
             [
              0.2222222222222222,
              "#7201a8"
             ],
             [
              0.3333333333333333,
              "#9c179e"
             ],
             [
              0.4444444444444444,
              "#bd3786"
             ],
             [
              0.5555555555555556,
              "#d8576b"
             ],
             [
              0.6666666666666666,
              "#ed7953"
             ],
             [
              0.7777777777777778,
              "#fb9f3a"
             ],
             [
              0.8888888888888888,
              "#fdca26"
             ],
             [
              1,
              "#f0f921"
             ]
            ],
            "type": "heatmapgl"
           }
          ],
          "histogram": [
           {
            "marker": {
             "pattern": {
              "fillmode": "overlay",
              "size": 10,
              "solidity": 0.2
             }
            },
            "type": "histogram"
           }
          ],
          "histogram2d": [
           {
            "colorbar": {
             "outlinewidth": 0,
             "ticks": ""
            },
            "colorscale": [
             [
              0,
              "#0d0887"
             ],
             [
              0.1111111111111111,
              "#46039f"
             ],
             [
              0.2222222222222222,
              "#7201a8"
             ],
             [
              0.3333333333333333,
              "#9c179e"
             ],
             [
              0.4444444444444444,
              "#bd3786"
             ],
             [
              0.5555555555555556,
              "#d8576b"
             ],
             [
              0.6666666666666666,
              "#ed7953"
             ],
             [
              0.7777777777777778,
              "#fb9f3a"
             ],
             [
              0.8888888888888888,
              "#fdca26"
             ],
             [
              1,
              "#f0f921"
             ]
            ],
            "type": "histogram2d"
           }
          ],
          "histogram2dcontour": [
           {
            "colorbar": {
             "outlinewidth": 0,
             "ticks": ""
            },
            "colorscale": [
             [
              0,
              "#0d0887"
             ],
             [
              0.1111111111111111,
              "#46039f"
             ],
             [
              0.2222222222222222,
              "#7201a8"
             ],
             [
              0.3333333333333333,
              "#9c179e"
             ],
             [
              0.4444444444444444,
              "#bd3786"
             ],
             [
              0.5555555555555556,
              "#d8576b"
             ],
             [
              0.6666666666666666,
              "#ed7953"
             ],
             [
              0.7777777777777778,
              "#fb9f3a"
             ],
             [
              0.8888888888888888,
              "#fdca26"
             ],
             [
              1,
              "#f0f921"
             ]
            ],
            "type": "histogram2dcontour"
           }
          ],
          "mesh3d": [
           {
            "colorbar": {
             "outlinewidth": 0,
             "ticks": ""
            },
            "type": "mesh3d"
           }
          ],
          "parcoords": [
           {
            "line": {
             "colorbar": {
              "outlinewidth": 0,
              "ticks": ""
             }
            },
            "type": "parcoords"
           }
          ],
          "pie": [
           {
            "automargin": true,
            "type": "pie"
           }
          ],
          "scatter": [
           {
            "fillpattern": {
             "fillmode": "overlay",
             "size": 10,
             "solidity": 0.2
            },
            "type": "scatter"
           }
          ],
          "scatter3d": [
           {
            "line": {
             "colorbar": {
              "outlinewidth": 0,
              "ticks": ""
             }
            },
            "marker": {
             "colorbar": {
              "outlinewidth": 0,
              "ticks": ""
             }
            },
            "type": "scatter3d"
           }
          ],
          "scattercarpet": [
           {
            "marker": {
             "colorbar": {
              "outlinewidth": 0,
              "ticks": ""
             }
            },
            "type": "scattercarpet"
           }
          ],
          "scattergeo": [
           {
            "marker": {
             "colorbar": {
              "outlinewidth": 0,
              "ticks": ""
             }
            },
            "type": "scattergeo"
           }
          ],
          "scattergl": [
           {
            "marker": {
             "colorbar": {
              "outlinewidth": 0,
              "ticks": ""
             }
            },
            "type": "scattergl"
           }
          ],
          "scattermapbox": [
           {
            "marker": {
             "colorbar": {
              "outlinewidth": 0,
              "ticks": ""
             }
            },
            "type": "scattermapbox"
           }
          ],
          "scatterpolar": [
           {
            "marker": {
             "colorbar": {
              "outlinewidth": 0,
              "ticks": ""
             }
            },
            "type": "scatterpolar"
           }
          ],
          "scatterpolargl": [
           {
            "marker": {
             "colorbar": {
              "outlinewidth": 0,
              "ticks": ""
             }
            },
            "type": "scatterpolargl"
           }
          ],
          "scatterternary": [
           {
            "marker": {
             "colorbar": {
              "outlinewidth": 0,
              "ticks": ""
             }
            },
            "type": "scatterternary"
           }
          ],
          "surface": [
           {
            "colorbar": {
             "outlinewidth": 0,
             "ticks": ""
            },
            "colorscale": [
             [
              0,
              "#0d0887"
             ],
             [
              0.1111111111111111,
              "#46039f"
             ],
             [
              0.2222222222222222,
              "#7201a8"
             ],
             [
              0.3333333333333333,
              "#9c179e"
             ],
             [
              0.4444444444444444,
              "#bd3786"
             ],
             [
              0.5555555555555556,
              "#d8576b"
             ],
             [
              0.6666666666666666,
              "#ed7953"
             ],
             [
              0.7777777777777778,
              "#fb9f3a"
             ],
             [
              0.8888888888888888,
              "#fdca26"
             ],
             [
              1,
              "#f0f921"
             ]
            ],
            "type": "surface"
           }
          ],
          "table": [
           {
            "cells": {
             "fill": {
              "color": "#EBF0F8"
             },
             "line": {
              "color": "white"
             }
            },
            "header": {
             "fill": {
              "color": "#C8D4E3"
             },
             "line": {
              "color": "white"
             }
            },
            "type": "table"
           }
          ]
         },
         "layout": {
          "annotationdefaults": {
           "arrowcolor": "#2a3f5f",
           "arrowhead": 0,
           "arrowwidth": 1
          },
          "autotypenumbers": "strict",
          "coloraxis": {
           "colorbar": {
            "outlinewidth": 0,
            "ticks": ""
           }
          },
          "colorscale": {
           "diverging": [
            [
             0,
             "#8e0152"
            ],
            [
             0.1,
             "#c51b7d"
            ],
            [
             0.2,
             "#de77ae"
            ],
            [
             0.3,
             "#f1b6da"
            ],
            [
             0.4,
             "#fde0ef"
            ],
            [
             0.5,
             "#f7f7f7"
            ],
            [
             0.6,
             "#e6f5d0"
            ],
            [
             0.7,
             "#b8e186"
            ],
            [
             0.8,
             "#7fbc41"
            ],
            [
             0.9,
             "#4d9221"
            ],
            [
             1,
             "#276419"
            ]
           ],
           "sequential": [
            [
             0,
             "#0d0887"
            ],
            [
             0.1111111111111111,
             "#46039f"
            ],
            [
             0.2222222222222222,
             "#7201a8"
            ],
            [
             0.3333333333333333,
             "#9c179e"
            ],
            [
             0.4444444444444444,
             "#bd3786"
            ],
            [
             0.5555555555555556,
             "#d8576b"
            ],
            [
             0.6666666666666666,
             "#ed7953"
            ],
            [
             0.7777777777777778,
             "#fb9f3a"
            ],
            [
             0.8888888888888888,
             "#fdca26"
            ],
            [
             1,
             "#f0f921"
            ]
           ],
           "sequentialminus": [
            [
             0,
             "#0d0887"
            ],
            [
             0.1111111111111111,
             "#46039f"
            ],
            [
             0.2222222222222222,
             "#7201a8"
            ],
            [
             0.3333333333333333,
             "#9c179e"
            ],
            [
             0.4444444444444444,
             "#bd3786"
            ],
            [
             0.5555555555555556,
             "#d8576b"
            ],
            [
             0.6666666666666666,
             "#ed7953"
            ],
            [
             0.7777777777777778,
             "#fb9f3a"
            ],
            [
             0.8888888888888888,
             "#fdca26"
            ],
            [
             1,
             "#f0f921"
            ]
           ]
          },
          "colorway": [
           "#636efa",
           "#EF553B",
           "#00cc96",
           "#ab63fa",
           "#FFA15A",
           "#19d3f3",
           "#FF6692",
           "#B6E880",
           "#FF97FF",
           "#FECB52"
          ],
          "font": {
           "color": "#2a3f5f"
          },
          "geo": {
           "bgcolor": "white",
           "lakecolor": "white",
           "landcolor": "#E5ECF6",
           "showlakes": true,
           "showland": true,
           "subunitcolor": "white"
          },
          "hoverlabel": {
           "align": "left"
          },
          "hovermode": "closest",
          "mapbox": {
           "style": "light"
          },
          "paper_bgcolor": "white",
          "plot_bgcolor": "#E5ECF6",
          "polar": {
           "angularaxis": {
            "gridcolor": "white",
            "linecolor": "white",
            "ticks": ""
           },
           "bgcolor": "#E5ECF6",
           "radialaxis": {
            "gridcolor": "white",
            "linecolor": "white",
            "ticks": ""
           }
          },
          "scene": {
           "xaxis": {
            "backgroundcolor": "#E5ECF6",
            "gridcolor": "white",
            "gridwidth": 2,
            "linecolor": "white",
            "showbackground": true,
            "ticks": "",
            "zerolinecolor": "white"
           },
           "yaxis": {
            "backgroundcolor": "#E5ECF6",
            "gridcolor": "white",
            "gridwidth": 2,
            "linecolor": "white",
            "showbackground": true,
            "ticks": "",
            "zerolinecolor": "white"
           },
           "zaxis": {
            "backgroundcolor": "#E5ECF6",
            "gridcolor": "white",
            "gridwidth": 2,
            "linecolor": "white",
            "showbackground": true,
            "ticks": "",
            "zerolinecolor": "white"
           }
          },
          "shapedefaults": {
           "line": {
            "color": "#2a3f5f"
           }
          },
          "ternary": {
           "aaxis": {
            "gridcolor": "white",
            "linecolor": "white",
            "ticks": ""
           },
           "baxis": {
            "gridcolor": "white",
            "linecolor": "white",
            "ticks": ""
           },
           "bgcolor": "#E5ECF6",
           "caxis": {
            "gridcolor": "white",
            "linecolor": "white",
            "ticks": ""
           }
          },
          "title": {
           "x": 0.05
          },
          "xaxis": {
           "automargin": true,
           "gridcolor": "white",
           "linecolor": "white",
           "ticks": "",
           "title": {
            "standoff": 15
           },
           "zerolinecolor": "white",
           "zerolinewidth": 2
          },
          "yaxis": {
           "automargin": true,
           "gridcolor": "white",
           "linecolor": "white",
           "ticks": "",
           "title": {
            "standoff": 15
           },
           "zerolinecolor": "white",
           "zerolinewidth": 2
          }
         }
        },
        "title": {
         "text": "2014"
        },
        "xaxis": {
         "anchor": "y",
         "domain": [
          0,
          1
         ],
         "title": {
          "text": "county_name"
         }
        },
        "yaxis": {
         "anchor": "x",
         "domain": [
          0,
          1
         ],
         "title": {
          "text": "sum of vote_share"
         }
        }
       }
      }
     },
     "metadata": {},
     "output_type": "display_data"
    },
    {
     "data": {
      "application/vnd.plotly.v1+json": {
       "config": {
        "plotlyServerURL": "https://plot.ly"
       },
       "data": [
        {
         "alignmentgroup": "True",
         "bingroup": "x",
         "histfunc": "sum",
         "hovertemplate": "county_name=%{x}<br>sum of vote_share=%{y}<extra></extra>",
         "legendgroup": "",
         "marker": {
          "color": "#636efa",
          "pattern": {
           "shape": ""
          }
         },
         "name": "",
         "offsetgroup": "",
         "orientation": "v",
         "showlegend": false,
         "type": "histogram",
         "x": [
          "Alachua",
          "Baker",
          "Bay",
          "Bradford",
          "Brevard",
          "Broward",
          "Calhoun",
          "Charlotte",
          "Citrus",
          "Clay",
          "Collier",
          "Columbia",
          "Desoto",
          "Dixie",
          "Duval",
          "Escambia",
          "Flagler",
          "Franklin",
          "Gadsden",
          "Gilchrist",
          "Glades",
          "Gulf",
          "Hamilton",
          "Hardee",
          "Hendry",
          "Hernando",
          "Highlands",
          "Hillsborough",
          "Holmes",
          "Indian River",
          "Jackson",
          "Jefferson",
          "Lafayette",
          "Lake",
          "Lee",
          "Leon",
          "Levy",
          "Liberty",
          "Madison",
          "Manatee",
          "Marion",
          "Martin",
          "Miami-Dade",
          "Monroe",
          "Nassau",
          "Okaloosa",
          "Okeechobee",
          "Orange",
          "Osceola",
          "Palm Beach",
          "Pasco",
          "Pinellas",
          "Polk",
          "Putnam",
          "Santa Rosa",
          "Sarasota",
          "Seminole",
          "St. Johns",
          "St. Lucie",
          "Sumter",
          "Suwannee",
          "Taylor",
          "Union",
          "Volusia",
          "Wakulla",
          "Walton",
          "Washington"
         ],
         "xaxis": "x",
         "y": [
          0.2227978478093774,
          -0.6439984258166076,
          -0.45790165718301556,
          -0.49259746668860016,
          -0.19541335445604308,
          0.34914400492961445,
          -0.5571148825065275,
          -0.27547923076131575,
          -0.3938093816843257,
          -0.4392687085923013,
          -0.2570169845226364,
          -0.4423156873614191,
          -0.2748784738145465,
          -0.6282086668506763,
          -0.013670107862831682,
          -0.20332485795086014,
          -0.20390777243175195,
          -0.3929691368212576,
          0.37498304164970825,
          -0.6234655335221907,
          -0.39365586490187127,
          -0.4922930023189197,
          -0.2802768166089965,
          -0.4045781556572924,
          -0.14129851547129318,
          -0.28710737340334486,
          -0.31792397470170175,
          0.06793621354882518,
          -0.7748948106591865,
          -0.24468497294054414,
          -0.3714731320005671,
          -0.05059175445441544,
          -0.6716505423629434,
          -0.23084323778906735,
          -0.20416272237386685,
          0.24854920360538335,
          -0.4448433252987333,
          -0.571256038647343,
          -0.15515222482435603,
          -0.1699519244068003,
          -0.2603297328027288,
          -0.26570706312836906,
          0.2939117151594777,
          -0.06824580589617701,
          -0.4978932584269663,
          -0.4712525466227864,
          -0.3921953346413778,
          0.24402520737377287,
          0.24851556535753672,
          0.152895865126081,
          -0.21359011777279918,
          -0.011055609716875914,
          -0.13937742404231818,
          -0.3616708206960752,
          -0.5285620856073249,
          -0.11483749940567012,
          -0.016295733793669775,
          -0.3306951235436647,
          -0.024001183156916184,
          -0.3896009736140241,
          -0.549475701282802,
          -0.5111253744116389,
          -0.6211114994757078,
          -0.12882200563662743,
          -0.39911939911939914,
          -0.5569650126851141,
          -0.5684595486575685
         ],
         "yaxis": "y"
        }
       ],
       "layout": {
        "barmode": "relative",
        "legend": {
         "tracegroupgap": 0
        },
        "template": {
         "data": {
          "bar": [
           {
            "error_x": {
             "color": "#2a3f5f"
            },
            "error_y": {
             "color": "#2a3f5f"
            },
            "marker": {
             "line": {
              "color": "#E5ECF6",
              "width": 0.5
             },
             "pattern": {
              "fillmode": "overlay",
              "size": 10,
              "solidity": 0.2
             }
            },
            "type": "bar"
           }
          ],
          "barpolar": [
           {
            "marker": {
             "line": {
              "color": "#E5ECF6",
              "width": 0.5
             },
             "pattern": {
              "fillmode": "overlay",
              "size": 10,
              "solidity": 0.2
             }
            },
            "type": "barpolar"
           }
          ],
          "carpet": [
           {
            "aaxis": {
             "endlinecolor": "#2a3f5f",
             "gridcolor": "white",
             "linecolor": "white",
             "minorgridcolor": "white",
             "startlinecolor": "#2a3f5f"
            },
            "baxis": {
             "endlinecolor": "#2a3f5f",
             "gridcolor": "white",
             "linecolor": "white",
             "minorgridcolor": "white",
             "startlinecolor": "#2a3f5f"
            },
            "type": "carpet"
           }
          ],
          "choropleth": [
           {
            "colorbar": {
             "outlinewidth": 0,
             "ticks": ""
            },
            "type": "choropleth"
           }
          ],
          "contour": [
           {
            "colorbar": {
             "outlinewidth": 0,
             "ticks": ""
            },
            "colorscale": [
             [
              0,
              "#0d0887"
             ],
             [
              0.1111111111111111,
              "#46039f"
             ],
             [
              0.2222222222222222,
              "#7201a8"
             ],
             [
              0.3333333333333333,
              "#9c179e"
             ],
             [
              0.4444444444444444,
              "#bd3786"
             ],
             [
              0.5555555555555556,
              "#d8576b"
             ],
             [
              0.6666666666666666,
              "#ed7953"
             ],
             [
              0.7777777777777778,
              "#fb9f3a"
             ],
             [
              0.8888888888888888,
              "#fdca26"
             ],
             [
              1,
              "#f0f921"
             ]
            ],
            "type": "contour"
           }
          ],
          "contourcarpet": [
           {
            "colorbar": {
             "outlinewidth": 0,
             "ticks": ""
            },
            "type": "contourcarpet"
           }
          ],
          "heatmap": [
           {
            "colorbar": {
             "outlinewidth": 0,
             "ticks": ""
            },
            "colorscale": [
             [
              0,
              "#0d0887"
             ],
             [
              0.1111111111111111,
              "#46039f"
             ],
             [
              0.2222222222222222,
              "#7201a8"
             ],
             [
              0.3333333333333333,
              "#9c179e"
             ],
             [
              0.4444444444444444,
              "#bd3786"
             ],
             [
              0.5555555555555556,
              "#d8576b"
             ],
             [
              0.6666666666666666,
              "#ed7953"
             ],
             [
              0.7777777777777778,
              "#fb9f3a"
             ],
             [
              0.8888888888888888,
              "#fdca26"
             ],
             [
              1,
              "#f0f921"
             ]
            ],
            "type": "heatmap"
           }
          ],
          "heatmapgl": [
           {
            "colorbar": {
             "outlinewidth": 0,
             "ticks": ""
            },
            "colorscale": [
             [
              0,
              "#0d0887"
             ],
             [
              0.1111111111111111,
              "#46039f"
             ],
             [
              0.2222222222222222,
              "#7201a8"
             ],
             [
              0.3333333333333333,
              "#9c179e"
             ],
             [
              0.4444444444444444,
              "#bd3786"
             ],
             [
              0.5555555555555556,
              "#d8576b"
             ],
             [
              0.6666666666666666,
              "#ed7953"
             ],
             [
              0.7777777777777778,
              "#fb9f3a"
             ],
             [
              0.8888888888888888,
              "#fdca26"
             ],
             [
              1,
              "#f0f921"
             ]
            ],
            "type": "heatmapgl"
           }
          ],
          "histogram": [
           {
            "marker": {
             "pattern": {
              "fillmode": "overlay",
              "size": 10,
              "solidity": 0.2
             }
            },
            "type": "histogram"
           }
          ],
          "histogram2d": [
           {
            "colorbar": {
             "outlinewidth": 0,
             "ticks": ""
            },
            "colorscale": [
             [
              0,
              "#0d0887"
             ],
             [
              0.1111111111111111,
              "#46039f"
             ],
             [
              0.2222222222222222,
              "#7201a8"
             ],
             [
              0.3333333333333333,
              "#9c179e"
             ],
             [
              0.4444444444444444,
              "#bd3786"
             ],
             [
              0.5555555555555556,
              "#d8576b"
             ],
             [
              0.6666666666666666,
              "#ed7953"
             ],
             [
              0.7777777777777778,
              "#fb9f3a"
             ],
             [
              0.8888888888888888,
              "#fdca26"
             ],
             [
              1,
              "#f0f921"
             ]
            ],
            "type": "histogram2d"
           }
          ],
          "histogram2dcontour": [
           {
            "colorbar": {
             "outlinewidth": 0,
             "ticks": ""
            },
            "colorscale": [
             [
              0,
              "#0d0887"
             ],
             [
              0.1111111111111111,
              "#46039f"
             ],
             [
              0.2222222222222222,
              "#7201a8"
             ],
             [
              0.3333333333333333,
              "#9c179e"
             ],
             [
              0.4444444444444444,
              "#bd3786"
             ],
             [
              0.5555555555555556,
              "#d8576b"
             ],
             [
              0.6666666666666666,
              "#ed7953"
             ],
             [
              0.7777777777777778,
              "#fb9f3a"
             ],
             [
              0.8888888888888888,
              "#fdca26"
             ],
             [
              1,
              "#f0f921"
             ]
            ],
            "type": "histogram2dcontour"
           }
          ],
          "mesh3d": [
           {
            "colorbar": {
             "outlinewidth": 0,
             "ticks": ""
            },
            "type": "mesh3d"
           }
          ],
          "parcoords": [
           {
            "line": {
             "colorbar": {
              "outlinewidth": 0,
              "ticks": ""
             }
            },
            "type": "parcoords"
           }
          ],
          "pie": [
           {
            "automargin": true,
            "type": "pie"
           }
          ],
          "scatter": [
           {
            "fillpattern": {
             "fillmode": "overlay",
             "size": 10,
             "solidity": 0.2
            },
            "type": "scatter"
           }
          ],
          "scatter3d": [
           {
            "line": {
             "colorbar": {
              "outlinewidth": 0,
              "ticks": ""
             }
            },
            "marker": {
             "colorbar": {
              "outlinewidth": 0,
              "ticks": ""
             }
            },
            "type": "scatter3d"
           }
          ],
          "scattercarpet": [
           {
            "marker": {
             "colorbar": {
              "outlinewidth": 0,
              "ticks": ""
             }
            },
            "type": "scattercarpet"
           }
          ],
          "scattergeo": [
           {
            "marker": {
             "colorbar": {
              "outlinewidth": 0,
              "ticks": ""
             }
            },
            "type": "scattergeo"
           }
          ],
          "scattergl": [
           {
            "marker": {
             "colorbar": {
              "outlinewidth": 0,
              "ticks": ""
             }
            },
            "type": "scattergl"
           }
          ],
          "scattermapbox": [
           {
            "marker": {
             "colorbar": {
              "outlinewidth": 0,
              "ticks": ""
             }
            },
            "type": "scattermapbox"
           }
          ],
          "scatterpolar": [
           {
            "marker": {
             "colorbar": {
              "outlinewidth": 0,
              "ticks": ""
             }
            },
            "type": "scatterpolar"
           }
          ],
          "scatterpolargl": [
           {
            "marker": {
             "colorbar": {
              "outlinewidth": 0,
              "ticks": ""
             }
            },
            "type": "scatterpolargl"
           }
          ],
          "scatterternary": [
           {
            "marker": {
             "colorbar": {
              "outlinewidth": 0,
              "ticks": ""
             }
            },
            "type": "scatterternary"
           }
          ],
          "surface": [
           {
            "colorbar": {
             "outlinewidth": 0,
             "ticks": ""
            },
            "colorscale": [
             [
              0,
              "#0d0887"
             ],
             [
              0.1111111111111111,
              "#46039f"
             ],
             [
              0.2222222222222222,
              "#7201a8"
             ],
             [
              0.3333333333333333,
              "#9c179e"
             ],
             [
              0.4444444444444444,
              "#bd3786"
             ],
             [
              0.5555555555555556,
              "#d8576b"
             ],
             [
              0.6666666666666666,
              "#ed7953"
             ],
             [
              0.7777777777777778,
              "#fb9f3a"
             ],
             [
              0.8888888888888888,
              "#fdca26"
             ],
             [
              1,
              "#f0f921"
             ]
            ],
            "type": "surface"
           }
          ],
          "table": [
           {
            "cells": {
             "fill": {
              "color": "#EBF0F8"
             },
             "line": {
              "color": "white"
             }
            },
            "header": {
             "fill": {
              "color": "#C8D4E3"
             },
             "line": {
              "color": "white"
             }
            },
            "type": "table"
           }
          ]
         },
         "layout": {
          "annotationdefaults": {
           "arrowcolor": "#2a3f5f",
           "arrowhead": 0,
           "arrowwidth": 1
          },
          "autotypenumbers": "strict",
          "coloraxis": {
           "colorbar": {
            "outlinewidth": 0,
            "ticks": ""
           }
          },
          "colorscale": {
           "diverging": [
            [
             0,
             "#8e0152"
            ],
            [
             0.1,
             "#c51b7d"
            ],
            [
             0.2,
             "#de77ae"
            ],
            [
             0.3,
             "#f1b6da"
            ],
            [
             0.4,
             "#fde0ef"
            ],
            [
             0.5,
             "#f7f7f7"
            ],
            [
             0.6,
             "#e6f5d0"
            ],
            [
             0.7,
             "#b8e186"
            ],
            [
             0.8,
             "#7fbc41"
            ],
            [
             0.9,
             "#4d9221"
            ],
            [
             1,
             "#276419"
            ]
           ],
           "sequential": [
            [
             0,
             "#0d0887"
            ],
            [
             0.1111111111111111,
             "#46039f"
            ],
            [
             0.2222222222222222,
             "#7201a8"
            ],
            [
             0.3333333333333333,
             "#9c179e"
            ],
            [
             0.4444444444444444,
             "#bd3786"
            ],
            [
             0.5555555555555556,
             "#d8576b"
            ],
            [
             0.6666666666666666,
             "#ed7953"
            ],
            [
             0.7777777777777778,
             "#fb9f3a"
            ],
            [
             0.8888888888888888,
             "#fdca26"
            ],
            [
             1,
             "#f0f921"
            ]
           ],
           "sequentialminus": [
            [
             0,
             "#0d0887"
            ],
            [
             0.1111111111111111,
             "#46039f"
            ],
            [
             0.2222222222222222,
             "#7201a8"
            ],
            [
             0.3333333333333333,
             "#9c179e"
            ],
            [
             0.4444444444444444,
             "#bd3786"
            ],
            [
             0.5555555555555556,
             "#d8576b"
            ],
            [
             0.6666666666666666,
             "#ed7953"
            ],
            [
             0.7777777777777778,
             "#fb9f3a"
            ],
            [
             0.8888888888888888,
             "#fdca26"
            ],
            [
             1,
             "#f0f921"
            ]
           ]
          },
          "colorway": [
           "#636efa",
           "#EF553B",
           "#00cc96",
           "#ab63fa",
           "#FFA15A",
           "#19d3f3",
           "#FF6692",
           "#B6E880",
           "#FF97FF",
           "#FECB52"
          ],
          "font": {
           "color": "#2a3f5f"
          },
          "geo": {
           "bgcolor": "white",
           "lakecolor": "white",
           "landcolor": "#E5ECF6",
           "showlakes": true,
           "showland": true,
           "subunitcolor": "white"
          },
          "hoverlabel": {
           "align": "left"
          },
          "hovermode": "closest",
          "mapbox": {
           "style": "light"
          },
          "paper_bgcolor": "white",
          "plot_bgcolor": "#E5ECF6",
          "polar": {
           "angularaxis": {
            "gridcolor": "white",
            "linecolor": "white",
            "ticks": ""
           },
           "bgcolor": "#E5ECF6",
           "radialaxis": {
            "gridcolor": "white",
            "linecolor": "white",
            "ticks": ""
           }
          },
          "scene": {
           "xaxis": {
            "backgroundcolor": "#E5ECF6",
            "gridcolor": "white",
            "gridwidth": 2,
            "linecolor": "white",
            "showbackground": true,
            "ticks": "",
            "zerolinecolor": "white"
           },
           "yaxis": {
            "backgroundcolor": "#E5ECF6",
            "gridcolor": "white",
            "gridwidth": 2,
            "linecolor": "white",
            "showbackground": true,
            "ticks": "",
            "zerolinecolor": "white"
           },
           "zaxis": {
            "backgroundcolor": "#E5ECF6",
            "gridcolor": "white",
            "gridwidth": 2,
            "linecolor": "white",
            "showbackground": true,
            "ticks": "",
            "zerolinecolor": "white"
           }
          },
          "shapedefaults": {
           "line": {
            "color": "#2a3f5f"
           }
          },
          "ternary": {
           "aaxis": {
            "gridcolor": "white",
            "linecolor": "white",
            "ticks": ""
           },
           "baxis": {
            "gridcolor": "white",
            "linecolor": "white",
            "ticks": ""
           },
           "bgcolor": "#E5ECF6",
           "caxis": {
            "gridcolor": "white",
            "linecolor": "white",
            "ticks": ""
           }
          },
          "title": {
           "x": 0.05
          },
          "xaxis": {
           "automargin": true,
           "gridcolor": "white",
           "linecolor": "white",
           "ticks": "",
           "title": {
            "standoff": 15
           },
           "zerolinecolor": "white",
           "zerolinewidth": 2
          },
          "yaxis": {
           "automargin": true,
           "gridcolor": "white",
           "linecolor": "white",
           "ticks": "",
           "title": {
            "standoff": 15
           },
           "zerolinecolor": "white",
           "zerolinewidth": 2
          }
         }
        },
        "title": {
         "text": "2016"
        },
        "xaxis": {
         "anchor": "y",
         "domain": [
          0,
          1
         ],
         "title": {
          "text": "county_name"
         }
        },
        "yaxis": {
         "anchor": "x",
         "domain": [
          0,
          1
         ],
         "title": {
          "text": "sum of vote_share"
         }
        }
       }
      }
     },
     "metadata": {},
     "output_type": "display_data"
    },
    {
     "data": {
      "application/vnd.plotly.v1+json": {
       "config": {
        "plotlyServerURL": "https://plot.ly"
       },
       "data": [
        {
         "alignmentgroup": "True",
         "bingroup": "x",
         "histfunc": "sum",
         "hovertemplate": "county_name=%{x}<br>sum of vote_share=%{y}<extra></extra>",
         "legendgroup": "",
         "marker": {
          "color": "#636efa",
          "pattern": {
           "shape": ""
          }
         },
         "name": "",
         "offsetgroup": "",
         "orientation": "v",
         "showlegend": false,
         "type": "histogram",
         "x": [
          "Alachua",
          "Baker",
          "Bay",
          "Bradford",
          "Brevard",
          "Broward",
          "Calhoun",
          "Charlotte",
          "Citrus",
          "Clay",
          "Collier",
          "Columbia",
          "Desoto",
          "Dixie",
          "Duval",
          "Escambia",
          "Flagler",
          "Franklin",
          "Gadsden",
          "Gilchrist",
          "Glades",
          "Gulf",
          "Hamilton",
          "Hardee",
          "Hendry",
          "Hernando",
          "Highlands",
          "Hillsborough",
          "Holmes",
          "Indian River",
          "Jackson",
          "Jefferson",
          "Lafayette",
          "Lake",
          "Lee",
          "Leon",
          "Levy",
          "Liberty",
          "Madison",
          "Manatee",
          "Marion",
          "Martin",
          "Miami-Dade",
          "Monroe",
          "Nassau",
          "Okaloosa",
          "Okeechobee",
          "Orange",
          "Osceola",
          "Palm Beach",
          "Pasco",
          "Pinellas",
          "Polk",
          "Putnam",
          "Santa Rosa",
          "Sarasota",
          "Seminole",
          "St. Johns",
          "St. Lucie",
          "Sumter",
          "Suwannee",
          "Taylor",
          "Union",
          "Volusia",
          "Wakulla",
          "Walton",
          "Washington"
         ],
         "xaxis": "x",
         "y": [
          0.2724269201085684,
          -0.6569315380238954,
          -0.4566489487547515,
          -0.4781698849044041,
          -0.1677532864632476,
          0.3666133014645366,
          -0.5753632617653437,
          -0.2630040508193703,
          -0.3739271369177648,
          -0.38751296056780643,
          -0.30030796530729026,
          -0.41482047364400304,
          -0.2922369306708549,
          -0.6297381116471399,
          0.043952055172849114,
          -0.169043351976022,
          -0.18477952443107648,
          -0.31648594008454334,
          0.37442694837552315,
          -0.63668430335097,
          -0.4043772798332465,
          -0.4667796610169491,
          -0.28906935908691833,
          -0.4189569019362898,
          -0.18700743075883808,
          -0.2507307768529528,
          -0.3391695345273682,
          0.0893327220280054,
          -0.7672909600353931,
          -0.22158517382000242,
          -0.35976982737052793,
          -0.06799674267100975,
          -0.6878980891719745,
          -0.20848534852840694,
          -0.21698695938741208,
          0.2766510845708748,
          -0.43068467520318077,
          -0.5715883668903803,
          -0.14544025157232704,
          -0.15671545928884706,
          -0.24199667092478616,
          -0.24031715027371553,
          0.2092627894621707,
          -0.03684443460942688,
          -0.46413085870288373,
          -0.44702771590895557,
          -0.39310467389372666,
          0.25629534739649507,
          0.20921930373149888,
          0.17102172161378082,
          -0.1627385066994934,
          0.030194905025676844,
          -0.13342753413077307,
          -0.34497459764806193,
          -0.5015996827075622,
          -0.08639596215944928,
          0.017906750508970892,
          -0.28573826143342107,
          0.03715190230306353,
          -0.40240708154794685,
          -0.5519321394910461,
          -0.5113207547169811,
          -0.5886335658596635,
          -0.10622270742358075,
          -0.39379257074643637,
          -0.5240166040719509,
          -0.568653421633554
         ],
         "yaxis": "y"
        }
       ],
       "layout": {
        "barmode": "relative",
        "legend": {
         "tracegroupgap": 0
        },
        "template": {
         "data": {
          "bar": [
           {
            "error_x": {
             "color": "#2a3f5f"
            },
            "error_y": {
             "color": "#2a3f5f"
            },
            "marker": {
             "line": {
              "color": "#E5ECF6",
              "width": 0.5
             },
             "pattern": {
              "fillmode": "overlay",
              "size": 10,
              "solidity": 0.2
             }
            },
            "type": "bar"
           }
          ],
          "barpolar": [
           {
            "marker": {
             "line": {
              "color": "#E5ECF6",
              "width": 0.5
             },
             "pattern": {
              "fillmode": "overlay",
              "size": 10,
              "solidity": 0.2
             }
            },
            "type": "barpolar"
           }
          ],
          "carpet": [
           {
            "aaxis": {
             "endlinecolor": "#2a3f5f",
             "gridcolor": "white",
             "linecolor": "white",
             "minorgridcolor": "white",
             "startlinecolor": "#2a3f5f"
            },
            "baxis": {
             "endlinecolor": "#2a3f5f",
             "gridcolor": "white",
             "linecolor": "white",
             "minorgridcolor": "white",
             "startlinecolor": "#2a3f5f"
            },
            "type": "carpet"
           }
          ],
          "choropleth": [
           {
            "colorbar": {
             "outlinewidth": 0,
             "ticks": ""
            },
            "type": "choropleth"
           }
          ],
          "contour": [
           {
            "colorbar": {
             "outlinewidth": 0,
             "ticks": ""
            },
            "colorscale": [
             [
              0,
              "#0d0887"
             ],
             [
              0.1111111111111111,
              "#46039f"
             ],
             [
              0.2222222222222222,
              "#7201a8"
             ],
             [
              0.3333333333333333,
              "#9c179e"
             ],
             [
              0.4444444444444444,
              "#bd3786"
             ],
             [
              0.5555555555555556,
              "#d8576b"
             ],
             [
              0.6666666666666666,
              "#ed7953"
             ],
             [
              0.7777777777777778,
              "#fb9f3a"
             ],
             [
              0.8888888888888888,
              "#fdca26"
             ],
             [
              1,
              "#f0f921"
             ]
            ],
            "type": "contour"
           }
          ],
          "contourcarpet": [
           {
            "colorbar": {
             "outlinewidth": 0,
             "ticks": ""
            },
            "type": "contourcarpet"
           }
          ],
          "heatmap": [
           {
            "colorbar": {
             "outlinewidth": 0,
             "ticks": ""
            },
            "colorscale": [
             [
              0,
              "#0d0887"
             ],
             [
              0.1111111111111111,
              "#46039f"
             ],
             [
              0.2222222222222222,
              "#7201a8"
             ],
             [
              0.3333333333333333,
              "#9c179e"
             ],
             [
              0.4444444444444444,
              "#bd3786"
             ],
             [
              0.5555555555555556,
              "#d8576b"
             ],
             [
              0.6666666666666666,
              "#ed7953"
             ],
             [
              0.7777777777777778,
              "#fb9f3a"
             ],
             [
              0.8888888888888888,
              "#fdca26"
             ],
             [
              1,
              "#f0f921"
             ]
            ],
            "type": "heatmap"
           }
          ],
          "heatmapgl": [
           {
            "colorbar": {
             "outlinewidth": 0,
             "ticks": ""
            },
            "colorscale": [
             [
              0,
              "#0d0887"
             ],
             [
              0.1111111111111111,
              "#46039f"
             ],
             [
              0.2222222222222222,
              "#7201a8"
             ],
             [
              0.3333333333333333,
              "#9c179e"
             ],
             [
              0.4444444444444444,
              "#bd3786"
             ],
             [
              0.5555555555555556,
              "#d8576b"
             ],
             [
              0.6666666666666666,
              "#ed7953"
             ],
             [
              0.7777777777777778,
              "#fb9f3a"
             ],
             [
              0.8888888888888888,
              "#fdca26"
             ],
             [
              1,
              "#f0f921"
             ]
            ],
            "type": "heatmapgl"
           }
          ],
          "histogram": [
           {
            "marker": {
             "pattern": {
              "fillmode": "overlay",
              "size": 10,
              "solidity": 0.2
             }
            },
            "type": "histogram"
           }
          ],
          "histogram2d": [
           {
            "colorbar": {
             "outlinewidth": 0,
             "ticks": ""
            },
            "colorscale": [
             [
              0,
              "#0d0887"
             ],
             [
              0.1111111111111111,
              "#46039f"
             ],
             [
              0.2222222222222222,
              "#7201a8"
             ],
             [
              0.3333333333333333,
              "#9c179e"
             ],
             [
              0.4444444444444444,
              "#bd3786"
             ],
             [
              0.5555555555555556,
              "#d8576b"
             ],
             [
              0.6666666666666666,
              "#ed7953"
             ],
             [
              0.7777777777777778,
              "#fb9f3a"
             ],
             [
              0.8888888888888888,
              "#fdca26"
             ],
             [
              1,
              "#f0f921"
             ]
            ],
            "type": "histogram2d"
           }
          ],
          "histogram2dcontour": [
           {
            "colorbar": {
             "outlinewidth": 0,
             "ticks": ""
            },
            "colorscale": [
             [
              0,
              "#0d0887"
             ],
             [
              0.1111111111111111,
              "#46039f"
             ],
             [
              0.2222222222222222,
              "#7201a8"
             ],
             [
              0.3333333333333333,
              "#9c179e"
             ],
             [
              0.4444444444444444,
              "#bd3786"
             ],
             [
              0.5555555555555556,
              "#d8576b"
             ],
             [
              0.6666666666666666,
              "#ed7953"
             ],
             [
              0.7777777777777778,
              "#fb9f3a"
             ],
             [
              0.8888888888888888,
              "#fdca26"
             ],
             [
              1,
              "#f0f921"
             ]
            ],
            "type": "histogram2dcontour"
           }
          ],
          "mesh3d": [
           {
            "colorbar": {
             "outlinewidth": 0,
             "ticks": ""
            },
            "type": "mesh3d"
           }
          ],
          "parcoords": [
           {
            "line": {
             "colorbar": {
              "outlinewidth": 0,
              "ticks": ""
             }
            },
            "type": "parcoords"
           }
          ],
          "pie": [
           {
            "automargin": true,
            "type": "pie"
           }
          ],
          "scatter": [
           {
            "fillpattern": {
             "fillmode": "overlay",
             "size": 10,
             "solidity": 0.2
            },
            "type": "scatter"
           }
          ],
          "scatter3d": [
           {
            "line": {
             "colorbar": {
              "outlinewidth": 0,
              "ticks": ""
             }
            },
            "marker": {
             "colorbar": {
              "outlinewidth": 0,
              "ticks": ""
             }
            },
            "type": "scatter3d"
           }
          ],
          "scattercarpet": [
           {
            "marker": {
             "colorbar": {
              "outlinewidth": 0,
              "ticks": ""
             }
            },
            "type": "scattercarpet"
           }
          ],
          "scattergeo": [
           {
            "marker": {
             "colorbar": {
              "outlinewidth": 0,
              "ticks": ""
             }
            },
            "type": "scattergeo"
           }
          ],
          "scattergl": [
           {
            "marker": {
             "colorbar": {
              "outlinewidth": 0,
              "ticks": ""
             }
            },
            "type": "scattergl"
           }
          ],
          "scattermapbox": [
           {
            "marker": {
             "colorbar": {
              "outlinewidth": 0,
              "ticks": ""
             }
            },
            "type": "scattermapbox"
           }
          ],
          "scatterpolar": [
           {
            "marker": {
             "colorbar": {
              "outlinewidth": 0,
              "ticks": ""
             }
            },
            "type": "scatterpolar"
           }
          ],
          "scatterpolargl": [
           {
            "marker": {
             "colorbar": {
              "outlinewidth": 0,
              "ticks": ""
             }
            },
            "type": "scatterpolargl"
           }
          ],
          "scatterternary": [
           {
            "marker": {
             "colorbar": {
              "outlinewidth": 0,
              "ticks": ""
             }
            },
            "type": "scatterternary"
           }
          ],
          "surface": [
           {
            "colorbar": {
             "outlinewidth": 0,
             "ticks": ""
            },
            "colorscale": [
             [
              0,
              "#0d0887"
             ],
             [
              0.1111111111111111,
              "#46039f"
             ],
             [
              0.2222222222222222,
              "#7201a8"
             ],
             [
              0.3333333333333333,
              "#9c179e"
             ],
             [
              0.4444444444444444,
              "#bd3786"
             ],
             [
              0.5555555555555556,
              "#d8576b"
             ],
             [
              0.6666666666666666,
              "#ed7953"
             ],
             [
              0.7777777777777778,
              "#fb9f3a"
             ],
             [
              0.8888888888888888,
              "#fdca26"
             ],
             [
              1,
              "#f0f921"
             ]
            ],
            "type": "surface"
           }
          ],
          "table": [
           {
            "cells": {
             "fill": {
              "color": "#EBF0F8"
             },
             "line": {
              "color": "white"
             }
            },
            "header": {
             "fill": {
              "color": "#C8D4E3"
             },
             "line": {
              "color": "white"
             }
            },
            "type": "table"
           }
          ]
         },
         "layout": {
          "annotationdefaults": {
           "arrowcolor": "#2a3f5f",
           "arrowhead": 0,
           "arrowwidth": 1
          },
          "autotypenumbers": "strict",
          "coloraxis": {
           "colorbar": {
            "outlinewidth": 0,
            "ticks": ""
           }
          },
          "colorscale": {
           "diverging": [
            [
             0,
             "#8e0152"
            ],
            [
             0.1,
             "#c51b7d"
            ],
            [
             0.2,
             "#de77ae"
            ],
            [
             0.3,
             "#f1b6da"
            ],
            [
             0.4,
             "#fde0ef"
            ],
            [
             0.5,
             "#f7f7f7"
            ],
            [
             0.6,
             "#e6f5d0"
            ],
            [
             0.7,
             "#b8e186"
            ],
            [
             0.8,
             "#7fbc41"
            ],
            [
             0.9,
             "#4d9221"
            ],
            [
             1,
             "#276419"
            ]
           ],
           "sequential": [
            [
             0,
             "#0d0887"
            ],
            [
             0.1111111111111111,
             "#46039f"
            ],
            [
             0.2222222222222222,
             "#7201a8"
            ],
            [
             0.3333333333333333,
             "#9c179e"
            ],
            [
             0.4444444444444444,
             "#bd3786"
            ],
            [
             0.5555555555555556,
             "#d8576b"
            ],
            [
             0.6666666666666666,
             "#ed7953"
            ],
            [
             0.7777777777777778,
             "#fb9f3a"
            ],
            [
             0.8888888888888888,
             "#fdca26"
            ],
            [
             1,
             "#f0f921"
            ]
           ],
           "sequentialminus": [
            [
             0,
             "#0d0887"
            ],
            [
             0.1111111111111111,
             "#46039f"
            ],
            [
             0.2222222222222222,
             "#7201a8"
            ],
            [
             0.3333333333333333,
             "#9c179e"
            ],
            [
             0.4444444444444444,
             "#bd3786"
            ],
            [
             0.5555555555555556,
             "#d8576b"
            ],
            [
             0.6666666666666666,
             "#ed7953"
            ],
            [
             0.7777777777777778,
             "#fb9f3a"
            ],
            [
             0.8888888888888888,
             "#fdca26"
            ],
            [
             1,
             "#f0f921"
            ]
           ]
          },
          "colorway": [
           "#636efa",
           "#EF553B",
           "#00cc96",
           "#ab63fa",
           "#FFA15A",
           "#19d3f3",
           "#FF6692",
           "#B6E880",
           "#FF97FF",
           "#FECB52"
          ],
          "font": {
           "color": "#2a3f5f"
          },
          "geo": {
           "bgcolor": "white",
           "lakecolor": "white",
           "landcolor": "#E5ECF6",
           "showlakes": true,
           "showland": true,
           "subunitcolor": "white"
          },
          "hoverlabel": {
           "align": "left"
          },
          "hovermode": "closest",
          "mapbox": {
           "style": "light"
          },
          "paper_bgcolor": "white",
          "plot_bgcolor": "#E5ECF6",
          "polar": {
           "angularaxis": {
            "gridcolor": "white",
            "linecolor": "white",
            "ticks": ""
           },
           "bgcolor": "#E5ECF6",
           "radialaxis": {
            "gridcolor": "white",
            "linecolor": "white",
            "ticks": ""
           }
          },
          "scene": {
           "xaxis": {
            "backgroundcolor": "#E5ECF6",
            "gridcolor": "white",
            "gridwidth": 2,
            "linecolor": "white",
            "showbackground": true,
            "ticks": "",
            "zerolinecolor": "white"
           },
           "yaxis": {
            "backgroundcolor": "#E5ECF6",
            "gridcolor": "white",
            "gridwidth": 2,
            "linecolor": "white",
            "showbackground": true,
            "ticks": "",
            "zerolinecolor": "white"
           },
           "zaxis": {
            "backgroundcolor": "#E5ECF6",
            "gridcolor": "white",
            "gridwidth": 2,
            "linecolor": "white",
            "showbackground": true,
            "ticks": "",
            "zerolinecolor": "white"
           }
          },
          "shapedefaults": {
           "line": {
            "color": "#2a3f5f"
           }
          },
          "ternary": {
           "aaxis": {
            "gridcolor": "white",
            "linecolor": "white",
            "ticks": ""
           },
           "baxis": {
            "gridcolor": "white",
            "linecolor": "white",
            "ticks": ""
           },
           "bgcolor": "#E5ECF6",
           "caxis": {
            "gridcolor": "white",
            "linecolor": "white",
            "ticks": ""
           }
          },
          "title": {
           "x": 0.05
          },
          "xaxis": {
           "automargin": true,
           "gridcolor": "white",
           "linecolor": "white",
           "ticks": "",
           "title": {
            "standoff": 15
           },
           "zerolinecolor": "white",
           "zerolinewidth": 2
          },
          "yaxis": {
           "automargin": true,
           "gridcolor": "white",
           "linecolor": "white",
           "ticks": "",
           "title": {
            "standoff": 15
           },
           "zerolinecolor": "white",
           "zerolinewidth": 2
          }
         }
        },
        "title": {
         "text": "2018"
        },
        "xaxis": {
         "anchor": "y",
         "domain": [
          0,
          1
         ],
         "title": {
          "text": "county_name"
         }
        },
        "yaxis": {
         "anchor": "x",
         "domain": [
          0,
          1
         ],
         "title": {
          "text": "sum of vote_share"
         }
        }
       }
      }
     },
     "metadata": {},
     "output_type": "display_data"
    },
    {
     "data": {
      "application/vnd.plotly.v1+json": {
       "config": {
        "plotlyServerURL": "https://plot.ly"
       },
       "data": [
        {
         "alignmentgroup": "True",
         "bingroup": "x",
         "histfunc": "sum",
         "hovertemplate": "county_name=%{x}<br>sum of vote_share=%{y}<extra></extra>",
         "legendgroup": "",
         "marker": {
          "color": "#636efa",
          "pattern": {
           "shape": ""
          }
         },
         "name": "",
         "offsetgroup": "",
         "orientation": "v",
         "showlegend": false,
         "type": "histogram",
         "x": [
          "Alachua",
          "Baker",
          "Bay",
          "Bradford",
          "Brevard",
          "Broward",
          "Calhoun",
          "Charlotte",
          "Citrus",
          "Clay",
          "Collier",
          "Columbia",
          "Desoto",
          "Dixie",
          "Duval",
          "Escambia",
          "Flagler",
          "Franklin",
          "Gadsden",
          "Gilchrist",
          "Glades",
          "Gulf",
          "Hamilton",
          "Hardee",
          "Hendry",
          "Hernando",
          "Highlands",
          "Hillsborough",
          "Holmes",
          "Indian River",
          "Jackson",
          "Jefferson",
          "Lafayette",
          "Lake",
          "Lee",
          "Leon",
          "Levy",
          "Liberty",
          "Madison",
          "Manatee",
          "Marion",
          "Martin",
          "Miami-Dade",
          "Monroe",
          "Nassau",
          "Okaloosa",
          "Okeechobee",
          "Orange",
          "Osceola",
          "Palm Beach",
          "Pasco",
          "Pinellas",
          "Polk",
          "Putnam",
          "Santa Rosa",
          "Sarasota",
          "Seminole",
          "St. Johns",
          "St. Lucie",
          "Sumter",
          "Suwannee",
          "Taylor",
          "Union",
          "Volusia",
          "Wakulla",
          "Walton",
          "Washington"
         ],
         "xaxis": "x",
         "y": [
          0.2707641544387509,
          -0.7011788098281495,
          -0.4343063735745014,
          -0.5255677655677655,
          -0.16406334248575288,
          0.29734379559001295,
          -0.6218448829738412,
          -0.26570462773897974,
          -0.4096886109564398,
          -0.3703112465907268,
          -0.2464363732385913,
          -0.45092469479028163,
          -0.319816976964342,
          -0.659977976263306,
          0.038032139323014136,
          -0.15068244603642833,
          -0.20708848781709638,
          -0.3725032803615687,
          0.3656257890749937,
          -0.6385281385281385,
          -0.4606957524505093,
          -0.5051395007342143,
          -0.3171232876712329,
          -0.4497765231710185,
          -0.2297777091694968,
          -0.30135593220338985,
          -0.343299580805084,
          0.06857750242273847,
          -0.7882793566864948,
          -0.21514221403724165,
          -0.3884039900249377,
          -0.06872933396315539,
          -0.7156916347731,
          -0.20043158522388488,
          -0.19180551359612485,
          0.2817783650199418,
          -0.4547767953418158,
          -0.6036465638148668,
          -0.1947194719471947,
          -0.16011716450853442,
          -0.2587389358916743,
          -0.2453457581209193,
          0.07337102366172588,
          -0.07911635736403505,
          -0.4583213103623865,
          -0.39017328662103934,
          -0.4429429429429429,
          0.23047737296216475,
          0.1378426243170664,
          0.1276289476979643,
          -0.20007864622745947,
          0.0022114865430776787,
          -0.14399202385866183,
          -0.4114820712756026,
          -0.46430903561633613,
          -0.1042154523562796,
          0.027867423257521284,
          -0.266008461030122,
          -0.0156310741576684,
          -0.36081361202280193,
          -0.566319988602365,
          -0.5377786545669757,
          -0.6526955687090066,
          -0.14035941825782428,
          -0.40779488291413707,
          -0.5162461468204133,
          -0.610376976084313
         ],
         "yaxis": "y"
        }
       ],
       "layout": {
        "barmode": "relative",
        "legend": {
         "tracegroupgap": 0
        },
        "template": {
         "data": {
          "bar": [
           {
            "error_x": {
             "color": "#2a3f5f"
            },
            "error_y": {
             "color": "#2a3f5f"
            },
            "marker": {
             "line": {
              "color": "#E5ECF6",
              "width": 0.5
             },
             "pattern": {
              "fillmode": "overlay",
              "size": 10,
              "solidity": 0.2
             }
            },
            "type": "bar"
           }
          ],
          "barpolar": [
           {
            "marker": {
             "line": {
              "color": "#E5ECF6",
              "width": 0.5
             },
             "pattern": {
              "fillmode": "overlay",
              "size": 10,
              "solidity": 0.2
             }
            },
            "type": "barpolar"
           }
          ],
          "carpet": [
           {
            "aaxis": {
             "endlinecolor": "#2a3f5f",
             "gridcolor": "white",
             "linecolor": "white",
             "minorgridcolor": "white",
             "startlinecolor": "#2a3f5f"
            },
            "baxis": {
             "endlinecolor": "#2a3f5f",
             "gridcolor": "white",
             "linecolor": "white",
             "minorgridcolor": "white",
             "startlinecolor": "#2a3f5f"
            },
            "type": "carpet"
           }
          ],
          "choropleth": [
           {
            "colorbar": {
             "outlinewidth": 0,
             "ticks": ""
            },
            "type": "choropleth"
           }
          ],
          "contour": [
           {
            "colorbar": {
             "outlinewidth": 0,
             "ticks": ""
            },
            "colorscale": [
             [
              0,
              "#0d0887"
             ],
             [
              0.1111111111111111,
              "#46039f"
             ],
             [
              0.2222222222222222,
              "#7201a8"
             ],
             [
              0.3333333333333333,
              "#9c179e"
             ],
             [
              0.4444444444444444,
              "#bd3786"
             ],
             [
              0.5555555555555556,
              "#d8576b"
             ],
             [
              0.6666666666666666,
              "#ed7953"
             ],
             [
              0.7777777777777778,
              "#fb9f3a"
             ],
             [
              0.8888888888888888,
              "#fdca26"
             ],
             [
              1,
              "#f0f921"
             ]
            ],
            "type": "contour"
           }
          ],
          "contourcarpet": [
           {
            "colorbar": {
             "outlinewidth": 0,
             "ticks": ""
            },
            "type": "contourcarpet"
           }
          ],
          "heatmap": [
           {
            "colorbar": {
             "outlinewidth": 0,
             "ticks": ""
            },
            "colorscale": [
             [
              0,
              "#0d0887"
             ],
             [
              0.1111111111111111,
              "#46039f"
             ],
             [
              0.2222222222222222,
              "#7201a8"
             ],
             [
              0.3333333333333333,
              "#9c179e"
             ],
             [
              0.4444444444444444,
              "#bd3786"
             ],
             [
              0.5555555555555556,
              "#d8576b"
             ],
             [
              0.6666666666666666,
              "#ed7953"
             ],
             [
              0.7777777777777778,
              "#fb9f3a"
             ],
             [
              0.8888888888888888,
              "#fdca26"
             ],
             [
              1,
              "#f0f921"
             ]
            ],
            "type": "heatmap"
           }
          ],
          "heatmapgl": [
           {
            "colorbar": {
             "outlinewidth": 0,
             "ticks": ""
            },
            "colorscale": [
             [
              0,
              "#0d0887"
             ],
             [
              0.1111111111111111,
              "#46039f"
             ],
             [
              0.2222222222222222,
              "#7201a8"
             ],
             [
              0.3333333333333333,
              "#9c179e"
             ],
             [
              0.4444444444444444,
              "#bd3786"
             ],
             [
              0.5555555555555556,
              "#d8576b"
             ],
             [
              0.6666666666666666,
              "#ed7953"
             ],
             [
              0.7777777777777778,
              "#fb9f3a"
             ],
             [
              0.8888888888888888,
              "#fdca26"
             ],
             [
              1,
              "#f0f921"
             ]
            ],
            "type": "heatmapgl"
           }
          ],
          "histogram": [
           {
            "marker": {
             "pattern": {
              "fillmode": "overlay",
              "size": 10,
              "solidity": 0.2
             }
            },
            "type": "histogram"
           }
          ],
          "histogram2d": [
           {
            "colorbar": {
             "outlinewidth": 0,
             "ticks": ""
            },
            "colorscale": [
             [
              0,
              "#0d0887"
             ],
             [
              0.1111111111111111,
              "#46039f"
             ],
             [
              0.2222222222222222,
              "#7201a8"
             ],
             [
              0.3333333333333333,
              "#9c179e"
             ],
             [
              0.4444444444444444,
              "#bd3786"
             ],
             [
              0.5555555555555556,
              "#d8576b"
             ],
             [
              0.6666666666666666,
              "#ed7953"
             ],
             [
              0.7777777777777778,
              "#fb9f3a"
             ],
             [
              0.8888888888888888,
              "#fdca26"
             ],
             [
              1,
              "#f0f921"
             ]
            ],
            "type": "histogram2d"
           }
          ],
          "histogram2dcontour": [
           {
            "colorbar": {
             "outlinewidth": 0,
             "ticks": ""
            },
            "colorscale": [
             [
              0,
              "#0d0887"
             ],
             [
              0.1111111111111111,
              "#46039f"
             ],
             [
              0.2222222222222222,
              "#7201a8"
             ],
             [
              0.3333333333333333,
              "#9c179e"
             ],
             [
              0.4444444444444444,
              "#bd3786"
             ],
             [
              0.5555555555555556,
              "#d8576b"
             ],
             [
              0.6666666666666666,
              "#ed7953"
             ],
             [
              0.7777777777777778,
              "#fb9f3a"
             ],
             [
              0.8888888888888888,
              "#fdca26"
             ],
             [
              1,
              "#f0f921"
             ]
            ],
            "type": "histogram2dcontour"
           }
          ],
          "mesh3d": [
           {
            "colorbar": {
             "outlinewidth": 0,
             "ticks": ""
            },
            "type": "mesh3d"
           }
          ],
          "parcoords": [
           {
            "line": {
             "colorbar": {
              "outlinewidth": 0,
              "ticks": ""
             }
            },
            "type": "parcoords"
           }
          ],
          "pie": [
           {
            "automargin": true,
            "type": "pie"
           }
          ],
          "scatter": [
           {
            "fillpattern": {
             "fillmode": "overlay",
             "size": 10,
             "solidity": 0.2
            },
            "type": "scatter"
           }
          ],
          "scatter3d": [
           {
            "line": {
             "colorbar": {
              "outlinewidth": 0,
              "ticks": ""
             }
            },
            "marker": {
             "colorbar": {
              "outlinewidth": 0,
              "ticks": ""
             }
            },
            "type": "scatter3d"
           }
          ],
          "scattercarpet": [
           {
            "marker": {
             "colorbar": {
              "outlinewidth": 0,
              "ticks": ""
             }
            },
            "type": "scattercarpet"
           }
          ],
          "scattergeo": [
           {
            "marker": {
             "colorbar": {
              "outlinewidth": 0,
              "ticks": ""
             }
            },
            "type": "scattergeo"
           }
          ],
          "scattergl": [
           {
            "marker": {
             "colorbar": {
              "outlinewidth": 0,
              "ticks": ""
             }
            },
            "type": "scattergl"
           }
          ],
          "scattermapbox": [
           {
            "marker": {
             "colorbar": {
              "outlinewidth": 0,
              "ticks": ""
             }
            },
            "type": "scattermapbox"
           }
          ],
          "scatterpolar": [
           {
            "marker": {
             "colorbar": {
              "outlinewidth": 0,
              "ticks": ""
             }
            },
            "type": "scatterpolar"
           }
          ],
          "scatterpolargl": [
           {
            "marker": {
             "colorbar": {
              "outlinewidth": 0,
              "ticks": ""
             }
            },
            "type": "scatterpolargl"
           }
          ],
          "scatterternary": [
           {
            "marker": {
             "colorbar": {
              "outlinewidth": 0,
              "ticks": ""
             }
            },
            "type": "scatterternary"
           }
          ],
          "surface": [
           {
            "colorbar": {
             "outlinewidth": 0,
             "ticks": ""
            },
            "colorscale": [
             [
              0,
              "#0d0887"
             ],
             [
              0.1111111111111111,
              "#46039f"
             ],
             [
              0.2222222222222222,
              "#7201a8"
             ],
             [
              0.3333333333333333,
              "#9c179e"
             ],
             [
              0.4444444444444444,
              "#bd3786"
             ],
             [
              0.5555555555555556,
              "#d8576b"
             ],
             [
              0.6666666666666666,
              "#ed7953"
             ],
             [
              0.7777777777777778,
              "#fb9f3a"
             ],
             [
              0.8888888888888888,
              "#fdca26"
             ],
             [
              1,
              "#f0f921"
             ]
            ],
            "type": "surface"
           }
          ],
          "table": [
           {
            "cells": {
             "fill": {
              "color": "#EBF0F8"
             },
             "line": {
              "color": "white"
             }
            },
            "header": {
             "fill": {
              "color": "#C8D4E3"
             },
             "line": {
              "color": "white"
             }
            },
            "type": "table"
           }
          ]
         },
         "layout": {
          "annotationdefaults": {
           "arrowcolor": "#2a3f5f",
           "arrowhead": 0,
           "arrowwidth": 1
          },
          "autotypenumbers": "strict",
          "coloraxis": {
           "colorbar": {
            "outlinewidth": 0,
            "ticks": ""
           }
          },
          "colorscale": {
           "diverging": [
            [
             0,
             "#8e0152"
            ],
            [
             0.1,
             "#c51b7d"
            ],
            [
             0.2,
             "#de77ae"
            ],
            [
             0.3,
             "#f1b6da"
            ],
            [
             0.4,
             "#fde0ef"
            ],
            [
             0.5,
             "#f7f7f7"
            ],
            [
             0.6,
             "#e6f5d0"
            ],
            [
             0.7,
             "#b8e186"
            ],
            [
             0.8,
             "#7fbc41"
            ],
            [
             0.9,
             "#4d9221"
            ],
            [
             1,
             "#276419"
            ]
           ],
           "sequential": [
            [
             0,
             "#0d0887"
            ],
            [
             0.1111111111111111,
             "#46039f"
            ],
            [
             0.2222222222222222,
             "#7201a8"
            ],
            [
             0.3333333333333333,
             "#9c179e"
            ],
            [
             0.4444444444444444,
             "#bd3786"
            ],
            [
             0.5555555555555556,
             "#d8576b"
            ],
            [
             0.6666666666666666,
             "#ed7953"
            ],
            [
             0.7777777777777778,
             "#fb9f3a"
            ],
            [
             0.8888888888888888,
             "#fdca26"
            ],
            [
             1,
             "#f0f921"
            ]
           ],
           "sequentialminus": [
            [
             0,
             "#0d0887"
            ],
            [
             0.1111111111111111,
             "#46039f"
            ],
            [
             0.2222222222222222,
             "#7201a8"
            ],
            [
             0.3333333333333333,
             "#9c179e"
            ],
            [
             0.4444444444444444,
             "#bd3786"
            ],
            [
             0.5555555555555556,
             "#d8576b"
            ],
            [
             0.6666666666666666,
             "#ed7953"
            ],
            [
             0.7777777777777778,
             "#fb9f3a"
            ],
            [
             0.8888888888888888,
             "#fdca26"
            ],
            [
             1,
             "#f0f921"
            ]
           ]
          },
          "colorway": [
           "#636efa",
           "#EF553B",
           "#00cc96",
           "#ab63fa",
           "#FFA15A",
           "#19d3f3",
           "#FF6692",
           "#B6E880",
           "#FF97FF",
           "#FECB52"
          ],
          "font": {
           "color": "#2a3f5f"
          },
          "geo": {
           "bgcolor": "white",
           "lakecolor": "white",
           "landcolor": "#E5ECF6",
           "showlakes": true,
           "showland": true,
           "subunitcolor": "white"
          },
          "hoverlabel": {
           "align": "left"
          },
          "hovermode": "closest",
          "mapbox": {
           "style": "light"
          },
          "paper_bgcolor": "white",
          "plot_bgcolor": "#E5ECF6",
          "polar": {
           "angularaxis": {
            "gridcolor": "white",
            "linecolor": "white",
            "ticks": ""
           },
           "bgcolor": "#E5ECF6",
           "radialaxis": {
            "gridcolor": "white",
            "linecolor": "white",
            "ticks": ""
           }
          },
          "scene": {
           "xaxis": {
            "backgroundcolor": "#E5ECF6",
            "gridcolor": "white",
            "gridwidth": 2,
            "linecolor": "white",
            "showbackground": true,
            "ticks": "",
            "zerolinecolor": "white"
           },
           "yaxis": {
            "backgroundcolor": "#E5ECF6",
            "gridcolor": "white",
            "gridwidth": 2,
            "linecolor": "white",
            "showbackground": true,
            "ticks": "",
            "zerolinecolor": "white"
           },
           "zaxis": {
            "backgroundcolor": "#E5ECF6",
            "gridcolor": "white",
            "gridwidth": 2,
            "linecolor": "white",
            "showbackground": true,
            "ticks": "",
            "zerolinecolor": "white"
           }
          },
          "shapedefaults": {
           "line": {
            "color": "#2a3f5f"
           }
          },
          "ternary": {
           "aaxis": {
            "gridcolor": "white",
            "linecolor": "white",
            "ticks": ""
           },
           "baxis": {
            "gridcolor": "white",
            "linecolor": "white",
            "ticks": ""
           },
           "bgcolor": "#E5ECF6",
           "caxis": {
            "gridcolor": "white",
            "linecolor": "white",
            "ticks": ""
           }
          },
          "title": {
           "x": 0.05
          },
          "xaxis": {
           "automargin": true,
           "gridcolor": "white",
           "linecolor": "white",
           "ticks": "",
           "title": {
            "standoff": 15
           },
           "zerolinecolor": "white",
           "zerolinewidth": 2
          },
          "yaxis": {
           "automargin": true,
           "gridcolor": "white",
           "linecolor": "white",
           "ticks": "",
           "title": {
            "standoff": 15
           },
           "zerolinecolor": "white",
           "zerolinewidth": 2
          }
         }
        },
        "title": {
         "text": "2020"
        },
        "xaxis": {
         "anchor": "y",
         "domain": [
          0,
          1
         ],
         "title": {
          "text": "county_name"
         }
        },
        "yaxis": {
         "anchor": "x",
         "domain": [
          0,
          1
         ],
         "title": {
          "text": "sum of vote_share"
         }
        }
       }
      }
     },
     "metadata": {},
     "output_type": "display_data"
    },
    {
     "data": {
      "application/vnd.plotly.v1+json": {
       "config": {
        "plotlyServerURL": "https://plot.ly"
       },
       "data": [
        {
         "alignmentgroup": "True",
         "bingroup": "x",
         "histfunc": "sum",
         "hovertemplate": "county_name=%{x}<br>sum of vote_share=%{y}<extra></extra>",
         "legendgroup": "",
         "marker": {
          "color": "#636efa",
          "pattern": {
           "shape": ""
          }
         },
         "name": "",
         "offsetgroup": "",
         "orientation": "v",
         "showlegend": false,
         "type": "histogram",
         "x": [
          "Alachua",
          "Baker",
          "Bay",
          "Bradford",
          "Brevard",
          "Broward",
          "Calhoun",
          "Charlotte",
          "Citrus",
          "Clay",
          "Collier",
          "Columbia",
          "Desoto",
          "Dixie",
          "Duval",
          "Escambia",
          "Flagler",
          "Franklin",
          "Gadsden",
          "Gilchrist",
          "Glades",
          "Gulf",
          "Hamilton",
          "Hardee",
          "Hendry",
          "Hernando",
          "Highlands",
          "Hillsborough",
          "Holmes",
          "Indian River",
          "Jackson",
          "Jefferson",
          "Lafayette",
          "Lake",
          "Lee",
          "Leon",
          "Levy",
          "Liberty",
          "Madison",
          "Manatee",
          "Marion",
          "Martin",
          "Miami-Dade",
          "Monroe",
          "Nassau",
          "Okaloosa",
          "Okeechobee",
          "Orange",
          "Osceola",
          "Palm Beach",
          "Pasco",
          "Pinellas",
          "Polk",
          "Putnam",
          "Santa Rosa",
          "Sarasota",
          "Seminole",
          "St. Johns",
          "St. Lucie",
          "Sumter",
          "Suwannee",
          "Taylor",
          "Union",
          "Volusia",
          "Wakulla",
          "Walton",
          "Washington"
         ],
         "xaxis": "x",
         "y": [
          0.15093690368192197,
          -0.7927272727272727,
          -0.5738154501959967,
          -0.6325119314307978,
          -0.2820346004718586,
          0.15377033679860075,
          -0.725195553725813,
          -0.4136949064785451,
          -0.4903726953815314,
          -0.5005048879814468,
          -0.43760648269713415,
          -0.5900872423820963,
          -0.5302838754166187,
          -0.7540055025084966,
          -0.11761240620796248,
          -0.2983661231931016,
          -0.3408409431647812,
          -0.4772142594634326,
          0.24641340525651323,
          -0.7357651245551601,
          -0.6189605641159571,
          -0.6074708171206227,
          -0.4716981132075471,
          -0.6519147398843931,
          -0.49412904006778835,
          -0.4047379220294721,
          -0.49024482109227874,
          -0.09221449637445861,
          -0.8376585078148039,
          -0.3556201550387597,
          -0.5253583241455346,
          -0.21523782797811147,
          -0.7960932145305003,
          -0.33715659340659343,
          -0.38001882000733905,
          0.15533626041392434,
          -0.5744668973986826,
          -0.7118838364539549,
          -0.33920641741870794,
          -0.298771327083212,
          -0.39024671579621917,
          -0.38429448800648924,
          -0.11316975041125182,
          -0.2107105046465122,
          -0.5355079139100578,
          -0.5326140628086115,
          -0.6124379937534448,
          0.07015200255383935,
          -0.06752248966690982,
          -0.02905360177127847,
          -0.3233220730731621,
          -0.09851615371174094,
          -0.2959868183655991,
          -0.5272440115819953,
          -0.594401437290285,
          -0.2226617998419348,
          -0.12295851528384283,
          -0.4022909840032077,
          -0.19136343888583768,
          -0.4669811320754717,
          -0.6720229730555387,
          -0.6601941747572816,
          -0.7571303203159281,
          -0.28642716335316426,
          -0.4722166899024099,
          -0.645683504770637,
          -0.7123602892833661
         ],
         "yaxis": "y"
        }
       ],
       "layout": {
        "barmode": "relative",
        "legend": {
         "tracegroupgap": 0
        },
        "template": {
         "data": {
          "bar": [
           {
            "error_x": {
             "color": "#2a3f5f"
            },
            "error_y": {
             "color": "#2a3f5f"
            },
            "marker": {
             "line": {
              "color": "#E5ECF6",
              "width": 0.5
             },
             "pattern": {
              "fillmode": "overlay",
              "size": 10,
              "solidity": 0.2
             }
            },
            "type": "bar"
           }
          ],
          "barpolar": [
           {
            "marker": {
             "line": {
              "color": "#E5ECF6",
              "width": 0.5
             },
             "pattern": {
              "fillmode": "overlay",
              "size": 10,
              "solidity": 0.2
             }
            },
            "type": "barpolar"
           }
          ],
          "carpet": [
           {
            "aaxis": {
             "endlinecolor": "#2a3f5f",
             "gridcolor": "white",
             "linecolor": "white",
             "minorgridcolor": "white",
             "startlinecolor": "#2a3f5f"
            },
            "baxis": {
             "endlinecolor": "#2a3f5f",
             "gridcolor": "white",
             "linecolor": "white",
             "minorgridcolor": "white",
             "startlinecolor": "#2a3f5f"
            },
            "type": "carpet"
           }
          ],
          "choropleth": [
           {
            "colorbar": {
             "outlinewidth": 0,
             "ticks": ""
            },
            "type": "choropleth"
           }
          ],
          "contour": [
           {
            "colorbar": {
             "outlinewidth": 0,
             "ticks": ""
            },
            "colorscale": [
             [
              0,
              "#0d0887"
             ],
             [
              0.1111111111111111,
              "#46039f"
             ],
             [
              0.2222222222222222,
              "#7201a8"
             ],
             [
              0.3333333333333333,
              "#9c179e"
             ],
             [
              0.4444444444444444,
              "#bd3786"
             ],
             [
              0.5555555555555556,
              "#d8576b"
             ],
             [
              0.6666666666666666,
              "#ed7953"
             ],
             [
              0.7777777777777778,
              "#fb9f3a"
             ],
             [
              0.8888888888888888,
              "#fdca26"
             ],
             [
              1,
              "#f0f921"
             ]
            ],
            "type": "contour"
           }
          ],
          "contourcarpet": [
           {
            "colorbar": {
             "outlinewidth": 0,
             "ticks": ""
            },
            "type": "contourcarpet"
           }
          ],
          "heatmap": [
           {
            "colorbar": {
             "outlinewidth": 0,
             "ticks": ""
            },
            "colorscale": [
             [
              0,
              "#0d0887"
             ],
             [
              0.1111111111111111,
              "#46039f"
             ],
             [
              0.2222222222222222,
              "#7201a8"
             ],
             [
              0.3333333333333333,
              "#9c179e"
             ],
             [
              0.4444444444444444,
              "#bd3786"
             ],
             [
              0.5555555555555556,
              "#d8576b"
             ],
             [
              0.6666666666666666,
              "#ed7953"
             ],
             [
              0.7777777777777778,
              "#fb9f3a"
             ],
             [
              0.8888888888888888,
              "#fdca26"
             ],
             [
              1,
              "#f0f921"
             ]
            ],
            "type": "heatmap"
           }
          ],
          "heatmapgl": [
           {
            "colorbar": {
             "outlinewidth": 0,
             "ticks": ""
            },
            "colorscale": [
             [
              0,
              "#0d0887"
             ],
             [
              0.1111111111111111,
              "#46039f"
             ],
             [
              0.2222222222222222,
              "#7201a8"
             ],
             [
              0.3333333333333333,
              "#9c179e"
             ],
             [
              0.4444444444444444,
              "#bd3786"
             ],
             [
              0.5555555555555556,
              "#d8576b"
             ],
             [
              0.6666666666666666,
              "#ed7953"
             ],
             [
              0.7777777777777778,
              "#fb9f3a"
             ],
             [
              0.8888888888888888,
              "#fdca26"
             ],
             [
              1,
              "#f0f921"
             ]
            ],
            "type": "heatmapgl"
           }
          ],
          "histogram": [
           {
            "marker": {
             "pattern": {
              "fillmode": "overlay",
              "size": 10,
              "solidity": 0.2
             }
            },
            "type": "histogram"
           }
          ],
          "histogram2d": [
           {
            "colorbar": {
             "outlinewidth": 0,
             "ticks": ""
            },
            "colorscale": [
             [
              0,
              "#0d0887"
             ],
             [
              0.1111111111111111,
              "#46039f"
             ],
             [
              0.2222222222222222,
              "#7201a8"
             ],
             [
              0.3333333333333333,
              "#9c179e"
             ],
             [
              0.4444444444444444,
              "#bd3786"
             ],
             [
              0.5555555555555556,
              "#d8576b"
             ],
             [
              0.6666666666666666,
              "#ed7953"
             ],
             [
              0.7777777777777778,
              "#fb9f3a"
             ],
             [
              0.8888888888888888,
              "#fdca26"
             ],
             [
              1,
              "#f0f921"
             ]
            ],
            "type": "histogram2d"
           }
          ],
          "histogram2dcontour": [
           {
            "colorbar": {
             "outlinewidth": 0,
             "ticks": ""
            },
            "colorscale": [
             [
              0,
              "#0d0887"
             ],
             [
              0.1111111111111111,
              "#46039f"
             ],
             [
              0.2222222222222222,
              "#7201a8"
             ],
             [
              0.3333333333333333,
              "#9c179e"
             ],
             [
              0.4444444444444444,
              "#bd3786"
             ],
             [
              0.5555555555555556,
              "#d8576b"
             ],
             [
              0.6666666666666666,
              "#ed7953"
             ],
             [
              0.7777777777777778,
              "#fb9f3a"
             ],
             [
              0.8888888888888888,
              "#fdca26"
             ],
             [
              1,
              "#f0f921"
             ]
            ],
            "type": "histogram2dcontour"
           }
          ],
          "mesh3d": [
           {
            "colorbar": {
             "outlinewidth": 0,
             "ticks": ""
            },
            "type": "mesh3d"
           }
          ],
          "parcoords": [
           {
            "line": {
             "colorbar": {
              "outlinewidth": 0,
              "ticks": ""
             }
            },
            "type": "parcoords"
           }
          ],
          "pie": [
           {
            "automargin": true,
            "type": "pie"
           }
          ],
          "scatter": [
           {
            "fillpattern": {
             "fillmode": "overlay",
             "size": 10,
             "solidity": 0.2
            },
            "type": "scatter"
           }
          ],
          "scatter3d": [
           {
            "line": {
             "colorbar": {
              "outlinewidth": 0,
              "ticks": ""
             }
            },
            "marker": {
             "colorbar": {
              "outlinewidth": 0,
              "ticks": ""
             }
            },
            "type": "scatter3d"
           }
          ],
          "scattercarpet": [
           {
            "marker": {
             "colorbar": {
              "outlinewidth": 0,
              "ticks": ""
             }
            },
            "type": "scattercarpet"
           }
          ],
          "scattergeo": [
           {
            "marker": {
             "colorbar": {
              "outlinewidth": 0,
              "ticks": ""
             }
            },
            "type": "scattergeo"
           }
          ],
          "scattergl": [
           {
            "marker": {
             "colorbar": {
              "outlinewidth": 0,
              "ticks": ""
             }
            },
            "type": "scattergl"
           }
          ],
          "scattermapbox": [
           {
            "marker": {
             "colorbar": {
              "outlinewidth": 0,
              "ticks": ""
             }
            },
            "type": "scattermapbox"
           }
          ],
          "scatterpolar": [
           {
            "marker": {
             "colorbar": {
              "outlinewidth": 0,
              "ticks": ""
             }
            },
            "type": "scatterpolar"
           }
          ],
          "scatterpolargl": [
           {
            "marker": {
             "colorbar": {
              "outlinewidth": 0,
              "ticks": ""
             }
            },
            "type": "scatterpolargl"
           }
          ],
          "scatterternary": [
           {
            "marker": {
             "colorbar": {
              "outlinewidth": 0,
              "ticks": ""
             }
            },
            "type": "scatterternary"
           }
          ],
          "surface": [
           {
            "colorbar": {
             "outlinewidth": 0,
             "ticks": ""
            },
            "colorscale": [
             [
              0,
              "#0d0887"
             ],
             [
              0.1111111111111111,
              "#46039f"
             ],
             [
              0.2222222222222222,
              "#7201a8"
             ],
             [
              0.3333333333333333,
              "#9c179e"
             ],
             [
              0.4444444444444444,
              "#bd3786"
             ],
             [
              0.5555555555555556,
              "#d8576b"
             ],
             [
              0.6666666666666666,
              "#ed7953"
             ],
             [
              0.7777777777777778,
              "#fb9f3a"
             ],
             [
              0.8888888888888888,
              "#fdca26"
             ],
             [
              1,
              "#f0f921"
             ]
            ],
            "type": "surface"
           }
          ],
          "table": [
           {
            "cells": {
             "fill": {
              "color": "#EBF0F8"
             },
             "line": {
              "color": "white"
             }
            },
            "header": {
             "fill": {
              "color": "#C8D4E3"
             },
             "line": {
              "color": "white"
             }
            },
            "type": "table"
           }
          ]
         },
         "layout": {
          "annotationdefaults": {
           "arrowcolor": "#2a3f5f",
           "arrowhead": 0,
           "arrowwidth": 1
          },
          "autotypenumbers": "strict",
          "coloraxis": {
           "colorbar": {
            "outlinewidth": 0,
            "ticks": ""
           }
          },
          "colorscale": {
           "diverging": [
            [
             0,
             "#8e0152"
            ],
            [
             0.1,
             "#c51b7d"
            ],
            [
             0.2,
             "#de77ae"
            ],
            [
             0.3,
             "#f1b6da"
            ],
            [
             0.4,
             "#fde0ef"
            ],
            [
             0.5,
             "#f7f7f7"
            ],
            [
             0.6,
             "#e6f5d0"
            ],
            [
             0.7,
             "#b8e186"
            ],
            [
             0.8,
             "#7fbc41"
            ],
            [
             0.9,
             "#4d9221"
            ],
            [
             1,
             "#276419"
            ]
           ],
           "sequential": [
            [
             0,
             "#0d0887"
            ],
            [
             0.1111111111111111,
             "#46039f"
            ],
            [
             0.2222222222222222,
             "#7201a8"
            ],
            [
             0.3333333333333333,
             "#9c179e"
            ],
            [
             0.4444444444444444,
             "#bd3786"
            ],
            [
             0.5555555555555556,
             "#d8576b"
            ],
            [
             0.6666666666666666,
             "#ed7953"
            ],
            [
             0.7777777777777778,
             "#fb9f3a"
            ],
            [
             0.8888888888888888,
             "#fdca26"
            ],
            [
             1,
             "#f0f921"
            ]
           ],
           "sequentialminus": [
            [
             0,
             "#0d0887"
            ],
            [
             0.1111111111111111,
             "#46039f"
            ],
            [
             0.2222222222222222,
             "#7201a8"
            ],
            [
             0.3333333333333333,
             "#9c179e"
            ],
            [
             0.4444444444444444,
             "#bd3786"
            ],
            [
             0.5555555555555556,
             "#d8576b"
            ],
            [
             0.6666666666666666,
             "#ed7953"
            ],
            [
             0.7777777777777778,
             "#fb9f3a"
            ],
            [
             0.8888888888888888,
             "#fdca26"
            ],
            [
             1,
             "#f0f921"
            ]
           ]
          },
          "colorway": [
           "#636efa",
           "#EF553B",
           "#00cc96",
           "#ab63fa",
           "#FFA15A",
           "#19d3f3",
           "#FF6692",
           "#B6E880",
           "#FF97FF",
           "#FECB52"
          ],
          "font": {
           "color": "#2a3f5f"
          },
          "geo": {
           "bgcolor": "white",
           "lakecolor": "white",
           "landcolor": "#E5ECF6",
           "showlakes": true,
           "showland": true,
           "subunitcolor": "white"
          },
          "hoverlabel": {
           "align": "left"
          },
          "hovermode": "closest",
          "mapbox": {
           "style": "light"
          },
          "paper_bgcolor": "white",
          "plot_bgcolor": "#E5ECF6",
          "polar": {
           "angularaxis": {
            "gridcolor": "white",
            "linecolor": "white",
            "ticks": ""
           },
           "bgcolor": "#E5ECF6",
           "radialaxis": {
            "gridcolor": "white",
            "linecolor": "white",
            "ticks": ""
           }
          },
          "scene": {
           "xaxis": {
            "backgroundcolor": "#E5ECF6",
            "gridcolor": "white",
            "gridwidth": 2,
            "linecolor": "white",
            "showbackground": true,
            "ticks": "",
            "zerolinecolor": "white"
           },
           "yaxis": {
            "backgroundcolor": "#E5ECF6",
            "gridcolor": "white",
            "gridwidth": 2,
            "linecolor": "white",
            "showbackground": true,
            "ticks": "",
            "zerolinecolor": "white"
           },
           "zaxis": {
            "backgroundcolor": "#E5ECF6",
            "gridcolor": "white",
            "gridwidth": 2,
            "linecolor": "white",
            "showbackground": true,
            "ticks": "",
            "zerolinecolor": "white"
           }
          },
          "shapedefaults": {
           "line": {
            "color": "#2a3f5f"
           }
          },
          "ternary": {
           "aaxis": {
            "gridcolor": "white",
            "linecolor": "white",
            "ticks": ""
           },
           "baxis": {
            "gridcolor": "white",
            "linecolor": "white",
            "ticks": ""
           },
           "bgcolor": "#E5ECF6",
           "caxis": {
            "gridcolor": "white",
            "linecolor": "white",
            "ticks": ""
           }
          },
          "title": {
           "x": 0.05
          },
          "xaxis": {
           "automargin": true,
           "gridcolor": "white",
           "linecolor": "white",
           "ticks": "",
           "title": {
            "standoff": 15
           },
           "zerolinecolor": "white",
           "zerolinewidth": 2
          },
          "yaxis": {
           "automargin": true,
           "gridcolor": "white",
           "linecolor": "white",
           "ticks": "",
           "title": {
            "standoff": 15
           },
           "zerolinecolor": "white",
           "zerolinewidth": 2
          }
         }
        },
        "title": {
         "text": "2022"
        },
        "xaxis": {
         "anchor": "y",
         "domain": [
          0,
          1
         ],
         "title": {
          "text": "county_name"
         }
        },
        "yaxis": {
         "anchor": "x",
         "domain": [
          0,
          1
         ],
         "title": {
          "text": "sum of vote_share"
         }
        }
       }
      }
     },
     "metadata": {},
     "output_type": "display_data"
    }
   ],
   "source": [
    "# Plot \n",
    "fig_histogram_totals = px.histogram(D_margin_by_county,x='county_name', y='vote_share', hover_name='county_name', title='Totals')\n",
    "fig_histogram.show()\n",
    "\n",
    "fig_histogram_2012 = px.histogram(D_margin_by_county[D_margin_by_county['elec_date'] == 2012],x='county_name', y='vote_share', title='2012')\n",
    "fig_histogram_2012.show()\n",
    "\n",
    "fig_histogram_2014 = px.histogram(D_margin_by_county[D_margin_by_county['elec_date'] == 2014],x='county_name', y='vote_share', title='2014')\n",
    "fig_histogram_2014.show()\n",
    "\n",
    "fig_histogram_2016 = px.histogram(D_margin_by_county[D_margin_by_county['elec_date'] == 2016],x='county_name', y='vote_share', title='2016')\n",
    "fig_histogram_2016.show()\n",
    "\n",
    "fig_histogram_2018 = px.histogram(D_margin_by_county[D_margin_by_county['elec_date'] == 2018],x='county_name', y='vote_share', title='2018')\n",
    "fig_histogram_2018.show()\n",
    "\n",
    "fig_histogram_2020 = px.histogram(D_margin_by_county[D_margin_by_county['elec_date'] == 2020],x='county_name', y='vote_share', title='2020')\n",
    "fig_histogram_2020.show()\n",
    "\n",
    "fig_histogram_2022 = px.histogram(D_margin_by_county[D_margin_by_county['elec_date'] == 2022],x='county_name', y='vote_share', title='2022')\n",
    "fig_histogram_2022.show()"
   ]
  },
  {
   "cell_type": "code",
   "execution_count": null,
   "metadata": {},
   "outputs": [
    {
     "data": {
      "application/vnd.plotly.v1+json": {
       "config": {
        "plotlyServerURL": "https://plot.ly"
       },
       "data": [
        {
         "hovertemplate": "county_name=Alachua<br>elec_date=%{x}<br>vote_share=%{y}<extra></extra>",
         "legendgroup": "Alachua",
         "line": {
          "color": "#636efa",
          "dash": "solid"
         },
         "marker": {
          "symbol": "circle"
         },
         "mode": "lines",
         "name": "Alachua",
         "orientation": "v",
         "showlegend": true,
         "type": "scatter",
         "x": [
          2012,
          2014,
          2016,
          2018,
          2020,
          2022
         ],
         "xaxis": "x",
         "y": [
          0.17306848384986706,
          0.16522337996913616,
          0.2227978478093774,
          0.2724269201085684,
          0.2707641544387509,
          0.15093690368192197
         ],
         "yaxis": "y"
        },
        {
         "hovertemplate": "county_name=Baker<br>elec_date=%{x}<br>vote_share=%{y}<extra></extra>",
         "legendgroup": "Baker",
         "line": {
          "color": "#EF553B",
          "dash": "solid"
         },
         "marker": {
          "symbol": "circle"
         },
         "mode": "lines",
         "name": "Baker",
         "orientation": "v",
         "showlegend": true,
         "type": "scatter",
         "x": [
          2012,
          2014,
          2016,
          2018,
          2020,
          2022
         ],
         "xaxis": "x",
         "y": [
          -0.5851773796979277,
          -0.45498525073746315,
          -0.6439984258166076,
          -0.6569315380238954,
          -0.7011788098281495,
          -0.7927272727272727
         ],
         "yaxis": "y"
        },
        {
         "hovertemplate": "county_name=Bay<br>elec_date=%{x}<br>vote_share=%{y}<extra></extra>",
         "legendgroup": "Bay",
         "line": {
          "color": "#00cc96",
          "dash": "solid"
         },
         "marker": {
          "symbol": "circle"
         },
         "mode": "lines",
         "name": "Bay",
         "orientation": "v",
         "showlegend": true,
         "type": "scatter",
         "x": [
          2012,
          2014,
          2016,
          2018,
          2020,
          2022
         ],
         "xaxis": "x",
         "y": [
          -0.43476361094118676,
          -0.48928390223419704,
          -0.45790165718301556,
          -0.4566489487547515,
          -0.4343063735745014,
          -0.5738154501959967
         ],
         "yaxis": "y"
        },
        {
         "hovertemplate": "county_name=Bradford<br>elec_date=%{x}<br>vote_share=%{y}<extra></extra>",
         "legendgroup": "Bradford",
         "line": {
          "color": "#ab63fa",
          "dash": "solid"
         },
         "marker": {
          "symbol": "circle"
         },
         "mode": "lines",
         "name": "Bradford",
         "orientation": "v",
         "showlegend": true,
         "type": "scatter",
         "x": [
          2012,
          2014,
          2016,
          2018,
          2020,
          2022
         ],
         "xaxis": "x",
         "y": [
          -0.41958161865569277,
          -0.3421667055802008,
          -0.49259746668860016,
          -0.4781698849044041,
          -0.5255677655677655,
          -0.6325119314307978
         ],
         "yaxis": "y"
        },
        {
         "hovertemplate": "county_name=Brevard<br>elec_date=%{x}<br>vote_share=%{y}<extra></extra>",
         "legendgroup": "Brevard",
         "line": {
          "color": "#FFA15A",
          "dash": "solid"
         },
         "marker": {
          "symbol": "circle"
         },
         "mode": "lines",
         "name": "Brevard",
         "orientation": "v",
         "showlegend": true,
         "type": "scatter",
         "x": [
          2012,
          2014,
          2016,
          2018,
          2020,
          2022
         ],
         "xaxis": "x",
         "y": [
          -0.12675785886854635,
          -0.11512052987279281,
          -0.19541335445604308,
          -0.1677532864632476,
          -0.16406334248575288,
          -0.2820346004718586
         ],
         "yaxis": "y"
        },
        {
         "hovertemplate": "county_name=Broward<br>elec_date=%{x}<br>vote_share=%{y}<extra></extra>",
         "legendgroup": "Broward",
         "line": {
          "color": "#19d3f3",
          "dash": "solid"
         },
         "marker": {
          "symbol": "circle"
         },
         "mode": "lines",
         "name": "Broward",
         "orientation": "v",
         "showlegend": true,
         "type": "scatter",
         "x": [
          2012,
          2014,
          2016,
          2018,
          2020,
          2022
         ],
         "xaxis": "x",
         "y": [
          0.3492904754224494,
          0.38443080369024274,
          0.34914400492961445,
          0.3666133014645366,
          0.29734379559001295,
          0.15377033679860075
         ],
         "yaxis": "y"
        },
        {
         "hovertemplate": "county_name=Calhoun<br>elec_date=%{x}<br>vote_share=%{y}<extra></extra>",
         "legendgroup": "Calhoun",
         "line": {
          "color": "#FF6692",
          "dash": "solid"
         },
         "marker": {
          "symbol": "circle"
         },
         "mode": "lines",
         "name": "Calhoun",
         "orientation": "v",
         "showlegend": true,
         "type": "scatter",
         "x": [
          2012,
          2014,
          2016,
          2018,
          2020,
          2022
         ],
         "xaxis": "x",
         "y": [
          -0.43700469027979943,
          -0.3513706793802145,
          -0.5571148825065275,
          -0.5753632617653437,
          -0.6218448829738412,
          -0.725195553725813
         ],
         "yaxis": "y"
        },
        {
         "hovertemplate": "county_name=Charlotte<br>elec_date=%{x}<br>vote_share=%{y}<extra></extra>",
         "legendgroup": "Charlotte",
         "line": {
          "color": "#B6E880",
          "dash": "solid"
         },
         "marker": {
          "symbol": "circle"
         },
         "mode": "lines",
         "name": "Charlotte",
         "orientation": "v",
         "showlegend": true,
         "type": "scatter",
         "x": [
          2012,
          2014,
          2016,
          2018,
          2020,
          2022
         ],
         "xaxis": "x",
         "y": [
          -0.14236425938791614,
          -0.12301309978737007,
          -0.27547923076131575,
          -0.2630040508193703,
          -0.26570462773897974,
          -0.4136949064785451
         ],
         "yaxis": "y"
        },
        {
         "hovertemplate": "county_name=Citrus<br>elec_date=%{x}<br>vote_share=%{y}<extra></extra>",
         "legendgroup": "Citrus",
         "line": {
          "color": "#FF97FF",
          "dash": "solid"
         },
         "marker": {
          "symbol": "circle"
         },
         "mode": "lines",
         "name": "Citrus",
         "orientation": "v",
         "showlegend": true,
         "type": "scatter",
         "x": [
          2012,
          2014,
          2016,
          2018,
          2020,
          2022
         ],
         "xaxis": "x",
         "y": [
          -0.21844706009249149,
          -0.15182234682713353,
          -0.3938093816843257,
          -0.3739271369177648,
          -0.4096886109564398,
          -0.4903726953815314
         ],
         "yaxis": "y"
        },
        {
         "hovertemplate": "county_name=Clay<br>elec_date=%{x}<br>vote_share=%{y}<extra></extra>",
         "legendgroup": "Clay",
         "line": {
          "color": "#FECB52",
          "dash": "solid"
         },
         "marker": {
          "symbol": "circle"
         },
         "mode": "lines",
         "name": "Clay",
         "orientation": "v",
         "showlegend": true,
         "type": "scatter",
         "x": [
          2012,
          2014,
          2016,
          2018,
          2020,
          2022
         ],
         "xaxis": "x",
         "y": [
          -0.4572387789886886,
          -0.48871971305175316,
          -0.4392687085923013,
          -0.38751296056780643,
          -0.3703112465907268,
          -0.5005048879814468
         ],
         "yaxis": "y"
        },
        {
         "hovertemplate": "county_name=Collier<br>elec_date=%{x}<br>vote_share=%{y}<extra></extra>",
         "legendgroup": "Collier",
         "line": {
          "color": "#636efa",
          "dash": "solid"
         },
         "marker": {
          "symbol": "circle"
         },
         "mode": "lines",
         "name": "Collier",
         "orientation": "v",
         "showlegend": true,
         "type": "scatter",
         "x": [
          2012,
          2014,
          2016,
          2018,
          2020,
          2022
         ],
         "xaxis": "x",
         "y": [
          -0.3001660818086845,
          -0.35206947166726726,
          -0.2570169845226364,
          -0.30030796530729026,
          -0.2464363732385913,
          -0.43760648269713415
         ],
         "yaxis": "y"
        },
        {
         "hovertemplate": "county_name=Columbia<br>elec_date=%{x}<br>vote_share=%{y}<extra></extra>",
         "legendgroup": "Columbia",
         "line": {
          "color": "#EF553B",
          "dash": "solid"
         },
         "marker": {
          "symbol": "circle"
         },
         "mode": "lines",
         "name": "Columbia",
         "orientation": "v",
         "showlegend": true,
         "type": "scatter",
         "x": [
          2012,
          2014,
          2016,
          2018,
          2020,
          2022
         ],
         "xaxis": "x",
         "y": [
          -0.36607044477907963,
          -0.3144749701379086,
          -0.4423156873614191,
          -0.41482047364400304,
          -0.45092469479028163,
          -0.5900872423820963
         ],
         "yaxis": "y"
        },
        {
         "hovertemplate": "county_name=Desoto<br>elec_date=%{x}<br>vote_share=%{y}<extra></extra>",
         "legendgroup": "Desoto",
         "line": {
          "color": "#00cc96",
          "dash": "solid"
         },
         "marker": {
          "symbol": "circle"
         },
         "mode": "lines",
         "name": "Desoto",
         "orientation": "v",
         "showlegend": true,
         "type": "scatter",
         "x": [
          2012,
          2014,
          2016,
          2018,
          2020,
          2022
         ],
         "xaxis": "x",
         "y": [
          -0.1429149388085364,
          -0.05132625994694956,
          -0.2748784738145465,
          -0.2922369306708549,
          -0.319816976964342,
          -0.5302838754166187
         ],
         "yaxis": "y"
        },
        {
         "hovertemplate": "county_name=Dixie<br>elec_date=%{x}<br>vote_share=%{y}<extra></extra>",
         "legendgroup": "Dixie",
         "line": {
          "color": "#ab63fa",
          "dash": "solid"
         },
         "marker": {
          "symbol": "circle"
         },
         "mode": "lines",
         "name": "Dixie",
         "orientation": "v",
         "showlegend": true,
         "type": "scatter",
         "x": [
          2012,
          2014,
          2016,
          2018,
          2020,
          2022
         ],
         "xaxis": "x",
         "y": [
          -0.4675959189538727,
          -0.31404651162790703,
          -0.6282086668506763,
          -0.6297381116471399,
          -0.659977976263306,
          -0.7540055025084966
         ],
         "yaxis": "y"
        },
        {
         "hovertemplate": "county_name=Duval<br>elec_date=%{x}<br>vote_share=%{y}<extra></extra>",
         "legendgroup": "Duval",
         "line": {
          "color": "#FFA15A",
          "dash": "solid"
         },
         "marker": {
          "symbol": "circle"
         },
         "mode": "lines",
         "name": "Duval",
         "orientation": "v",
         "showlegend": true,
         "type": "scatter",
         "x": [
          2012,
          2014,
          2016,
          2018,
          2020,
          2022
         ],
         "xaxis": "x",
         "y": [
          -0.03604751740229151,
          -0.1269922765233643,
          -0.013670107862831682,
          0.043952055172849114,
          0.038032139323014136,
          -0.11761240620796248
         ],
         "yaxis": "y"
        },
        {
         "hovertemplate": "county_name=Escambia<br>elec_date=%{x}<br>vote_share=%{y}<extra></extra>",
         "legendgroup": "Escambia",
         "line": {
          "color": "#19d3f3",
          "dash": "solid"
         },
         "marker": {
          "symbol": "circle"
         },
         "mode": "lines",
         "name": "Escambia",
         "orientation": "v",
         "showlegend": true,
         "type": "scatter",
         "x": [
          2012,
          2014,
          2016,
          2018,
          2020,
          2022
         ],
         "xaxis": "x",
         "y": [
          -0.2049178677156686,
          -0.27797587513753613,
          -0.20332485795086014,
          -0.169043351976022,
          -0.15068244603642833,
          -0.2983661231931016
         ],
         "yaxis": "y"
        },
        {
         "hovertemplate": "county_name=Flagler<br>elec_date=%{x}<br>vote_share=%{y}<extra></extra>",
         "legendgroup": "Flagler",
         "line": {
          "color": "#FF6692",
          "dash": "solid"
         },
         "marker": {
          "symbol": "circle"
         },
         "mode": "lines",
         "name": "Flagler",
         "orientation": "v",
         "showlegend": true,
         "type": "scatter",
         "x": [
          2012,
          2014,
          2016,
          2018,
          2020,
          2022
         ],
         "xaxis": "x",
         "y": [
          -0.07419094010688859,
          -0.1054239877769289,
          -0.20390777243175195,
          -0.18477952443107648,
          -0.20708848781709638,
          -0.3408409431647812
         ],
         "yaxis": "y"
        },
        {
         "hovertemplate": "county_name=Franklin<br>elec_date=%{x}<br>vote_share=%{y}<extra></extra>",
         "legendgroup": "Franklin",
         "line": {
          "color": "#B6E880",
          "dash": "solid"
         },
         "marker": {
          "symbol": "circle"
         },
         "mode": "lines",
         "name": "Franklin",
         "orientation": "v",
         "showlegend": true,
         "type": "scatter",
         "x": [
          2012,
          2014,
          2016,
          2018,
          2020,
          2022
         ],
         "xaxis": "x",
         "y": [
          -0.3139788860575173,
          -0.20208574739281576,
          -0.3929691368212576,
          -0.31648594008454334,
          -0.3725032803615687,
          -0.4772142594634326
         ],
         "yaxis": "y"
        },
        {
         "hovertemplate": "county_name=Gadsden<br>elec_date=%{x}<br>vote_share=%{y}<extra></extra>",
         "legendgroup": "Gadsden",
         "line": {
          "color": "#FF97FF",
          "dash": "solid"
         },
         "marker": {
          "symbol": "circle"
         },
         "mode": "lines",
         "name": "Gadsden",
         "orientation": "v",
         "showlegend": true,
         "type": "scatter",
         "x": [
          2012,
          2014,
          2016,
          2018,
          2020,
          2022
         ],
         "xaxis": "x",
         "y": [
          0.4062402773456598,
          0.43313078539383265,
          0.37498304164970825,
          0.37442694837552315,
          0.3656257890749937,
          0.24641340525651323
         ],
         "yaxis": "y"
        },
        {
         "hovertemplate": "county_name=Gilchrist<br>elec_date=%{x}<br>vote_share=%{y}<extra></extra>",
         "legendgroup": "Gilchrist",
         "line": {
          "color": "#FECB52",
          "dash": "solid"
         },
         "marker": {
          "symbol": "circle"
         },
         "mode": "lines",
         "name": "Gilchrist",
         "orientation": "v",
         "showlegend": true,
         "type": "scatter",
         "x": [
          2012,
          2014,
          2016,
          2018,
          2020,
          2022
         ],
         "xaxis": "x",
         "y": [
          -0.5080005039687538,
          -0.44199264460046805,
          -0.6234655335221907,
          -0.63668430335097,
          -0.6385281385281385,
          -0.7357651245551601
         ],
         "yaxis": "y"
        },
        {
         "hovertemplate": "county_name=Glades<br>elec_date=%{x}<br>vote_share=%{y}<extra></extra>",
         "legendgroup": "Glades",
         "line": {
          "color": "#636efa",
          "dash": "solid"
         },
         "marker": {
          "symbol": "circle"
         },
         "mode": "lines",
         "name": "Glades",
         "orientation": "v",
         "showlegend": true,
         "type": "scatter",
         "x": [
          2012,
          2014,
          2016,
          2018,
          2020,
          2022
         ],
         "xaxis": "x",
         "y": [
          -0.1850649350649351,
          -0.25494722955145116,
          -0.39365586490187127,
          -0.4043772798332465,
          -0.4606957524505093,
          -0.6189605641159571
         ],
         "yaxis": "y"
        },
        {
         "hovertemplate": "county_name=Gulf<br>elec_date=%{x}<br>vote_share=%{y}<extra></extra>",
         "legendgroup": "Gulf",
         "line": {
          "color": "#EF553B",
          "dash": "solid"
         },
         "marker": {
          "symbol": "circle"
         },
         "mode": "lines",
         "name": "Gulf",
         "orientation": "v",
         "showlegend": true,
         "type": "scatter",
         "x": [
          2012,
          2014,
          2016,
          2018,
          2020,
          2022
         ],
         "xaxis": "x",
         "y": [
          -0.41832725231546447,
          -0.394975845410628,
          -0.4922930023189197,
          -0.4667796610169491,
          -0.5051395007342143,
          -0.6074708171206227
         ],
         "yaxis": "y"
        },
        {
         "hovertemplate": "county_name=Hamilton<br>elec_date=%{x}<br>vote_share=%{y}<extra></extra>",
         "legendgroup": "Hamilton",
         "line": {
          "color": "#00cc96",
          "dash": "solid"
         },
         "marker": {
          "symbol": "circle"
         },
         "mode": "lines",
         "name": "Hamilton",
         "orientation": "v",
         "showlegend": true,
         "type": "scatter",
         "x": [
          2012,
          2014,
          2016,
          2018,
          2020,
          2022
         ],
         "xaxis": "x",
         "y": [
          -0.16789667896678973,
          -0.09020134228187926,
          -0.2802768166089965,
          -0.28906935908691833,
          -0.3171232876712329,
          -0.4716981132075471
         ],
         "yaxis": "y"
        },
        {
         "hovertemplate": "county_name=Hardee<br>elec_date=%{x}<br>vote_share=%{y}<extra></extra>",
         "legendgroup": "Hardee",
         "line": {
          "color": "#ab63fa",
          "dash": "solid"
         },
         "marker": {
          "symbol": "circle"
         },
         "mode": "lines",
         "name": "Hardee",
         "orientation": "v",
         "showlegend": true,
         "type": "scatter",
         "x": [
          2012,
          2014,
          2016,
          2018,
          2020,
          2022
         ],
         "xaxis": "x",
         "y": [
          -0.3082551076753175,
          -0.2689820801773508,
          -0.4045781556572924,
          -0.4189569019362898,
          -0.4497765231710185,
          -0.6519147398843931
         ],
         "yaxis": "y"
        },
        {
         "hovertemplate": "county_name=Hendry<br>elec_date=%{x}<br>vote_share=%{y}<extra></extra>",
         "legendgroup": "Hendry",
         "line": {
          "color": "#FFA15A",
          "dash": "solid"
         },
         "marker": {
          "symbol": "circle"
         },
         "mode": "lines",
         "name": "Hendry",
         "orientation": "v",
         "showlegend": true,
         "type": "scatter",
         "x": [
          2012,
          2014,
          2016,
          2018,
          2020,
          2022
         ],
         "xaxis": "x",
         "y": [
          -0.05912873225648552,
          -0.16728735289736335,
          -0.14129851547129318,
          -0.18700743075883808,
          -0.2297777091694968,
          -0.49412904006778835
         ],
         "yaxis": "y"
        },
        {
         "hovertemplate": "county_name=Hernando<br>elec_date=%{x}<br>vote_share=%{y}<extra></extra>",
         "legendgroup": "Hernando",
         "line": {
          "color": "#19d3f3",
          "dash": "solid"
         },
         "marker": {
          "symbol": "circle"
         },
         "mode": "lines",
         "name": "Hernando",
         "orientation": "v",
         "showlegend": true,
         "type": "scatter",
         "x": [
          2012,
          2014,
          2016,
          2018,
          2020,
          2022
         ],
         "xaxis": "x",
         "y": [
          -0.08469164045372224,
          -0.03135807084774278,
          -0.28710737340334486,
          -0.2507307768529528,
          -0.30135593220338985,
          -0.4047379220294721
         ],
         "yaxis": "y"
        },
        {
         "hovertemplate": "county_name=Highlands<br>elec_date=%{x}<br>vote_share=%{y}<extra></extra>",
         "legendgroup": "Highlands",
         "line": {
          "color": "#FF6692",
          "dash": "solid"
         },
         "marker": {
          "symbol": "circle"
         },
         "mode": "lines",
         "name": "Highlands",
         "orientation": "v",
         "showlegend": true,
         "type": "scatter",
         "x": [
          2012,
          2014,
          2016,
          2018,
          2020,
          2022
         ],
         "xaxis": "x",
         "y": [
          -0.22959027761453654,
          -0.2437868346378122,
          -0.31792397470170175,
          -0.3391695345273682,
          -0.343299580805084,
          -0.49024482109227874
         ],
         "yaxis": "y"
        },
        {
         "hovertemplate": "county_name=Hillsborough<br>elec_date=%{x}<br>vote_share=%{y}<extra></extra>",
         "legendgroup": "Hillsborough",
         "line": {
          "color": "#B6E880",
          "dash": "solid"
         },
         "marker": {
          "symbol": "circle"
         },
         "mode": "lines",
         "name": "Hillsborough",
         "orientation": "v",
         "showlegend": true,
         "type": "scatter",
         "x": [
          2012,
          2014,
          2016,
          2018,
          2020,
          2022
         ],
         "xaxis": "x",
         "y": [
          0.06676309140660508,
          0.026910047918699054,
          0.06793621354882518,
          0.0893327220280054,
          0.06857750242273847,
          -0.09221449637445861
         ],
         "yaxis": "y"
        },
        {
         "hovertemplate": "county_name=Holmes<br>elec_date=%{x}<br>vote_share=%{y}<extra></extra>",
         "legendgroup": "Holmes",
         "line": {
          "color": "#FF97FF",
          "dash": "solid"
         },
         "marker": {
          "symbol": "circle"
         },
         "mode": "lines",
         "name": "Holmes",
         "orientation": "v",
         "showlegend": true,
         "type": "scatter",
         "x": [
          2012,
          2014,
          2016,
          2018,
          2020,
          2022
         ],
         "xaxis": "x",
         "y": [
          -0.6821471652593486,
          -0.567213687150838,
          -0.7748948106591865,
          -0.7672909600353931,
          -0.7882793566864948,
          -0.8376585078148039
         ],
         "yaxis": "y"
        },
        {
         "hovertemplate": "county_name=Indian River<br>elec_date=%{x}<br>vote_share=%{y}<extra></extra>",
         "legendgroup": "Indian River",
         "line": {
          "color": "#FECB52",
          "dash": "solid"
         },
         "marker": {
          "symbol": "circle"
         },
         "mode": "lines",
         "name": "Indian River",
         "orientation": "v",
         "showlegend": true,
         "type": "scatter",
         "x": [
          2012,
          2014,
          2016,
          2018,
          2020,
          2022
         ],
         "xaxis": "x",
         "y": [
          -0.2233012425836785,
          -0.21848691478419874,
          -0.24468497294054414,
          -0.22158517382000242,
          -0.21514221403724165,
          -0.3556201550387597
         ],
         "yaxis": "y"
        },
        {
         "hovertemplate": "county_name=Jackson<br>elec_date=%{x}<br>vote_share=%{y}<extra></extra>",
         "legendgroup": "Jackson",
         "line": {
          "color": "#636efa",
          "dash": "solid"
         },
         "marker": {
          "symbol": "circle"
         },
         "mode": "lines",
         "name": "Jackson",
         "orientation": "v",
         "showlegend": true,
         "type": "scatter",
         "x": [
          2012,
          2014,
          2016,
          2018,
          2020,
          2022
         ],
         "xaxis": "x",
         "y": [
          -0.2897887156007059,
          -0.20058177971704344,
          -0.3714731320005671,
          -0.35976982737052793,
          -0.3884039900249377,
          -0.5253583241455346
         ],
         "yaxis": "y"
        },
        {
         "hovertemplate": "county_name=Jefferson<br>elec_date=%{x}<br>vote_share=%{y}<extra></extra>",
         "legendgroup": "Jefferson",
         "line": {
          "color": "#EF553B",
          "dash": "solid"
         },
         "marker": {
          "symbol": "circle"
         },
         "mode": "lines",
         "name": "Jefferson",
         "orientation": "v",
         "showlegend": true,
         "type": "scatter",
         "x": [
          2012,
          2014,
          2016,
          2018,
          2020,
          2022
         ],
         "xaxis": "x",
         "y": [
          0.017519181585677723,
          0.07143988594962769,
          -0.05059175445441544,
          -0.06799674267100975,
          -0.06872933396315539,
          -0.21523782797811147
         ],
         "yaxis": "y"
        },
        {
         "hovertemplate": "county_name=Lafayette<br>elec_date=%{x}<br>vote_share=%{y}<extra></extra>",
         "legendgroup": "Lafayette",
         "line": {
          "color": "#00cc96",
          "dash": "solid"
         },
         "marker": {
          "symbol": "circle"
         },
         "mode": "lines",
         "name": "Lafayette",
         "orientation": "v",
         "showlegend": true,
         "type": "scatter",
         "x": [
          2012,
          2014,
          2016,
          2018,
          2020,
          2022
         ],
         "xaxis": "x",
         "y": [
          -0.5816206694069289,
          -0.3667687595712098,
          -0.6716505423629434,
          -0.6878980891719745,
          -0.7156916347731,
          -0.7960932145305003
         ],
         "yaxis": "y"
        },
        {
         "hovertemplate": "county_name=Lake<br>elec_date=%{x}<br>vote_share=%{y}<extra></extra>",
         "legendgroup": "Lake",
         "line": {
          "color": "#ab63fa",
          "dash": "solid"
         },
         "marker": {
          "symbol": "circle"
         },
         "mode": "lines",
         "name": "Lake",
         "orientation": "v",
         "showlegend": true,
         "type": "scatter",
         "x": [
          2012,
          2014,
          2016,
          2018,
          2020,
          2022
         ],
         "xaxis": "x",
         "y": [
          -0.17136681011332067,
          -0.17951384259876457,
          -0.23084323778906735,
          -0.20848534852840694,
          -0.20043158522388488,
          -0.33715659340659343
         ],
         "yaxis": "y"
        },
        {
         "hovertemplate": "county_name=Lee<br>elec_date=%{x}<br>vote_share=%{y}<extra></extra>",
         "legendgroup": "Lee",
         "line": {
          "color": "#FFA15A",
          "dash": "solid"
         },
         "marker": {
          "symbol": "circle"
         },
         "mode": "lines",
         "name": "Lee",
         "orientation": "v",
         "showlegend": true,
         "type": "scatter",
         "x": [
          2012,
          2014,
          2016,
          2018,
          2020,
          2022
         ],
         "xaxis": "x",
         "y": [
          -0.16506500423859138,
          -0.20175613460534436,
          -0.20416272237386685,
          -0.21698695938741208,
          -0.19180551359612485,
          -0.38001882000733905
         ],
         "yaxis": "y"
        },
        {
         "hovertemplate": "county_name=Leon<br>elec_date=%{x}<br>vote_share=%{y}<extra></extra>",
         "legendgroup": "Leon",
         "line": {
          "color": "#19d3f3",
          "dash": "solid"
         },
         "marker": {
          "symbol": "circle"
         },
         "mode": "lines",
         "name": "Leon",
         "orientation": "v",
         "showlegend": true,
         "type": "scatter",
         "x": [
          2012,
          2014,
          2016,
          2018,
          2020,
          2022
         ],
         "xaxis": "x",
         "y": [
          0.2359303428375406,
          0.2623377102390086,
          0.24854920360538335,
          0.2766510845708748,
          0.2817783650199418,
          0.15533626041392434
         ],
         "yaxis": "y"
        },
        {
         "hovertemplate": "county_name=Levy<br>elec_date=%{x}<br>vote_share=%{y}<extra></extra>",
         "legendgroup": "Levy",
         "line": {
          "color": "#FF6692",
          "dash": "solid"
         },
         "marker": {
          "symbol": "circle"
         },
         "mode": "lines",
         "name": "Levy",
         "orientation": "v",
         "showlegend": true,
         "type": "scatter",
         "x": [
          2012,
          2014,
          2016,
          2018,
          2020,
          2022
         ],
         "xaxis": "x",
         "y": [
          -0.3215582163948637,
          -0.3174698343700817,
          -0.4448433252987333,
          -0.43068467520318077,
          -0.4547767953418158,
          -0.5744668973986826
         ],
         "yaxis": "y"
        },
        {
         "hovertemplate": "county_name=Liberty<br>elec_date=%{x}<br>vote_share=%{y}<extra></extra>",
         "legendgroup": "Liberty",
         "line": {
          "color": "#B6E880",
          "dash": "solid"
         },
         "marker": {
          "symbol": "circle"
         },
         "mode": "lines",
         "name": "Liberty",
         "orientation": "v",
         "showlegend": true,
         "type": "scatter",
         "x": [
          2012,
          2014,
          2016,
          2018,
          2020,
          2022
         ],
         "xaxis": "x",
         "y": [
          -0.41319550015202183,
          -0.24701046337817634,
          -0.571256038647343,
          -0.5715883668903803,
          -0.6036465638148668,
          -0.7118838364539549
         ],
         "yaxis": "y"
        },
        {
         "hovertemplate": "county_name=Madison<br>elec_date=%{x}<br>vote_share=%{y}<extra></extra>",
         "legendgroup": "Madison",
         "line": {
          "color": "#FF97FF",
          "dash": "solid"
         },
         "marker": {
          "symbol": "circle"
         },
         "mode": "lines",
         "name": "Madison",
         "orientation": "v",
         "showlegend": true,
         "type": "scatter",
         "x": [
          2012,
          2014,
          2016,
          2018,
          2020,
          2022
         ],
         "xaxis": "x",
         "y": [
          -0.034146900423971505,
          -0.016797488226059698,
          -0.15515222482435603,
          -0.14544025157232704,
          -0.1947194719471947,
          -0.33920641741870794
         ],
         "yaxis": "y"
        },
        {
         "hovertemplate": "county_name=Manatee<br>elec_date=%{x}<br>vote_share=%{y}<extra></extra>",
         "legendgroup": "Manatee",
         "line": {
          "color": "#FECB52",
          "dash": "solid"
         },
         "marker": {
          "symbol": "circle"
         },
         "mode": "lines",
         "name": "Manatee",
         "orientation": "v",
         "showlegend": true,
         "type": "scatter",
         "x": [
          2012,
          2014,
          2016,
          2018,
          2020,
          2022
         ],
         "xaxis": "x",
         "y": [
          -0.12428996659430935,
          -0.10312651276144685,
          -0.1699519244068003,
          -0.15671545928884706,
          -0.16011716450853442,
          -0.298771327083212
         ],
         "yaxis": "y"
        },
        {
         "hovertemplate": "county_name=Marion<br>elec_date=%{x}<br>vote_share=%{y}<extra></extra>",
         "legendgroup": "Marion",
         "line": {
          "color": "#636efa",
          "dash": "solid"
         },
         "marker": {
          "symbol": "circle"
         },
         "mode": "lines",
         "name": "Marion",
         "orientation": "v",
         "showlegend": true,
         "type": "scatter",
         "x": [
          2012,
          2014,
          2016,
          2018,
          2020,
          2022
         ],
         "xaxis": "x",
         "y": [
          -0.16206457356960025,
          -0.16536416069511373,
          -0.2603297328027288,
          -0.24199667092478616,
          -0.2587389358916743,
          -0.39024671579621917
         ],
         "yaxis": "y"
        },
        {
         "hovertemplate": "county_name=Martin<br>elec_date=%{x}<br>vote_share=%{y}<extra></extra>",
         "legendgroup": "Martin",
         "line": {
          "color": "#EF553B",
          "dash": "solid"
         },
         "marker": {
          "symbol": "circle"
         },
         "mode": "lines",
         "name": "Martin",
         "orientation": "v",
         "showlegend": true,
         "type": "scatter",
         "x": [
          2012,
          2014,
          2016,
          2018,
          2020,
          2022
         ],
         "xaxis": "x",
         "y": [
          -0.22870301251312675,
          -0.15006510416666663,
          -0.26570706312836906,
          -0.24031715027371553,
          -0.2453457581209193,
          -0.38429448800648924
         ],
         "yaxis": "y"
        },
        {
         "hovertemplate": "county_name=Miami-Dade<br>elec_date=%{x}<br>vote_share=%{y}<extra></extra>",
         "legendgroup": "Miami-Dade",
         "line": {
          "color": "#00cc96",
          "dash": "solid"
         },
         "marker": {
          "symbol": "circle"
         },
         "mode": "lines",
         "name": "Miami-Dade",
         "orientation": "v",
         "showlegend": true,
         "type": "scatter",
         "x": [
          2012,
          2014,
          2016,
          2018,
          2020,
          2022
         ],
         "xaxis": "x",
         "y": [
          0.2371064368006971,
          0.19089010187417077,
          0.2939117151594777,
          0.2092627894621707,
          0.07337102366172588,
          -0.11316975041125182
         ],
         "yaxis": "y"
        },
        {
         "hovertemplate": "county_name=Monroe<br>elec_date=%{x}<br>vote_share=%{y}<extra></extra>",
         "legendgroup": "Monroe",
         "line": {
          "color": "#ab63fa",
          "dash": "solid"
         },
         "marker": {
          "symbol": "circle"
         },
         "mode": "lines",
         "name": "Monroe",
         "orientation": "v",
         "showlegend": true,
         "type": "scatter",
         "x": [
          2012,
          2014,
          2016,
          2018,
          2020,
          2022
         ],
         "xaxis": "x",
         "y": [
          0.004036584742731608,
          0.04230378949578362,
          -0.06824580589617701,
          -0.03684443460942688,
          -0.07911635736403505,
          -0.2107105046465122
         ],
         "yaxis": "y"
        },
        {
         "hovertemplate": "county_name=Nassau<br>elec_date=%{x}<br>vote_share=%{y}<extra></extra>",
         "legendgroup": "Nassau",
         "line": {
          "color": "#FFA15A",
          "dash": "solid"
         },
         "marker": {
          "symbol": "circle"
         },
         "mode": "lines",
         "name": "Nassau",
         "orientation": "v",
         "showlegend": true,
         "type": "scatter",
         "x": [
          2012,
          2014,
          2016,
          2018,
          2020,
          2022
         ],
         "xaxis": "x",
         "y": [
          -0.4843815384615385,
          -0.48392973324658417,
          -0.4978932584269663,
          -0.46413085870288373,
          -0.4583213103623865,
          -0.5355079139100578
         ],
         "yaxis": "y"
        },
        {
         "hovertemplate": "county_name=Okaloosa<br>elec_date=%{x}<br>vote_share=%{y}<extra></extra>",
         "legendgroup": "Okaloosa",
         "line": {
          "color": "#19d3f3",
          "dash": "solid"
         },
         "marker": {
          "symbol": "circle"
         },
         "mode": "lines",
         "name": "Okaloosa",
         "orientation": "v",
         "showlegend": true,
         "type": "scatter",
         "x": [
          2012,
          2014,
          2016,
          2018,
          2020,
          2022
         ],
         "xaxis": "x",
         "y": [
          -0.49168551143833816,
          -0.555495707243822,
          -0.4712525466227864,
          -0.44702771590895557,
          -0.39017328662103934,
          -0.5326140628086115
         ],
         "yaxis": "y"
        },
        {
         "hovertemplate": "county_name=Okeechobee<br>elec_date=%{x}<br>vote_share=%{y}<extra></extra>",
         "legendgroup": "Okeechobee",
         "line": {
          "color": "#FF6692",
          "dash": "solid"
         },
         "marker": {
          "symbol": "circle"
         },
         "mode": "lines",
         "name": "Okeechobee",
         "orientation": "v",
         "showlegend": true,
         "type": "scatter",
         "x": [
          2012,
          2014,
          2016,
          2018,
          2020,
          2022
         ],
         "xaxis": "x",
         "y": [
          -0.19988679550416433,
          -0.19114349775784756,
          -0.3921953346413778,
          -0.39310467389372666,
          -0.4429429429429429,
          -0.6124379937534448
         ],
         "yaxis": "y"
        },
        {
         "hovertemplate": "county_name=Orange<br>elec_date=%{x}<br>vote_share=%{y}<extra></extra>",
         "legendgroup": "Orange",
         "line": {
          "color": "#B6E880",
          "dash": "solid"
         },
         "marker": {
          "symbol": "circle"
         },
         "mode": "lines",
         "name": "Orange",
         "orientation": "v",
         "showlegend": true,
         "type": "scatter",
         "x": [
          2012,
          2014,
          2016,
          2018,
          2020,
          2022
         ],
         "xaxis": "x",
         "y": [
          0.18205746592681832,
          0.11845179268668082,
          0.24402520737377287,
          0.25629534739649507,
          0.23047737296216475,
          0.07015200255383935
         ],
         "yaxis": "y"
        },
        {
         "hovertemplate": "county_name=Osceola<br>elec_date=%{x}<br>vote_share=%{y}<extra></extra>",
         "legendgroup": "Osceola",
         "line": {
          "color": "#FF97FF",
          "dash": "solid"
         },
         "marker": {
          "symbol": "circle"
         },
         "mode": "lines",
         "name": "Osceola",
         "orientation": "v",
         "showlegend": true,
         "type": "scatter",
         "x": [
          2012,
          2014,
          2016,
          2018,
          2020,
          2022
         ],
         "xaxis": "x",
         "y": [
          0.24464295550944715,
          0.08778881734215205,
          0.24851556535753672,
          0.20921930373149888,
          0.1378426243170664,
          -0.06752248966690982
         ],
         "yaxis": "y"
        },
        {
         "hovertemplate": "county_name=Palm Beach<br>elec_date=%{x}<br>vote_share=%{y}<extra></extra>",
         "legendgroup": "Palm Beach",
         "line": {
          "color": "#FECB52",
          "dash": "solid"
         },
         "marker": {
          "symbol": "circle"
         },
         "mode": "lines",
         "name": "Palm Beach",
         "orientation": "v",
         "showlegend": true,
         "type": "scatter",
         "x": [
          2012,
          2014,
          2016,
          2018,
          2020,
          2022
         ],
         "xaxis": "x",
         "y": [
          0.1702179724929168,
          0.20578704531635605,
          0.152895865126081,
          0.17102172161378082,
          0.1276289476979643,
          -0.02905360177127847
         ],
         "yaxis": "y"
        },
        {
         "hovertemplate": "county_name=Pasco<br>elec_date=%{x}<br>vote_share=%{y}<extra></extra>",
         "legendgroup": "Pasco",
         "line": {
          "color": "#636efa",
          "dash": "solid"
         },
         "marker": {
          "symbol": "circle"
         },
         "mode": "lines",
         "name": "Pasco",
         "orientation": "v",
         "showlegend": true,
         "type": "scatter",
         "x": [
          2012,
          2014,
          2016,
          2018,
          2020,
          2022
         ],
         "xaxis": "x",
         "y": [
          -0.06611030207983265,
          -0.01773023255813949,
          -0.21359011777279918,
          -0.1627385066994934,
          -0.20007864622745947,
          -0.3233220730731621
         ],
         "yaxis": "y"
        },
        {
         "hovertemplate": "county_name=Pinellas<br>elec_date=%{x}<br>vote_share=%{y}<extra></extra>",
         "legendgroup": "Pinellas",
         "line": {
          "color": "#EF553B",
          "dash": "solid"
         },
         "marker": {
          "symbol": "circle"
         },
         "mode": "lines",
         "name": "Pinellas",
         "orientation": "v",
         "showlegend": true,
         "type": "scatter",
         "x": [
          2012,
          2014,
          2016,
          2018,
          2020,
          2022
         ],
         "xaxis": "x",
         "y": [
          0.05629563156702505,
          0.11235990072641971,
          -0.011055609716875914,
          0.030194905025676844,
          0.0022114865430776787,
          -0.09851615371174094
         ],
         "yaxis": "y"
        },
        {
         "hovertemplate": "county_name=Polk<br>elec_date=%{x}<br>vote_share=%{y}<extra></extra>",
         "legendgroup": "Polk",
         "line": {
          "color": "#00cc96",
          "dash": "solid"
         },
         "marker": {
          "symbol": "circle"
         },
         "mode": "lines",
         "name": "Polk",
         "orientation": "v",
         "showlegend": true,
         "type": "scatter",
         "x": [
          2012,
          2014,
          2016,
          2018,
          2020,
          2022
         ],
         "xaxis": "x",
         "y": [
          -0.06817944201832055,
          -0.09782172437698405,
          -0.13937742404231818,
          -0.13342753413077307,
          -0.14399202385866183,
          -0.2959868183655991
         ],
         "yaxis": "y"
        },
        {
         "hovertemplate": "county_name=Putnam<br>elec_date=%{x}<br>vote_share=%{y}<extra></extra>",
         "legendgroup": "Putnam",
         "line": {
          "color": "#ab63fa",
          "dash": "solid"
         },
         "marker": {
          "symbol": "circle"
         },
         "mode": "lines",
         "name": "Putnam",
         "orientation": "v",
         "showlegend": true,
         "type": "scatter",
         "x": [
          2012,
          2014,
          2016,
          2018,
          2020,
          2022
         ],
         "xaxis": "x",
         "y": [
          -0.24373090631364563,
          -0.2883357478379209,
          -0.3616708206960752,
          -0.34497459764806193,
          -0.4114820712756026,
          -0.5272440115819953
         ],
         "yaxis": "y"
        },
        {
         "hovertemplate": "county_name=Santa Rosa<br>elec_date=%{x}<br>vote_share=%{y}<extra></extra>",
         "legendgroup": "Santa Rosa",
         "line": {
          "color": "#FFA15A",
          "dash": "solid"
         },
         "marker": {
          "symbol": "circle"
         },
         "mode": "lines",
         "name": "Santa Rosa",
         "orientation": "v",
         "showlegend": true,
         "type": "scatter",
         "x": [
          2012,
          2014,
          2016,
          2018,
          2020,
          2022
         ],
         "xaxis": "x",
         "y": [
          -0.5245003893070335,
          -0.5448829506540167,
          -0.5285620856073249,
          -0.5015996827075622,
          -0.46430903561633613,
          -0.594401437290285
         ],
         "yaxis": "y"
        },
        {
         "hovertemplate": "county_name=Sarasota<br>elec_date=%{x}<br>vote_share=%{y}<extra></extra>",
         "legendgroup": "Sarasota",
         "line": {
          "color": "#19d3f3",
          "dash": "solid"
         },
         "marker": {
          "symbol": "circle"
         },
         "mode": "lines",
         "name": "Sarasota",
         "orientation": "v",
         "showlegend": true,
         "type": "scatter",
         "x": [
          2012,
          2014,
          2016,
          2018,
          2020,
          2022
         ],
         "xaxis": "x",
         "y": [
          -0.07398021744461708,
          -0.030734424162252083,
          -0.11483749940567012,
          -0.08639596215944928,
          -0.1042154523562796,
          -0.2226617998419348
         ],
         "yaxis": "y"
        },
        {
         "hovertemplate": "county_name=Seminole<br>elec_date=%{x}<br>vote_share=%{y}<extra></extra>",
         "legendgroup": "Seminole",
         "line": {
          "color": "#FF6692",
          "dash": "solid"
         },
         "marker": {
          "symbol": "circle"
         },
         "mode": "lines",
         "name": "Seminole",
         "orientation": "v",
         "showlegend": true,
         "type": "scatter",
         "x": [
          2012,
          2014,
          2016,
          2018,
          2020,
          2022
         ],
         "xaxis": "x",
         "y": [
          -0.0665260142458966,
          -0.07611232244986105,
          -0.016295733793669775,
          0.017906750508970892,
          0.027867423257521284,
          -0.12295851528384283
         ],
         "yaxis": "y"
        },
        {
         "hovertemplate": "county_name=St. Johns<br>elec_date=%{x}<br>vote_share=%{y}<extra></extra>",
         "legendgroup": "St. Johns",
         "line": {
          "color": "#B6E880",
          "dash": "solid"
         },
         "marker": {
          "symbol": "circle"
         },
         "mode": "lines",
         "name": "St. Johns",
         "orientation": "v",
         "showlegend": true,
         "type": "scatter",
         "x": [
          2012,
          2014,
          2016,
          2018,
          2020,
          2022
         ],
         "xaxis": "x",
         "y": [
          -0.3766071195723041,
          -0.38324202756473097,
          -0.3306951235436647,
          -0.28573826143342107,
          -0.266008461030122,
          -0.4022909840032077
         ],
         "yaxis": "y"
        },
        {
         "hovertemplate": "county_name=St. Lucie<br>elec_date=%{x}<br>vote_share=%{y}<extra></extra>",
         "legendgroup": "St. Lucie",
         "line": {
          "color": "#FF97FF",
          "dash": "solid"
         },
         "marker": {
          "symbol": "circle"
         },
         "mode": "lines",
         "name": "St. Lucie",
         "orientation": "v",
         "showlegend": true,
         "type": "scatter",
         "x": [
          2012,
          2014,
          2016,
          2018,
          2020,
          2022
         ],
         "xaxis": "x",
         "y": [
          0.07840163502323588,
          0.09429480571863941,
          -0.024001183156916184,
          0.03715190230306353,
          -0.0156310741576684,
          -0.19136343888583768
         ],
         "yaxis": "y"
        },
        {
         "hovertemplate": "county_name=Sumter<br>elec_date=%{x}<br>vote_share=%{y}<extra></extra>",
         "legendgroup": "Sumter",
         "line": {
          "color": "#FECB52",
          "dash": "solid"
         },
         "marker": {
          "symbol": "circle"
         },
         "mode": "lines",
         "name": "Sumter",
         "orientation": "v",
         "showlegend": true,
         "type": "scatter",
         "x": [
          2012,
          2014,
          2016,
          2018,
          2020,
          2022
         ],
         "xaxis": "x",
         "y": [
          -0.3488587189905196,
          -0.39409741082744887,
          -0.3896009736140241,
          -0.40240708154794685,
          -0.36081361202280193,
          -0.4669811320754717
         ],
         "yaxis": "y"
        },
        {
         "hovertemplate": "county_name=Suwannee<br>elec_date=%{x}<br>vote_share=%{y}<extra></extra>",
         "legendgroup": "Suwannee",
         "line": {
          "color": "#636efa",
          "dash": "solid"
         },
         "marker": {
          "symbol": "circle"
         },
         "mode": "lines",
         "name": "Suwannee",
         "orientation": "v",
         "showlegend": true,
         "type": "scatter",
         "x": [
          2012,
          2014,
          2016,
          2018,
          2020,
          2022
         ],
         "xaxis": "x",
         "y": [
          -0.44931646718475243,
          -0.3784543325526932,
          -0.549475701282802,
          -0.5519321394910461,
          -0.566319988602365,
          -0.6720229730555387
         ],
         "yaxis": "y"
        },
        {
         "hovertemplate": "county_name=Taylor<br>elec_date=%{x}<br>vote_share=%{y}<extra></extra>",
         "legendgroup": "Taylor",
         "line": {
          "color": "#EF553B",
          "dash": "solid"
         },
         "marker": {
          "symbol": "circle"
         },
         "mode": "lines",
         "name": "Taylor",
         "orientation": "v",
         "showlegend": true,
         "type": "scatter",
         "x": [
          2012,
          2014,
          2016,
          2018,
          2020,
          2022
         ],
         "xaxis": "x",
         "y": [
          -0.38129102844638957,
          -0.3216689098250337,
          -0.5111253744116389,
          -0.5113207547169811,
          -0.5377786545669757,
          -0.6601941747572816
         ],
         "yaxis": "y"
        },
        {
         "hovertemplate": "county_name=Union<br>elec_date=%{x}<br>vote_share=%{y}<extra></extra>",
         "legendgroup": "Union",
         "line": {
          "color": "#00cc96",
          "dash": "solid"
         },
         "marker": {
          "symbol": "circle"
         },
         "mode": "lines",
         "name": "Union",
         "orientation": "v",
         "showlegend": true,
         "type": "scatter",
         "x": [
          2012,
          2014,
          2016,
          2018,
          2020,
          2022
         ],
         "xaxis": "x",
         "y": [
          -0.4883505917159763,
          -0.17395626242544726,
          -0.6211114994757078,
          -0.5886335658596635,
          -0.6526955687090066,
          -0.7571303203159281
         ],
         "yaxis": "y"
        },
        {
         "hovertemplate": "county_name=Volusia<br>elec_date=%{x}<br>vote_share=%{y}<extra></extra>",
         "legendgroup": "Volusia",
         "line": {
          "color": "#ab63fa",
          "dash": "solid"
         },
         "marker": {
          "symbol": "circle"
         },
         "mode": "lines",
         "name": "Volusia",
         "orientation": "v",
         "showlegend": true,
         "type": "scatter",
         "x": [
          2012,
          2014,
          2016,
          2018,
          2020,
          2022
         ],
         "xaxis": "x",
         "y": [
          -0.011655487260577913,
          -0.036477645111179124,
          -0.12882200563662743,
          -0.10622270742358075,
          -0.14035941825782428,
          -0.28642716335316426
         ],
         "yaxis": "y"
        },
        {
         "hovertemplate": "county_name=Wakulla<br>elec_date=%{x}<br>vote_share=%{y}<extra></extra>",
         "legendgroup": "Wakulla",
         "line": {
          "color": "#FFA15A",
          "dash": "solid"
         },
         "marker": {
          "symbol": "circle"
         },
         "mode": "lines",
         "name": "Wakulla",
         "orientation": "v",
         "showlegend": true,
         "type": "scatter",
         "x": [
          2012,
          2014,
          2016,
          2018,
          2020,
          2022
         ],
         "xaxis": "x",
         "y": [
          -0.2799891134245084,
          -0.1626521626521626,
          -0.39911939911939914,
          -0.39379257074643637,
          -0.40779488291413707,
          -0.4722166899024099
         ],
         "yaxis": "y"
        },
        {
         "hovertemplate": "county_name=Walton<br>elec_date=%{x}<br>vote_share=%{y}<extra></extra>",
         "legendgroup": "Walton",
         "line": {
          "color": "#19d3f3",
          "dash": "solid"
         },
         "marker": {
          "symbol": "circle"
         },
         "mode": "lines",
         "name": "Walton",
         "orientation": "v",
         "showlegend": true,
         "type": "scatter",
         "x": [
          2012,
          2014,
          2016,
          2018,
          2020,
          2022
         ],
         "xaxis": "x",
         "y": [
          -0.5184731649289763,
          -0.5292736610418195,
          -0.5569650126851141,
          -0.5240166040719509,
          -0.5162461468204133,
          -0.645683504770637
         ],
         "yaxis": "y"
        },
        {
         "hovertemplate": "county_name=Washington<br>elec_date=%{x}<br>vote_share=%{y}<extra></extra>",
         "legendgroup": "Washington",
         "line": {
          "color": "#FF6692",
          "dash": "solid"
         },
         "marker": {
          "symbol": "circle"
         },
         "mode": "lines",
         "name": "Washington",
         "orientation": "v",
         "showlegend": true,
         "type": "scatter",
         "x": [
          2012,
          2014,
          2016,
          2018,
          2020,
          2022
         ],
         "xaxis": "x",
         "y": [
          -0.47255931896395575,
          -0.45453446191051994,
          -0.5684595486575685,
          -0.568653421633554,
          -0.610376976084313,
          -0.7123602892833661
         ],
         "yaxis": "y"
        }
       ],
       "layout": {
        "legend": {
         "title": {
          "text": "county_name"
         },
         "tracegroupgap": 0
        },
        "margin": {
         "t": 60
        },
        "template": {
         "data": {
          "bar": [
           {
            "error_x": {
             "color": "#2a3f5f"
            },
            "error_y": {
             "color": "#2a3f5f"
            },
            "marker": {
             "line": {
              "color": "#E5ECF6",
              "width": 0.5
             },
             "pattern": {
              "fillmode": "overlay",
              "size": 10,
              "solidity": 0.2
             }
            },
            "type": "bar"
           }
          ],
          "barpolar": [
           {
            "marker": {
             "line": {
              "color": "#E5ECF6",
              "width": 0.5
             },
             "pattern": {
              "fillmode": "overlay",
              "size": 10,
              "solidity": 0.2
             }
            },
            "type": "barpolar"
           }
          ],
          "carpet": [
           {
            "aaxis": {
             "endlinecolor": "#2a3f5f",
             "gridcolor": "white",
             "linecolor": "white",
             "minorgridcolor": "white",
             "startlinecolor": "#2a3f5f"
            },
            "baxis": {
             "endlinecolor": "#2a3f5f",
             "gridcolor": "white",
             "linecolor": "white",
             "minorgridcolor": "white",
             "startlinecolor": "#2a3f5f"
            },
            "type": "carpet"
           }
          ],
          "choropleth": [
           {
            "colorbar": {
             "outlinewidth": 0,
             "ticks": ""
            },
            "type": "choropleth"
           }
          ],
          "contour": [
           {
            "colorbar": {
             "outlinewidth": 0,
             "ticks": ""
            },
            "colorscale": [
             [
              0,
              "#0d0887"
             ],
             [
              0.1111111111111111,
              "#46039f"
             ],
             [
              0.2222222222222222,
              "#7201a8"
             ],
             [
              0.3333333333333333,
              "#9c179e"
             ],
             [
              0.4444444444444444,
              "#bd3786"
             ],
             [
              0.5555555555555556,
              "#d8576b"
             ],
             [
              0.6666666666666666,
              "#ed7953"
             ],
             [
              0.7777777777777778,
              "#fb9f3a"
             ],
             [
              0.8888888888888888,
              "#fdca26"
             ],
             [
              1,
              "#f0f921"
             ]
            ],
            "type": "contour"
           }
          ],
          "contourcarpet": [
           {
            "colorbar": {
             "outlinewidth": 0,
             "ticks": ""
            },
            "type": "contourcarpet"
           }
          ],
          "heatmap": [
           {
            "colorbar": {
             "outlinewidth": 0,
             "ticks": ""
            },
            "colorscale": [
             [
              0,
              "#0d0887"
             ],
             [
              0.1111111111111111,
              "#46039f"
             ],
             [
              0.2222222222222222,
              "#7201a8"
             ],
             [
              0.3333333333333333,
              "#9c179e"
             ],
             [
              0.4444444444444444,
              "#bd3786"
             ],
             [
              0.5555555555555556,
              "#d8576b"
             ],
             [
              0.6666666666666666,
              "#ed7953"
             ],
             [
              0.7777777777777778,
              "#fb9f3a"
             ],
             [
              0.8888888888888888,
              "#fdca26"
             ],
             [
              1,
              "#f0f921"
             ]
            ],
            "type": "heatmap"
           }
          ],
          "heatmapgl": [
           {
            "colorbar": {
             "outlinewidth": 0,
             "ticks": ""
            },
            "colorscale": [
             [
              0,
              "#0d0887"
             ],
             [
              0.1111111111111111,
              "#46039f"
             ],
             [
              0.2222222222222222,
              "#7201a8"
             ],
             [
              0.3333333333333333,
              "#9c179e"
             ],
             [
              0.4444444444444444,
              "#bd3786"
             ],
             [
              0.5555555555555556,
              "#d8576b"
             ],
             [
              0.6666666666666666,
              "#ed7953"
             ],
             [
              0.7777777777777778,
              "#fb9f3a"
             ],
             [
              0.8888888888888888,
              "#fdca26"
             ],
             [
              1,
              "#f0f921"
             ]
            ],
            "type": "heatmapgl"
           }
          ],
          "histogram": [
           {
            "marker": {
             "pattern": {
              "fillmode": "overlay",
              "size": 10,
              "solidity": 0.2
             }
            },
            "type": "histogram"
           }
          ],
          "histogram2d": [
           {
            "colorbar": {
             "outlinewidth": 0,
             "ticks": ""
            },
            "colorscale": [
             [
              0,
              "#0d0887"
             ],
             [
              0.1111111111111111,
              "#46039f"
             ],
             [
              0.2222222222222222,
              "#7201a8"
             ],
             [
              0.3333333333333333,
              "#9c179e"
             ],
             [
              0.4444444444444444,
              "#bd3786"
             ],
             [
              0.5555555555555556,
              "#d8576b"
             ],
             [
              0.6666666666666666,
              "#ed7953"
             ],
             [
              0.7777777777777778,
              "#fb9f3a"
             ],
             [
              0.8888888888888888,
              "#fdca26"
             ],
             [
              1,
              "#f0f921"
             ]
            ],
            "type": "histogram2d"
           }
          ],
          "histogram2dcontour": [
           {
            "colorbar": {
             "outlinewidth": 0,
             "ticks": ""
            },
            "colorscale": [
             [
              0,
              "#0d0887"
             ],
             [
              0.1111111111111111,
              "#46039f"
             ],
             [
              0.2222222222222222,
              "#7201a8"
             ],
             [
              0.3333333333333333,
              "#9c179e"
             ],
             [
              0.4444444444444444,
              "#bd3786"
             ],
             [
              0.5555555555555556,
              "#d8576b"
             ],
             [
              0.6666666666666666,
              "#ed7953"
             ],
             [
              0.7777777777777778,
              "#fb9f3a"
             ],
             [
              0.8888888888888888,
              "#fdca26"
             ],
             [
              1,
              "#f0f921"
             ]
            ],
            "type": "histogram2dcontour"
           }
          ],
          "mesh3d": [
           {
            "colorbar": {
             "outlinewidth": 0,
             "ticks": ""
            },
            "type": "mesh3d"
           }
          ],
          "parcoords": [
           {
            "line": {
             "colorbar": {
              "outlinewidth": 0,
              "ticks": ""
             }
            },
            "type": "parcoords"
           }
          ],
          "pie": [
           {
            "automargin": true,
            "type": "pie"
           }
          ],
          "scatter": [
           {
            "fillpattern": {
             "fillmode": "overlay",
             "size": 10,
             "solidity": 0.2
            },
            "type": "scatter"
           }
          ],
          "scatter3d": [
           {
            "line": {
             "colorbar": {
              "outlinewidth": 0,
              "ticks": ""
             }
            },
            "marker": {
             "colorbar": {
              "outlinewidth": 0,
              "ticks": ""
             }
            },
            "type": "scatter3d"
           }
          ],
          "scattercarpet": [
           {
            "marker": {
             "colorbar": {
              "outlinewidth": 0,
              "ticks": ""
             }
            },
            "type": "scattercarpet"
           }
          ],
          "scattergeo": [
           {
            "marker": {
             "colorbar": {
              "outlinewidth": 0,
              "ticks": ""
             }
            },
            "type": "scattergeo"
           }
          ],
          "scattergl": [
           {
            "marker": {
             "colorbar": {
              "outlinewidth": 0,
              "ticks": ""
             }
            },
            "type": "scattergl"
           }
          ],
          "scattermapbox": [
           {
            "marker": {
             "colorbar": {
              "outlinewidth": 0,
              "ticks": ""
             }
            },
            "type": "scattermapbox"
           }
          ],
          "scatterpolar": [
           {
            "marker": {
             "colorbar": {
              "outlinewidth": 0,
              "ticks": ""
             }
            },
            "type": "scatterpolar"
           }
          ],
          "scatterpolargl": [
           {
            "marker": {
             "colorbar": {
              "outlinewidth": 0,
              "ticks": ""
             }
            },
            "type": "scatterpolargl"
           }
          ],
          "scatterternary": [
           {
            "marker": {
             "colorbar": {
              "outlinewidth": 0,
              "ticks": ""
             }
            },
            "type": "scatterternary"
           }
          ],
          "surface": [
           {
            "colorbar": {
             "outlinewidth": 0,
             "ticks": ""
            },
            "colorscale": [
             [
              0,
              "#0d0887"
             ],
             [
              0.1111111111111111,
              "#46039f"
             ],
             [
              0.2222222222222222,
              "#7201a8"
             ],
             [
              0.3333333333333333,
              "#9c179e"
             ],
             [
              0.4444444444444444,
              "#bd3786"
             ],
             [
              0.5555555555555556,
              "#d8576b"
             ],
             [
              0.6666666666666666,
              "#ed7953"
             ],
             [
              0.7777777777777778,
              "#fb9f3a"
             ],
             [
              0.8888888888888888,
              "#fdca26"
             ],
             [
              1,
              "#f0f921"
             ]
            ],
            "type": "surface"
           }
          ],
          "table": [
           {
            "cells": {
             "fill": {
              "color": "#EBF0F8"
             },
             "line": {
              "color": "white"
             }
            },
            "header": {
             "fill": {
              "color": "#C8D4E3"
             },
             "line": {
              "color": "white"
             }
            },
            "type": "table"
           }
          ]
         },
         "layout": {
          "annotationdefaults": {
           "arrowcolor": "#2a3f5f",
           "arrowhead": 0,
           "arrowwidth": 1
          },
          "autotypenumbers": "strict",
          "coloraxis": {
           "colorbar": {
            "outlinewidth": 0,
            "ticks": ""
           }
          },
          "colorscale": {
           "diverging": [
            [
             0,
             "#8e0152"
            ],
            [
             0.1,
             "#c51b7d"
            ],
            [
             0.2,
             "#de77ae"
            ],
            [
             0.3,
             "#f1b6da"
            ],
            [
             0.4,
             "#fde0ef"
            ],
            [
             0.5,
             "#f7f7f7"
            ],
            [
             0.6,
             "#e6f5d0"
            ],
            [
             0.7,
             "#b8e186"
            ],
            [
             0.8,
             "#7fbc41"
            ],
            [
             0.9,
             "#4d9221"
            ],
            [
             1,
             "#276419"
            ]
           ],
           "sequential": [
            [
             0,
             "#0d0887"
            ],
            [
             0.1111111111111111,
             "#46039f"
            ],
            [
             0.2222222222222222,
             "#7201a8"
            ],
            [
             0.3333333333333333,
             "#9c179e"
            ],
            [
             0.4444444444444444,
             "#bd3786"
            ],
            [
             0.5555555555555556,
             "#d8576b"
            ],
            [
             0.6666666666666666,
             "#ed7953"
            ],
            [
             0.7777777777777778,
             "#fb9f3a"
            ],
            [
             0.8888888888888888,
             "#fdca26"
            ],
            [
             1,
             "#f0f921"
            ]
           ],
           "sequentialminus": [
            [
             0,
             "#0d0887"
            ],
            [
             0.1111111111111111,
             "#46039f"
            ],
            [
             0.2222222222222222,
             "#7201a8"
            ],
            [
             0.3333333333333333,
             "#9c179e"
            ],
            [
             0.4444444444444444,
             "#bd3786"
            ],
            [
             0.5555555555555556,
             "#d8576b"
            ],
            [
             0.6666666666666666,
             "#ed7953"
            ],
            [
             0.7777777777777778,
             "#fb9f3a"
            ],
            [
             0.8888888888888888,
             "#fdca26"
            ],
            [
             1,
             "#f0f921"
            ]
           ]
          },
          "colorway": [
           "#636efa",
           "#EF553B",
           "#00cc96",
           "#ab63fa",
           "#FFA15A",
           "#19d3f3",
           "#FF6692",
           "#B6E880",
           "#FF97FF",
           "#FECB52"
          ],
          "font": {
           "color": "#2a3f5f"
          },
          "geo": {
           "bgcolor": "white",
           "lakecolor": "white",
           "landcolor": "#E5ECF6",
           "showlakes": true,
           "showland": true,
           "subunitcolor": "white"
          },
          "hoverlabel": {
           "align": "left"
          },
          "hovermode": "closest",
          "mapbox": {
           "style": "light"
          },
          "paper_bgcolor": "white",
          "plot_bgcolor": "#E5ECF6",
          "polar": {
           "angularaxis": {
            "gridcolor": "white",
            "linecolor": "white",
            "ticks": ""
           },
           "bgcolor": "#E5ECF6",
           "radialaxis": {
            "gridcolor": "white",
            "linecolor": "white",
            "ticks": ""
           }
          },
          "scene": {
           "xaxis": {
            "backgroundcolor": "#E5ECF6",
            "gridcolor": "white",
            "gridwidth": 2,
            "linecolor": "white",
            "showbackground": true,
            "ticks": "",
            "zerolinecolor": "white"
           },
           "yaxis": {
            "backgroundcolor": "#E5ECF6",
            "gridcolor": "white",
            "gridwidth": 2,
            "linecolor": "white",
            "showbackground": true,
            "ticks": "",
            "zerolinecolor": "white"
           },
           "zaxis": {
            "backgroundcolor": "#E5ECF6",
            "gridcolor": "white",
            "gridwidth": 2,
            "linecolor": "white",
            "showbackground": true,
            "ticks": "",
            "zerolinecolor": "white"
           }
          },
          "shapedefaults": {
           "line": {
            "color": "#2a3f5f"
           }
          },
          "ternary": {
           "aaxis": {
            "gridcolor": "white",
            "linecolor": "white",
            "ticks": ""
           },
           "baxis": {
            "gridcolor": "white",
            "linecolor": "white",
            "ticks": ""
           },
           "bgcolor": "#E5ECF6",
           "caxis": {
            "gridcolor": "white",
            "linecolor": "white",
            "ticks": ""
           }
          },
          "title": {
           "x": 0.05
          },
          "xaxis": {
           "automargin": true,
           "gridcolor": "white",
           "linecolor": "white",
           "ticks": "",
           "title": {
            "standoff": 15
           },
           "zerolinecolor": "white",
           "zerolinewidth": 2
          },
          "yaxis": {
           "automargin": true,
           "gridcolor": "white",
           "linecolor": "white",
           "ticks": "",
           "title": {
            "standoff": 15
           },
           "zerolinecolor": "white",
           "zerolinewidth": 2
          }
         }
        },
        "xaxis": {
         "anchor": "y",
         "domain": [
          0,
          1
         ],
         "title": {
          "text": "elec_date"
         }
        },
        "yaxis": {
         "anchor": "x",
         "domain": [
          0,
          1
         ],
         "title": {
          "text": "vote_share"
         }
        }
       }
      }
     },
     "metadata": {},
     "output_type": "display_data"
    }
   ],
   "source": [
    "fig_line_totals = px.line(D_margin_by_county, x='elec_date', y='vote_share', color='county_name')\n",
    "fig_line_totals.show()"
   ]
  }
 ],
 "metadata": {
  "kernelspec": {
   "display_name": "base",
   "language": "python",
   "name": "python3"
  },
  "language_info": {
   "codemirror_mode": {
    "name": "ipython",
    "version": 3
   },
   "file_extension": ".py",
   "mimetype": "text/x-python",
   "name": "python",
   "nbconvert_exporter": "python",
   "pygments_lexer": "ipython3",
   "version": "3.11.5"
  }
 },
 "nbformat": 4,
 "nbformat_minor": 2
}
