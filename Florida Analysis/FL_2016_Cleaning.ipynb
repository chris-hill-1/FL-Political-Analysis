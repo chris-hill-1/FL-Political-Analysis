{
 "cells": [
  {
   "cell_type": "code",
   "execution_count": null,
   "metadata": {},
   "outputs": [],
   "source": [
    "import numpy as np\n",
    "import pandas as pd\n",
    "import matplotlib as mp\n",
    "import csv\n",
    "import os\n",
    "import glob"
   ]
  },
  {
   "cell_type": "code",
   "execution_count": null,
   "metadata": {},
   "outputs": [],
   "source": [
    "output = \"C:\\\\Users\\\\canor\\\\Documents\\\\GitHub\\\\FL-Political-Analysis\\\\Florida Analysis\\\\FL 2014 by Precinct\\\\CSV Files\"\n",
    "outPath = glob.glob(\"{0}\\*.csv\".format(output))\n",
    "\n",
    "folPath = \"C:\\\\Users\\\\canor\\\\Documents\\\\GitHub\\\\FL-Political-Analysis\\\\Florida Analysis\\\\FL 2014 by Precinct\\\\Text Files\"\n",
    "filPath = glob.glob(\"{0}\\*.txt\".format(folPath))\n",
    "\n",
    "# For future years, turn the below code into a function to be called on the directory of .txt or .csv files\n",
    "# def txt_to_csv(input_path,output_path,fields):\n",
    "\n",
    "for file in filPath:\n",
    "    with open(file, 'r') as input_file:\n",
    "        in_txt = csv.reader(input_file, delimiter='\\t')\n",
    "        filename = os.path.splitext(os.path.basename(file))[0] + '.csv'\n",
    "        stripped = (line.strip() for line in input_file)\n",
    "        lines = (line.split(\"\\t\") for line in stripped if line)\n",
    "        with open(os.path.join(output, filename), 'w') as output_file:\n",
    "            fields = ['county_code', 'county_name', 'elec_num', 'elec_date', 'elec_name', 'precinct_id', 'poll_loc', 'total_reg', 'total_reg_r', 'total_reg_d', 'total_reg_other', 'contest_name', 'district', 'contest_code', 'cand_or_issue', 'cand_party', 'cand_id', 'doe_num', 'vote_total']\n",
    "            writer = csv.writer(output_file)\n",
    "            writer.writerow(fields)\n",
    "            writer.writerows(lines)"
   ]
  }
 ],
 "metadata": {
  "language_info": {
   "name": "python"
  }
 },
 "nbformat": 4,
 "nbformat_minor": 2
}
